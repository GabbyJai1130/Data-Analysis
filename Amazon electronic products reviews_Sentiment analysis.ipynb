{
 "cells": [
  {
   "cell_type": "code",
   "execution_count": 152,
   "metadata": {
    "ExecuteTime": {
     "end_time": "2019-10-02T19:20:24.647958Z",
     "start_time": "2019-10-02T19:20:24.641974Z"
    }
   },
   "outputs": [],
   "source": [
    "import pandas as pd\n",
    "import numpy as np\n",
    "import matplotlib.pyplot as plt\n",
    "import re\n",
    "import string\n",
    "import nltk\n",
    "from nltk.corpus import stopwords\n",
    "from nltk import sent_tokenize, word_tokenize\n",
    "\n",
    "from sklearn.model_selection import train_test_split\n",
    "from sklearn.feature_extraction.text import TfidfVectorizer\n",
    "from sklearn.metrics.pairwise import cosine_similarity\n",
    "\n",
    "from sklearn.preprocessing import StandardScaler\n",
    "from sklearn.decomposition import PCA\n",
    "from sklearn.linear_model import LogisticRegression\n",
    "from sklearn.ensemble import RandomForestClassifier\n",
    "from sklearn.model_selection import cross_val_score"
   ]
  },
  {
   "cell_type": "code",
   "execution_count": 2,
   "metadata": {
    "ExecuteTime": {
     "end_time": "2019-10-01T16:15:13.673333Z",
     "start_time": "2019-10-01T16:15:03.196358Z"
    }
   },
   "outputs": [],
   "source": [
    "df = pd.read_csv('Amazon electronic products reviews_2013-2014.csv')"
   ]
  },
  {
   "cell_type": "code",
   "execution_count": 3,
   "metadata": {
    "ExecuteTime": {
     "end_time": "2019-10-01T16:15:18.435110Z",
     "start_time": "2019-10-01T16:15:18.425136Z"
    }
   },
   "outputs": [
    {
     "data": {
      "text/plain": [
       "(933936, 13)"
      ]
     },
     "execution_count": 3,
     "metadata": {},
     "output_type": "execute_result"
    }
   ],
   "source": [
    "df.shape"
   ]
  },
  {
   "cell_type": "code",
   "execution_count": 4,
   "metadata": {
    "ExecuteTime": {
     "end_time": "2019-10-01T16:15:19.839499Z",
     "start_time": "2019-10-01T16:15:19.203001Z"
    }
   },
   "outputs": [
    {
     "name": "stdout",
     "output_type": "stream",
     "text": [
      "<class 'pandas.core.frame.DataFrame'>\n",
      "RangeIndex: 933936 entries, 0 to 933935\n",
      "Data columns (total 13 columns):\n",
      "Unnamed: 0        933936 non-null int64\n",
      "asin              933936 non-null object\n",
      "helpful           933936 non-null object\n",
      "overall           933936 non-null float64\n",
      "reviewText        933549 non-null object\n",
      "reviewTime        933936 non-null object\n",
      "reviewerID        933936 non-null object\n",
      "reviewerName      917204 non-null object\n",
      "summary           933931 non-null object\n",
      "unixReviewTime    933936 non-null int64\n",
      "day               933936 non-null int64\n",
      "month             933936 non-null int64\n",
      "year              933936 non-null int64\n",
      "dtypes: float64(1), int64(5), object(7)\n",
      "memory usage: 92.6+ MB\n"
     ]
    }
   ],
   "source": [
    "df.info()"
   ]
  },
  {
   "cell_type": "code",
   "execution_count": 5,
   "metadata": {
    "ExecuteTime": {
     "end_time": "2019-10-01T16:15:22.767330Z",
     "start_time": "2019-10-01T16:15:22.536911Z"
    }
   },
   "outputs": [
    {
     "data": {
      "text/html": [
       "<div>\n",
       "<style scoped>\n",
       "    .dataframe tbody tr th:only-of-type {\n",
       "        vertical-align: middle;\n",
       "    }\n",
       "\n",
       "    .dataframe tbody tr th {\n",
       "        vertical-align: top;\n",
       "    }\n",
       "\n",
       "    .dataframe thead th {\n",
       "        text-align: right;\n",
       "    }\n",
       "</style>\n",
       "<table border=\"1\" class=\"dataframe\">\n",
       "  <thead>\n",
       "    <tr style=\"text-align: right;\">\n",
       "      <th></th>\n",
       "      <th>asin</th>\n",
       "      <th>helpful</th>\n",
       "      <th>overall</th>\n",
       "      <th>reviewText</th>\n",
       "      <th>reviewTime</th>\n",
       "      <th>reviewerID</th>\n",
       "      <th>reviewerName</th>\n",
       "      <th>summary</th>\n",
       "      <th>unixReviewTime</th>\n",
       "      <th>day</th>\n",
       "      <th>month</th>\n",
       "      <th>year</th>\n",
       "    </tr>\n",
       "  </thead>\n",
       "  <tbody>\n",
       "    <tr>\n",
       "      <th>0</th>\n",
       "      <td>0528881469</td>\n",
       "      <td>[0, 0]</td>\n",
       "      <td>5.0</td>\n",
       "      <td>We got this GPS for my husband who is an (OTR)...</td>\n",
       "      <td>06 2, 2013</td>\n",
       "      <td>AO94DHGC771SJ</td>\n",
       "      <td>amazdnu</td>\n",
       "      <td>Gotta have GPS!</td>\n",
       "      <td>1370131200</td>\n",
       "      <td>2</td>\n",
       "      <td>6</td>\n",
       "      <td>2013</td>\n",
       "    </tr>\n",
       "    <tr>\n",
       "      <th>1</th>\n",
       "      <td>0594451647</td>\n",
       "      <td>[3, 3]</td>\n",
       "      <td>5.0</td>\n",
       "      <td>I am using this with a Nook HD+. It works as d...</td>\n",
       "      <td>01 3, 2014</td>\n",
       "      <td>A2JXAZZI9PHK9Z</td>\n",
       "      <td>Billy G. Noland \"Bill Noland\"</td>\n",
       "      <td>HDMI Nook adapter cable</td>\n",
       "      <td>1388707200</td>\n",
       "      <td>3</td>\n",
       "      <td>1</td>\n",
       "      <td>2014</td>\n",
       "    </tr>\n",
       "    <tr>\n",
       "      <th>2</th>\n",
       "      <td>0594451647</td>\n",
       "      <td>[0, 0]</td>\n",
       "      <td>2.0</td>\n",
       "      <td>The cable is very wobbly and sometimes disconn...</td>\n",
       "      <td>04 27, 2014</td>\n",
       "      <td>A2P5U7BDKKT7FW</td>\n",
       "      <td>Christian</td>\n",
       "      <td>Cheap proprietary scam</td>\n",
       "      <td>1398556800</td>\n",
       "      <td>27</td>\n",
       "      <td>4</td>\n",
       "      <td>2014</td>\n",
       "    </tr>\n",
       "    <tr>\n",
       "      <th>3</th>\n",
       "      <td>0594451647</td>\n",
       "      <td>[0, 0]</td>\n",
       "      <td>5.0</td>\n",
       "      <td>This adaptor is real easy to setup and use rig...</td>\n",
       "      <td>05 4, 2014</td>\n",
       "      <td>AAZ084UMH8VZ2</td>\n",
       "      <td>D. L. Brown \"A Knower Of Good Things\"</td>\n",
       "      <td>A Perfdect Nook HD+ hook up</td>\n",
       "      <td>1399161600</td>\n",
       "      <td>4</td>\n",
       "      <td>5</td>\n",
       "      <td>2014</td>\n",
       "    </tr>\n",
       "    <tr>\n",
       "      <th>4</th>\n",
       "      <td>0594451647</td>\n",
       "      <td>[0, 0]</td>\n",
       "      <td>4.0</td>\n",
       "      <td>This adapter easily connects my Nook HD 7&amp;#34;...</td>\n",
       "      <td>07 11, 2014</td>\n",
       "      <td>AEZ3CR6BKIROJ</td>\n",
       "      <td>Mark Dietter</td>\n",
       "      <td>A nice easy to use accessory.</td>\n",
       "      <td>1405036800</td>\n",
       "      <td>11</td>\n",
       "      <td>7</td>\n",
       "      <td>2014</td>\n",
       "    </tr>\n",
       "  </tbody>\n",
       "</table>\n",
       "</div>"
      ],
      "text/plain": [
       "         asin helpful  overall  \\\n",
       "0  0528881469  [0, 0]      5.0   \n",
       "1  0594451647  [3, 3]      5.0   \n",
       "2  0594451647  [0, 0]      2.0   \n",
       "3  0594451647  [0, 0]      5.0   \n",
       "4  0594451647  [0, 0]      4.0   \n",
       "\n",
       "                                          reviewText   reviewTime  \\\n",
       "0  We got this GPS for my husband who is an (OTR)...   06 2, 2013   \n",
       "1  I am using this with a Nook HD+. It works as d...   01 3, 2014   \n",
       "2  The cable is very wobbly and sometimes disconn...  04 27, 2014   \n",
       "3  This adaptor is real easy to setup and use rig...   05 4, 2014   \n",
       "4  This adapter easily connects my Nook HD 7&#34;...  07 11, 2014   \n",
       "\n",
       "       reviewerID                           reviewerName  \\\n",
       "0   AO94DHGC771SJ                                amazdnu   \n",
       "1  A2JXAZZI9PHK9Z          Billy G. Noland \"Bill Noland\"   \n",
       "2  A2P5U7BDKKT7FW                              Christian   \n",
       "3   AAZ084UMH8VZ2  D. L. Brown \"A Knower Of Good Things\"   \n",
       "4   AEZ3CR6BKIROJ                           Mark Dietter   \n",
       "\n",
       "                         summary  unixReviewTime  day  month  year  \n",
       "0                Gotta have GPS!      1370131200    2      6  2013  \n",
       "1        HDMI Nook adapter cable      1388707200    3      1  2014  \n",
       "2         Cheap proprietary scam      1398556800   27      4  2014  \n",
       "3    A Perfdect Nook HD+ hook up      1399161600    4      5  2014  \n",
       "4  A nice easy to use accessory.      1405036800   11      7  2014  "
      ]
     },
     "execution_count": 5,
     "metadata": {},
     "output_type": "execute_result"
    }
   ],
   "source": [
    "df.drop('Unnamed: 0',axis =1, inplace=True)\n",
    "df.head(5)"
   ]
  },
  {
   "cell_type": "code",
   "execution_count": 6,
   "metadata": {
    "ExecuteTime": {
     "end_time": "2019-10-01T16:15:29.175929Z",
     "start_time": "2019-10-01T16:15:28.569551Z"
    },
    "scrolled": true
   },
   "outputs": [
    {
     "data": {
      "text/plain": [
       "asin                  0\n",
       "helpful               0\n",
       "overall               0\n",
       "reviewText          387\n",
       "reviewTime            0\n",
       "reviewerID            0\n",
       "reviewerName      16732\n",
       "summary               5\n",
       "unixReviewTime        0\n",
       "day                   0\n",
       "month                 0\n",
       "year                  0\n",
       "dtype: int64"
      ]
     },
     "execution_count": 6,
     "metadata": {},
     "output_type": "execute_result"
    }
   ],
   "source": [
    "df.isnull().sum()"
   ]
  },
  {
   "cell_type": "code",
   "execution_count": 7,
   "metadata": {
    "ExecuteTime": {
     "end_time": "2019-10-01T16:15:30.912845Z",
     "start_time": "2019-10-01T16:15:30.716370Z"
    }
   },
   "outputs": [
    {
     "data": {
      "text/html": [
       "<div>\n",
       "<style scoped>\n",
       "    .dataframe tbody tr th:only-of-type {\n",
       "        vertical-align: middle;\n",
       "    }\n",
       "\n",
       "    .dataframe tbody tr th {\n",
       "        vertical-align: top;\n",
       "    }\n",
       "\n",
       "    .dataframe thead th {\n",
       "        text-align: right;\n",
       "    }\n",
       "</style>\n",
       "<table border=\"1\" class=\"dataframe\">\n",
       "  <thead>\n",
       "    <tr style=\"text-align: right;\">\n",
       "      <th></th>\n",
       "      <th>asin</th>\n",
       "      <th>helpful</th>\n",
       "      <th>overall</th>\n",
       "      <th>reviewText</th>\n",
       "      <th>reviewTime</th>\n",
       "      <th>reviewerID</th>\n",
       "      <th>reviewerName</th>\n",
       "      <th>summary</th>\n",
       "      <th>unixReviewTime</th>\n",
       "      <th>day</th>\n",
       "      <th>month</th>\n",
       "      <th>year</th>\n",
       "    </tr>\n",
       "  </thead>\n",
       "  <tbody>\n",
       "    <tr>\n",
       "      <th>93</th>\n",
       "      <td>0972683275</td>\n",
       "      <td>[1, 2]</td>\n",
       "      <td>5.0</td>\n",
       "      <td>NaN</td>\n",
       "      <td>01 10, 2013</td>\n",
       "      <td>A2YF3QW52PBL3C</td>\n",
       "      <td>Mat</td>\n",
       "      <td>Works perfectly for 400 x 200 VESA mount Hitek...</td>\n",
       "      <td>1357776000</td>\n",
       "      <td>10</td>\n",
       "      <td>1</td>\n",
       "      <td>2013</td>\n",
       "    </tr>\n",
       "    <tr>\n",
       "      <th>171</th>\n",
       "      <td>1400501520</td>\n",
       "      <td>[10, 12]</td>\n",
       "      <td>5.0</td>\n",
       "      <td>NaN</td>\n",
       "      <td>06 29, 2013</td>\n",
       "      <td>A1S2M6SA4OAUNK</td>\n",
       "      <td>Perry</td>\n",
       "      <td>Best Tablet On A Budget!</td>\n",
       "      <td>1372464000</td>\n",
       "      <td>29</td>\n",
       "      <td>6</td>\n",
       "      <td>2013</td>\n",
       "    </tr>\n",
       "    <tr>\n",
       "      <th>7798</th>\n",
       "      <td>B00005LE73</td>\n",
       "      <td>[4, 7]</td>\n",
       "      <td>5.0</td>\n",
       "      <td>NaN</td>\n",
       "      <td>02 11, 2013</td>\n",
       "      <td>A1QCUMGX7UHFL5</td>\n",
       "      <td>Adam</td>\n",
       "      <td>Awesome lens for photography AND video!</td>\n",
       "      <td>1360540800</td>\n",
       "      <td>11</td>\n",
       "      <td>2</td>\n",
       "      <td>2013</td>\n",
       "    </tr>\n",
       "    <tr>\n",
       "      <th>14543</th>\n",
       "      <td>B00006HVLW</td>\n",
       "      <td>[0, 0]</td>\n",
       "      <td>5.0</td>\n",
       "      <td>NaN</td>\n",
       "      <td>06 2, 2014</td>\n",
       "      <td>ALMBDA5NFKT6N</td>\n",
       "      <td>dutchess</td>\n",
       "      <td>under cover concealer</td>\n",
       "      <td>1401667200</td>\n",
       "      <td>2</td>\n",
       "      <td>6</td>\n",
       "      <td>2014</td>\n",
       "    </tr>\n",
       "    <tr>\n",
       "      <th>15450</th>\n",
       "      <td>B00006JN3G</td>\n",
       "      <td>[10, 10]</td>\n",
       "      <td>1.0</td>\n",
       "      <td>NaN</td>\n",
       "      <td>07 8, 2013</td>\n",
       "      <td>A25OZ0AQNXTNLQ</td>\n",
       "      <td>MsFancyPantz \"MsFanctPantz\"</td>\n",
       "      <td>Poorly made! Do not buy!</td>\n",
       "      <td>1373241600</td>\n",
       "      <td>8</td>\n",
       "      <td>7</td>\n",
       "      <td>2013</td>\n",
       "    </tr>\n",
       "    <tr>\n",
       "      <th>17438</th>\n",
       "      <td>B00007E7JU</td>\n",
       "      <td>[2, 2]</td>\n",
       "      <td>5.0</td>\n",
       "      <td>NaN</td>\n",
       "      <td>03 2, 2013</td>\n",
       "      <td>AQH5HECL3UFRZ</td>\n",
       "      <td>Nicholas Salve</td>\n",
       "      <td>Amazing lens for the price</td>\n",
       "      <td>1362182400</td>\n",
       "      <td>2</td>\n",
       "      <td>3</td>\n",
       "      <td>2013</td>\n",
       "    </tr>\n",
       "    <tr>\n",
       "      <th>23650</th>\n",
       "      <td>B00009X3UA</td>\n",
       "      <td>[17, 17]</td>\n",
       "      <td>5.0</td>\n",
       "      <td>NaN</td>\n",
       "      <td>01 12, 2013</td>\n",
       "      <td>A5QDZEOIMQ4LW</td>\n",
       "      <td>Joe Crescenzi \"From CouponPages.Com\"</td>\n",
       "      <td>Essential if you want to shoot better photos</td>\n",
       "      <td>1357948800</td>\n",
       "      <td>12</td>\n",
       "      <td>1</td>\n",
       "      <td>2013</td>\n",
       "    </tr>\n",
       "    <tr>\n",
       "      <th>26577</th>\n",
       "      <td>B0000BZOGJ</td>\n",
       "      <td>[3, 5]</td>\n",
       "      <td>1.0</td>\n",
       "      <td>NaN</td>\n",
       "      <td>04 1, 2013</td>\n",
       "      <td>A10IB12HS4DRUC</td>\n",
       "      <td>darok2</td>\n",
       "      <td>Poor materials, bad pocket arrangement. Too fe...</td>\n",
       "      <td>1364774400</td>\n",
       "      <td>1</td>\n",
       "      <td>4</td>\n",
       "      <td>2013</td>\n",
       "    </tr>\n",
       "    <tr>\n",
       "      <th>31149</th>\n",
       "      <td>B0001ZUZR2</td>\n",
       "      <td>[0, 0]</td>\n",
       "      <td>3.0</td>\n",
       "      <td>NaN</td>\n",
       "      <td>10 12, 2013</td>\n",
       "      <td>A3HQKIJ6ZFQB87</td>\n",
       "      <td>Cypherdude</td>\n",
       "      <td>Fits Single DIN Stereo Faceplate but is Built ...</td>\n",
       "      <td>1381536000</td>\n",
       "      <td>12</td>\n",
       "      <td>10</td>\n",
       "      <td>2013</td>\n",
       "    </tr>\n",
       "    <tr>\n",
       "      <th>33432</th>\n",
       "      <td>B0002AKX6Y</td>\n",
       "      <td>[0, 1]</td>\n",
       "      <td>5.0</td>\n",
       "      <td>NaN</td>\n",
       "      <td>07 22, 2013</td>\n",
       "      <td>A86ASOSDWF5BF</td>\n",
       "      <td>Antonia</td>\n",
       "      <td>Handy Dandy</td>\n",
       "      <td>1374451200</td>\n",
       "      <td>22</td>\n",
       "      <td>7</td>\n",
       "      <td>2013</td>\n",
       "    </tr>\n",
       "    <tr>\n",
       "      <th>37194</th>\n",
       "      <td>B0002KVQBA</td>\n",
       "      <td>[1, 2]</td>\n",
       "      <td>3.0</td>\n",
       "      <td>NaN</td>\n",
       "      <td>03 15, 2014</td>\n",
       "      <td>AX9DNX8UDPOUF</td>\n",
       "      <td>Alex \"Alex\"</td>\n",
       "      <td>7.1 Surround Sound Setup ( Good Bass ).</td>\n",
       "      <td>1394841600</td>\n",
       "      <td>15</td>\n",
       "      <td>3</td>\n",
       "      <td>2014</td>\n",
       "    </tr>\n",
       "    <tr>\n",
       "      <th>39622</th>\n",
       "      <td>B0002WPSCG</td>\n",
       "      <td>[1, 1]</td>\n",
       "      <td>5.0</td>\n",
       "      <td>NaN</td>\n",
       "      <td>03 4, 2013</td>\n",
       "      <td>A1SY0RMLP947Q0</td>\n",
       "      <td>T. Johansen</td>\n",
       "      <td>Crisp, Clean audio with firm bass.</td>\n",
       "      <td>1362355200</td>\n",
       "      <td>4</td>\n",
       "      <td>3</td>\n",
       "      <td>2013</td>\n",
       "    </tr>\n",
       "    <tr>\n",
       "      <th>40321</th>\n",
       "      <td>B0002Z82XA</td>\n",
       "      <td>[3, 4]</td>\n",
       "      <td>5.0</td>\n",
       "      <td>NaN</td>\n",
       "      <td>04 7, 2013</td>\n",
       "      <td>A3GVXKCTFN3YDN</td>\n",
       "      <td>Lawrence H. Bulk \"Lawrence H. Bulk\"</td>\n",
       "      <td>The Behringer HPS3000 Studio Headphones - A Fi...</td>\n",
       "      <td>1365292800</td>\n",
       "      <td>7</td>\n",
       "      <td>4</td>\n",
       "      <td>2013</td>\n",
       "    </tr>\n",
       "    <tr>\n",
       "      <th>42029</th>\n",
       "      <td>B00066FH1U</td>\n",
       "      <td>[0, 1]</td>\n",
       "      <td>1.0</td>\n",
       "      <td>NaN</td>\n",
       "      <td>06 4, 2014</td>\n",
       "      <td>A18WKNG5R77SSH</td>\n",
       "      <td>David G. Roberts</td>\n",
       "      <td>Sounds like crickets having a block party in m...</td>\n",
       "      <td>1401840000</td>\n",
       "      <td>4</td>\n",
       "      <td>6</td>\n",
       "      <td>2014</td>\n",
       "    </tr>\n",
       "    <tr>\n",
       "      <th>42431</th>\n",
       "      <td>B00068U9Y8</td>\n",
       "      <td>[3, 3]</td>\n",
       "      <td>5.0</td>\n",
       "      <td>NaN</td>\n",
       "      <td>07 25, 2013</td>\n",
       "      <td>A28XFQQI7NH46R</td>\n",
       "      <td>nate</td>\n",
       "      <td>Love it!!! Absolutely amazing for my ice chest...</td>\n",
       "      <td>1374710400</td>\n",
       "      <td>25</td>\n",
       "      <td>7</td>\n",
       "      <td>2013</td>\n",
       "    </tr>\n",
       "    <tr>\n",
       "      <th>42512</th>\n",
       "      <td>B00069QV5I</td>\n",
       "      <td>[3, 3]</td>\n",
       "      <td>4.0</td>\n",
       "      <td>NaN</td>\n",
       "      <td>03 18, 2013</td>\n",
       "      <td>A5M4I99P63DB3</td>\n",
       "      <td>sterling hulling</td>\n",
       "      <td>What did you expect?</td>\n",
       "      <td>1363564800</td>\n",
       "      <td>18</td>\n",
       "      <td>3</td>\n",
       "      <td>2013</td>\n",
       "    </tr>\n",
       "    <tr>\n",
       "      <th>51820</th>\n",
       "      <td>B000ANCPNM</td>\n",
       "      <td>[3, 3]</td>\n",
       "      <td>4.0</td>\n",
       "      <td>NaN</td>\n",
       "      <td>06 20, 2013</td>\n",
       "      <td>A35YEABW3T8OP4</td>\n",
       "      <td>P. Patel</td>\n",
       "      <td>Sturdy and strong little guy</td>\n",
       "      <td>1371686400</td>\n",
       "      <td>20</td>\n",
       "      <td>6</td>\n",
       "      <td>2013</td>\n",
       "    </tr>\n",
       "    <tr>\n",
       "      <th>57390</th>\n",
       "      <td>B000CKVOOY</td>\n",
       "      <td>[3, 3]</td>\n",
       "      <td>5.0</td>\n",
       "      <td>NaN</td>\n",
       "      <td>05 14, 2014</td>\n",
       "      <td>A2DKQQIZ793AV5</td>\n",
       "      <td>Twister</td>\n",
       "      <td>The BEST portable stand for a tablet or a phone</td>\n",
       "      <td>1400025600</td>\n",
       "      <td>14</td>\n",
       "      <td>5</td>\n",
       "      <td>2014</td>\n",
       "    </tr>\n",
       "    <tr>\n",
       "      <th>58202</th>\n",
       "      <td>B000CRFOMK</td>\n",
       "      <td>[1, 1]</td>\n",
       "      <td>5.0</td>\n",
       "      <td>NaN</td>\n",
       "      <td>01 11, 2013</td>\n",
       "      <td>A2HM2RMX1CBZGM</td>\n",
       "      <td>Taylor Marsh \"DESOLATER IV\"</td>\n",
       "      <td>Video Response to show what you are buying! (5...</td>\n",
       "      <td>1357862400</td>\n",
       "      <td>11</td>\n",
       "      <td>1</td>\n",
       "      <td>2013</td>\n",
       "    </tr>\n",
       "    <tr>\n",
       "      <th>59958</th>\n",
       "      <td>B000EHSN9Y</td>\n",
       "      <td>[9, 9]</td>\n",
       "      <td>4.0</td>\n",
       "      <td>NaN</td>\n",
       "      <td>02 28, 2013</td>\n",
       "      <td>A16QVE3MPE0TCV</td>\n",
       "      <td>Spencer Taylor \"Pugboy75\"</td>\n",
       "      <td>Video Review for Apple Mini DVI Adapter</td>\n",
       "      <td>1362009600</td>\n",
       "      <td>28</td>\n",
       "      <td>2</td>\n",
       "      <td>2013</td>\n",
       "    </tr>\n",
       "    <tr>\n",
       "      <th>61529</th>\n",
       "      <td>B000EW9Y4M</td>\n",
       "      <td>[17, 19]</td>\n",
       "      <td>5.0</td>\n",
       "      <td>NaN</td>\n",
       "      <td>06 1, 2014</td>\n",
       "      <td>A2HYFUNGZJX2YE</td>\n",
       "      <td>Schooba Bob</td>\n",
       "      <td>The #1 Best Portrait Lens in the World</td>\n",
       "      <td>1401580800</td>\n",
       "      <td>1</td>\n",
       "      <td>6</td>\n",
       "      <td>2014</td>\n",
       "    </tr>\n",
       "    <tr>\n",
       "      <th>72169</th>\n",
       "      <td>B000IDC0K2</td>\n",
       "      <td>[0, 0]</td>\n",
       "      <td>5.0</td>\n",
       "      <td>NaN</td>\n",
       "      <td>03 12, 2014</td>\n",
       "      <td>A3LYX5ZH17L7SW</td>\n",
       "      <td>PeaceSeeker</td>\n",
       "      <td>Good product for the money</td>\n",
       "      <td>1394582400</td>\n",
       "      <td>12</td>\n",
       "      <td>3</td>\n",
       "      <td>2014</td>\n",
       "    </tr>\n",
       "    <tr>\n",
       "      <th>76093</th>\n",
       "      <td>B000JQ17WK</td>\n",
       "      <td>[10, 10]</td>\n",
       "      <td>5.0</td>\n",
       "      <td>NaN</td>\n",
       "      <td>02 9, 2013</td>\n",
       "      <td>A6B85SQ9387IJ</td>\n",
       "      <td>L. Allston</td>\n",
       "      <td>Works like a black light, Dim but lights every...</td>\n",
       "      <td>1360368000</td>\n",
       "      <td>9</td>\n",
       "      <td>2</td>\n",
       "      <td>2013</td>\n",
       "    </tr>\n",
       "    <tr>\n",
       "      <th>82524</th>\n",
       "      <td>B000N99BBC</td>\n",
       "      <td>[0, 0]</td>\n",
       "      <td>5.0</td>\n",
       "      <td>NaN</td>\n",
       "      <td>03 4, 2013</td>\n",
       "      <td>A2YT5IO3DKN3AN</td>\n",
       "      <td>C. Miller \"IdoNotes\"</td>\n",
       "      <td>High performance, power saving and quiet</td>\n",
       "      <td>1362355200</td>\n",
       "      <td>4</td>\n",
       "      <td>3</td>\n",
       "      <td>2013</td>\n",
       "    </tr>\n",
       "    <tr>\n",
       "      <th>89045</th>\n",
       "      <td>B000PI9E4K</td>\n",
       "      <td>[0, 0]</td>\n",
       "      <td>5.0</td>\n",
       "      <td>NaN</td>\n",
       "      <td>04 9, 2014</td>\n",
       "      <td>A1Q6DAXHHIP482</td>\n",
       "      <td>Me</td>\n",
       "      <td>Great wireless remote, easy to install</td>\n",
       "      <td>1397001600</td>\n",
       "      <td>9</td>\n",
       "      <td>4</td>\n",
       "      <td>2014</td>\n",
       "    </tr>\n",
       "    <tr>\n",
       "      <th>97550</th>\n",
       "      <td>B000UD3NTC</td>\n",
       "      <td>[0, 0]</td>\n",
       "      <td>5.0</td>\n",
       "      <td>NaN</td>\n",
       "      <td>07 22, 2013</td>\n",
       "      <td>A1N7DYX9FXT6CG</td>\n",
       "      <td>Wayne N.</td>\n",
       "      <td>Worked well with TV wall mount and shelf system</td>\n",
       "      <td>1374451200</td>\n",
       "      <td>22</td>\n",
       "      <td>7</td>\n",
       "      <td>2013</td>\n",
       "    </tr>\n",
       "    <tr>\n",
       "      <th>100960</th>\n",
       "      <td>B000VA4CK8</td>\n",
       "      <td>[0, 0]</td>\n",
       "      <td>2.0</td>\n",
       "      <td>NaN</td>\n",
       "      <td>01 3, 2014</td>\n",
       "      <td>AFBHHGKL81PDH</td>\n",
       "      <td>Papa Carlo</td>\n",
       "      <td>Pretty Junky</td>\n",
       "      <td>1388707200</td>\n",
       "      <td>3</td>\n",
       "      <td>1</td>\n",
       "      <td>2014</td>\n",
       "    </tr>\n",
       "    <tr>\n",
       "      <th>108531</th>\n",
       "      <td>B000YB862E</td>\n",
       "      <td>[0, 0]</td>\n",
       "      <td>5.0</td>\n",
       "      <td>NaN</td>\n",
       "      <td>06 22, 2014</td>\n",
       "      <td>A3JCP0OA7XRRQZ</td>\n",
       "      <td>T47 Productions</td>\n",
       "      <td>Awesome affordable and durable dolly solution!</td>\n",
       "      <td>1403395200</td>\n",
       "      <td>22</td>\n",
       "      <td>6</td>\n",
       "      <td>2014</td>\n",
       "    </tr>\n",
       "    <tr>\n",
       "      <th>117688</th>\n",
       "      <td>B0013G8PTS</td>\n",
       "      <td>[3, 3]</td>\n",
       "      <td>5.0</td>\n",
       "      <td>NaN</td>\n",
       "      <td>02 5, 2013</td>\n",
       "      <td>A1F7YU6O5RU432</td>\n",
       "      <td>Angela Streiff</td>\n",
       "      <td>Great all-in-one battery pack with lots of power</td>\n",
       "      <td>1360022400</td>\n",
       "      <td>5</td>\n",
       "      <td>2</td>\n",
       "      <td>2013</td>\n",
       "    </tr>\n",
       "    <tr>\n",
       "      <th>118967</th>\n",
       "      <td>B001445TJS</td>\n",
       "      <td>[1, 1]</td>\n",
       "      <td>5.0</td>\n",
       "      <td>NaN</td>\n",
       "      <td>06 23, 2013</td>\n",
       "      <td>A7XELIPV7JLS0</td>\n",
       "      <td>Jeffrey Christlieb</td>\n",
       "      <td>Ram Mount for my Garmin 255W GPS to use on my ...</td>\n",
       "      <td>1371945600</td>\n",
       "      <td>23</td>\n",
       "      <td>6</td>\n",
       "      <td>2013</td>\n",
       "    </tr>\n",
       "    <tr>\n",
       "      <th>...</th>\n",
       "      <td>...</td>\n",
       "      <td>...</td>\n",
       "      <td>...</td>\n",
       "      <td>...</td>\n",
       "      <td>...</td>\n",
       "      <td>...</td>\n",
       "      <td>...</td>\n",
       "      <td>...</td>\n",
       "      <td>...</td>\n",
       "      <td>...</td>\n",
       "      <td>...</td>\n",
       "      <td>...</td>\n",
       "    </tr>\n",
       "    <tr>\n",
       "      <th>914684</th>\n",
       "      <td>B00GH9N28U</td>\n",
       "      <td>[0, 0]</td>\n",
       "      <td>5.0</td>\n",
       "      <td>NaN</td>\n",
       "      <td>07 5, 2014</td>\n",
       "      <td>A17JJU5H5E8MO2</td>\n",
       "      <td>Brad Mpls</td>\n",
       "      <td>PVR300- Great for note taking</td>\n",
       "      <td>1404518400</td>\n",
       "      <td>5</td>\n",
       "      <td>7</td>\n",
       "      <td>2014</td>\n",
       "    </tr>\n",
       "    <tr>\n",
       "      <th>917154</th>\n",
       "      <td>B00GQSX0WK</td>\n",
       "      <td>[2, 3]</td>\n",
       "      <td>4.0</td>\n",
       "      <td>NaN</td>\n",
       "      <td>05 17, 2014</td>\n",
       "      <td>A2RDLSYYSFUI7I</td>\n",
       "      <td>S. Sanchez</td>\n",
       "      <td>Sturdy case that scratches easily</td>\n",
       "      <td>1400284800</td>\n",
       "      <td>17</td>\n",
       "      <td>5</td>\n",
       "      <td>2014</td>\n",
       "    </tr>\n",
       "    <tr>\n",
       "      <th>917590</th>\n",
       "      <td>B00GSX8O92</td>\n",
       "      <td>[0, 0]</td>\n",
       "      <td>4.0</td>\n",
       "      <td>NaN</td>\n",
       "      <td>06 22, 2014</td>\n",
       "      <td>A14SIEFX4VGYRN</td>\n",
       "      <td>Steve L</td>\n",
       "      <td>These things are great!</td>\n",
       "      <td>1403395200</td>\n",
       "      <td>22</td>\n",
       "      <td>6</td>\n",
       "      <td>2014</td>\n",
       "    </tr>\n",
       "    <tr>\n",
       "      <th>918123</th>\n",
       "      <td>B00GTGETFG</td>\n",
       "      <td>[0, 0]</td>\n",
       "      <td>5.0</td>\n",
       "      <td>NaN</td>\n",
       "      <td>06 9, 2014</td>\n",
       "      <td>A2CU19QFMPKQTM</td>\n",
       "      <td>Perry Carmichael \"pc\"</td>\n",
       "      <td>I really want it to work, I need it to work (U...</td>\n",
       "      <td>1402272000</td>\n",
       "      <td>9</td>\n",
       "      <td>6</td>\n",
       "      <td>2014</td>\n",
       "    </tr>\n",
       "    <tr>\n",
       "      <th>919301</th>\n",
       "      <td>B00GYLC9ZI</td>\n",
       "      <td>[44, 46]</td>\n",
       "      <td>4.0</td>\n",
       "      <td>NaN</td>\n",
       "      <td>03 5, 2014</td>\n",
       "      <td>A16JT7E5121OAB</td>\n",
       "      <td>Justin R. Germino \"-Justin Germino\"</td>\n",
       "      <td>Budget Android Tablet a Great Value for the Price</td>\n",
       "      <td>1393977600</td>\n",
       "      <td>5</td>\n",
       "      <td>3</td>\n",
       "      <td>2014</td>\n",
       "    </tr>\n",
       "    <tr>\n",
       "      <th>919842</th>\n",
       "      <td>B00H0PLQHO</td>\n",
       "      <td>[0, 0]</td>\n",
       "      <td>5.0</td>\n",
       "      <td>NaN</td>\n",
       "      <td>03 16, 2014</td>\n",
       "      <td>AC6LRO0M2ACZ5</td>\n",
       "      <td>TechGeek</td>\n",
       "      <td>Portable, Future-Proof and Great Price</td>\n",
       "      <td>1394928000</td>\n",
       "      <td>16</td>\n",
       "      <td>3</td>\n",
       "      <td>2014</td>\n",
       "    </tr>\n",
       "    <tr>\n",
       "      <th>920760</th>\n",
       "      <td>B00H7PBWNU</td>\n",
       "      <td>[0, 0]</td>\n",
       "      <td>5.0</td>\n",
       "      <td>NaN</td>\n",
       "      <td>05 15, 2014</td>\n",
       "      <td>A3GFQHHVMEAIO</td>\n",
       "      <td>Danny K</td>\n",
       "      <td>So Far Perfect Flash Drive!!</td>\n",
       "      <td>1400112000</td>\n",
       "      <td>15</td>\n",
       "      <td>5</td>\n",
       "      <td>2014</td>\n",
       "    </tr>\n",
       "    <tr>\n",
       "      <th>921393</th>\n",
       "      <td>B00HDCC8LM</td>\n",
       "      <td>[23, 23]</td>\n",
       "      <td>4.0</td>\n",
       "      <td>NaN</td>\n",
       "      <td>02 9, 2014</td>\n",
       "      <td>A1OFZ0WFM50Y95</td>\n",
       "      <td>ACW1120</td>\n",
       "      <td>Good low light performance</td>\n",
       "      <td>1391904000</td>\n",
       "      <td>9</td>\n",
       "      <td>2</td>\n",
       "      <td>2014</td>\n",
       "    </tr>\n",
       "    <tr>\n",
       "      <th>921682</th>\n",
       "      <td>B00HFI55N2</td>\n",
       "      <td>[0, 0]</td>\n",
       "      <td>5.0</td>\n",
       "      <td>NaN</td>\n",
       "      <td>07 5, 2014</td>\n",
       "      <td>ACFGY2201J1MA</td>\n",
       "      <td>A.Y.</td>\n",
       "      <td>Never lose a lens cap again</td>\n",
       "      <td>1404518400</td>\n",
       "      <td>5</td>\n",
       "      <td>7</td>\n",
       "      <td>2014</td>\n",
       "    </tr>\n",
       "    <tr>\n",
       "      <th>921724</th>\n",
       "      <td>B00HFMN40O</td>\n",
       "      <td>[45, 56]</td>\n",
       "      <td>3.0</td>\n",
       "      <td>NaN</td>\n",
       "      <td>03 20, 2014</td>\n",
       "      <td>A2LQ3VC7SLACMO</td>\n",
       "      <td>Tim</td>\n",
       "      <td>Good Video Quality and GPS, Software and Suppo...</td>\n",
       "      <td>1395273600</td>\n",
       "      <td>20</td>\n",
       "      <td>3</td>\n",
       "      <td>2014</td>\n",
       "    </tr>\n",
       "    <tr>\n",
       "      <th>922268</th>\n",
       "      <td>B00HHFBEK6</td>\n",
       "      <td>[2, 3]</td>\n",
       "      <td>5.0</td>\n",
       "      <td>NaN</td>\n",
       "      <td>04 19, 2014</td>\n",
       "      <td>A2X2LMT7KP4OX3</td>\n",
       "      <td>Romario@</td>\n",
       "      <td>Got them last night so far they are awesome.</td>\n",
       "      <td>1397865600</td>\n",
       "      <td>19</td>\n",
       "      <td>4</td>\n",
       "      <td>2014</td>\n",
       "    </tr>\n",
       "    <tr>\n",
       "      <th>923055</th>\n",
       "      <td>B00HNFPZF0</td>\n",
       "      <td>[0, 0]</td>\n",
       "      <td>5.0</td>\n",
       "      <td>NaN</td>\n",
       "      <td>03 19, 2014</td>\n",
       "      <td>A2B6SNR9TLI83K</td>\n",
       "      <td>edward luster</td>\n",
       "      <td>Great improvement</td>\n",
       "      <td>1395187200</td>\n",
       "      <td>19</td>\n",
       "      <td>3</td>\n",
       "      <td>2014</td>\n",
       "    </tr>\n",
       "    <tr>\n",
       "      <th>923302</th>\n",
       "      <td>B00HNJWSH4</td>\n",
       "      <td>[37, 40]</td>\n",
       "      <td>5.0</td>\n",
       "      <td>NaN</td>\n",
       "      <td>04 2, 2014</td>\n",
       "      <td>A2TWWN6H19LQOO</td>\n",
       "      <td>A. Rizzo</td>\n",
       "      <td>$100 cheaper than Hero3+ BE with more features.</td>\n",
       "      <td>1396396800</td>\n",
       "      <td>2</td>\n",
       "      <td>4</td>\n",
       "      <td>2014</td>\n",
       "    </tr>\n",
       "    <tr>\n",
       "      <th>923328</th>\n",
       "      <td>B00HNJWSH4</td>\n",
       "      <td>[1, 1]</td>\n",
       "      <td>4.0</td>\n",
       "      <td>NaN</td>\n",
       "      <td>05 15, 2014</td>\n",
       "      <td>AR3EVUQF0AC7R</td>\n",
       "      <td>morning fog</td>\n",
       "      <td>unconventional shape, but more features, bette...</td>\n",
       "      <td>1400112000</td>\n",
       "      <td>15</td>\n",
       "      <td>5</td>\n",
       "      <td>2014</td>\n",
       "    </tr>\n",
       "    <tr>\n",
       "      <th>923383</th>\n",
       "      <td>B00HNJWVKI</td>\n",
       "      <td>[8, 17]</td>\n",
       "      <td>5.0</td>\n",
       "      <td>NaN</td>\n",
       "      <td>05 20, 2014</td>\n",
       "      <td>A2WC9NFLG57W4H</td>\n",
       "      <td>Momma Mary \"Expert Mom!\"</td>\n",
       "      <td>The Swiss Army Knife of Cameras</td>\n",
       "      <td>1400544000</td>\n",
       "      <td>20</td>\n",
       "      <td>5</td>\n",
       "      <td>2014</td>\n",
       "    </tr>\n",
       "    <tr>\n",
       "      <th>925168</th>\n",
       "      <td>B00HVT27B8</td>\n",
       "      <td>[1, 1]</td>\n",
       "      <td>5.0</td>\n",
       "      <td>NaN</td>\n",
       "      <td>05 2, 2014</td>\n",
       "      <td>AB5UEI07HPCAB</td>\n",
       "      <td>Andrew Stevens</td>\n",
       "      <td>love it so far!</td>\n",
       "      <td>1398988800</td>\n",
       "      <td>2</td>\n",
       "      <td>5</td>\n",
       "      <td>2014</td>\n",
       "    </tr>\n",
       "    <tr>\n",
       "      <th>925867</th>\n",
       "      <td>B00HYPCP0M</td>\n",
       "      <td>[0, 0]</td>\n",
       "      <td>5.0</td>\n",
       "      <td>NaN</td>\n",
       "      <td>05 24, 2014</td>\n",
       "      <td>A234YLAS2MYYWA</td>\n",
       "      <td>Dolphin</td>\n",
       "      <td>Not just for gaming:  ergonomically perfect an...</td>\n",
       "      <td>1400889600</td>\n",
       "      <td>24</td>\n",
       "      <td>5</td>\n",
       "      <td>2014</td>\n",
       "    </tr>\n",
       "    <tr>\n",
       "      <th>926114</th>\n",
       "      <td>B00I00CASM</td>\n",
       "      <td>[1, 1]</td>\n",
       "      <td>3.0</td>\n",
       "      <td>NaN</td>\n",
       "      <td>05 27, 2014</td>\n",
       "      <td>AXQ0USZ9HZLXP</td>\n",
       "      <td>Morgan</td>\n",
       "      <td>Not working properly anymore. Was great</td>\n",
       "      <td>1401148800</td>\n",
       "      <td>27</td>\n",
       "      <td>5</td>\n",
       "      <td>2014</td>\n",
       "    </tr>\n",
       "    <tr>\n",
       "      <th>927933</th>\n",
       "      <td>B00IDYBM2A</td>\n",
       "      <td>[1, 1]</td>\n",
       "      <td>5.0</td>\n",
       "      <td>NaN</td>\n",
       "      <td>05 25, 2014</td>\n",
       "      <td>A1J4OEGVKE2JW6</td>\n",
       "      <td>BW</td>\n",
       "      <td>Almost Perfect</td>\n",
       "      <td>1400976000</td>\n",
       "      <td>25</td>\n",
       "      <td>5</td>\n",
       "      <td>2014</td>\n",
       "    </tr>\n",
       "    <tr>\n",
       "      <th>928504</th>\n",
       "      <td>B00II6VYI0</td>\n",
       "      <td>[59, 67]</td>\n",
       "      <td>2.0</td>\n",
       "      <td>NaN</td>\n",
       "      <td>04 26, 2014</td>\n",
       "      <td>A3OQID5CSDBU74</td>\n",
       "      <td>M. Kim \"gadget freak and man-toy expert\"</td>\n",
       "      <td>WORST back light uniformity I've ever seen in ...</td>\n",
       "      <td>1398470400</td>\n",
       "      <td>26</td>\n",
       "      <td>4</td>\n",
       "      <td>2014</td>\n",
       "    </tr>\n",
       "    <tr>\n",
       "      <th>928678</th>\n",
       "      <td>B00IJU0K2Q</td>\n",
       "      <td>[0, 0]</td>\n",
       "      <td>5.0</td>\n",
       "      <td>NaN</td>\n",
       "      <td>07 11, 2014</td>\n",
       "      <td>A56FDBOP0WDFC</td>\n",
       "      <td>Mr Greed</td>\n",
       "      <td>Nice USB hub</td>\n",
       "      <td>1405036800</td>\n",
       "      <td>11</td>\n",
       "      <td>7</td>\n",
       "      <td>2014</td>\n",
       "    </tr>\n",
       "    <tr>\n",
       "      <th>929473</th>\n",
       "      <td>B00IP1MQNK</td>\n",
       "      <td>[3, 3]</td>\n",
       "      <td>5.0</td>\n",
       "      <td>NaN</td>\n",
       "      <td>04 15, 2014</td>\n",
       "      <td>A1IU7S4HCK1XK0</td>\n",
       "      <td>Joanna Daneman</td>\n",
       "      <td>Charges two devices at a time</td>\n",
       "      <td>1397520000</td>\n",
       "      <td>15</td>\n",
       "      <td>4</td>\n",
       "      <td>2014</td>\n",
       "    </tr>\n",
       "    <tr>\n",
       "      <th>929483</th>\n",
       "      <td>B00IP8IBYG</td>\n",
       "      <td>[3, 3]</td>\n",
       "      <td>5.0</td>\n",
       "      <td>NaN</td>\n",
       "      <td>06 16, 2014</td>\n",
       "      <td>A1T4SP880XEFB3</td>\n",
       "      <td>darren</td>\n",
       "      <td>sick of chargers all over house?</td>\n",
       "      <td>1402876800</td>\n",
       "      <td>16</td>\n",
       "      <td>6</td>\n",
       "      <td>2014</td>\n",
       "    </tr>\n",
       "    <tr>\n",
       "      <th>930094</th>\n",
       "      <td>B00IU745S8</td>\n",
       "      <td>[31, 33]</td>\n",
       "      <td>5.0</td>\n",
       "      <td>NaN</td>\n",
       "      <td>04 29, 2014</td>\n",
       "      <td>A23LMOB2AXLR4W</td>\n",
       "      <td>Iamwally</td>\n",
       "      <td>Fantastic tablet!  Great Value!</td>\n",
       "      <td>1398729600</td>\n",
       "      <td>29</td>\n",
       "      <td>4</td>\n",
       "      <td>2014</td>\n",
       "    </tr>\n",
       "    <tr>\n",
       "      <th>931083</th>\n",
       "      <td>B00J2OVN74</td>\n",
       "      <td>[45, 46]</td>\n",
       "      <td>4.0</td>\n",
       "      <td>NaN</td>\n",
       "      <td>05 25, 2014</td>\n",
       "      <td>AWY8ZAQCKNNO2</td>\n",
       "      <td>J. Ho</td>\n",
       "      <td>It works well.</td>\n",
       "      <td>1400976000</td>\n",
       "      <td>25</td>\n",
       "      <td>5</td>\n",
       "      <td>2014</td>\n",
       "    </tr>\n",
       "    <tr>\n",
       "      <th>931150</th>\n",
       "      <td>B00J3O9DYI</td>\n",
       "      <td>[1, 1]</td>\n",
       "      <td>4.0</td>\n",
       "      <td>NaN</td>\n",
       "      <td>07 17, 2014</td>\n",
       "      <td>A3ERTHGCYNZ1TA</td>\n",
       "      <td>A. Thompson \"Skeptic\"</td>\n",
       "      <td>Goes anywhere! Great sound for it's size.</td>\n",
       "      <td>1405555200</td>\n",
       "      <td>17</td>\n",
       "      <td>7</td>\n",
       "      <td>2014</td>\n",
       "    </tr>\n",
       "    <tr>\n",
       "      <th>932197</th>\n",
       "      <td>B00JIWXTXG</td>\n",
       "      <td>[14, 21]</td>\n",
       "      <td>4.0</td>\n",
       "      <td>NaN</td>\n",
       "      <td>07 2, 2014</td>\n",
       "      <td>A20WS8TZ5840ND</td>\n",
       "      <td>Adam Dachis \"adachis\"</td>\n",
       "      <td>A Video Camera Pretending to Be a Mirror-less ...</td>\n",
       "      <td>1404259200</td>\n",
       "      <td>2</td>\n",
       "      <td>7</td>\n",
       "      <td>2014</td>\n",
       "    </tr>\n",
       "    <tr>\n",
       "      <th>933377</th>\n",
       "      <td>B00KAY2DJM</td>\n",
       "      <td>[14, 15]</td>\n",
       "      <td>5.0</td>\n",
       "      <td>NaN</td>\n",
       "      <td>06 5, 2014</td>\n",
       "      <td>A32LX4XJ2LU740</td>\n",
       "      <td>PositiveLogic \"Looking for Positive, Not Fear...</td>\n",
       "      <td>Finally, the Dashcam for the Rest of Us</td>\n",
       "      <td>1401926400</td>\n",
       "      <td>5</td>\n",
       "      <td>6</td>\n",
       "      <td>2014</td>\n",
       "    </tr>\n",
       "    <tr>\n",
       "      <th>933564</th>\n",
       "      <td>B00KHA5G6G</td>\n",
       "      <td>[106, 113]</td>\n",
       "      <td>5.0</td>\n",
       "      <td>NaN</td>\n",
       "      <td>06 28, 2014</td>\n",
       "      <td>A3LKN9GND01EWJ</td>\n",
       "      <td>ManiS</td>\n",
       "      <td>\"Better than iPad\" - from a heavy apple produc...</td>\n",
       "      <td>1403913600</td>\n",
       "      <td>28</td>\n",
       "      <td>6</td>\n",
       "      <td>2014</td>\n",
       "    </tr>\n",
       "    <tr>\n",
       "      <th>933593</th>\n",
       "      <td>B00KHR4ZL6</td>\n",
       "      <td>[92, 105]</td>\n",
       "      <td>5.0</td>\n",
       "      <td>NaN</td>\n",
       "      <td>06 12, 2014</td>\n",
       "      <td>A12GKGLR2L4MZY</td>\n",
       "      <td>Cody</td>\n",
       "      <td>Gaming, Adobe Software, Camera - Great Product...</td>\n",
       "      <td>1402531200</td>\n",
       "      <td>12</td>\n",
       "      <td>6</td>\n",
       "      <td>2014</td>\n",
       "    </tr>\n",
       "  </tbody>\n",
       "</table>\n",
       "<p>387 rows × 12 columns</p>\n",
       "</div>"
      ],
      "text/plain": [
       "              asin     helpful  overall reviewText   reviewTime  \\\n",
       "93      0972683275      [1, 2]      5.0        NaN  01 10, 2013   \n",
       "171     1400501520    [10, 12]      5.0        NaN  06 29, 2013   \n",
       "7798    B00005LE73      [4, 7]      5.0        NaN  02 11, 2013   \n",
       "14543   B00006HVLW      [0, 0]      5.0        NaN   06 2, 2014   \n",
       "15450   B00006JN3G    [10, 10]      1.0        NaN   07 8, 2013   \n",
       "17438   B00007E7JU      [2, 2]      5.0        NaN   03 2, 2013   \n",
       "23650   B00009X3UA    [17, 17]      5.0        NaN  01 12, 2013   \n",
       "26577   B0000BZOGJ      [3, 5]      1.0        NaN   04 1, 2013   \n",
       "31149   B0001ZUZR2      [0, 0]      3.0        NaN  10 12, 2013   \n",
       "33432   B0002AKX6Y      [0, 1]      5.0        NaN  07 22, 2013   \n",
       "37194   B0002KVQBA      [1, 2]      3.0        NaN  03 15, 2014   \n",
       "39622   B0002WPSCG      [1, 1]      5.0        NaN   03 4, 2013   \n",
       "40321   B0002Z82XA      [3, 4]      5.0        NaN   04 7, 2013   \n",
       "42029   B00066FH1U      [0, 1]      1.0        NaN   06 4, 2014   \n",
       "42431   B00068U9Y8      [3, 3]      5.0        NaN  07 25, 2013   \n",
       "42512   B00069QV5I      [3, 3]      4.0        NaN  03 18, 2013   \n",
       "51820   B000ANCPNM      [3, 3]      4.0        NaN  06 20, 2013   \n",
       "57390   B000CKVOOY      [3, 3]      5.0        NaN  05 14, 2014   \n",
       "58202   B000CRFOMK      [1, 1]      5.0        NaN  01 11, 2013   \n",
       "59958   B000EHSN9Y      [9, 9]      4.0        NaN  02 28, 2013   \n",
       "61529   B000EW9Y4M    [17, 19]      5.0        NaN   06 1, 2014   \n",
       "72169   B000IDC0K2      [0, 0]      5.0        NaN  03 12, 2014   \n",
       "76093   B000JQ17WK    [10, 10]      5.0        NaN   02 9, 2013   \n",
       "82524   B000N99BBC      [0, 0]      5.0        NaN   03 4, 2013   \n",
       "89045   B000PI9E4K      [0, 0]      5.0        NaN   04 9, 2014   \n",
       "97550   B000UD3NTC      [0, 0]      5.0        NaN  07 22, 2013   \n",
       "100960  B000VA4CK8      [0, 0]      2.0        NaN   01 3, 2014   \n",
       "108531  B000YB862E      [0, 0]      5.0        NaN  06 22, 2014   \n",
       "117688  B0013G8PTS      [3, 3]      5.0        NaN   02 5, 2013   \n",
       "118967  B001445TJS      [1, 1]      5.0        NaN  06 23, 2013   \n",
       "...            ...         ...      ...        ...          ...   \n",
       "914684  B00GH9N28U      [0, 0]      5.0        NaN   07 5, 2014   \n",
       "917154  B00GQSX0WK      [2, 3]      4.0        NaN  05 17, 2014   \n",
       "917590  B00GSX8O92      [0, 0]      4.0        NaN  06 22, 2014   \n",
       "918123  B00GTGETFG      [0, 0]      5.0        NaN   06 9, 2014   \n",
       "919301  B00GYLC9ZI    [44, 46]      4.0        NaN   03 5, 2014   \n",
       "919842  B00H0PLQHO      [0, 0]      5.0        NaN  03 16, 2014   \n",
       "920760  B00H7PBWNU      [0, 0]      5.0        NaN  05 15, 2014   \n",
       "921393  B00HDCC8LM    [23, 23]      4.0        NaN   02 9, 2014   \n",
       "921682  B00HFI55N2      [0, 0]      5.0        NaN   07 5, 2014   \n",
       "921724  B00HFMN40O    [45, 56]      3.0        NaN  03 20, 2014   \n",
       "922268  B00HHFBEK6      [2, 3]      5.0        NaN  04 19, 2014   \n",
       "923055  B00HNFPZF0      [0, 0]      5.0        NaN  03 19, 2014   \n",
       "923302  B00HNJWSH4    [37, 40]      5.0        NaN   04 2, 2014   \n",
       "923328  B00HNJWSH4      [1, 1]      4.0        NaN  05 15, 2014   \n",
       "923383  B00HNJWVKI     [8, 17]      5.0        NaN  05 20, 2014   \n",
       "925168  B00HVT27B8      [1, 1]      5.0        NaN   05 2, 2014   \n",
       "925867  B00HYPCP0M      [0, 0]      5.0        NaN  05 24, 2014   \n",
       "926114  B00I00CASM      [1, 1]      3.0        NaN  05 27, 2014   \n",
       "927933  B00IDYBM2A      [1, 1]      5.0        NaN  05 25, 2014   \n",
       "928504  B00II6VYI0    [59, 67]      2.0        NaN  04 26, 2014   \n",
       "928678  B00IJU0K2Q      [0, 0]      5.0        NaN  07 11, 2014   \n",
       "929473  B00IP1MQNK      [3, 3]      5.0        NaN  04 15, 2014   \n",
       "929483  B00IP8IBYG      [3, 3]      5.0        NaN  06 16, 2014   \n",
       "930094  B00IU745S8    [31, 33]      5.0        NaN  04 29, 2014   \n",
       "931083  B00J2OVN74    [45, 46]      4.0        NaN  05 25, 2014   \n",
       "931150  B00J3O9DYI      [1, 1]      4.0        NaN  07 17, 2014   \n",
       "932197  B00JIWXTXG    [14, 21]      4.0        NaN   07 2, 2014   \n",
       "933377  B00KAY2DJM    [14, 15]      5.0        NaN   06 5, 2014   \n",
       "933564  B00KHA5G6G  [106, 113]      5.0        NaN  06 28, 2014   \n",
       "933593  B00KHR4ZL6   [92, 105]      5.0        NaN  06 12, 2014   \n",
       "\n",
       "            reviewerID                                      reviewerName  \\\n",
       "93      A2YF3QW52PBL3C                                               Mat   \n",
       "171     A1S2M6SA4OAUNK                                             Perry   \n",
       "7798    A1QCUMGX7UHFL5                                              Adam   \n",
       "14543    ALMBDA5NFKT6N                                          dutchess   \n",
       "15450   A25OZ0AQNXTNLQ                       MsFancyPantz \"MsFanctPantz\"   \n",
       "17438    AQH5HECL3UFRZ                                    Nicholas Salve   \n",
       "23650    A5QDZEOIMQ4LW              Joe Crescenzi \"From CouponPages.Com\"   \n",
       "26577   A10IB12HS4DRUC                                            darok2   \n",
       "31149   A3HQKIJ6ZFQB87                                        Cypherdude   \n",
       "33432    A86ASOSDWF5BF                                           Antonia   \n",
       "37194    AX9DNX8UDPOUF                                       Alex \"Alex\"   \n",
       "39622   A1SY0RMLP947Q0                                       T. Johansen   \n",
       "40321   A3GVXKCTFN3YDN               Lawrence H. Bulk \"Lawrence H. Bulk\"   \n",
       "42029   A18WKNG5R77SSH                                  David G. Roberts   \n",
       "42431   A28XFQQI7NH46R                                              nate   \n",
       "42512    A5M4I99P63DB3                                  sterling hulling   \n",
       "51820   A35YEABW3T8OP4                                          P. Patel   \n",
       "57390   A2DKQQIZ793AV5                                           Twister   \n",
       "58202   A2HM2RMX1CBZGM                       Taylor Marsh \"DESOLATER IV\"   \n",
       "59958   A16QVE3MPE0TCV                         Spencer Taylor \"Pugboy75\"   \n",
       "61529   A2HYFUNGZJX2YE                                       Schooba Bob   \n",
       "72169   A3LYX5ZH17L7SW                                       PeaceSeeker   \n",
       "76093    A6B85SQ9387IJ                                        L. Allston   \n",
       "82524   A2YT5IO3DKN3AN                              C. Miller \"IdoNotes\"   \n",
       "89045   A1Q6DAXHHIP482                                                Me   \n",
       "97550   A1N7DYX9FXT6CG                                          Wayne N.   \n",
       "100960   AFBHHGKL81PDH                                        Papa Carlo   \n",
       "108531  A3JCP0OA7XRRQZ                                   T47 Productions   \n",
       "117688  A1F7YU6O5RU432                                    Angela Streiff   \n",
       "118967   A7XELIPV7JLS0                                Jeffrey Christlieb   \n",
       "...                ...                                               ...   \n",
       "914684  A17JJU5H5E8MO2                                         Brad Mpls   \n",
       "917154  A2RDLSYYSFUI7I                                        S. Sanchez   \n",
       "917590  A14SIEFX4VGYRN                                           Steve L   \n",
       "918123  A2CU19QFMPKQTM                             Perry Carmichael \"pc\"   \n",
       "919301  A16JT7E5121OAB               Justin R. Germino \"-Justin Germino\"   \n",
       "919842   AC6LRO0M2ACZ5                                          TechGeek   \n",
       "920760   A3GFQHHVMEAIO                                           Danny K   \n",
       "921393  A1OFZ0WFM50Y95                                           ACW1120   \n",
       "921682   ACFGY2201J1MA                                              A.Y.   \n",
       "921724  A2LQ3VC7SLACMO                                               Tim   \n",
       "922268  A2X2LMT7KP4OX3                                          Romario@   \n",
       "923055  A2B6SNR9TLI83K                                     edward luster   \n",
       "923302  A2TWWN6H19LQOO                                          A. Rizzo   \n",
       "923328   AR3EVUQF0AC7R                                       morning fog   \n",
       "923383  A2WC9NFLG57W4H                          Momma Mary \"Expert Mom!\"   \n",
       "925168   AB5UEI07HPCAB                                    Andrew Stevens   \n",
       "925867  A234YLAS2MYYWA                                           Dolphin   \n",
       "926114   AXQ0USZ9HZLXP                                            Morgan   \n",
       "927933  A1J4OEGVKE2JW6                                                BW   \n",
       "928504  A3OQID5CSDBU74          M. Kim \"gadget freak and man-toy expert\"   \n",
       "928678   A56FDBOP0WDFC                                          Mr Greed   \n",
       "929473  A1IU7S4HCK1XK0                                    Joanna Daneman   \n",
       "929483  A1T4SP880XEFB3                                            darren   \n",
       "930094  A23LMOB2AXLR4W                                          Iamwally   \n",
       "931083   AWY8ZAQCKNNO2                                             J. Ho   \n",
       "931150  A3ERTHGCYNZ1TA                             A. Thompson \"Skeptic\"   \n",
       "932197  A20WS8TZ5840ND                             Adam Dachis \"adachis\"   \n",
       "933377  A32LX4XJ2LU740  PositiveLogic \"Looking for Positive, Not Fear...   \n",
       "933564  A3LKN9GND01EWJ                                             ManiS   \n",
       "933593  A12GKGLR2L4MZY                                              Cody   \n",
       "\n",
       "                                                  summary  unixReviewTime  \\\n",
       "93      Works perfectly for 400 x 200 VESA mount Hitek...      1357776000   \n",
       "171                              Best Tablet On A Budget!      1372464000   \n",
       "7798              Awesome lens for photography AND video!      1360540800   \n",
       "14543                               under cover concealer      1401667200   \n",
       "15450                            Poorly made! Do not buy!      1373241600   \n",
       "17438                          Amazing lens for the price      1362182400   \n",
       "23650        Essential if you want to shoot better photos      1357948800   \n",
       "26577   Poor materials, bad pocket arrangement. Too fe...      1364774400   \n",
       "31149   Fits Single DIN Stereo Faceplate but is Built ...      1381536000   \n",
       "33432                                         Handy Dandy      1374451200   \n",
       "37194             7.1 Surround Sound Setup ( Good Bass ).      1394841600   \n",
       "39622                  Crisp, Clean audio with firm bass.      1362355200   \n",
       "40321   The Behringer HPS3000 Studio Headphones - A Fi...      1365292800   \n",
       "42029   Sounds like crickets having a block party in m...      1401840000   \n",
       "42431   Love it!!! Absolutely amazing for my ice chest...      1374710400   \n",
       "42512                                What did you expect?      1363564800   \n",
       "51820                        Sturdy and strong little guy      1371686400   \n",
       "57390     The BEST portable stand for a tablet or a phone      1400025600   \n",
       "58202   Video Response to show what you are buying! (5...      1357862400   \n",
       "59958             Video Review for Apple Mini DVI Adapter      1362009600   \n",
       "61529              The #1 Best Portrait Lens in the World      1401580800   \n",
       "72169                          Good product for the money      1394582400   \n",
       "76093   Works like a black light, Dim but lights every...      1360368000   \n",
       "82524            High performance, power saving and quiet      1362355200   \n",
       "89045              Great wireless remote, easy to install      1397001600   \n",
       "97550     Worked well with TV wall mount and shelf system      1374451200   \n",
       "100960                                       Pretty Junky      1388707200   \n",
       "108531     Awesome affordable and durable dolly solution!      1403395200   \n",
       "117688   Great all-in-one battery pack with lots of power      1360022400   \n",
       "118967  Ram Mount for my Garmin 255W GPS to use on my ...      1371945600   \n",
       "...                                                   ...             ...   \n",
       "914684                      PVR300- Great for note taking      1404518400   \n",
       "917154                  Sturdy case that scratches easily      1400284800   \n",
       "917590                            These things are great!      1403395200   \n",
       "918123  I really want it to work, I need it to work (U...      1402272000   \n",
       "919301  Budget Android Tablet a Great Value for the Price      1393977600   \n",
       "919842             Portable, Future-Proof and Great Price      1394928000   \n",
       "920760                       So Far Perfect Flash Drive!!      1400112000   \n",
       "921393                         Good low light performance      1391904000   \n",
       "921682                        Never lose a lens cap again      1404518400   \n",
       "921724  Good Video Quality and GPS, Software and Suppo...      1395273600   \n",
       "922268       Got them last night so far they are awesome.      1397865600   \n",
       "923055                                  Great improvement      1395187200   \n",
       "923302    $100 cheaper than Hero3+ BE with more features.      1396396800   \n",
       "923328  unconventional shape, but more features, bette...      1400112000   \n",
       "923383                    The Swiss Army Knife of Cameras      1400544000   \n",
       "925168                                    love it so far!      1398988800   \n",
       "925867  Not just for gaming:  ergonomically perfect an...      1400889600   \n",
       "926114            Not working properly anymore. Was great      1401148800   \n",
       "927933                                     Almost Perfect      1400976000   \n",
       "928504  WORST back light uniformity I've ever seen in ...      1398470400   \n",
       "928678                                       Nice USB hub      1405036800   \n",
       "929473                      Charges two devices at a time      1397520000   \n",
       "929483                   sick of chargers all over house?      1402876800   \n",
       "930094                    Fantastic tablet!  Great Value!      1398729600   \n",
       "931083                                     It works well.      1400976000   \n",
       "931150          Goes anywhere! Great sound for it's size.      1405555200   \n",
       "932197  A Video Camera Pretending to Be a Mirror-less ...      1404259200   \n",
       "933377            Finally, the Dashcam for the Rest of Us      1401926400   \n",
       "933564  \"Better than iPad\" - from a heavy apple produc...      1403913600   \n",
       "933593  Gaming, Adobe Software, Camera - Great Product...      1402531200   \n",
       "\n",
       "        day  month  year  \n",
       "93       10      1  2013  \n",
       "171      29      6  2013  \n",
       "7798     11      2  2013  \n",
       "14543     2      6  2014  \n",
       "15450     8      7  2013  \n",
       "17438     2      3  2013  \n",
       "23650    12      1  2013  \n",
       "26577     1      4  2013  \n",
       "31149    12     10  2013  \n",
       "33432    22      7  2013  \n",
       "37194    15      3  2014  \n",
       "39622     4      3  2013  \n",
       "40321     7      4  2013  \n",
       "42029     4      6  2014  \n",
       "42431    25      7  2013  \n",
       "42512    18      3  2013  \n",
       "51820    20      6  2013  \n",
       "57390    14      5  2014  \n",
       "58202    11      1  2013  \n",
       "59958    28      2  2013  \n",
       "61529     1      6  2014  \n",
       "72169    12      3  2014  \n",
       "76093     9      2  2013  \n",
       "82524     4      3  2013  \n",
       "89045     9      4  2014  \n",
       "97550    22      7  2013  \n",
       "100960    3      1  2014  \n",
       "108531   22      6  2014  \n",
       "117688    5      2  2013  \n",
       "118967   23      6  2013  \n",
       "...     ...    ...   ...  \n",
       "914684    5      7  2014  \n",
       "917154   17      5  2014  \n",
       "917590   22      6  2014  \n",
       "918123    9      6  2014  \n",
       "919301    5      3  2014  \n",
       "919842   16      3  2014  \n",
       "920760   15      5  2014  \n",
       "921393    9      2  2014  \n",
       "921682    5      7  2014  \n",
       "921724   20      3  2014  \n",
       "922268   19      4  2014  \n",
       "923055   19      3  2014  \n",
       "923302    2      4  2014  \n",
       "923328   15      5  2014  \n",
       "923383   20      5  2014  \n",
       "925168    2      5  2014  \n",
       "925867   24      5  2014  \n",
       "926114   27      5  2014  \n",
       "927933   25      5  2014  \n",
       "928504   26      4  2014  \n",
       "928678   11      7  2014  \n",
       "929473   15      4  2014  \n",
       "929483   16      6  2014  \n",
       "930094   29      4  2014  \n",
       "931083   25      5  2014  \n",
       "931150   17      7  2014  \n",
       "932197    2      7  2014  \n",
       "933377    5      6  2014  \n",
       "933564   28      6  2014  \n",
       "933593   12      6  2014  \n",
       "\n",
       "[387 rows x 12 columns]"
      ]
     },
     "execution_count": 7,
     "metadata": {},
     "output_type": "execute_result"
    }
   ],
   "source": [
    "df[df['reviewText'].isnull()]"
   ]
  },
  {
   "cell_type": "code",
   "execution_count": 8,
   "metadata": {
    "ExecuteTime": {
     "end_time": "2019-10-01T16:16:07.768038Z",
     "start_time": "2019-10-01T16:15:34.422237Z"
    }
   },
   "outputs": [
    {
     "name": "stderr",
     "output_type": "stream",
     "text": [
      "C:\\Anaconda\\lib\\site-packages\\ipykernel_launcher.py:3: SettingWithCopyWarning: \n",
      "A value is trying to be set on a copy of a slice from a DataFrame\n",
      "\n",
      "See the caveats in the documentation: http://pandas.pydata.org/pandas-docs/stable/indexing.html#indexing-view-versus-copy\n",
      "  This is separate from the ipykernel package so we can avoid doing imports until\n"
     ]
    }
   ],
   "source": [
    "for i in range(len(df)):\n",
    "    if type(df['reviewText'][i]) == float:\n",
    "        df['reviewText'][i] = df['summary'][i]"
   ]
  },
  {
   "cell_type": "code",
   "execution_count": 10,
   "metadata": {
    "ExecuteTime": {
     "end_time": "2019-10-01T16:16:27.843976Z",
     "start_time": "2019-10-01T16:16:27.657478Z"
    }
   },
   "outputs": [
    {
     "data": {
      "text/plain": [
       "<matplotlib.axes._subplots.AxesSubplot at 0x26fa3c2c390>"
      ]
     },
     "execution_count": 10,
     "metadata": {},
     "output_type": "execute_result"
    },
    {
     "data": {
      "image/png": "[encoded data removed]",
      "text/plain": [
       "<Figure size 432x288 with 1 Axes>"
      ]
     },
     "metadata": {},
     "output_type": "display_data"
    }
   ],
   "source": [
    "rating = df['overall'].value_counts()\n",
    "\n",
    "plt.figure()\n",
    "plt.title('distribution of rating')\n",
    "rating.plot(kind='bar')"
   ]
  },
  {
   "cell_type": "code",
   "execution_count": 14,
   "metadata": {
    "ExecuteTime": {
     "end_time": "2019-10-01T16:18:50.373933Z",
     "start_time": "2019-10-01T16:18:49.728490Z"
    }
   },
   "outputs": [
    {
     "data": {
      "text/plain": [
       "reviewerID\n",
       "A000715434M800HLCENK9    5\n",
       "A00101847G3FJTWYGNQA     6\n",
       "A00166281YWM98A3SVD55    5\n",
       "A0046696382DWIPVIWO0K    5\n",
       "A00472881KT6WR48K907X    7\n",
       "Name: overall, dtype: int64"
      ]
     },
     "execution_count": 14,
     "metadata": {},
     "output_type": "execute_result"
    }
   ],
   "source": [
    "reviewer_rating = df.groupby('reviewerID')['overall'].count()\n",
    "reviewer_rating.head(5)"
   ]
  },
  {
   "cell_type": "code",
   "execution_count": 15,
   "metadata": {
    "ExecuteTime": {
     "end_time": "2019-10-01T16:19:23.251996Z",
     "start_time": "2019-10-01T16:19:23.199134Z"
    }
   },
   "outputs": [
    {
     "name": "stdout",
     "output_type": "stream",
     "text": [
      "Max reviews: 154, Min reviews: 1\n",
      "Median reviews: 5.0, Mean reviews: 5.57\n",
      "25% reviews: 3,  75% reviews: 7\n"
     ]
    }
   ],
   "source": [
    "print('Max reviews: %s, Min reviews: %s' % (max(reviewer_rating), min(reviewer_rating)))\n",
    "print('Median reviews: %s, Mean reviews: %s' % (np.median(reviewer_rating), round(np.mean(reviewer_rating),2)))\n",
    "print('25%% reviews: %d,  75%% reviews: %d' % (np.percentile(reviewer_rating, 25), np.percentile(reviewer_rating, 75)))"
   ]
  },
  {
   "cell_type": "code",
   "execution_count": 26,
   "metadata": {
    "ExecuteTime": {
     "end_time": "2019-10-01T21:18:58.364802Z",
     "start_time": "2019-10-01T21:18:58.358816Z"
    }
   },
   "outputs": [],
   "source": [
    "df =df[:5000]"
   ]
  },
  {
   "cell_type": "code",
   "execution_count": 87,
   "metadata": {
    "ExecuteTime": {
     "end_time": "2019-10-02T15:48:40.234619Z",
     "start_time": "2019-10-02T15:48:40.225645Z"
    }
   },
   "outputs": [],
   "source": [
    "X_train, X_test, y_train, y_test = train_test_split(df['reviewText'], df['overall'], random_state = 1, test_size=0.3)"
   ]
  },
  {
   "cell_type": "code",
   "execution_count": 89,
   "metadata": {
    "ExecuteTime": {
     "end_time": "2019-10-02T15:48:58.024440Z",
     "start_time": "2019-10-02T15:48:57.233557Z"
    }
   },
   "outputs": [],
   "source": [
    "vectorizer = TfidfVectorizer(analyzer = 'word', stop_words = 'english', \n",
    "                             lowercase = True, max_features = 10000)\n",
    "\n",
    "X_train_tfidf = vectorizer.fit_transform(X_train).toarray()\n",
    "features = vectorizer.get_feature_names()\n",
    "\n",
    "X_test_tfidf = vectorizer.transform(X_test).toarray()"
   ]
  },
  {
   "cell_type": "code",
   "execution_count": 49,
   "metadata": {
    "ExecuteTime": {
     "end_time": "2019-10-01T21:28:11.424803Z",
     "start_time": "2019-10-01T21:28:11.417789Z"
    }
   },
   "outputs": [
    {
     "data": {
      "text/plain": [
       "\"Good base and good sound. I buy one and usually send them back to Koss for $9 (lifetime warranty) when they crap out.  I'm a heavy user and use these virtually every day anywhere from 1.5- 7 hours/day.\""
      ]
     },
     "execution_count": 49,
     "metadata": {},
     "output_type": "execute_result"
    }
   ],
   "source": [
    "random_text = np.random.choice(X_test,1)[0]\n",
    "random_text"
   ]
  },
  {
   "cell_type": "code",
   "execution_count": 52,
   "metadata": {
    "ExecuteTime": {
     "end_time": "2019-10-01T21:31:06.402927Z",
     "start_time": "2019-10-01T21:31:05.785313Z"
    }
   },
   "outputs": [],
   "source": [
    "random_review_tfidf = vectorizer.transform([random_text]).toarray()\n",
    "similarity = cosine_similarity(random_review_tfidf, X_train_tfidf)"
   ]
  },
  {
   "cell_type": "code",
   "execution_count": 102,
   "metadata": {
    "ExecuteTime": {
     "end_time": "2019-10-02T15:53:34.600282Z",
     "start_time": "2019-10-02T15:53:34.592305Z"
    }
   },
   "outputs": [],
   "source": [
    "def get_similar_reviews(target_reviews, n, similar_reviews):\n",
    "    #Given a list of values, find the indices with the highest n values.\n",
    "    #Return the labels for each of these indices.\n",
    "    return [similar_reviews[i] for i in np.argsort(target_reviews)[::-1][:n]]   "
   ]
  },
  {
   "cell_type": "code",
   "execution_count": 54,
   "metadata": {
    "ExecuteTime": {
     "end_time": "2019-10-01T21:31:08.219883Z",
     "start_time": "2019-10-01T21:31:08.212901Z"
    }
   },
   "outputs": [],
   "source": [
    "n = 5\n",
    "similar_reviews = get_similar_reviews(similarity[0], n, list(X_train))"
   ]
  },
  {
   "cell_type": "code",
   "execution_count": 69,
   "metadata": {
    "ExecuteTime": {
     "end_time": "2019-10-01T21:36:50.594463Z",
     "start_time": "2019-10-01T21:36:50.588475Z"
    }
   },
   "outputs": [
    {
     "name": "stdout",
     "output_type": "stream",
     "text": [
      "My target review: \n",
      "Good base and good sound. I buy one and usually send them back to Koss for $9 (lifetime warranty) when they crap out.  I'm a heavy user and use these virtually every day anywhere from 1.5- 7 hours/day.\n",
      "\n",
      "top 5 similar reviews \n",
      "\n",
      "No. 1 review is: Not much to say about this one. The item works as expected with no flaws or problems. It gets about 8 hours a day of use..\n",
      "\n",
      "No. 2 review is: this camera bag is made good but it's way too small. It's good only if you are taking just one camera and no lens out for the day..\n",
      "\n",
      "No. 3 review is: I don't know if they still come with a lifetime warranty but I'd buy them over again even if they didn't.It's hard to find a pair of in-ear headphones that are rated 16 to 23,000 Hz. And if my memory serves me correctly, this design was groundbreaking and every one else copied them. I've always enjoyed the isolating aspect as well as the bass response from them.I've used the lifetime warranty a few times over the last 10 years and have had no problems..\n",
      "\n",
      "No. 4 review is: Good quality, flexible with a solid, click connection and awesome price as an add-on.  The packaging was very good from Belkin and I was pleasantly surprised by the Belkin Lifetime Product Warranty..\n",
      "\n",
      "No. 5 review is: Not a fancy remote transmitter but it does its job. It is also lightweight virtually taking up no space in your camera bag, or virtually no weight when attached to your camera strap..\n",
      "\n"
     ]
    }
   ],
   "source": [
    "print('My target review: \\n%s\\n' % (random_text))\n",
    "print('top 5 similar reviews \\n')\n",
    "\n",
    "for i in range(n):\n",
    "    print('No. %d review is: %s.\\n' % (i+1, similar_reviews[i]))"
   ]
  },
  {
   "cell_type": "markdown",
   "metadata": {},
   "source": [
    "#### Logistic Regression prediction model"
   ]
  },
  {
   "cell_type": "code",
   "execution_count": 143,
   "metadata": {
    "ExecuteTime": {
     "end_time": "2019-10-02T19:18:11.292059Z",
     "start_time": "2019-10-02T19:18:10.718994Z"
    }
   },
   "outputs": [
    {
     "name": "stderr",
     "output_type": "stream",
     "text": [
      "C:\\Anaconda\\lib\\site-packages\\sklearn\\linear_model\\logistic.py:432: FutureWarning: Default solver will be changed to 'lbfgs' in 0.22. Specify a solver to silence this warning.\n",
      "  FutureWarning)\n",
      "C:\\Anaconda\\lib\\site-packages\\sklearn\\linear_model\\logistic.py:1544: UserWarning: 'n_jobs' > 1 does not have any effect when 'solver' is set to 'liblinear'. Got 'n_jobs' = 4.\n",
      "  \" = {}.\".format(effective_n_jobs(self.n_jobs)))\n"
     ]
    },
    {
     "name": "stdout",
     "output_type": "stream",
     "text": [
      "[LibLinear]"
     ]
    },
    {
     "data": {
      "text/plain": [
       "LogisticRegression(C=1.0, class_weight=None, dual=False, fit_intercept=True,\n",
       "                   intercept_scaling=1, l1_ratio=None, max_iter=100,\n",
       "                   multi_class='ovr', n_jobs=-1, penalty='l2',\n",
       "                   random_state=None, solver='warn', tol=0.0001, verbose=1,\n",
       "                   warm_start=False)"
      ]
     },
     "execution_count": 143,
     "metadata": {},
     "output_type": "execute_result"
    }
   ],
   "source": [
    "LR = LogisticRegression(multi_class = 'ovr', n_jobs = -1, verbose = 1)\n",
    "\n",
    "LR.fit(X_train_tfidf,y_train)"
   ]
  },
  {
   "cell_type": "code",
   "execution_count": 144,
   "metadata": {
    "ExecuteTime": {
     "end_time": "2019-10-02T19:18:17.067826Z",
     "start_time": "2019-10-02T19:18:16.930161Z"
    }
   },
   "outputs": [
    {
     "name": "stdout",
     "output_type": "stream",
     "text": [
      "The accuracy score for train data set is 0.680286\n"
     ]
    }
   ],
   "source": [
    "print('The accuracy score for train data set is %f' % LR.score(X_train_tfidf,y_train))"
   ]
  },
  {
   "cell_type": "code",
   "execution_count": 146,
   "metadata": {
    "ExecuteTime": {
     "end_time": "2019-10-02T19:18:25.753423Z",
     "start_time": "2019-10-02T19:18:25.697588Z"
    }
   },
   "outputs": [
    {
     "name": "stdout",
     "output_type": "stream",
     "text": [
      "The accuracy score for train data set is 0.645333\n"
     ]
    }
   ],
   "source": [
    "print('The accuracy score for train data set is %f' % LR.score(X_test_tfidf,y_test))"
   ]
  },
  {
   "cell_type": "code",
   "execution_count": 150,
   "metadata": {
    "ExecuteTime": {
     "end_time": "2019-10-02T19:18:46.977610Z",
     "start_time": "2019-10-02T19:18:44.621850Z"
    }
   },
   "outputs": [
    {
     "name": "stderr",
     "output_type": "stream",
     "text": [
      "C:\\Anaconda\\lib\\site-packages\\sklearn\\linear_model\\logistic.py:432: FutureWarning: Default solver will be changed to 'lbfgs' in 0.22. Specify a solver to silence this warning.\n",
      "  FutureWarning)\n",
      "C:\\Anaconda\\lib\\site-packages\\sklearn\\linear_model\\logistic.py:1544: UserWarning: 'n_jobs' > 1 does not have any effect when 'solver' is set to 'liblinear'. Got 'n_jobs' = 4.\n",
      "  \" = {}.\".format(effective_n_jobs(self.n_jobs)))\n"
     ]
    },
    {
     "name": "stdout",
     "output_type": "stream",
     "text": [
      "[LibLinear]"
     ]
    },
    {
     "name": "stderr",
     "output_type": "stream",
     "text": [
      "C:\\Anaconda\\lib\\site-packages\\sklearn\\linear_model\\logistic.py:432: FutureWarning: Default solver will be changed to 'lbfgs' in 0.22. Specify a solver to silence this warning.\n",
      "  FutureWarning)\n",
      "C:\\Anaconda\\lib\\site-packages\\sklearn\\linear_model\\logistic.py:1544: UserWarning: 'n_jobs' > 1 does not have any effect when 'solver' is set to 'liblinear'. Got 'n_jobs' = 4.\n",
      "  \" = {}.\".format(effective_n_jobs(self.n_jobs)))\n"
     ]
    },
    {
     "name": "stdout",
     "output_type": "stream",
     "text": [
      "[LibLinear]"
     ]
    },
    {
     "name": "stderr",
     "output_type": "stream",
     "text": [
      "C:\\Anaconda\\lib\\site-packages\\sklearn\\linear_model\\logistic.py:432: FutureWarning: Default solver will be changed to 'lbfgs' in 0.22. Specify a solver to silence this warning.\n",
      "  FutureWarning)\n",
      "C:\\Anaconda\\lib\\site-packages\\sklearn\\linear_model\\logistic.py:1544: UserWarning: 'n_jobs' > 1 does not have any effect when 'solver' is set to 'liblinear'. Got 'n_jobs' = 4.\n",
      "  \" = {}.\".format(effective_n_jobs(self.n_jobs)))\n"
     ]
    },
    {
     "name": "stdout",
     "output_type": "stream",
     "text": [
      "[LibLinear]"
     ]
    },
    {
     "name": "stderr",
     "output_type": "stream",
     "text": [
      "C:\\Anaconda\\lib\\site-packages\\sklearn\\linear_model\\logistic.py:432: FutureWarning: Default solver will be changed to 'lbfgs' in 0.22. Specify a solver to silence this warning.\n",
      "  FutureWarning)\n",
      "C:\\Anaconda\\lib\\site-packages\\sklearn\\linear_model\\logistic.py:1544: UserWarning: 'n_jobs' > 1 does not have any effect when 'solver' is set to 'liblinear'. Got 'n_jobs' = 4.\n",
      "  \" = {}.\".format(effective_n_jobs(self.n_jobs)))\n"
     ]
    },
    {
     "name": "stdout",
     "output_type": "stream",
     "text": [
      "[LibLinear]"
     ]
    },
    {
     "name": "stderr",
     "output_type": "stream",
     "text": [
      "C:\\Anaconda\\lib\\site-packages\\sklearn\\linear_model\\logistic.py:432: FutureWarning: Default solver will be changed to 'lbfgs' in 0.22. Specify a solver to silence this warning.\n",
      "  FutureWarning)\n",
      "C:\\Anaconda\\lib\\site-packages\\sklearn\\linear_model\\logistic.py:1544: UserWarning: 'n_jobs' > 1 does not have any effect when 'solver' is set to 'liblinear'. Got 'n_jobs' = 4.\n",
      "  \" = {}.\".format(effective_n_jobs(self.n_jobs)))\n"
     ]
    },
    {
     "name": "stdout",
     "output_type": "stream",
     "text": [
      "[LibLinear]Accuracy for Logistic Regression: 0.67\n"
     ]
    }
   ],
   "source": [
    "CV_LR = cross_val_score(LR,X_train_tfidf,y_train,cv=5)\n",
    "print(\"Accuracy for Logistic Regression: %0.2f\" % (CV_LR.mean()))"
   ]
  },
  {
   "cell_type": "markdown",
   "metadata": {},
   "source": [
    "#### Random Forest model"
   ]
  },
  {
   "cell_type": "code",
   "execution_count": 153,
   "metadata": {
    "ExecuteTime": {
     "end_time": "2019-10-02T19:20:30.009207Z",
     "start_time": "2019-10-02T19:20:30.001225Z"
    }
   },
   "outputs": [],
   "source": [
    "RF = RandomForestClassifier(n_estimators = 100,\n",
    "                               max_depth = 25,\n",
    "                               min_samples_split = 10,\n",
    "                               min_samples_leaf = 10,\n",
    "                               n_jobs= -1,\n",
    "                               random_state = 1,\n",
    "                               verbose = 0)"
   ]
  },
  {
   "cell_type": "code",
   "execution_count": 160,
   "metadata": {
    "ExecuteTime": {
     "end_time": "2019-10-02T19:23:46.106438Z",
     "start_time": "2019-10-02T19:23:40.213831Z"
    }
   },
   "outputs": [
    {
     "data": {
      "text/plain": [
       "RandomForestClassifier(bootstrap=True, class_weight=None, criterion='gini',\n",
       "                       max_depth=25, max_features='auto', max_leaf_nodes=None,\n",
       "                       min_impurity_decrease=0.0, min_impurity_split=None,\n",
       "                       min_samples_leaf=10, min_samples_split=10,\n",
       "                       min_weight_fraction_leaf=0.0, n_estimators=100,\n",
       "                       n_jobs=-1, oob_score=False, random_state=1, verbose=0,\n",
       "                       warm_start=False)"
      ]
     },
     "execution_count": 160,
     "metadata": {},
     "output_type": "execute_result"
    }
   ],
   "source": [
    "RF.fit(X_train_tfidf,y_train)"
   ]
  },
  {
   "cell_type": "code",
   "execution_count": 161,
   "metadata": {
    "ExecuteTime": {
     "end_time": "2019-10-02T19:23:46.868583Z",
     "start_time": "2019-10-02T19:23:46.361813Z"
    }
   },
   "outputs": [
    {
     "name": "stdout",
     "output_type": "stream",
     "text": [
      "The accuracy score for train data set is 0.666000\n"
     ]
    }
   ],
   "source": [
    "print('The accuracy score for train data set is %f' % RF.score(X_train_tfidf,y_train))"
   ]
  },
  {
   "cell_type": "code",
   "execution_count": 162,
   "metadata": {
    "ExecuteTime": {
     "end_time": "2019-10-02T19:23:49.517475Z",
     "start_time": "2019-10-02T19:23:49.304129Z"
    }
   },
   "outputs": [
    {
     "name": "stdout",
     "output_type": "stream",
     "text": [
      "The accuracy score for train data set is 0.642000\n"
     ]
    }
   ],
   "source": [
    "print('The accuracy score for train data set is %f' % RF.score(X_test_tfidf,y_test))"
   ]
  },
  {
   "cell_type": "code",
   "execution_count": 164,
   "metadata": {
    "ExecuteTime": {
     "end_time": "2019-10-02T19:26:04.471191Z",
     "start_time": "2019-10-02T19:25:30.324205Z"
    }
   },
   "outputs": [
    {
     "name": "stdout",
     "output_type": "stream",
     "text": [
      "Accuracy for Random Forest Model: 0.67\n"
     ]
    }
   ],
   "source": [
    "CV_RF = cross_val_score(RF,X_train_tfidf,y_train,cv=5)\n",
    "print(\"Accuracy for Random Forest Model: %0.2f\" % (CV_RF.mean()))"
   ]
  },
  {
   "cell_type": "markdown",
   "metadata": {},
   "source": [
    "#### Further analysis"
   ]
  },
  {
   "cell_type": "code",
   "execution_count": 147,
   "metadata": {
    "ExecuteTime": {
     "end_time": "2019-10-02T19:18:29.471930Z",
     "start_time": "2019-10-02T19:18:29.464945Z"
    }
   },
   "outputs": [
    {
     "name": "stdout",
     "output_type": "stream",
     "text": [
      "Top 20 negative words by ranking are:\n",
      "waste, maybe, return, didn, did, useless, windows, refund, money, ordered, doesnt, seller, tried, plug, amazon, thing, trash, immediately, work, time.\n"
     ]
    }
   ],
   "source": [
    "print ('Top 20 negative words by ranking are:\\n%s.' % (\", \".join(i for i in get_similar_reviews(LR.coef_[0], 20, features)))) "
   ]
  },
  {
   "cell_type": "code",
   "execution_count": 105,
   "metadata": {
    "ExecuteTime": {
     "end_time": "2019-10-02T15:54:36.765676Z",
     "start_time": "2019-10-02T15:54:36.744739Z"
    }
   },
   "outputs": [],
   "source": [
    "def get_bottom_values(lst, n, labels):\n",
    "    #Given a list of values, find the indices with the lowest n values.\n",
    "    #Return the labels for each of these indices.\n",
    "    return [labels[i] for i in np.argsort(lst)[:n]] "
   ]
  },
  {
   "cell_type": "code",
   "execution_count": 149,
   "metadata": {
    "ExecuteTime": {
     "end_time": "2019-10-02T19:18:40.348948Z",
     "start_time": "2019-10-02T19:18:40.341969Z"
    }
   },
   "outputs": [
    {
     "name": "stdout",
     "output_type": "stream",
     "text": [
      "Top 20 words by ranking are great, works, price, good, lens, needed, love, camera, like, quality.\n"
     ]
    }
   ],
   "source": [
    "print ('Top 20 words by ranking are %s.' % (\", \".join(i for i in get_bottom_values(LR.coef_[0], 10, features)))) "
   ]
  }
 ],
 "metadata": {
  "kernelspec": {
   "display_name": "Python 3",
   "language": "python",
   "name": "python3"
  },
  "language_info": {
   "codemirror_mode": {
    "name": "ipython",
    "version": 3
   },
   "file_extension": ".py",
   "mimetype": "text/x-python",
   "name": "python",
   "nbconvert_exporter": "python",
   "pygments_lexer": "ipython3",
   "version": "3.6.5"
  },
  "varInspector": {
   "cols": {
    "lenName": 16,
    "lenType": 16,
    "lenVar": 40
   },
   "kernels_config": {
    "python": {
     "delete_cmd_postfix": "",
     "delete_cmd_prefix": "del ",
     "library": "var_list.py",
     "varRefreshCmd": "print(var_dic_list())"
    },
    "r": {
     "delete_cmd_postfix": ") ",
     "delete_cmd_prefix": "rm(",
     "library": "var_list.r",
     "varRefreshCmd": "cat(var_dic_list()) "
    }
   },
   "types_to_exclude": [
    "module",
    "function",
    "builtin_function_or_method",
    "instance",
    "_Feature"
   ],
   "window_display": false
  }
 },
 "nbformat": 4,
 "nbformat_minor": 2
}
