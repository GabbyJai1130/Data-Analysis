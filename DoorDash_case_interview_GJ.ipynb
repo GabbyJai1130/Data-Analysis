{
 "cells": [
  {
   "cell_type": "code",
   "execution_count": 619,
   "metadata": {
    "ExecuteTime": {
     "end_time": "2020-06-09T11:22:50.091223Z",
     "start_time": "2020-06-09T11:22:50.084241Z"
    }
   },
   "outputs": [],
   "source": [
    "import numpy as np\n",
    "import pandas as pd\n",
    "import matplotlib.pyplot as plt\n",
    "import seaborn as sns\n",
    "from datetime import datetime, date\n",
    "\n",
    "import statsmodels.api as sm"
   ]
  },
  {
   "cell_type": "code",
   "execution_count": 343,
   "metadata": {
    "ExecuteTime": {
     "end_time": "2020-06-09T02:42:18.880596Z",
     "start_time": "2020-06-09T02:42:18.869624Z"
    }
   },
   "outputs": [],
   "source": [
    "def get_time_diff(column1, column2):\n",
    "    \n",
    "    Format = '%d %H:%M:%S'\n",
    "    col1 = []\n",
    "    col2 = []\n",
    "    for a,b in zip(column1, column2):\n",
    "        col1.append(datetime.strptime(a,Format))\n",
    "        col2.append(datetime.strptime(b,Format))\n",
    "        \n",
    "    time_diff = [b-a for a,b in zip(col1,col2)]\n",
    "    return time_diff"
   ]
  },
  {
   "cell_type": "code",
   "execution_count": 771,
   "metadata": {
    "ExecuteTime": {
     "end_time": "2020-06-09T13:29:48.704817Z",
     "start_time": "2020-06-09T13:29:48.675900Z"
    }
   },
   "outputs": [],
   "source": [
    "def import_data():\n",
    "    df = pd.read_excel('MOS_Assignment_Case_Study.xlsx')\n",
    "    df.drop(['Unnamed: 13','Unnamed: 14','Unnamed: 15','Unnamed: 16'],axis=1,inplace = True)\n",
    "    df['date'] = '2020-05-'+df['Customer placed order datetime'].apply(lambda x: x.split(' ')[0])\n",
    "    df['date'] = pd.to_datetime(df['date'])\n",
    "    df['day_of_week'] = df['date'].apply(lambda x: x.weekday())\n",
    "    \n",
    "    df.dropna(subset=['Placed order with restaurant datetime'],axis= 0,inplace=True)\n",
    "    \n",
    "    df['Cust_Rest_order_diff'] = get_time_diff(df['Customer placed order datetime'],df['Placed order with restaurant datetime'])\n",
    "    df['Cust_Rest_order_diff'] =df['Cust_Rest_order_diff'].apply(lambda x: x.seconds/60)\n",
    "    \n",
    "    df['Total_delivery_time'] = get_time_diff(df['Customer placed order datetime'],df['Delivered to consumer datetime'])\n",
    "    df['Total_delivery_time'] = df['Total_delivery_time'].apply(lambda x: x.seconds/60)\n",
    "    \n",
    "    df['Rest_to_cust_time'] = df['Total_delivery_time'] - df['Cust_Rest_order_diff']\n",
    "    \n",
    "    df['Customer placed order datetime'] = df['Customer placed order datetime'].apply(lambda x: x.split(' ')[1])\n",
    "    df['Customer placed order datetime'] = pd.to_datetime(df['Customer placed order datetime'], format='%H:%M:%S').dt.time\n",
    "    \n",
    "    df['Placed order with restaurant datetime'] = pd.to_datetime(df['Placed order with restaurant datetime'],format = '%d %H:%M:%S').dt.time\n",
    "    \n",
    "    df['Driver at restaurant datetime']= pd.to_datetime(df['Driver at restaurant datetime'],format = '%d %H:%M:%S').dt.time\n",
    "    \n",
    "    df['Delivered to consumer datetime']= pd.to_datetime(df['Delivered to consumer datetime'],format = '%d %H:%M:%S').dt.time\n",
    "    \n",
    "    \n",
    "    df['revenue'] = df['Order total'] - df['Amount of discount'] - df['Refunded amount']\n",
    "    \n",
    "    df = df[['date','day_of_week','Hour',\n",
    "             'Customer placed order datetime',\n",
    "             'Placed order with restaurant datetime',\n",
    "             'Driver at restaurant datetime', 'Delivered to consumer datetime',\n",
    "             'Cust_Rest_order_diff','Rest_to_cust_time','Total_delivery_time',\n",
    "             'Driver ID', 'Restaurant ID', 'Consumer ID', \n",
    "             'Delivery Region','Is ASAP', \n",
    "             'Order total', 'Amount of discount', 'Amount of tip','Refunded amount','revenue']]\n",
    "    \n",
    "    df.reset_index(drop=True,inplace=True)\n",
    "    print('data has been imported')\n",
    "    \n",
    "    return df"
   ]
  },
  {
   "cell_type": "code",
   "execution_count": 337,
   "metadata": {
    "ExecuteTime": {
     "end_time": "2020-06-09T02:40:09.263422Z",
     "start_time": "2020-06-09T02:40:09.235497Z"
    }
   },
   "outputs": [],
   "source": [
    "# For R score, lower the score the more valuable the customer is \n",
    "def RScore(R,re,q):\n",
    "    if R <= q[re][0.25]:\n",
    "        return 4\n",
    "    elif R <= q[re][0.50]:\n",
    "        return 3\n",
    "    elif R <= q[re][0.75]: \n",
    "        return 2\n",
    "    else:\n",
    "        return 1\n",
    "\n",
    "# For F&M score, higher the score the more valuable the customer is    \n",
    "def FMScore(x,p,d):\n",
    "    if x <= d[p][0.25]:\n",
    "        return 1\n",
    "    elif x <= d[p][0.50]:\n",
    "        return 2\n",
    "    elif x <= d[p][0.75]: \n",
    "        return 3\n",
    "    else:\n",
    "        return 4"
   ]
  },
  {
   "cell_type": "code",
   "execution_count": 772,
   "metadata": {
    "ExecuteTime": {
     "end_time": "2020-06-09T13:30:07.625578Z",
     "start_time": "2020-06-09T13:29:51.351991Z"
    }
   },
   "outputs": [
    {
     "name": "stdout",
     "output_type": "stream",
     "text": [
      "data has been imported\n"
     ]
    }
   ],
   "source": [
    "df = import_data()"
   ]
  },
  {
   "cell_type": "markdown",
   "metadata": {
    "ExecuteTime": {
     "end_time": "2020-06-08T19:19:43.388196Z",
     "start_time": "2020-06-08T19:19:43.383211Z"
    }
   },
   "source": [
    "#### Q1) Which city did the most orders in our data set and how many orders did they complete?"
   ]
  },
  {
   "cell_type": "code",
   "execution_count": 66,
   "metadata": {
    "ExecuteTime": {
     "end_time": "2020-06-08T20:43:15.075361Z",
     "start_time": "2020-06-08T20:43:15.027113Z"
    }
   },
   "outputs": [
    {
     "data": {
      "text/html": [
       "<div>\n",
       "<style scoped>\n",
       "    .dataframe tbody tr th:only-of-type {\n",
       "        vertical-align: middle;\n",
       "    }\n",
       "\n",
       "    .dataframe tbody tr th {\n",
       "        vertical-align: top;\n",
       "    }\n",
       "\n",
       "    .dataframe thead th {\n",
       "        text-align: right;\n",
       "    }\n",
       "</style>\n",
       "<table border=\"1\" class=\"dataframe\">\n",
       "  <thead>\n",
       "    <tr style=\"text-align: right;\">\n",
       "      <th></th>\n",
       "      <th>Orders count</th>\n",
       "      <th>Orders sum</th>\n",
       "    </tr>\n",
       "    <tr>\n",
       "      <th>Delivery Region</th>\n",
       "      <th></th>\n",
       "      <th></th>\n",
       "    </tr>\n",
       "  </thead>\n",
       "  <tbody>\n",
       "    <tr>\n",
       "      <th>Palo Alto</th>\n",
       "      <td>11433</td>\n",
       "      <td>600034.18</td>\n",
       "    </tr>\n",
       "    <tr>\n",
       "      <th>Mountain View</th>\n",
       "      <td>3760</td>\n",
       "      <td>195792.37</td>\n",
       "    </tr>\n",
       "    <tr>\n",
       "      <th>San Jose</th>\n",
       "      <td>2859</td>\n",
       "      <td>125045.32</td>\n",
       "    </tr>\n",
       "    <tr>\n",
       "      <th>None</th>\n",
       "      <td>26</td>\n",
       "      <td>5833.46</td>\n",
       "    </tr>\n",
       "  </tbody>\n",
       "</table>\n",
       "</div>"
      ],
      "text/plain": [
       "                 Orders count  Orders sum\n",
       "Delivery Region                          \n",
       "Palo Alto               11433   600034.18\n",
       "Mountain View            3760   195792.37\n",
       "San Jose                 2859   125045.32\n",
       "None                       26     5833.46"
      ]
     },
     "execution_count": 66,
     "metadata": {},
     "output_type": "execute_result"
    }
   ],
   "source": [
    "city_order = df.groupby('Delivery Region')['Order total'].agg(['count','sum']).sort_values(by='sum',ascending=False)\n",
    "city_order.columns = ['Orders count', 'Orders sum']\n",
    "\n",
    "city_order"
   ]
  },
  {
   "cell_type": "markdown",
   "metadata": {
    "ExecuteTime": {
     "end_time": "2020-06-08T19:20:34.731045Z",
     "start_time": "2020-06-08T19:20:34.727057Z"
    }
   },
   "source": [
    "#### Q2) Which city did the most ASAP orders in our data set and how many did they complete?"
   ]
  },
  {
   "cell_type": "code",
   "execution_count": 67,
   "metadata": {
    "ExecuteTime": {
     "end_time": "2020-06-08T20:43:17.575321Z",
     "start_time": "2020-06-08T20:43:17.522460Z"
    }
   },
   "outputs": [
    {
     "data": {
      "text/html": [
       "<div>\n",
       "<style scoped>\n",
       "    .dataframe tbody tr th:only-of-type {\n",
       "        vertical-align: middle;\n",
       "    }\n",
       "\n",
       "    .dataframe tbody tr th {\n",
       "        vertical-align: top;\n",
       "    }\n",
       "\n",
       "    .dataframe thead th {\n",
       "        text-align: right;\n",
       "    }\n",
       "</style>\n",
       "<table border=\"1\" class=\"dataframe\">\n",
       "  <thead>\n",
       "    <tr style=\"text-align: right;\">\n",
       "      <th></th>\n",
       "      <th>ASAP orders count</th>\n",
       "      <th>Orders sum</th>\n",
       "    </tr>\n",
       "    <tr>\n",
       "      <th>Delivery Region</th>\n",
       "      <th></th>\n",
       "      <th></th>\n",
       "    </tr>\n",
       "  </thead>\n",
       "  <tbody>\n",
       "    <tr>\n",
       "      <th>Palo Alto</th>\n",
       "      <td>8877</td>\n",
       "      <td>389505.24</td>\n",
       "    </tr>\n",
       "    <tr>\n",
       "      <th>Mountain View</th>\n",
       "      <td>3067</td>\n",
       "      <td>138982.81</td>\n",
       "    </tr>\n",
       "    <tr>\n",
       "      <th>San Jose</th>\n",
       "      <td>2491</td>\n",
       "      <td>106185.99</td>\n",
       "    </tr>\n",
       "  </tbody>\n",
       "</table>\n",
       "</div>"
      ],
      "text/plain": [
       "                 ASAP orders count  Orders sum\n",
       "Delivery Region                               \n",
       "Palo Alto                     8877   389505.24\n",
       "Mountain View                 3067   138982.81\n",
       "San Jose                      2491   106185.99"
      ]
     },
     "execution_count": 67,
     "metadata": {},
     "output_type": "execute_result"
    }
   ],
   "source": [
    "df_asap = df[df['Is ASAP']==True]\n",
    "city_order_asap = df_asap.groupby('Delivery Region')['Order total'].agg(['count','sum']).sort_values(by='sum',\n",
    "                                                                                                     ascending=False)\n",
    "city_order_asap.columns = ['ASAP orders count', 'Orders sum']\n",
    "\n",
    "city_order_asap"
   ]
  },
  {
   "cell_type": "markdown",
   "metadata": {},
   "source": [
    "#### Q3) Create a line graph showing order volume by hour of day (customer placed order)?"
   ]
  },
  {
   "cell_type": "code",
   "execution_count": 81,
   "metadata": {
    "ExecuteTime": {
     "end_time": "2020-06-08T20:47:01.926163Z",
     "start_time": "2020-06-08T20:47:01.078609Z"
    }
   },
   "outputs": [
    {
     "data": {
      "image/png": "[encoded data removed]",
      "text/plain": [
       "<Figure size 576x576 with 1 Axes>"
      ]
     },
     "metadata": {
      "needs_background": "light"
     },
     "output_type": "display_data"
    }
   ],
   "source": [
    "order_by_hour = df.groupby('Hour')['Customer placed order datetime'].count()\n",
    "\n",
    "figure,ax = plt.subplots(figsize=(8,8))\n",
    "sns.lineplot(order_by_hour.index,order_by_hour.values,markers=True,ax=ax)\n",
    "df.groupby('Hour')['Customer placed order datetime'].count().plot(kind='bar',color='blue',alpha=0.5,ax=ax,legend=False)\n",
    "plt.title('Order volume by hour of day')\n",
    "plt.xticks(np.arange(0,24),rotation=360)\n",
    "plt.savefig('DoorDash_case_interview_Q3.png')"
   ]
  },
  {
   "cell_type": "markdown",
   "metadata": {
    "ExecuteTime": {
     "end_time": "2020-06-08T20:48:37.222674Z",
     "start_time": "2020-06-08T20:48:37.217686Z"
    }
   },
   "source": [
    "#### Q4 3 Analyses of the dataset"
   ]
  },
  {
   "cell_type": "markdown",
   "metadata": {},
   "source": [
    "<b> Loyal customers - RFM Model</b>"
   ]
  },
  {
   "cell_type": "code",
   "execution_count": 370,
   "metadata": {
    "ExecuteTime": {
     "end_time": "2020-06-09T02:51:55.319229Z",
     "start_time": "2020-06-09T02:51:52.851733Z"
    }
   },
   "outputs": [
    {
     "name": "stderr",
     "output_type": "stream",
     "text": [
      "C:\\Anaconda\\envs\\GJ\\lib\\site-packages\\ipykernel_launcher.py:10: FutureWarning: Indexing with multiple keys (implicitly converted to a tuple of keys) will be deprecated, use a list instead.\n",
      "  # Remove the CWD from sys.path while we load stuff.\n"
     ]
    }
   ],
   "source": [
    "# Assume the current date to be 1st June, 2020\n",
    "current_date = datetime(2020,6,1)\n",
    "\n",
    "# Compute recency, which is the latest date when customer placed order\n",
    "customers_R = df.groupby('Consumer ID')['date'].max().reset_index()\n",
    "customers_R['recency'] =  current_date - customers_R['date']\n",
    "customers_R['recency'] = customers_R['recency'].apply(lambda x: x.days)\n",
    "\n",
    "# Compute frequency of order customer has placed \n",
    "customers_F = df.groupby('Consumer ID')['Order total'].count().reset_index()\n",
    "\n",
    "# Compute the total amount of money each customer spent\n",
    "customers_M = df.groupby('Consumer ID')['Customer placed order datetime'].max()\n",
    "customers_M = df.groupby('Consumer ID')['Order total','Amount of discount'].sum().reset_index()\n",
    "customers_M['monetary'] = customers_M['Order total'] - customers_M['Amount of discount']\n",
    "\n",
    "# Group all the above dateset \n",
    "df_customers = pd.concat([\n",
    "    customers_R[['Consumer ID','recency']],\n",
    "    customers_F['Order total'],\n",
    "    customers_M['monetary']],\n",
    "    axis=1)\n",
    "\n",
    "# Compute the RFM score\n",
    "RFM_Quantile = df_customers.iloc[:,1:].quantile([.25,.5,.75]).to_dict()\n",
    "\n",
    "df_customers['R_score'] = df_customers['recency'].apply(lambda x: RScore(x,'recency',Quantile))\n",
    "df_customers['F_score'] = df_customers['Order total'].apply(lambda x: FMScore(x,'Order total',Quantile))\n",
    "df_customers['M_score'] = df_customers['monetary'].apply(lambda x: FMScore(x,'monetary',Quantile))\n",
    "df_customers['RFM_score'] = df_customers['R_score'].map(str)+\\\n",
    "                            df_customers['F_score'].map(str)+\\\n",
    "                            df_customers['M_score'].map(str)\n",
    "\n",
    "# For demonstration purpose, only the most valuable customers are selected to brief analysis\n",
    "loyal_customers = pd.DataFrame(df_customers[df_customers['RFM_score']=='444']['Consumer ID'].reset_index(drop=True))\n",
    "\n",
    "df_loyal_customers = loyal_customers.merge(df,how='left',on='Consumer ID')"
   ]
  },
  {
   "cell_type": "code",
   "execution_count": 371,
   "metadata": {
    "ExecuteTime": {
     "end_time": "2020-06-09T02:52:01.301957Z",
     "start_time": "2020-06-09T02:52:01.251162Z"
    }
   },
   "outputs": [
    {
     "name": "stdout",
     "output_type": "stream",
     "text": [
      "the top 10 loyal customers with most orders amount and average spending:\n"
     ]
    },
    {
     "data": {
      "text/html": [
       "<div>\n",
       "<style scoped>\n",
       "    .dataframe tbody tr th:only-of-type {\n",
       "        vertical-align: middle;\n",
       "    }\n",
       "\n",
       "    .dataframe tbody tr th {\n",
       "        vertical-align: top;\n",
       "    }\n",
       "\n",
       "    .dataframe thead th {\n",
       "        text-align: right;\n",
       "    }\n",
       "</style>\n",
       "<table border=\"1\" class=\"dataframe\">\n",
       "  <thead>\n",
       "    <tr style=\"text-align: right;\">\n",
       "      <th></th>\n",
       "      <th>count</th>\n",
       "      <th>mean</th>\n",
       "    </tr>\n",
       "    <tr>\n",
       "      <th>Consumer ID</th>\n",
       "      <th></th>\n",
       "      <th></th>\n",
       "    </tr>\n",
       "  </thead>\n",
       "  <tbody>\n",
       "    <tr>\n",
       "      <th>929</th>\n",
       "      <td>50</td>\n",
       "      <td>199.328200</td>\n",
       "    </tr>\n",
       "    <tr>\n",
       "      <th>11956</th>\n",
       "      <td>46</td>\n",
       "      <td>30.759130</td>\n",
       "    </tr>\n",
       "    <tr>\n",
       "      <th>2469</th>\n",
       "      <td>43</td>\n",
       "      <td>38.237907</td>\n",
       "    </tr>\n",
       "    <tr>\n",
       "      <th>4087</th>\n",
       "      <td>39</td>\n",
       "      <td>61.560256</td>\n",
       "    </tr>\n",
       "    <tr>\n",
       "      <th>22183</th>\n",
       "      <td>36</td>\n",
       "      <td>35.466667</td>\n",
       "    </tr>\n",
       "    <tr>\n",
       "      <th>8000</th>\n",
       "      <td>35</td>\n",
       "      <td>94.054571</td>\n",
       "    </tr>\n",
       "    <tr>\n",
       "      <th>6245</th>\n",
       "      <td>33</td>\n",
       "      <td>104.783636</td>\n",
       "    </tr>\n",
       "    <tr>\n",
       "      <th>13018</th>\n",
       "      <td>27</td>\n",
       "      <td>106.506667</td>\n",
       "    </tr>\n",
       "    <tr>\n",
       "      <th>14043</th>\n",
       "      <td>27</td>\n",
       "      <td>125.030370</td>\n",
       "    </tr>\n",
       "    <tr>\n",
       "      <th>8405</th>\n",
       "      <td>25</td>\n",
       "      <td>46.102400</td>\n",
       "    </tr>\n",
       "  </tbody>\n",
       "</table>\n",
       "</div>"
      ],
      "text/plain": [
       "             count        mean\n",
       "Consumer ID                   \n",
       "929             50  199.328200\n",
       "11956           46   30.759130\n",
       "2469            43   38.237907\n",
       "4087            39   61.560256\n",
       "22183           36   35.466667\n",
       "8000            35   94.054571\n",
       "6245            33  104.783636\n",
       "13018           27  106.506667\n",
       "14043           27  125.030370\n",
       "8405            25   46.102400"
      ]
     },
     "execution_count": 371,
     "metadata": {},
     "output_type": "execute_result"
    }
   ],
   "source": [
    "print('the top 10 loyal customers with most orders amount and average spending:')\n",
    "Most_order_customer = df_loyal_customers.groupby('Consumer ID')['Order total'].agg(['count','mean']).sort_values('count',ascending=False).head(10)\n",
    "Most_order_customer"
   ]
  },
  {
   "cell_type": "code",
   "execution_count": 372,
   "metadata": {
    "ExecuteTime": {
     "end_time": "2020-06-09T02:52:11.473313Z",
     "start_time": "2020-06-09T02:52:11.445385Z"
    }
   },
   "outputs": [
    {
     "name": "stdout",
     "output_type": "stream",
     "text": [
      "the top 10 loyal customers wwho gives the highest average amount of tips:\n"
     ]
    },
    {
     "data": {
      "text/html": [
       "<div>\n",
       "<style scoped>\n",
       "    .dataframe tbody tr th:only-of-type {\n",
       "        vertical-align: middle;\n",
       "    }\n",
       "\n",
       "    .dataframe tbody tr th {\n",
       "        vertical-align: top;\n",
       "    }\n",
       "\n",
       "    .dataframe thead th {\n",
       "        text-align: right;\n",
       "    }\n",
       "</style>\n",
       "<table border=\"1\" class=\"dataframe\">\n",
       "  <thead>\n",
       "    <tr style=\"text-align: right;\">\n",
       "      <th></th>\n",
       "      <th>Consumer ID</th>\n",
       "      <th>Amount of tip</th>\n",
       "    </tr>\n",
       "  </thead>\n",
       "  <tbody>\n",
       "    <tr>\n",
       "      <th>0</th>\n",
       "      <td>6711</td>\n",
       "      <td>22.788333</td>\n",
       "    </tr>\n",
       "    <tr>\n",
       "      <th>1</th>\n",
       "      <td>3392</td>\n",
       "      <td>20.406667</td>\n",
       "    </tr>\n",
       "    <tr>\n",
       "      <th>2</th>\n",
       "      <td>959</td>\n",
       "      <td>18.826364</td>\n",
       "    </tr>\n",
       "    <tr>\n",
       "      <th>3</th>\n",
       "      <td>1011</td>\n",
       "      <td>16.687143</td>\n",
       "    </tr>\n",
       "    <tr>\n",
       "      <th>4</th>\n",
       "      <td>1173</td>\n",
       "      <td>15.170000</td>\n",
       "    </tr>\n",
       "    <tr>\n",
       "      <th>5</th>\n",
       "      <td>2512</td>\n",
       "      <td>14.780000</td>\n",
       "    </tr>\n",
       "    <tr>\n",
       "      <th>6</th>\n",
       "      <td>888</td>\n",
       "      <td>14.220000</td>\n",
       "    </tr>\n",
       "    <tr>\n",
       "      <th>7</th>\n",
       "      <td>10294</td>\n",
       "      <td>13.992857</td>\n",
       "    </tr>\n",
       "    <tr>\n",
       "      <th>8</th>\n",
       "      <td>91848</td>\n",
       "      <td>13.884444</td>\n",
       "    </tr>\n",
       "    <tr>\n",
       "      <th>9</th>\n",
       "      <td>13489</td>\n",
       "      <td>13.567500</td>\n",
       "    </tr>\n",
       "  </tbody>\n",
       "</table>\n",
       "</div>"
      ],
      "text/plain": [
       "   Consumer ID  Amount of tip\n",
       "0         6711      22.788333\n",
       "1         3392      20.406667\n",
       "2          959      18.826364\n",
       "3         1011      16.687143\n",
       "4         1173      15.170000\n",
       "5         2512      14.780000\n",
       "6          888      14.220000\n",
       "7        10294      13.992857\n",
       "8        91848      13.884444\n",
       "9        13489      13.567500"
      ]
     },
     "execution_count": 372,
     "metadata": {},
     "output_type": "execute_result"
    }
   ],
   "source": [
    "print('the top 10 loyal customers wwho gives the highest average amount of tips:')\n",
    "Most_tips_customer = df_loyal_customers.groupby('Consumer ID',as_index=False)['Amount of tip'].mean().sort_values('Amount of tip',ascending=False).head(10)\n",
    "Most_tips_customer.reset_index(drop=True,inplace=True)\n",
    "Most_tips_customer"
   ]
  },
  {
   "cell_type": "code",
   "execution_count": 373,
   "metadata": {
    "ExecuteTime": {
     "end_time": "2020-06-09T02:52:14.450119Z",
     "start_time": "2020-06-09T02:52:14.424187Z"
    }
   },
   "outputs": [
    {
     "name": "stdout",
     "output_type": "stream",
     "text": [
      "the top 10 restaurants where the loyal customers like to visit:\n"
     ]
    },
    {
     "data": {
      "text/html": [
       "<div>\n",
       "<style scoped>\n",
       "    .dataframe tbody tr th:only-of-type {\n",
       "        vertical-align: middle;\n",
       "    }\n",
       "\n",
       "    .dataframe tbody tr th {\n",
       "        vertical-align: top;\n",
       "    }\n",
       "\n",
       "    .dataframe thead th {\n",
       "        text-align: right;\n",
       "    }\n",
       "</style>\n",
       "<table border=\"1\" class=\"dataframe\">\n",
       "  <thead>\n",
       "    <tr style=\"text-align: right;\">\n",
       "      <th></th>\n",
       "      <th>Restaurant ID</th>\n",
       "      <th>Frequency</th>\n",
       "    </tr>\n",
       "  </thead>\n",
       "  <tbody>\n",
       "    <tr>\n",
       "      <th>0</th>\n",
       "      <td>8</td>\n",
       "      <td>348</td>\n",
       "    </tr>\n",
       "    <tr>\n",
       "      <th>1</th>\n",
       "      <td>9</td>\n",
       "      <td>291</td>\n",
       "    </tr>\n",
       "    <tr>\n",
       "      <th>2</th>\n",
       "      <td>20</td>\n",
       "      <td>215</td>\n",
       "    </tr>\n",
       "    <tr>\n",
       "      <th>3</th>\n",
       "      <td>12</td>\n",
       "      <td>195</td>\n",
       "    </tr>\n",
       "    <tr>\n",
       "      <th>4</th>\n",
       "      <td>107</td>\n",
       "      <td>190</td>\n",
       "    </tr>\n",
       "    <tr>\n",
       "      <th>5</th>\n",
       "      <td>63</td>\n",
       "      <td>172</td>\n",
       "    </tr>\n",
       "    <tr>\n",
       "      <th>6</th>\n",
       "      <td>68</td>\n",
       "      <td>159</td>\n",
       "    </tr>\n",
       "    <tr>\n",
       "      <th>7</th>\n",
       "      <td>10</td>\n",
       "      <td>134</td>\n",
       "    </tr>\n",
       "    <tr>\n",
       "      <th>8</th>\n",
       "      <td>83</td>\n",
       "      <td>112</td>\n",
       "    </tr>\n",
       "    <tr>\n",
       "      <th>9</th>\n",
       "      <td>43</td>\n",
       "      <td>110</td>\n",
       "    </tr>\n",
       "  </tbody>\n",
       "</table>\n",
       "</div>"
      ],
      "text/plain": [
       "   Restaurant ID  Frequency\n",
       "0              8        348\n",
       "1              9        291\n",
       "2             20        215\n",
       "3             12        195\n",
       "4            107        190\n",
       "5             63        172\n",
       "6             68        159\n",
       "7             10        134\n",
       "8             83        112\n",
       "9             43        110"
      ]
     },
     "execution_count": 373,
     "metadata": {},
     "output_type": "execute_result"
    }
   ],
   "source": [
    "print('the top 10 restaurants where the loyal customers like to visit:')\n",
    "Top_restaurants = df_loyal_customers.groupby('Restaurant ID',as_index=False)['Consumer ID'].count().sort_values('Consumer ID',ascending=False).head(10)\n",
    "Top_restaurants.reset_index(drop=True,inplace=True)\n",
    "Top_restaurants.columns =['Restaurant ID','Frequency']\n",
    "Top_restaurants"
   ]
  },
  {
   "cell_type": "markdown",
   "metadata": {
    "ExecuteTime": {
     "end_time": "2020-06-09T04:04:57.004674Z",
     "start_time": "2020-06-09T04:04:56.995699Z"
    }
   },
   "source": [
    "<b> The cuase of refund </b>"
   ]
  },
  {
   "cell_type": "code",
   "execution_count": 685,
   "metadata": {
    "ExecuteTime": {
     "end_time": "2020-06-09T11:55:18.986111Z",
     "start_time": "2020-06-09T11:55:18.977138Z"
    }
   },
   "outputs": [],
   "source": [
    "# Select the orders with refund requests\n",
    "refunded_order = df[df['Refunded amount']>0]\n",
    "refunded_order.reset_index(drop=True,inplace=True)"
   ]
  },
  {
   "cell_type": "code",
   "execution_count": 811,
   "metadata": {
    "ExecuteTime": {
     "end_time": "2020-06-09T14:58:10.934596Z",
     "start_time": "2020-06-09T14:58:10.247433Z"
    }
   },
   "outputs": [
    {
     "data": {
      "text/plain": [
       "Text(0.5, 1.0, 'distribution of refunded amount')"
      ]
     },
     "execution_count": 811,
     "metadata": {},
     "output_type": "execute_result"
    },
    {
     "data": {
      "image/png": "[encoded data removed]",
      "text/plain": [
       "<Figure size 432x288 with 1 Axes>"
      ]
     },
     "metadata": {
      "needs_background": "light"
     },
     "output_type": "display_data"
    }
   ],
   "source": [
    "plt.hist(refunded_order['Refunded amount'],bins=20,range=(0,100))\n",
    "plt.title('distribution of refunded amount')"
   ]
  },
  {
   "cell_type": "code",
   "execution_count": 687,
   "metadata": {
    "ExecuteTime": {
     "end_time": "2020-06-09T11:55:26.777634Z",
     "start_time": "2020-06-09T11:55:26.746711Z"
    }
   },
   "outputs": [
    {
     "name": "stdout",
     "output_type": "stream",
     "text": [
      "Top 10 Restaurant with most refund in descending order by total amount\n"
     ]
    },
    {
     "data": {
      "text/html": [
       "<div>\n",
       "<style scoped>\n",
       "    .dataframe tbody tr th:only-of-type {\n",
       "        vertical-align: middle;\n",
       "    }\n",
       "\n",
       "    .dataframe tbody tr th {\n",
       "        vertical-align: top;\n",
       "    }\n",
       "\n",
       "    .dataframe thead th {\n",
       "        text-align: right;\n",
       "    }\n",
       "</style>\n",
       "<table border=\"1\" class=\"dataframe\">\n",
       "  <thead>\n",
       "    <tr style=\"text-align: right;\">\n",
       "      <th></th>\n",
       "      <th>Restaurant ID</th>\n",
       "      <th>count</th>\n",
       "      <th>sum</th>\n",
       "    </tr>\n",
       "  </thead>\n",
       "  <tbody>\n",
       "    <tr>\n",
       "      <th>13</th>\n",
       "      <td>20</td>\n",
       "      <td>36</td>\n",
       "      <td>822.27</td>\n",
       "    </tr>\n",
       "    <tr>\n",
       "      <th>37</th>\n",
       "      <td>63</td>\n",
       "      <td>10</td>\n",
       "      <td>757.88</td>\n",
       "    </tr>\n",
       "    <tr>\n",
       "      <th>65</th>\n",
       "      <td>107</td>\n",
       "      <td>24</td>\n",
       "      <td>533.82</td>\n",
       "    </tr>\n",
       "    <tr>\n",
       "      <th>5</th>\n",
       "      <td>8</td>\n",
       "      <td>20</td>\n",
       "      <td>418.13</td>\n",
       "    </tr>\n",
       "    <tr>\n",
       "      <th>6</th>\n",
       "      <td>9</td>\n",
       "      <td>24</td>\n",
       "      <td>326.33</td>\n",
       "    </tr>\n",
       "    <tr>\n",
       "      <th>50</th>\n",
       "      <td>83</td>\n",
       "      <td>10</td>\n",
       "      <td>296.18</td>\n",
       "    </tr>\n",
       "    <tr>\n",
       "      <th>28</th>\n",
       "      <td>47</td>\n",
       "      <td>4</td>\n",
       "      <td>252.99</td>\n",
       "    </tr>\n",
       "    <tr>\n",
       "      <th>40</th>\n",
       "      <td>68</td>\n",
       "      <td>8</td>\n",
       "      <td>179.59</td>\n",
       "    </tr>\n",
       "    <tr>\n",
       "      <th>45</th>\n",
       "      <td>76</td>\n",
       "      <td>5</td>\n",
       "      <td>171.59</td>\n",
       "    </tr>\n",
       "    <tr>\n",
       "      <th>1</th>\n",
       "      <td>3</td>\n",
       "      <td>7</td>\n",
       "      <td>154.10</td>\n",
       "    </tr>\n",
       "  </tbody>\n",
       "</table>\n",
       "</div>"
      ],
      "text/plain": [
       "    Restaurant ID  count     sum\n",
       "13             20     36  822.27\n",
       "37             63     10  757.88\n",
       "65            107     24  533.82\n",
       "5               8     20  418.13\n",
       "6               9     24  326.33\n",
       "50             83     10  296.18\n",
       "28             47      4  252.99\n",
       "40             68      8  179.59\n",
       "45             76      5  171.59\n",
       "1               3      7  154.10"
      ]
     },
     "execution_count": 687,
     "metadata": {},
     "output_type": "execute_result"
    }
   ],
   "source": [
    "print('Top 10 Restaurant with most refund in descending order by total amount')\n",
    "Restaurant_refund = refunded_order.groupby('Restaurant ID')['Refunded amount'].agg(['count','sum']).reset_index()\n",
    "Restaurant_refund.sort_values(by='sum',ascending=False).head(10)"
   ]
  },
  {
   "cell_type": "code",
   "execution_count": 688,
   "metadata": {
    "ExecuteTime": {
     "end_time": "2020-06-09T11:55:30.561122Z",
     "start_time": "2020-06-09T11:55:30.535193Z"
    }
   },
   "outputs": [
    {
     "name": "stdout",
     "output_type": "stream",
     "text": [
      "The order with highest refund\n"
     ]
    },
    {
     "data": {
      "text/html": [
       "<div>\n",
       "<style scoped>\n",
       "    .dataframe tbody tr th:only-of-type {\n",
       "        vertical-align: middle;\n",
       "    }\n",
       "\n",
       "    .dataframe tbody tr th {\n",
       "        vertical-align: top;\n",
       "    }\n",
       "\n",
       "    .dataframe thead th {\n",
       "        text-align: right;\n",
       "    }\n",
       "</style>\n",
       "<table border=\"1\" class=\"dataframe\">\n",
       "  <thead>\n",
       "    <tr style=\"text-align: right;\">\n",
       "      <th></th>\n",
       "      <th>163</th>\n",
       "    </tr>\n",
       "  </thead>\n",
       "  <tbody>\n",
       "    <tr>\n",
       "      <th>date</th>\n",
       "      <td>2020-05-30 00:00:00</td>\n",
       "    </tr>\n",
       "    <tr>\n",
       "      <th>day_of_week</th>\n",
       "      <td>5</td>\n",
       "    </tr>\n",
       "    <tr>\n",
       "      <th>Hour</th>\n",
       "      <td>17</td>\n",
       "    </tr>\n",
       "    <tr>\n",
       "      <th>Customer placed order datetime</th>\n",
       "      <td>17:10:40</td>\n",
       "    </tr>\n",
       "    <tr>\n",
       "      <th>Placed order with restaurant datetime</th>\n",
       "      <td>17:53:58</td>\n",
       "    </tr>\n",
       "    <tr>\n",
       "      <th>Driver at restaurant datetime</th>\n",
       "      <td>18:45:32</td>\n",
       "    </tr>\n",
       "    <tr>\n",
       "      <th>Delivered to consumer datetime</th>\n",
       "      <td>19:32:26</td>\n",
       "    </tr>\n",
       "    <tr>\n",
       "      <th>Cust_Rest_order_diff</th>\n",
       "      <td>43.3</td>\n",
       "    </tr>\n",
       "    <tr>\n",
       "      <th>Rest_to_cust_time</th>\n",
       "      <td>98.4667</td>\n",
       "    </tr>\n",
       "    <tr>\n",
       "      <th>Total_delivery_time</th>\n",
       "      <td>141.767</td>\n",
       "    </tr>\n",
       "    <tr>\n",
       "      <th>Driver ID</th>\n",
       "      <td>166</td>\n",
       "    </tr>\n",
       "    <tr>\n",
       "      <th>Restaurant ID</th>\n",
       "      <td>63</td>\n",
       "    </tr>\n",
       "    <tr>\n",
       "      <th>Consumer ID</th>\n",
       "      <td>91848</td>\n",
       "    </tr>\n",
       "    <tr>\n",
       "      <th>Delivery Region</th>\n",
       "      <td>Palo Alto</td>\n",
       "    </tr>\n",
       "    <tr>\n",
       "      <th>Is ASAP</th>\n",
       "      <td>False</td>\n",
       "    </tr>\n",
       "    <tr>\n",
       "      <th>Order total</th>\n",
       "      <td>397.07</td>\n",
       "    </tr>\n",
       "    <tr>\n",
       "      <th>Amount of discount</th>\n",
       "      <td>0</td>\n",
       "    </tr>\n",
       "    <tr>\n",
       "      <th>Amount of tip</th>\n",
       "      <td>17.7</td>\n",
       "    </tr>\n",
       "    <tr>\n",
       "      <th>Refunded amount</th>\n",
       "      <td>414.77</td>\n",
       "    </tr>\n",
       "  </tbody>\n",
       "</table>\n",
       "</div>"
      ],
      "text/plain": [
       "                                                       163\n",
       "date                                   2020-05-30 00:00:00\n",
       "day_of_week                                              5\n",
       "Hour                                                    17\n",
       "Customer placed order datetime                    17:10:40\n",
       "Placed order with restaurant datetime             17:53:58\n",
       "Driver at restaurant datetime                     18:45:32\n",
       "Delivered to consumer datetime                    19:32:26\n",
       "Cust_Rest_order_diff                                  43.3\n",
       "Rest_to_cust_time                                  98.4667\n",
       "Total_delivery_time                                141.767\n",
       "Driver ID                                              166\n",
       "Restaurant ID                                           63\n",
       "Consumer ID                                          91848\n",
       "Delivery Region                                  Palo Alto\n",
       "Is ASAP                                              False\n",
       "Order total                                         397.07\n",
       "Amount of discount                                       0\n",
       "Amount of tip                                         17.7\n",
       "Refunded amount                                     414.77"
      ]
     },
     "execution_count": 688,
     "metadata": {},
     "output_type": "execute_result"
    }
   ],
   "source": [
    "print('The order with highest refund')\n",
    "idx = refunded_order[['Refunded amount']].idxmax()\n",
    "refunded_order.iloc[idx,:].T"
   ]
  },
  {
   "cell_type": "code",
   "execution_count": null,
   "metadata": {
    "ExecuteTime": {
     "end_time": "2020-06-09T14:59:16.131785Z",
     "start_time": "2020-06-09T14:59:15.785711Z"
    }
   },
   "outputs": [],
   "source": [
    "#refunded_order['Total_delivery_time'] = refunded_order['Total_delivery_time'].apply(lambda x: round(x/60,1))\n",
    "refunded_order['Total_delivery_time'] = refunded_order['Total_delivery_time'].apply(lambda x: round(x*60,1))\n",
    "refunded_count_by_hour = pd.DataFrame(refunded_order.groupby('Total_delivery_time')['Refunded amount'].count())\n",
    "\n",
    "plt.figure()\n",
    "refunded_count_by_hour.plot(kind='bar',figsize=(15,5))\n",
    "plt.title('Distribution of number of refund per total delivery time in hour')\n",
    "plt.xlabel('total delivery time (hour)')\n",
    "plt.xticks(rotation=45)\n",
    "plt.ylabel('number of refund')"
   ]
  },
  {
   "cell_type": "code",
   "execution_count": 817,
   "metadata": {
    "ExecuteTime": {
     "end_time": "2020-06-09T15:02:30.567954Z",
     "start_time": "2020-06-09T15:02:30.351534Z"
    }
   },
   "outputs": [
    {
     "name": "stdout",
     "output_type": "stream",
     "text": [
      "Top 10 restaurants with highest count of refund\n"
     ]
    },
    {
     "data": {
      "text/html": [
       "<div>\n",
       "<style scoped>\n",
       "    .dataframe tbody tr th:only-of-type {\n",
       "        vertical-align: middle;\n",
       "    }\n",
       "\n",
       "    .dataframe tbody tr th {\n",
       "        vertical-align: top;\n",
       "    }\n",
       "\n",
       "    .dataframe thead th {\n",
       "        text-align: right;\n",
       "    }\n",
       "</style>\n",
       "<table border=\"1\" class=\"dataframe\">\n",
       "  <thead>\n",
       "    <tr style=\"text-align: right;\">\n",
       "      <th></th>\n",
       "      <th>Restaurant ID</th>\n",
       "      <th>Cust_Rest_order_diff_mean</th>\n",
       "      <th>Rest_to_cust_time_mean</th>\n",
       "      <th>missing_driver_arrival_time_count</th>\n",
       "      <th>Refund_count</th>\n",
       "    </tr>\n",
       "  </thead>\n",
       "  <tbody>\n",
       "    <tr>\n",
       "      <th>8</th>\n",
       "      <td>20</td>\n",
       "      <td>12.915741</td>\n",
       "      <td>56.462500</td>\n",
       "      <td>12</td>\n",
       "      <td>36</td>\n",
       "    </tr>\n",
       "    <tr>\n",
       "      <th>30</th>\n",
       "      <td>107</td>\n",
       "      <td>35.736111</td>\n",
       "      <td>61.732639</td>\n",
       "      <td>2</td>\n",
       "      <td>24</td>\n",
       "    </tr>\n",
       "    <tr>\n",
       "      <th>5</th>\n",
       "      <td>9</td>\n",
       "      <td>175.364583</td>\n",
       "      <td>67.065278</td>\n",
       "      <td>6</td>\n",
       "      <td>24</td>\n",
       "    </tr>\n",
       "    <tr>\n",
       "      <th>4</th>\n",
       "      <td>8</td>\n",
       "      <td>12.801667</td>\n",
       "      <td>71.011667</td>\n",
       "      <td>2</td>\n",
       "      <td>20</td>\n",
       "    </tr>\n",
       "    <tr>\n",
       "      <th>21</th>\n",
       "      <td>83</td>\n",
       "      <td>36.475000</td>\n",
       "      <td>49.566667</td>\n",
       "      <td>7</td>\n",
       "      <td>10</td>\n",
       "    </tr>\n",
       "    <tr>\n",
       "      <th>7</th>\n",
       "      <td>12</td>\n",
       "      <td>57.464815</td>\n",
       "      <td>33.072222</td>\n",
       "      <td>4</td>\n",
       "      <td>9</td>\n",
       "    </tr>\n",
       "    <tr>\n",
       "      <th>18</th>\n",
       "      <td>68</td>\n",
       "      <td>5.747917</td>\n",
       "      <td>54.079167</td>\n",
       "      <td>2</td>\n",
       "      <td>8</td>\n",
       "    </tr>\n",
       "    <tr>\n",
       "      <th>42</th>\n",
       "      <td>194</td>\n",
       "      <td>30.593750</td>\n",
       "      <td>32.920833</td>\n",
       "      <td>1</td>\n",
       "      <td>8</td>\n",
       "    </tr>\n",
       "    <tr>\n",
       "      <th>1</th>\n",
       "      <td>3</td>\n",
       "      <td>10.230952</td>\n",
       "      <td>56.457143</td>\n",
       "      <td>1</td>\n",
       "      <td>7</td>\n",
       "    </tr>\n",
       "    <tr>\n",
       "      <th>13</th>\n",
       "      <td>43</td>\n",
       "      <td>27.064286</td>\n",
       "      <td>49.592857</td>\n",
       "      <td>1</td>\n",
       "      <td>7</td>\n",
       "    </tr>\n",
       "  </tbody>\n",
       "</table>\n",
       "</div>"
      ],
      "text/plain": [
       "    Restaurant ID  Cust_Rest_order_diff_mean  Rest_to_cust_time_mean  \\\n",
       "8              20                  12.915741               56.462500   \n",
       "30            107                  35.736111               61.732639   \n",
       "5               9                 175.364583               67.065278   \n",
       "4               8                  12.801667               71.011667   \n",
       "21             83                  36.475000               49.566667   \n",
       "7              12                  57.464815               33.072222   \n",
       "18             68                   5.747917               54.079167   \n",
       "42            194                  30.593750               32.920833   \n",
       "1               3                  10.230952               56.457143   \n",
       "13             43                  27.064286               49.592857   \n",
       "\n",
       "    missing_driver_arrival_time_count  Refund_count  \n",
       "8                                  12            36  \n",
       "30                                  2            24  \n",
       "5                                   6            24  \n",
       "4                                   2            20  \n",
       "21                                  7            10  \n",
       "7                                   4             9  \n",
       "18                                  2             8  \n",
       "42                                  1             8  \n",
       "1                                   1             7  \n",
       "13                                  1             7  "
      ]
     },
     "execution_count": 817,
     "metadata": {},
     "output_type": "execute_result"
    }
   ],
   "source": [
    "print('Top 10 restaurants with highest count of refund')\n",
    "refund_by_rest_mean = pd.DataFrame(refunded_order.groupby('Restaurant ID',as_index=False)['Cust_Rest_order_diff'].mean())\n",
    "refund_by_rest_mean.rename(columns={'Cust_Rest_order_diff':'Cust_Rest_order_diff_mean'},inplace=True)\n",
    "\n",
    "refund_by_rest_count = pd.DataFrame(refunded_order.groupby('Restaurant ID',as_index=False)['Cust_Rest_order_diff'].count())\n",
    "refund_by_rest_count.rename(columns={'Cust_Rest_order_diff':'Refund_count'},inplace=True)\n",
    "\n",
    "refund_by_rest_to_cust = pd.DataFrame(refunded_order.groupby('Restaurant ID',as_index=False)['Rest_to_cust_time'].mean())\n",
    "refund_by_rest_to_cust.rename(columns={'Rest_to_cust_time':'Rest_to_cust_time_mean'},inplace=True)\n",
    "\n",
    "driver_arrive_time_na = pd.DataFrame(refunded_order[refunded_order['Driver at restaurant datetime'].isna()].groupby('Restaurant ID',as_index=False)['Refunded amount'].count())\n",
    "driver_arrive_time_na.rename(columns={'Refunded amount':'missing_driver_arrival_time_count'},inplace=True)\n",
    "\n",
    "refund_by_rest = pd.merge(refund_by_rest_mean,refund_by_rest_to_cust, on='Restaurant ID')\n",
    "refund_by_rest = refund_by_rest.merge(driver_arrive_time_na, on='Restaurant ID')\n",
    "\n",
    "refund_by_rest = refund_by_rest.merge(refund_by_rest_count, on='Restaurant ID')\n",
    "\n",
    "refund_by_rest.sort_values(by='Refund_count',ascending=False).head(10)\n",
    "\n"
   ]
  },
  {
   "cell_type": "code",
   "execution_count": 713,
   "metadata": {
    "ExecuteTime": {
     "end_time": "2020-06-09T12:16:18.458687Z",
     "start_time": "2020-06-09T12:16:18.039112Z"
    }
   },
   "outputs": [
    {
     "data": {
      "text/plain": [
       "Text(0, 0.5, 'time (minute)')"
      ]
     },
     "execution_count": 713,
     "metadata": {},
     "output_type": "execute_result"
    },
    {
     "data": {
      "text/plain": [
       "<Figure size 432x288 with 0 Axes>"
      ]
     },
     "metadata": {},
     "output_type": "display_data"
    },
    {
     "data": {
      "image/png": "[encoded data removed]",
      "text/plain": [
       "<Figure size 576x360 with 1 Axes>"
      ]
     },
     "metadata": {
      "needs_background": "light"
     },
     "output_type": "display_data"
    }
   ],
   "source": [
    "refund_by_rest_top10 = refund_by_rest.sort_values(by='Refund_count',ascending=False).head(10)\n",
    "\n",
    "\n",
    "plt.figure()\n",
    "refund_by_rest_top10.set_index('Restaurant ID')[['Cust_Rest_order_diff_mean','Rest_to_cust_time_mean']].plot(kind='bar',figsize=(8,5))\n",
    "plt.title('Breakdown of meal delivery time of the top 10 restuaruant with most count of refund')\n",
    "plt.xlabel('Restaurant ID')\n",
    "plt.xticks(rotation=360)\n",
    "plt.ylabel('time (minute)')"
   ]
  },
  {
   "cell_type": "markdown",
   "metadata": {},
   "source": [
    "With this chart, we could see which part of the process that the restaurants are struggling more, allowing us to better identify the defects within the delivery process. For example, restaurant 9 has a higher delay between customer placing order and restuarant placing order. We need to further figure out what is the cause for such high delay"
   ]
  },
  {
   "cell_type": "markdown",
   "metadata": {},
   "source": [
    "<b> Top dashers </b>"
   ]
  },
  {
   "cell_type": "code",
   "execution_count": 805,
   "metadata": {
    "ExecuteTime": {
     "end_time": "2020-06-09T13:55:31.413371Z",
     "start_time": "2020-06-09T13:55:31.265767Z"
    }
   },
   "outputs": [],
   "source": [
    "dasher_order_count = pd.DataFrame(df.groupby('Driver ID',as_index=False)['Order total'].count())\n",
    "dasher_order_count.rename(columns={'Order total':'Order_count'},inplace=True)\n",
    "\n",
    "dasher_order_rev = pd.DataFrame(df.groupby('Driver ID',as_index=False)['revenue'].agg(['sum','mean']))\n",
    "dasher_order_rev.rename(columns={'sum':'rev_sum','mean':'rev_average'},inplace=True)\n",
    "\n",
    "dasher_tips = pd.DataFrame(df.groupby('Driver ID',as_index=False)['Amount of tip'].agg(['sum','mean']))\n",
    "dasher_tips.rename(columns={'sum':'tip_sum','mean':'tip_average'},inplace=True)\n",
    "\n",
    "dasher_regions = pd.DataFrame(df.groupby(['Driver ID','Delivery Region'])['Order total'].count())\n",
    "dasher_regions = dasher_regions.sort_values('Order total',ascending=False).reset_index().drop_duplicates(subset='Driver ID',\n",
    "                                                                                                        keep='first')\n",
    "\n",
    "dasher_delivery_time = pd.DataFrame(df.groupby('Driver ID',as_index=False)['Total_delivery_time'].mean())\n",
    "dasher_delivery_time.rename(columns={'Total_delivery_time':'Total_delivery_time_average'},inplace=True)\n",
    "\n",
    "dasher_discount = pd.DataFrame(df.groupby('Driver ID',as_index=False)['Amount of discount'].mean())\n",
    "dasher_discount.rename(columns={'Amount of discount':'discount_average'},inplace=True)\n",
    "\n",
    "df_dasher = pd.merge(dasher_regions[['Driver ID','Delivery Region']],dasher_order_count, on='Driver ID')\n",
    "df_dasher = df_dasher.merge(dasher_delivery_time, on='Driver ID')\n",
    "df_dasher = df_dasher.merge(dasher_order_rev, on='Driver ID')\n",
    "df_dasher = df_dasher.merge(dasher_discount, on='Driver ID')\n",
    "df_dasher = df_dasher.merge(dasher_tips, on='Driver ID')"
   ]
  },
  {
   "cell_type": "code",
   "execution_count": 806,
   "metadata": {
    "ExecuteTime": {
     "end_time": "2020-06-09T13:55:33.452816Z",
     "start_time": "2020-06-09T13:55:33.405942Z"
    }
   },
   "outputs": [
    {
     "name": "stdout",
     "output_type": "stream",
     "text": [
      "Top 10 dashers with most order and highest revenue\n"
     ]
    },
    {
     "data": {
      "text/html": [
       "<div>\n",
       "<style scoped>\n",
       "    .dataframe tbody tr th:only-of-type {\n",
       "        vertical-align: middle;\n",
       "    }\n",
       "\n",
       "    .dataframe tbody tr th {\n",
       "        vertical-align: top;\n",
       "    }\n",
       "\n",
       "    .dataframe thead th {\n",
       "        text-align: right;\n",
       "    }\n",
       "</style>\n",
       "<table border=\"1\" class=\"dataframe\">\n",
       "  <thead>\n",
       "    <tr style=\"text-align: right;\">\n",
       "      <th></th>\n",
       "      <th>Driver ID</th>\n",
       "      <th>Delivery Region</th>\n",
       "      <th>Order_count</th>\n",
       "      <th>Total_delivery_time_average</th>\n",
       "      <th>rev_sum</th>\n",
       "      <th>rev_average</th>\n",
       "      <th>discount_average</th>\n",
       "      <th>tip_sum</th>\n",
       "      <th>tip_average</th>\n",
       "    </tr>\n",
       "  </thead>\n",
       "  <tbody>\n",
       "    <tr>\n",
       "      <th>1</th>\n",
       "      <td>248</td>\n",
       "      <td>Mountain View</td>\n",
       "      <td>316</td>\n",
       "      <td>63.848312</td>\n",
       "      <td>16674.09</td>\n",
       "      <td>52.766108</td>\n",
       "      <td>0.889241</td>\n",
       "      <td>1179.22</td>\n",
       "      <td>3.731709</td>\n",
       "    </tr>\n",
       "    <tr>\n",
       "      <th>0</th>\n",
       "      <td>195</td>\n",
       "      <td>Palo Alto</td>\n",
       "      <td>296</td>\n",
       "      <td>77.803660</td>\n",
       "      <td>17031.38</td>\n",
       "      <td>57.538446</td>\n",
       "      <td>1.449932</td>\n",
       "      <td>1188.96</td>\n",
       "      <td>4.016757</td>\n",
       "    </tr>\n",
       "    <tr>\n",
       "      <th>2</th>\n",
       "      <td>267</td>\n",
       "      <td>Palo Alto</td>\n",
       "      <td>287</td>\n",
       "      <td>100.368757</td>\n",
       "      <td>14256.94</td>\n",
       "      <td>49.675749</td>\n",
       "      <td>1.510976</td>\n",
       "      <td>1011.21</td>\n",
       "      <td>3.523380</td>\n",
       "    </tr>\n",
       "    <tr>\n",
       "      <th>3</th>\n",
       "      <td>222</td>\n",
       "      <td>Palo Alto</td>\n",
       "      <td>262</td>\n",
       "      <td>71.725827</td>\n",
       "      <td>11588.65</td>\n",
       "      <td>44.231489</td>\n",
       "      <td>1.868053</td>\n",
       "      <td>809.78</td>\n",
       "      <td>3.090763</td>\n",
       "    </tr>\n",
       "    <tr>\n",
       "      <th>4</th>\n",
       "      <td>216</td>\n",
       "      <td>Palo Alto</td>\n",
       "      <td>253</td>\n",
       "      <td>74.874704</td>\n",
       "      <td>13268.96</td>\n",
       "      <td>52.446482</td>\n",
       "      <td>1.024348</td>\n",
       "      <td>922.23</td>\n",
       "      <td>3.645178</td>\n",
       "    </tr>\n",
       "    <tr>\n",
       "      <th>5</th>\n",
       "      <td>259</td>\n",
       "      <td>Palo Alto</td>\n",
       "      <td>245</td>\n",
       "      <td>60.358231</td>\n",
       "      <td>11754.10</td>\n",
       "      <td>47.975918</td>\n",
       "      <td>1.674612</td>\n",
       "      <td>811.11</td>\n",
       "      <td>3.310653</td>\n",
       "    </tr>\n",
       "    <tr>\n",
       "      <th>26</th>\n",
       "      <td>343</td>\n",
       "      <td>Palo Alto</td>\n",
       "      <td>235</td>\n",
       "      <td>66.836312</td>\n",
       "      <td>12407.38</td>\n",
       "      <td>52.797362</td>\n",
       "      <td>0.990723</td>\n",
       "      <td>852.89</td>\n",
       "      <td>3.629319</td>\n",
       "    </tr>\n",
       "    <tr>\n",
       "      <th>7</th>\n",
       "      <td>320</td>\n",
       "      <td>Palo Alto</td>\n",
       "      <td>225</td>\n",
       "      <td>70.535778</td>\n",
       "      <td>10775.66</td>\n",
       "      <td>47.891822</td>\n",
       "      <td>0.853333</td>\n",
       "      <td>735.21</td>\n",
       "      <td>3.267600</td>\n",
       "    </tr>\n",
       "    <tr>\n",
       "      <th>6</th>\n",
       "      <td>84</td>\n",
       "      <td>Palo Alto</td>\n",
       "      <td>222</td>\n",
       "      <td>64.679505</td>\n",
       "      <td>11431.32</td>\n",
       "      <td>51.492432</td>\n",
       "      <td>1.151712</td>\n",
       "      <td>785.74</td>\n",
       "      <td>3.539369</td>\n",
       "    </tr>\n",
       "    <tr>\n",
       "      <th>8</th>\n",
       "      <td>36</td>\n",
       "      <td>San Jose</td>\n",
       "      <td>216</td>\n",
       "      <td>60.477083</td>\n",
       "      <td>8967.19</td>\n",
       "      <td>41.514769</td>\n",
       "      <td>1.828704</td>\n",
       "      <td>797.02</td>\n",
       "      <td>3.689907</td>\n",
       "    </tr>\n",
       "  </tbody>\n",
       "</table>\n",
       "</div>"
      ],
      "text/plain": [
       "    Driver ID Delivery Region  Order_count  Total_delivery_time_average  \\\n",
       "1         248   Mountain View          316                    63.848312   \n",
       "0         195       Palo Alto          296                    77.803660   \n",
       "2         267       Palo Alto          287                   100.368757   \n",
       "3         222       Palo Alto          262                    71.725827   \n",
       "4         216       Palo Alto          253                    74.874704   \n",
       "5         259       Palo Alto          245                    60.358231   \n",
       "26        343       Palo Alto          235                    66.836312   \n",
       "7         320       Palo Alto          225                    70.535778   \n",
       "6          84       Palo Alto          222                    64.679505   \n",
       "8          36        San Jose          216                    60.477083   \n",
       "\n",
       "     rev_sum  rev_average  discount_average  tip_sum  tip_average  \n",
       "1   16674.09    52.766108          0.889241  1179.22     3.731709  \n",
       "0   17031.38    57.538446          1.449932  1188.96     4.016757  \n",
       "2   14256.94    49.675749          1.510976  1011.21     3.523380  \n",
       "3   11588.65    44.231489          1.868053   809.78     3.090763  \n",
       "4   13268.96    52.446482          1.024348   922.23     3.645178  \n",
       "5   11754.10    47.975918          1.674612   811.11     3.310653  \n",
       "26  12407.38    52.797362          0.990723   852.89     3.629319  \n",
       "7   10775.66    47.891822          0.853333   735.21     3.267600  \n",
       "6   11431.32    51.492432          1.151712   785.74     3.539369  \n",
       "8    8967.19    41.514769          1.828704   797.02     3.689907  "
      ]
     },
     "execution_count": 806,
     "metadata": {},
     "output_type": "execute_result"
    }
   ],
   "source": [
    "print(\"Top 10 dashers with most order and highest revenue\")\n",
    "df_dasher.sort_values(['Order_count','rev_average'],ascending=False).head(10)"
   ]
  },
  {
   "cell_type": "code",
   "execution_count": 818,
   "metadata": {
    "ExecuteTime": {
     "end_time": "2020-06-09T15:04:15.182475Z",
     "start_time": "2020-06-09T15:04:15.065789Z"
    },
    "code_folding": []
   },
   "outputs": [
    {
     "data": {
      "text/html": [
       "<table class=\"simpletable\">\n",
       "<caption>OLS Regression Results</caption>\n",
       "<tr>\n",
       "  <th>Dep. Variable:</th>       <td>tip_average</td>   <th>  R-squared:         </th> <td>   0.585</td>\n",
       "</tr>\n",
       "<tr>\n",
       "  <th>Model:</th>                   <td>OLS</td>       <th>  Adj. R-squared:    </th> <td>   0.576</td>\n",
       "</tr>\n",
       "<tr>\n",
       "  <th>Method:</th>             <td>Least Squares</td>  <th>  F-statistic:       </th> <td>   67.69</td>\n",
       "</tr>\n",
       "<tr>\n",
       "  <th>Date:</th>             <td>Tue, 09 Jun 2020</td> <th>  Prob (F-statistic):</th> <td>3.51e-52</td>\n",
       "</tr>\n",
       "<tr>\n",
       "  <th>Time:</th>                 <td>11:04:15</td>     <th>  Log-Likelihood:    </th> <td> -273.34</td>\n",
       "</tr>\n",
       "<tr>\n",
       "  <th>No. Observations:</th>      <td>   295</td>      <th>  AIC:               </th> <td>   560.7</td>\n",
       "</tr>\n",
       "<tr>\n",
       "  <th>Df Residuals:</th>          <td>   288</td>      <th>  BIC:               </th> <td>   586.5</td>\n",
       "</tr>\n",
       "<tr>\n",
       "  <th>Df Model:</th>              <td>     6</td>      <th>                     </th>     <td> </td>   \n",
       "</tr>\n",
       "<tr>\n",
       "  <th>Covariance Type:</th>      <td>nonrobust</td>    <th>                     </th>     <td> </td>   \n",
       "</tr>\n",
       "</table>\n",
       "<table class=\"simpletable\">\n",
       "<tr>\n",
       "               <td></td>                  <th>coef</th>     <th>std err</th>      <th>t</th>      <th>P>|t|</th>  <th>[0.025</th>    <th>0.975]</th>  \n",
       "</tr>\n",
       "<tr>\n",
       "  <th>Order_count</th>                 <td>   -0.0001</td> <td>    0.001</td> <td>   -0.229</td> <td> 0.819</td> <td>   -0.001</td> <td>    0.001</td>\n",
       "</tr>\n",
       "<tr>\n",
       "  <th>Total_delivery_time_average</th> <td>    0.0004</td> <td>    0.001</td> <td>    0.270</td> <td> 0.788</td> <td>   -0.002</td> <td>    0.003</td>\n",
       "</tr>\n",
       "<tr>\n",
       "  <th>discount_average</th>            <td>    0.0756</td> <td>    0.012</td> <td>    6.190</td> <td> 0.000</td> <td>    0.052</td> <td>    0.100</td>\n",
       "</tr>\n",
       "<tr>\n",
       "  <th>rev_average</th>                 <td>    0.0682</td> <td>    0.004</td> <td>   17.249</td> <td> 0.000</td> <td>    0.060</td> <td>    0.076</td>\n",
       "</tr>\n",
       "<tr>\n",
       "  <th>Mountain View</th>               <td>    0.1037</td> <td>    0.190</td> <td>    0.545</td> <td> 0.586</td> <td>   -0.270</td> <td>    0.478</td>\n",
       "</tr>\n",
       "<tr>\n",
       "  <th>Palo Alto</th>                   <td>   -0.0584</td> <td>    0.184</td> <td>   -0.318</td> <td> 0.751</td> <td>   -0.420</td> <td>    0.303</td>\n",
       "</tr>\n",
       "<tr>\n",
       "  <th>San Jose</th>                    <td>    0.6131</td> <td>    0.176</td> <td>    3.487</td> <td> 0.001</td> <td>    0.267</td> <td>    0.959</td>\n",
       "</tr>\n",
       "</table>\n",
       "<table class=\"simpletable\">\n",
       "<tr>\n",
       "  <th>Omnibus:</th>       <td>231.698</td> <th>  Durbin-Watson:     </th> <td>   1.926</td>\n",
       "</tr>\n",
       "<tr>\n",
       "  <th>Prob(Omnibus):</th> <td> 0.000</td>  <th>  Jarque-Bera (JB):  </th> <td>7939.146</td>\n",
       "</tr>\n",
       "<tr>\n",
       "  <th>Skew:</th>          <td> 2.775</td>  <th>  Prob(JB):          </th> <td>    0.00</td>\n",
       "</tr>\n",
       "<tr>\n",
       "  <th>Kurtosis:</th>      <td>27.801</td>  <th>  Cond. No.          </th> <td>    943.</td>\n",
       "</tr>\n",
       "</table><br/><br/>Warnings:<br/>[1] Standard Errors assume that the covariance matrix of the errors is correctly specified."
      ],
      "text/plain": [
       "<class 'statsmodels.iolib.summary.Summary'>\n",
       "\"\"\"\n",
       "                            OLS Regression Results                            \n",
       "==============================================================================\n",
       "Dep. Variable:            tip_average   R-squared:                       0.585\n",
       "Model:                            OLS   Adj. R-squared:                  0.576\n",
       "Method:                 Least Squares   F-statistic:                     67.69\n",
       "Date:                Tue, 09 Jun 2020   Prob (F-statistic):           3.51e-52\n",
       "Time:                        11:04:15   Log-Likelihood:                -273.34\n",
       "No. Observations:                 295   AIC:                             560.7\n",
       "Df Residuals:                     288   BIC:                             586.5\n",
       "Df Model:                           6                                         \n",
       "Covariance Type:            nonrobust                                         \n",
       "===============================================================================================\n",
       "                                  coef    std err          t      P>|t|      [0.025      0.975]\n",
       "-----------------------------------------------------------------------------------------------\n",
       "Order_count                    -0.0001      0.001     -0.229      0.819      -0.001       0.001\n",
       "Total_delivery_time_average     0.0004      0.001      0.270      0.788      -0.002       0.003\n",
       "discount_average                0.0756      0.012      6.190      0.000       0.052       0.100\n",
       "rev_average                     0.0682      0.004     17.249      0.000       0.060       0.076\n",
       "Mountain View                   0.1037      0.190      0.545      0.586      -0.270       0.478\n",
       "Palo Alto                      -0.0584      0.184     -0.318      0.751      -0.420       0.303\n",
       "San Jose                        0.6131      0.176      3.487      0.001       0.267       0.959\n",
       "==============================================================================\n",
       "Omnibus:                      231.698   Durbin-Watson:                   1.926\n",
       "Prob(Omnibus):                  0.000   Jarque-Bera (JB):             7939.146\n",
       "Skew:                           2.775   Prob(JB):                         0.00\n",
       "Kurtosis:                      27.801   Cond. No.                         943.\n",
       "==============================================================================\n",
       "\n",
       "Warnings:\n",
       "[1] Standard Errors assume that the covariance matrix of the errors is correctly specified.\n",
       "\"\"\""
      ]
     },
     "execution_count": 818,
     "metadata": {},
     "output_type": "execute_result"
    }
   ],
   "source": [
    "features_dummies = pd.get_dummies(df_dasher['Delivery Region'])\n",
    "\n",
    "dasher_features = pd.concat([df_dasher[['Order_count','Total_delivery_time_average','discount_average','rev_average']],\n",
    "                             features_dummies],axis=1)\n",
    "\n",
    "x = dasher_features\n",
    "y = df_dasher['tip_average']\n",
    "\n",
    "model = sm.OLS(y,x) \n",
    " \n",
    "results = model.fit()\n",
    "\n",
    "# report the summary of the model\n",
    "results.summary()"
   ]
  },
  {
   "cell_type": "markdown",
   "metadata": {},
   "source": [
    "From the liner regression model, San Jose seems to be most positvitely correlated with the amount of tip. In other words, customers live in San Jose looks like more generous than other regions"
   ]
  },
  {
   "cell_type": "code",
   "execution_count": null,
   "metadata": {},
   "outputs": [],
   "source": []
  }
 ],
 "metadata": {
  "kernelspec": {
   "display_name": "Python 3",
   "language": "python",
   "name": "python3"
  },
  "language_info": {
   "codemirror_mode": {
    "name": "ipython",
    "version": 3
   },
   "file_extension": ".py",
   "mimetype": "text/x-python",
   "name": "python",
   "nbconvert_exporter": "python",
   "pygments_lexer": "ipython3",
   "version": "3.7.7"
  },
  "varInspector": {
   "cols": {
    "lenName": 16,
    "lenType": 16,
    "lenVar": 40
   },
   "kernels_config": {
    "python": {
     "delete_cmd_postfix": "",
     "delete_cmd_prefix": "del ",
     "library": "var_list.py",
     "varRefreshCmd": "print(var_dic_list())"
    },
    "r": {
     "delete_cmd_postfix": ") ",
     "delete_cmd_prefix": "rm(",
     "library": "var_list.r",
     "varRefreshCmd": "cat(var_dic_list()) "
    }
   },
   "types_to_exclude": [
    "module",
    "function",
    "builtin_function_or_method",
    "instance",
    "_Feature"
   ],
   "window_display": false
  }
 },
 "nbformat": 4,
 "nbformat_minor": 4
}
