{
 "cells": [
  {
   "cell_type": "markdown",
   "metadata": {},
   "source": [
    "<h1> Associate Exercise - coding analysis document </h1>\n",
    "\n",
    "<h4>This document includes an exploratory analysis of the provided dataset as well as the coding analyses for Part I, Part II and Part III. </h4>\n",
    "\n",
    "\n",
    "\n",
    "\n",
    "\n",
    "<h7> Note: The analysis for Part I was also conducted in the Excel document, where it could be found at the sheet <i> PartIA </i> and <i>PartIB</i> </h7>\n",
    "\n"
   ]
  },
  {
   "cell_type": "code",
   "execution_count": 291,
   "metadata": {
    "ExecuteTime": {
     "end_time": "2019-12-25T22:09:31.729472Z",
     "start_time": "2019-12-25T22:09:31.722484Z"
    }
   },
   "outputs": [],
   "source": [
    "import pandas as pd\n",
    "import matplotlib.pyplot as plt\n",
    "import seaborn as sns\n",
    "import statsmodels.api as sm\n",
    "from scipy.stats import ttest_ind\n",
    "from sklearn.linear_model import LinearRegression"
   ]
  },
  {
   "cell_type": "code",
   "execution_count": 95,
   "metadata": {
    "ExecuteTime": {
     "end_time": "2019-12-24T23:58:33.180570Z",
     "start_time": "2019-12-24T23:57:34.298301Z"
    }
   },
   "outputs": [],
   "source": [
    "# Import the meta data\n",
    "df = pd.read_excel('Data for Associate Exercise_GJ.xlsx',sheet_name=8)"
   ]
  },
  {
   "cell_type": "markdown",
   "metadata": {},
   "source": [
    "# Exploratory analysis"
   ]
  },
  {
   "cell_type": "markdown",
   "metadata": {},
   "source": [
    "### Weekend effect\n",
    "\n",
    "Question to answer: Was the paid attendance impacted by the day of game? "
   ]
  },
  {
   "cell_type": "code",
   "execution_count": 97,
   "metadata": {
    "ExecuteTime": {
     "end_time": "2019-12-24T23:59:11.581872Z",
     "start_time": "2019-12-24T23:59:11.192912Z"
    }
   },
   "outputs": [
    {
     "data": {
      "image/png": "[encoded data removed]",
      "text/plain": [
       "<Figure size 720x360 with 1 Axes>"
      ]
     },
     "metadata": {},
     "output_type": "display_data"
    }
   ],
   "source": [
    "df_day = df[['Game Date','Paid Attendance','Day']]\n",
    "df_day.set_index('Game Date',drop=True,inplace=True)\n",
    "plt.figure(figsize=(10,5))\n",
    "df_day.groupby('Day')['Paid Attendance'].mean().sort_values(ascending = True).plot(kind='bar',color='orange',alpha=0.5)\n",
    "plt.title('Paid attendance throughout the day')\n",
    "plt.ylabel('Paid attendance')\n",
    "plt.xticks(rotation = 360)\n",
    "plt.savefig('weekend_effect.png', dpi=96, bbox_inches='tight')"
   ]
  },
  {
   "cell_type": "markdown",
   "metadata": {},
   "source": [
    "<b> Observation of figure </b>\n",
    "\n",
    "Saturday and Sunday had the highest average paid attendance. This was not surprising because the general public usually do not work during the weekend.\n",
    "\n",
    "It could be concluded that there was a weekend effect on the paid attendance"
   ]
  },
  {
   "cell_type": "markdown",
   "metadata": {
    "ExecuteTime": {
     "end_time": "2019-12-23T16:12:59.873859Z",
     "start_time": "2019-12-23T16:12:59.867877Z"
    }
   },
   "source": [
    "### Gametime effect\n",
    "\n",
    "Question to answer: Did the game time affect the attendance and the no-show rate?"
   ]
  },
  {
   "cell_type": "markdown",
   "metadata": {},
   "source": [
    "#### Game time effect on Paid Attendance"
   ]
  },
  {
   "cell_type": "code",
   "execution_count": 530,
   "metadata": {
    "ExecuteTime": {
     "end_time": "2020-01-02T22:33:53.839982Z",
     "start_time": "2020-01-02T22:33:53.812056Z"
    }
   },
   "outputs": [
    {
     "name": "stderr",
     "output_type": "stream",
     "text": [
      "C:\\Anaconda\\lib\\site-packages\\ipykernel_launcher.py:13: FutureWarning: 'Game Time' is both an index level and a column label.\n",
      "Defaulting to column, but this will raise an ambiguity error in a future version\n",
      "  del sys.path[0]\n"
     ]
    },
    {
     "data": {
      "text/html": [
       "<div>\n",
       "<style scoped>\n",
       "    .dataframe tbody tr th:only-of-type {\n",
       "        vertical-align: middle;\n",
       "    }\n",
       "\n",
       "    .dataframe tbody tr th {\n",
       "        vertical-align: top;\n",
       "    }\n",
       "\n",
       "    .dataframe thead th {\n",
       "        text-align: right;\n",
       "    }\n",
       "</style>\n",
       "<table border=\"1\" class=\"dataframe\">\n",
       "  <thead>\n",
       "    <tr style=\"text-align: right;\">\n",
       "      <th></th>\n",
       "      <th></th>\n",
       "      <th>Game Time</th>\n",
       "    </tr>\n",
       "    <tr>\n",
       "      <th>Day</th>\n",
       "      <th>Game Time</th>\n",
       "      <th></th>\n",
       "    </tr>\n",
       "  </thead>\n",
       "  <tbody>\n",
       "    <tr>\n",
       "      <th rowspan=\"2\" valign=\"top\">Friday</th>\n",
       "      <th>13:07:00</th>\n",
       "      <td>1</td>\n",
       "    </tr>\n",
       "    <tr>\n",
       "      <th>19:07:00</th>\n",
       "      <td>73</td>\n",
       "    </tr>\n",
       "    <tr>\n",
       "      <th rowspan=\"3\" valign=\"top\">Monday</th>\n",
       "      <th>12:37:00</th>\n",
       "      <td>1</td>\n",
       "    </tr>\n",
       "    <tr>\n",
       "      <th>13:07:00</th>\n",
       "      <td>4</td>\n",
       "    </tr>\n",
       "    <tr>\n",
       "      <th>19:07:00</th>\n",
       "      <td>34</td>\n",
       "    </tr>\n",
       "    <tr>\n",
       "      <th rowspan=\"2\" valign=\"top\">Saturday</th>\n",
       "      <th>16:07:00</th>\n",
       "      <td>10</td>\n",
       "    </tr>\n",
       "    <tr>\n",
       "      <th>13:07:00</th>\n",
       "      <td>68</td>\n",
       "    </tr>\n",
       "    <tr>\n",
       "      <th>Sunday</th>\n",
       "      <th>13:07:00</th>\n",
       "      <td>77</td>\n",
       "    </tr>\n",
       "    <tr>\n",
       "      <th rowspan=\"4\" valign=\"top\">Thursday</th>\n",
       "      <th>15:37:00</th>\n",
       "      <td>1</td>\n",
       "    </tr>\n",
       "    <tr>\n",
       "      <th>12:37:00</th>\n",
       "      <td>3</td>\n",
       "    </tr>\n",
       "    <tr>\n",
       "      <th>13:07:00</th>\n",
       "      <td>3</td>\n",
       "    </tr>\n",
       "    <tr>\n",
       "      <th>19:07:00</th>\n",
       "      <td>37</td>\n",
       "    </tr>\n",
       "    <tr>\n",
       "      <th rowspan=\"3\" valign=\"top\">Tuesday</th>\n",
       "      <th>12:37:00</th>\n",
       "      <td>2</td>\n",
       "    </tr>\n",
       "    <tr>\n",
       "      <th>13:07:00</th>\n",
       "      <td>2</td>\n",
       "    </tr>\n",
       "    <tr>\n",
       "      <th>19:07:00</th>\n",
       "      <td>63</td>\n",
       "    </tr>\n",
       "    <tr>\n",
       "      <th rowspan=\"5\" valign=\"top\">Wednesday</th>\n",
       "      <th>16:37:00</th>\n",
       "      <td>1</td>\n",
       "    </tr>\n",
       "    <tr>\n",
       "      <th>13:07:00</th>\n",
       "      <td>2</td>\n",
       "    </tr>\n",
       "    <tr>\n",
       "      <th>16:07:00</th>\n",
       "      <td>3</td>\n",
       "    </tr>\n",
       "    <tr>\n",
       "      <th>12:37:00</th>\n",
       "      <td>7</td>\n",
       "    </tr>\n",
       "    <tr>\n",
       "      <th>19:07:00</th>\n",
       "      <td>58</td>\n",
       "    </tr>\n",
       "  </tbody>\n",
       "</table>\n",
       "</div>"
      ],
      "text/plain": [
       "                     Game Time\n",
       "Day       Game Time           \n",
       "Friday    13:07:00           1\n",
       "          19:07:00          73\n",
       "Monday    12:37:00           1\n",
       "          13:07:00           4\n",
       "          19:07:00          34\n",
       "Saturday  16:07:00          10\n",
       "          13:07:00          68\n",
       "Sunday    13:07:00          77\n",
       "Thursday  15:37:00           1\n",
       "          12:37:00           3\n",
       "          13:07:00           3\n",
       "          19:07:00          37\n",
       "Tuesday   12:37:00           2\n",
       "          13:07:00           2\n",
       "          19:07:00          63\n",
       "Wednesday 16:37:00           1\n",
       "          13:07:00           2\n",
       "          16:07:00           3\n",
       "          12:37:00           7\n",
       "          19:07:00          58"
      ]
     },
     "execution_count": 530,
     "metadata": {},
     "output_type": "execute_result"
    }
   ],
   "source": [
    "# Extract the columns to a separate data frame\n",
    "df_gtime = df[['Game Date','Day','Paid Attendance','No-Show Rate','Game Time']]\n",
    "df_gtime.set_index('Game Date',drop=True,inplace=True)\n",
    "\n",
    "# Organize the data by grouping it by game time\n",
    "gtime_PA = df_gtime.groupby('Game Time')['Paid Attendance']\n",
    "gtime_noshow = df_gtime.groupby('Game Time')['No-Show Rate']\n",
    "\n",
    "# Organize the data by grouping it by day and game time\n",
    "gtime_Day = df_gtime.groupby(['Day','Game Time'])['Game Time']\n",
    "gtime_Day = pd.DataFrame(gtime_Day.count())\n",
    "\n",
    "gtime_Day = gtime_Day.sort_values(['Day','Game Time'])\n",
    "gtime_Day"
   ]
  },
  {
   "cell_type": "markdown",
   "metadata": {},
   "source": [
    "<b> Observation of table </b>\n",
    "\n",
    "During the weekdays, games usually started at 7 pm, whereas games typically started in the afternoon during weekends. \n",
    "\n",
    "It's believed that this schedualing was to accomodate the workhours of general public during the weekdays, so there was not much flexibilty in terms of altering the game time for the weekdays"
   ]
  },
  {
   "cell_type": "code",
   "execution_count": 8,
   "metadata": {
    "ExecuteTime": {
     "end_time": "2019-12-23T17:30:40.312088Z",
     "start_time": "2019-12-23T17:30:39.888204Z"
    },
    "scrolled": false
   },
   "outputs": [
    {
     "data": {
      "text/plain": [
       "Text(0,0.5,'Paid Attendance')"
      ]
     },
     "execution_count": 8,
     "metadata": {},
     "output_type": "execute_result"
    },
    {
     "data": {
      "image/png": "[encoded data removed]",
      "text/plain": [
       "<Figure size 864x432 with 1 Axes>"
      ]
     },
     "metadata": {},
     "output_type": "display_data"
    }
   ],
   "source": [
    "gametime = df_gtime['Game Time'].unique()\n",
    "\n",
    "boxplot_data_pa = []\n",
    "for i in range(len(gametime)):\n",
    "    boxplot_data_pa.append(df_gtime[df_gtime['Game Time']==gametime[i]]['Paid Attendance'])\n",
    "\n",
    "fig = plt.figure(1, figsize=(12, 6))\n",
    "\n",
    "# Create an axes instance\n",
    "ax = fig.add_subplot(111)\n",
    "\n",
    "# Create the boxplot\n",
    "bp = ax.boxplot(boxplot_data_pa)\n",
    "plt.xticks(np.arange(1,7),gametime)\n",
    "plt.title('Paid Attendance vs starting game time')\n",
    "plt.ylabel('Paid Attendance')"
   ]
  },
  {
   "cell_type": "markdown",
   "metadata": {},
   "source": [
    "<b> Observation of figure </b>\n",
    "\n",
    "The above figure showed the distribution of paid attendance by the game time. Games starting at 7:07 pm had the largest variance since they were the most frequent game time and they only took place during the weekdays. Perhaps a more in-depth exploration on Games at 7:07pm should be carried out to understand the causes of such various attendance"
   ]
  },
  {
   "cell_type": "markdown",
   "metadata": {
    "ExecuteTime": {
     "end_time": "2020-01-02T22:37:25.610456Z",
     "start_time": "2020-01-02T22:37:25.593503Z"
    }
   },
   "source": [
    "#### Game time effect on no-show rate"
   ]
  },
  {
   "cell_type": "code",
   "execution_count": 480,
   "metadata": {
    "ExecuteTime": {
     "end_time": "2019-12-23T16:21:18.518846Z",
     "start_time": "2019-12-23T16:21:18.066042Z"
    }
   },
   "outputs": [
    {
     "data": {
      "text/plain": [
       "Text(0,0.5,'No-show rate')"
      ]
     },
     "execution_count": 480,
     "metadata": {},
     "output_type": "execute_result"
    },
    {
     "data": {
      "image/png": "[encoded data removed]",
      "text/plain": [
       "<Figure size 864x432 with 1 Axes>"
      ]
     },
     "metadata": {},
     "output_type": "display_data"
    }
   ],
   "source": [
    "boxplot_data_noshow = []\n",
    "for i in range(len(gametime)):\n",
    "    boxplot_data_noshow.append(df_gtime[df_gtime['Game Time']==gametime[i]]['No-Show Rate'])\n",
    "\n",
    "fig = plt.figure(1, figsize=(12, 6))\n",
    "\n",
    "# Create an axes instance\n",
    "ax = fig.add_subplot(111)\n",
    "\n",
    "# Create the boxplot\n",
    "bp = ax.boxplot(boxplot_data_noshow)\n",
    "plt.xticks(np.arange(1,7),gametime)\n",
    "plt.title('No-show rate vs starting game time')\n",
    "plt.ylabel('No-show rate')"
   ]
  },
  {
   "cell_type": "markdown",
   "metadata": {},
   "source": [
    "<b> Observation of figure </b>\n",
    "\n",
    "Similar to the last figure, games starting at 7:07 pm had the largest variance and biggest range of No-show rate than other times. Games starting at 13:07 and 16:07 had lower median and smaller range of no-show rate because these games took place during the weekend.\n",
    "\n",
    "Games starting at 16:37 and 15:37 didn't have large sample size, so it may need more sample size or additional information for explanation"
   ]
  },
  {
   "cell_type": "markdown",
   "metadata": {},
   "source": [
    "### Promotion effect\n",
    "\n",
    "Question to answer: How did promotions affect the paid attendance?"
   ]
  },
  {
   "cell_type": "code",
   "execution_count": 18,
   "metadata": {
    "ExecuteTime": {
     "end_time": "2019-12-23T20:50:22.850127Z",
     "start_time": "2019-12-23T20:50:22.838125Z"
    },
    "code_folding": []
   },
   "outputs": [],
   "source": [
    "# Extract Game Date',Paid Attendance, and Promotion for analysis\n",
    "\n",
    "df_promotion = df[['Game Date','Paid Attendance','Promotion']]\n",
    "df_promotion.set_index('Game Date',drop=True,inplace=True)\n",
    "\n",
    "# extract data associated to promotion and no promotion\n",
    "df_promo = df_promotion[df_promotion['Promotion'] != 'None']\n",
    "df_no_promo = df_promotion[df_promotion['Promotion'] == 'None']"
   ]
  },
  {
   "cell_type": "code",
   "execution_count": 19,
   "metadata": {
    "ExecuteTime": {
     "end_time": "2019-12-23T20:50:24.260782Z",
     "start_time": "2019-12-23T20:50:23.981530Z"
    }
   },
   "outputs": [
    {
     "data": {
      "text/plain": [
       "Text(0,0.5,'Paid attendance')"
      ]
     },
     "execution_count": 19,
     "metadata": {},
     "output_type": "execute_result"
    },
    {
     "data": {
      "image/png": "[encoded data removed]",
      "text/plain": [
       "<Figure size 432x288 with 1 Axes>"
      ]
     },
     "metadata": {},
     "output_type": "display_data"
    }
   ],
   "source": [
    "plt.boxplot([df_no_promo['Paid Attendance'],df_promo['Paid Attendance']])\n",
    "plt.xticks(np.arange(1,3),['no promotion','with promotion'])\n",
    "plt.title('Paid attendance with and without promotion')\n",
    "plt.ylabel('Paid attendance')"
   ]
  },
  {
   "cell_type": "markdown",
   "metadata": {},
   "source": [
    "<b> Observation of figure </b>\n",
    "\n",
    "Games without promotion had a larger variance and lower median of attendance than games with promotion. Additionally, games with promotion in general had a narrower range of attendance. Despite a few outliers, it's evidant that having promotion will incentivize fans to attend the game "
   ]
  },
  {
   "cell_type": "code",
   "execution_count": 20,
   "metadata": {
    "ExecuteTime": {
     "end_time": "2019-12-23T20:50:26.213285Z",
     "start_time": "2019-12-23T20:50:25.824326Z"
    }
   },
   "outputs": [
    {
     "data": {
      "text/plain": [
       "Text(0,0.5,'Paid attendance')"
      ]
     },
     "execution_count": 20,
     "metadata": {},
     "output_type": "execute_result"
    },
    {
     "data": {
      "image/png": "[encoded data removed]",
      "text/plain": [
       "<Figure size 864x432 with 1 Axes>"
      ]
     },
     "metadata": {},
     "output_type": "display_data"
    }
   ],
   "source": [
    "promotion_methods = df_promotion['Promotion'].unique()\n",
    "boxplot_data = []\n",
    "\n",
    "for i in range(len(promotion_methods)):\n",
    "    boxplot_data.append(df_promotion[df_promotion['Promotion']==promotion_methods[i]]['Paid Attendance'])\n",
    "\n",
    "fig = plt.figure(1, figsize=(12, 6))\n",
    "\n",
    "# Create an axes instance\n",
    "ax = fig.add_subplot(111)\n",
    "\n",
    "# Create the boxplot\n",
    "bp = ax.boxplot(boxplot_data)\n",
    "plt.xticks(np.arange(1,9),promotion_methods)\n",
    "plt.title('Paid attendance with different promotion methods')\n",
    "plt.ylabel('Paid attendance')"
   ]
  },
  {
   "cell_type": "markdown",
   "metadata": {},
   "source": [
    "<b> Observation of figure </b>\n",
    "\n",
    "Games without promotion had the largest variance and lowest median of attendance. A possible reason for large variance might be that the fan were motivated to attend games by other factors, such as the opponents, game time, etc\n",
    "\n",
    "Using the median of attendance of games without promotion as benchmark, all promotion methods except bag improved the median and lowered the variance of attendance. General speaking, including these promotion methods seemed to have positive impact on attendance.\n",
    "\n",
    "Using bag as promotion method seemed to have litte impact on attendance. In fact, its median was almost equal to the games without promotion. Though it narrowed the variance of paid attendance, the range was still within the range of games without promotion. It could be interpreted that bag was not an effective promotion method"
   ]
  },
  {
   "cell_type": "code",
   "execution_count": 210,
   "metadata": {
    "ExecuteTime": {
     "end_time": "2019-12-25T15:06:06.819413Z",
     "start_time": "2019-12-25T15:06:06.507249Z"
    }
   },
   "outputs": [
    {
     "data": {
      "text/plain": [
       "Text(0.5,0,'season tickets sold')"
      ]
     },
     "execution_count": 210,
     "metadata": {},
     "output_type": "execute_result"
    },
    {
     "data": {
      "image/png": "[encoded data removed]",
      "text/plain": [
       "<Figure size 864x432 with 1 Axes>"
      ]
     },
     "metadata": {},
     "output_type": "display_data"
    }
   ],
   "source": [
    "df_promotion_v2 = df[['Season','Season Tickets Sold','Promotion']]\n",
    "Szn_tickets_sales = pd.DataFrame(df_promotion_v2.groupby('Promotion')['Season Tickets Sold'].mean().sort_values(ascending=False))\n",
    "Szn_tickets_sales = Szn_tickets_sales.apply(lambda x: x.astype(int))\n",
    "Szn_tickets_sales.plot(kind='barh',\n",
    "                       figsize=(12,6),\n",
    "                       title='Average season tickets sales by promotion methods',\n",
    "                       legend=False,\n",
    "                       color='orange',alpha=0.5)\n",
    "\n",
    "plt.xlabel('season tickets sold')"
   ]
  },
  {
   "cell_type": "markdown",
   "metadata": {},
   "source": [
    "<b> Observation of figure </b>\n",
    "\n",
    "The Games with promotion of bag had the lowest average season ticket sales over the past 5 seasons. Thus, the team should decrease using bag to promote season tickets. \n",
    "\n",
    "Using jersey and bobblehead were observed to be the best method in relation to season tickets sales so they should be further examined for their significance. "
   ]
  },
  {
   "cell_type": "markdown",
   "metadata": {},
   "source": [
    "### Promotion effect on 7 pm game \n",
    "\n",
    "As observed from above, 7 pm games have the lowest attendance and no-show rate. It would be worthwhile to see if promotion could incentivize fans to attend the games, subsequently increasing total ticket revenue "
   ]
  },
  {
   "cell_type": "code",
   "execution_count": null,
   "metadata": {},
   "outputs": [],
   "source": [
    "df_7pm_game = df[df['Game Time'] == '19:07:00']\n",
    "df_7pm_game = df_7pm_game[['Game Date','Promotion','Total Ticket Revenue','Paid Attendance','No-Show Rate']]\n",
    "df_7pm_game.set_index('Game Date',drop=True,inplace=True)\n",
    "\n",
    "promotion_methods = df_7pm_game['Promotion'].unique()\n",
    "boxplot_7pm_rev = []\n",
    "boxplot_7pm_pa = []\n",
    "boxplot_7pm_noshow = []\n",
    "\n",
    "\n",
    "for i in range(len(promotion_methods)):\n",
    "    boxplot_7pm_rev.append(df_7pm_game[df_7pm_game['Promotion']==promotion_methods[i]]['Total Ticket Revenue'])\n",
    "    boxplot_7pm_pa.append(df_7pm_game[df_7pm_game['Promotion']==promotion_methods[i]]['Paid Attendance'])\n",
    "    boxplot_7pm_noshow.append(df_7pm_game[df_7pm_game['Promotion']==promotion_methods[i]]['No-Show Rate'])"
   ]
  },
  {
   "cell_type": "code",
   "execution_count": 503,
   "metadata": {
    "ExecuteTime": {
     "end_time": "2019-12-23T16:55:33.803001Z",
     "start_time": "2019-12-23T16:55:33.439960Z"
    }
   },
   "outputs": [
    {
     "data": {
      "text/plain": [
       "Text(0,0.5,'Paid attendance')"
      ]
     },
     "execution_count": 503,
     "metadata": {},
     "output_type": "execute_result"
    },
    {
     "data": {
      "image/png": "[encoded data removed]",
      "text/plain": [
       "<Figure size 864x432 with 1 Axes>"
      ]
     },
     "metadata": {},
     "output_type": "display_data"
    }
   ],
   "source": [
    "fig = plt.figure(1, figsize=(12, 6))\n",
    "\n",
    "# Create an axes instance\n",
    "ax = fig.add_subplot(111)\n",
    "\n",
    "# Create the boxplot\n",
    "bp = ax.boxplot(boxplot_7pm_pa)\n",
    "plt.xticks(np.arange(1,9),promotion_methods)\n",
    "plt.title('Paid attendance with different promotion methods on 7pm game')\n",
    "plt.ylabel('Paid attendance')"
   ]
  },
  {
   "cell_type": "code",
   "execution_count": 538,
   "metadata": {
    "ExecuteTime": {
     "end_time": "2020-01-02T22:59:39.345044Z",
     "start_time": "2020-01-02T22:59:38.859287Z"
    }
   },
   "outputs": [
    {
     "data": {
      "text/plain": [
       "Text(0,0.5,'Total ticket revenue')"
      ]
     },
     "execution_count": 538,
     "metadata": {},
     "output_type": "execute_result"
    },
    {
     "data": {
      "image/png": "[encoded data removed]",
      "text/plain": [
       "<Figure size 864x432 with 1 Axes>"
      ]
     },
     "metadata": {},
     "output_type": "display_data"
    }
   ],
   "source": [
    "fig = plt.figure(1, figsize=(12, 6))\n",
    "\n",
    "# Create an axes instance\n",
    "ax = fig.add_subplot(111)\n",
    "\n",
    "# Create the boxplot\n",
    "bp = ax.boxplot(boxplot_7pm_rev)\n",
    "plt.xticks(np.arange(1,9),promotion_methods)\n",
    "plt.title('Total ticket revenue with different promotion methods on 7pm game')\n",
    "plt.ylabel('Total ticket revenue')"
   ]
  },
  {
   "cell_type": "code",
   "execution_count": 504,
   "metadata": {
    "ExecuteTime": {
     "end_time": "2019-12-23T16:55:41.195270Z",
     "start_time": "2019-12-23T16:55:40.850157Z"
    }
   },
   "outputs": [
    {
     "data": {
      "text/plain": [
       "Text(0,0.5,'No-show rate')"
      ]
     },
     "execution_count": 504,
     "metadata": {},
     "output_type": "execute_result"
    },
    {
     "data": {
      "image/png": "[encoded data removed]",
      "text/plain": [
       "<Figure size 864x432 with 1 Axes>"
      ]
     },
     "metadata": {},
     "output_type": "display_data"
    }
   ],
   "source": [
    "fig = plt.figure(1, figsize=(12, 6))\n",
    "\n",
    "# Create an axes instance\n",
    "ax = fig.add_subplot(111)\n",
    "\n",
    "# Create the boxplot\n",
    "bp = ax.boxplot(boxplot_7pm_noshow)\n",
    "plt.xticks(np.arange(1,9),promotion_methods)\n",
    "plt.title('No-show rate with different promotion methods on 7pm game')\n",
    "plt.ylabel('No-show rate')"
   ]
  },
  {
   "cell_type": "markdown",
   "metadata": {},
   "source": [
    "<b> Observation of above figures </b>\n",
    "\n",
    "Among all methods, hat and bobblehead were observed to be the best ways to increase attendance and decrease no-show rate.\n",
    "\n",
    "Regarding the total ticket revenues, they also seemed to have more positive impact, but the range of ticket revenues for them were not too different from no-promotion."
   ]
  },
  {
   "cell_type": "markdown",
   "metadata": {},
   "source": [
    "# Part I\n",
    "\n",
    "Part I consists of hypothesis testing of promotion effect on ticket sales, pre-game revenue streams, and paid attendance"
   ]
  },
  {
   "cell_type": "markdown",
   "metadata": {},
   "source": [
    "#### Hypothesis testing: Promotion effect on ticket sales"
   ]
  },
  {
   "cell_type": "code",
   "execution_count": 274,
   "metadata": {
    "ExecuteTime": {
     "end_time": "2019-12-25T21:55:59.761321Z",
     "start_time": "2019-12-25T21:55:59.732397Z"
    }
   },
   "outputs": [],
   "source": [
    "df_promotion = df[['Game Date',\n",
    "                   'Promotion',\n",
    "                   'Season Tickets Sold',\n",
    "                   'Single Game Tickets Sold',\n",
    "                   'Other Tickets Sold']]\n",
    "\n",
    "df_promotion.set_index('Game Date',drop=True,inplace=True)\n",
    "\n",
    "# extract data associated to promotion and no promotion\n",
    "df_promo = df_promotion[df_promotion['Promotion'] != 'None']\n",
    "df_no_promo = df_promotion[df_promotion['Promotion'] == 'None']"
   ]
  },
  {
   "cell_type": "code",
   "execution_count": null,
   "metadata": {},
   "outputs": [],
   "source": [
    "# Hypothesis testing\n",
    "# season ticket\n",
    "t1, p1 = ttest_ind(df_promo['Season Tickets Sold'],df_no_promo['Season Tickets Sold'],equal_var=False)\n",
    "# single game ticket\n",
    "t2, p2 = ttest_ind(df_promo['Single Game Tickets Sold'],df_no_promo['Single Game Tickets Sold'],equal_var=False)\n",
    "# other tickets\n",
    "t3, p3 = ttest_ind(df_promo['Other Tickets Sold'],df_no_promo['Other Tickets Sold'],equal_var=False)"
   ]
  },
  {
   "cell_type": "code",
   "execution_count": 295,
   "metadata": {
    "ExecuteTime": {
     "end_time": "2019-12-25T22:10:55.094417Z",
     "start_time": "2019-12-25T22:10:55.087436Z"
    }
   },
   "outputs": [
    {
     "name": "stdout",
     "output_type": "stream",
     "text": [
      "Hypothesis testing of season tickets sales \n",
      "\n",
      "\n",
      "Hypothesis testing results: t = 5.28147  p = 3.38334e-07\n",
      "Null hypothesis was rejected\n"
     ]
    }
   ],
   "source": [
    "print('Hypothesis testing of season tickets sales ')\n",
    "print('\\n')\n",
    "print(\"Hypothesis testing results: t = %g  p = %g\" % (t1, p1))\n",
    "if p1 < 0.05:\n",
    "    print('Null hypothesis was rejected')\n",
    "else:\n",
    "    print('Alternative hypothesis was rejected')"
   ]
  },
  {
   "cell_type": "code",
   "execution_count": 298,
   "metadata": {
    "ExecuteTime": {
     "end_time": "2019-12-25T22:32:52.750743Z",
     "start_time": "2019-12-25T22:32:52.743762Z"
    }
   },
   "outputs": [
    {
     "name": "stdout",
     "output_type": "stream",
     "text": [
      "Hypothesis testing of single game tickets sales\n",
      "\n",
      "\n",
      "Hypothesis testing results: t = 6.4975  p = 4.79813e-10\n",
      "Null hypothesis was rejected\n"
     ]
    }
   ],
   "source": [
    "print('Hypothesis testing of single game tickets sales')\n",
    "print('\\n')\n",
    "print(\"Hypothesis testing results: t = %g  p = %g\" % (t2, p2))\n",
    "if p2 < 0.05:\n",
    "    print('Null hypothesis was rejected')\n",
    "else:\n",
    "    print('Alternative hypothesis was rejected')"
   ]
  },
  {
   "cell_type": "code",
   "execution_count": 299,
   "metadata": {
    "ExecuteTime": {
     "end_time": "2019-12-25T22:32:56.069538Z",
     "start_time": "2019-12-25T22:32:56.060561Z"
    }
   },
   "outputs": [
    {
     "name": "stdout",
     "output_type": "stream",
     "text": [
      "Hypothesis testing of other tickets sales\n",
      "\n",
      "\n",
      "Hypothesis testing results: t = 6.0612  p = 1.24478e-08\n",
      "Null hypothesis was rejected\n"
     ]
    }
   ],
   "source": [
    "print('Hypothesis testing of other tickets sales')\n",
    "print('\\n')\n",
    "print(\"Hypothesis testing results: t = %g  p = %g\" % (t3, p3))\n",
    "if p3 < 0.05:\n",
    "    print('Null hypothesis was rejected')\n",
    "else:\n",
    "    print('Alternative hypothesis was rejected')"
   ]
  },
  {
   "cell_type": "markdown",
   "metadata": {},
   "source": [
    "#### Hypothesis testing: Promotion effect on pre-game revenue stream"
   ]
  },
  {
   "cell_type": "code",
   "execution_count": 539,
   "metadata": {
    "ExecuteTime": {
     "end_time": "2020-01-02T23:14:11.567890Z",
     "start_time": "2020-01-02T23:13:23.814117Z"
    }
   },
   "outputs": [],
   "source": [
    "df_pregame_rev = pd.read_excel('Data for Associate Exercise_GJ.xlsx',sheet_name=7)\n",
    "df_pregame_rev.set_index('Game Date',drop=True,inplace=True)\n",
    "\n",
    "columns = ['PA_query.Promotion','Food (Pregame)','Drinks (Pregame)','Merch.Pregame']\n",
    "df_pregame_rev = df_pregame_rev[columns]\n",
    "\n",
    "df_pregame_rev_promo = df_pregame_rev[df_pregame_rev['PA_query.Promotion'] != 'None']\n",
    "df_pregame_rev_no_promo = df_pregame_rev[df_pregame_rev['PA_query.Promotion'] == 'None']"
   ]
  },
  {
   "cell_type": "code",
   "execution_count": 540,
   "metadata": {
    "ExecuteTime": {
     "end_time": "2020-01-02T23:14:46.051775Z",
     "start_time": "2020-01-02T23:14:46.024849Z"
    }
   },
   "outputs": [],
   "source": [
    "# Hypothesis testing\n",
    "# season ticket\n",
    "t1, p1 = ttest_ind(df_pregame_rev_promo['Food (Pregame)'],df_pregame_rev_no_promo['Food (Pregame)'],equal_var=False)\n",
    "# single game ticket\n",
    "t2, p2 = ttest_ind(df_pregame_rev_promo['Drinks (Pregame)'],df_pregame_rev_no_promo['Drinks (Pregame)'],equal_var=False)\n",
    "# other tickets\n",
    "t3, p3 = ttest_ind(df_pregame_rev_promo['Merch.Pregame'],df_pregame_rev_no_promo['Merch.Pregame'],equal_var=False)"
   ]
  },
  {
   "cell_type": "code",
   "execution_count": 541,
   "metadata": {
    "ExecuteTime": {
     "end_time": "2020-01-02T23:14:50.448002Z",
     "start_time": "2020-01-02T23:14:50.437045Z"
    }
   },
   "outputs": [
    {
     "name": "stdout",
     "output_type": "stream",
     "text": [
      "Hypothesis testing of food (Pregame) revenue\n",
      "\n",
      "\n",
      "Hypothesis testing results: t = 8.36651  p = 1.04038e-11\n",
      "Null hypothesis was rejected\n"
     ]
    }
   ],
   "source": [
    "print('Hypothesis testing of food (Pregame) revenue')\n",
    "print('\\n')\n",
    "print(\"Hypothesis testing results: t = %g  p = %g\" % (t1, p1))\n",
    "if p1 < 0.05:\n",
    "    print('Null hypothesis was rejected')\n",
    "else:\n",
    "    print('Alternative hypothesis was rejected')"
   ]
  },
  {
   "cell_type": "code",
   "execution_count": 304,
   "metadata": {
    "ExecuteTime": {
     "end_time": "2019-12-25T23:37:10.240309Z",
     "start_time": "2019-12-25T23:37:10.232335Z"
    }
   },
   "outputs": [
    {
     "name": "stdout",
     "output_type": "stream",
     "text": [
      "Hypothesis testing of drinks (Pregame) revenue\n",
      "\n",
      "\n",
      "Hypothesis testing results: t = 6.07118  p = 1.23054e-07\n",
      "Null hypothesis was rejected\n"
     ]
    }
   ],
   "source": [
    "print('Hypothesis testing of drinks (Pregame) revenue')\n",
    "print('\\n')\n",
    "print(\"Hypothesis testing results: t = %g  p = %g\" % (t2, p2))\n",
    "if p1 < 0.05:\n",
    "    print('Null hypothesis was rejected')\n",
    "else:\n",
    "    print('Alternative hypothesis was rejected')"
   ]
  },
  {
   "cell_type": "code",
   "execution_count": 305,
   "metadata": {
    "ExecuteTime": {
     "end_time": "2019-12-25T23:37:24.798091Z",
     "start_time": "2019-12-25T23:37:24.790116Z"
    }
   },
   "outputs": [
    {
     "name": "stdout",
     "output_type": "stream",
     "text": [
      "Hypothesis testing of merchandise (Pregame) revenue\n",
      "\n",
      "\n",
      "Hypothesis testing results: t = 5.03885  p = 3.67023e-06\n",
      "Null hypothesis was rejected\n"
     ]
    }
   ],
   "source": [
    "print('Hypothesis testing of merchandise (Pregame) revenue')\n",
    "print('\\n')\n",
    "print(\"Hypothesis testing results: t = %g  p = %g\" % (t3, p3))\n",
    "if p1 < 0.05:\n",
    "    print('Null hypothesis was rejected')\n",
    "else:\n",
    "    print('Alternative hypothesis was rejected')"
   ]
  },
  {
   "cell_type": "markdown",
   "metadata": {},
   "source": [
    "#### Hypothesis testing: Promotion effect on paid attendance "
   ]
  },
  {
   "cell_type": "code",
   "execution_count": 478,
   "metadata": {
    "ExecuteTime": {
     "end_time": "2019-12-30T03:33:30.227683Z",
     "start_time": "2019-12-30T03:33:29.976002Z"
    }
   },
   "outputs": [],
   "source": [
    "df_promo_pa = df[['Game Date',\n",
    "                   'Promotion',\n",
    "                   'Paid Attendance']]\n",
    "\n",
    "df_promo_pa.set_index('Game Date',drop=True,inplace=True)\n",
    "\n",
    "df_promo = df_promo_pa[df_promo_pa['Promotion'] != 'None']\n",
    "df_no_promo = df_promo_pa[df_promo_pa['Promotion'] == 'None']"
   ]
  },
  {
   "cell_type": "code",
   "execution_count": 479,
   "metadata": {
    "ExecuteTime": {
     "end_time": "2019-12-30T03:33:40.450520Z",
     "start_time": "2019-12-30T03:33:40.391103Z"
    }
   },
   "outputs": [
    {
     "name": "stdout",
     "output_type": "stream",
     "text": [
      "Hypothesis testing of season tickets sales \n",
      "\n",
      "\n",
      "Hypothesis testing results: t = 10.4987  p = 5.91249e-22\n",
      "Null hypothesis was rejected\n"
     ]
    }
   ],
   "source": [
    "t, p_val = ttest_ind(df_promo['Paid Attendance'],df_no_promo['Paid Attendance'],equal_var=False)\n",
    "\n",
    "print('Hypothesis testing of Paid Attendance ')\n",
    "print('\\n')\n",
    "print(\"Hypothesis testing results: t = %g  p = %g\" % (t, p_val))\n",
    "if p1 < 0.05:\n",
    "    print('Null hypothesis was rejected')\n",
    "else:\n",
    "    print('Alternative hypothesis was rejected')"
   ]
  },
  {
   "cell_type": "code",
   "execution_count": 491,
   "metadata": {
    "ExecuteTime": {
     "end_time": "2019-12-30T03:39:26.044987Z",
     "start_time": "2019-12-30T03:39:26.033020Z"
    }
   },
   "outputs": [
    {
     "data": {
      "text/plain": [
       "Promotion_Bobblehead       0.189223\n",
       "Promotion_Other            0.170656\n",
       "Promotion_Hat              0.155659\n",
       "Promotion_Memorabilia      0.142885\n",
       "Promotion_Jersey           0.111974\n",
       "Promotion_Shirt/Sweater    0.074791\n",
       "Promotion_None            -0.370784\n",
       "Name: Paid Attendance, dtype: float64"
      ]
     },
     "execution_count": 491,
     "metadata": {},
     "output_type": "execute_result"
    }
   ],
   "source": [
    "df_promo_pa = pd.get_dummies(df_promo_pa,drop_first=True)\n",
    "\n",
    "columns = [ 'Promotion_Bobblehead', \n",
    "            'Promotion_Hat',\n",
    "            'Promotion_Jersey', \n",
    "            'Promotion_Memorabilia',\n",
    "            'Promotion_None', \n",
    "            'Promotion_Other',\n",
    "            'Promotion_Shirt/Sweater',\n",
    "            'Paid Attendance']\n",
    "df_promo_pa = df_promo_pa[columns]\n",
    "\n",
    "corr = df_promo_pa.corr()\n",
    "corr = corr['Paid Attendance']\n",
    "corr.drop('Paid Attendance',axis = 0, inplace = True)\n",
    "corr.sort_values(ascending = False, inplace = True)\n",
    "\n",
    "corr"
   ]
  },
  {
   "cell_type": "markdown",
   "metadata": {},
   "source": [
    "# Part II"
   ]
  },
  {
   "cell_type": "code",
   "execution_count": 456,
   "metadata": {
    "ExecuteTime": {
     "end_time": "2019-12-28T12:45:40.438581Z",
     "start_time": "2019-12-28T12:45:39.827649Z"
    }
   },
   "outputs": [],
   "source": [
    "df_part2 = pd.read_excel('Data for Associate Exercise_GJ.xlsx',sheet_name=7)\n",
    "df_part2.set_index('Game Date',drop=True,inplace=True)\n",
    "\n",
    "# removing the following columns because the column 'total game day revenue' already includes them \n",
    "df_part2 = df_part2.drop([\n",
    "                         'Food (Pregame)',\n",
    "                         'Food (In Game)', \n",
    "                         'Food (Total)', \n",
    "                         'Drinks (Pregame)',\n",
    "                         'Drinks (In Game)', \n",
    "                         'Drinks (Total)', \n",
    "                         'Merch.Pregame', \n",
    "                         'Merch.In Game',\n",
    "                         'PA_query.Total Ticket Revenue'],axis=1)\n",
    "\n",
    "# create dummy variables\n",
    "df_part2 = pd.get_dummies(df_part2,drop_first=True)\n",
    "\n",
    "# dropping other promotion method to isolate bobblehead\n",
    "df_part2.drop([  'PA_query.Promotion_Hat',\n",
    "                 'PA_query.Promotion_Jersey', \n",
    "                 'PA_query.Promotion_Memorabilia',\n",
    "                 'PA_query.Promotion_None', \n",
    "                 'PA_query.Promotion_Other',\n",
    "                 'PA_query.Promotion_Shirt/Sweater'  \n",
    "                ], axis = 1, inplace = True)\n",
    "\n",
    "# export the excel sheet to an excel file\n",
    "df_part2.to_excel('partII_GJ_dummy_vars.xlsx')"
   ]
  },
  {
   "cell_type": "markdown",
   "metadata": {},
   "source": [
    "## Multivariate Regression"
   ]
  },
  {
   "cell_type": "code",
   "execution_count": 457,
   "metadata": {
    "ExecuteTime": {
     "end_time": "2019-12-28T12:45:55.027957Z",
     "start_time": "2019-12-28T12:45:54.887334Z"
    }
   },
   "outputs": [
    {
     "data": {
      "text/html": [
       "<table class=\"simpletable\">\n",
       "<caption>OLS Regression Results</caption>\n",
       "<tr>\n",
       "  <th>Dep. Variable:</th>    <td>Total Game day revenue</td> <th>  R-squared:         </th> <td>   0.996</td> \n",
       "</tr>\n",
       "<tr>\n",
       "  <th>Model:</th>                      <td>OLS</td>          <th>  Adj. R-squared:    </th> <td>   0.994</td> \n",
       "</tr>\n",
       "<tr>\n",
       "  <th>Method:</th>                <td>Least Squares</td>     <th>  F-statistic:       </th> <td>   672.7</td> \n",
       "</tr>\n",
       "<tr>\n",
       "  <th>Date:</th>                <td>Sat, 28 Dec 2019</td>    <th>  Prob (F-statistic):</th> <td>1.71e-115</td>\n",
       "</tr>\n",
       "<tr>\n",
       "  <th>Time:</th>                    <td>07:45:54</td>        <th>  Log-Likelihood:    </th> <td> -1729.3</td> \n",
       "</tr>\n",
       "<tr>\n",
       "  <th>No. Observations:</th>         <td>   150</td>         <th>  AIC:               </th> <td>   3537.</td> \n",
       "</tr>\n",
       "<tr>\n",
       "  <th>Df Residuals:</th>             <td>   111</td>         <th>  BIC:               </th> <td>   3654.</td> \n",
       "</tr>\n",
       "<tr>\n",
       "  <th>Df Model:</th>                 <td>    39</td>         <th>                     </th>     <td> </td>    \n",
       "</tr>\n",
       "<tr>\n",
       "  <th>Covariance Type:</th>         <td>nonrobust</td>       <th>                     </th>     <td> </td>    \n",
       "</tr>\n",
       "</table>\n",
       "<table class=\"simpletable\">\n",
       "<tr>\n",
       "                    <td></td>                      <th>coef</th>     <th>std err</th>      <th>t</th>      <th>P>|t|</th>  <th>[0.025</th>    <th>0.975]</th>  \n",
       "</tr>\n",
       "<tr>\n",
       "  <th>PA_query.Opener</th>                      <td> 1.795e+05</td> <td>  3.5e+04</td> <td>    5.127</td> <td> 0.000</td> <td>  1.1e+05</td> <td> 2.49e+05</td>\n",
       "</tr>\n",
       "<tr>\n",
       "  <th>PA_query.Temp</th>                        <td> -855.0663</td> <td>  871.647</td> <td>   -0.981</td> <td> 0.329</td> <td>-2582.293</td> <td>  872.161</td>\n",
       "</tr>\n",
       "<tr>\n",
       "  <th>PA_query.Playoff Odds</th>                <td>-1.382e+04</td> <td> 2.83e+04</td> <td>   -0.488</td> <td> 0.627</td> <td>   -7e+04</td> <td> 4.23e+04</td>\n",
       "</tr>\n",
       "<tr>\n",
       "  <th>PA_query.Paid Attendance</th>             <td>   19.6005</td> <td>    1.024</td> <td>   19.135</td> <td> 0.000</td> <td>   17.571</td> <td>   21.630</td>\n",
       "</tr>\n",
       "<tr>\n",
       "  <th>PA_query.No-Show Rate</th>                <td>-6.123e+04</td> <td> 7.97e+04</td> <td>   -0.768</td> <td> 0.444</td> <td>-2.19e+05</td> <td> 9.68e+04</td>\n",
       "</tr>\n",
       "<tr>\n",
       "  <th>PA_query.Day_Monday</th>                  <td>-3.915e+04</td> <td> 1.26e+04</td> <td>   -3.099</td> <td> 0.002</td> <td>-6.42e+04</td> <td>-1.41e+04</td>\n",
       "</tr>\n",
       "<tr>\n",
       "  <th>PA_query.Day_Saturday</th>                <td> 4.714e+04</td> <td> 1.48e+04</td> <td>    3.177</td> <td> 0.002</td> <td> 1.77e+04</td> <td> 7.65e+04</td>\n",
       "</tr>\n",
       "<tr>\n",
       "  <th>PA_query.Day_Sunday</th>                  <td> 4.511e+04</td> <td> 1.56e+04</td> <td>    2.891</td> <td> 0.005</td> <td> 1.42e+04</td> <td>  7.6e+04</td>\n",
       "</tr>\n",
       "<tr>\n",
       "  <th>PA_query.Day_Thursday</th>                <td>-1.476e+04</td> <td> 1.01e+04</td> <td>   -1.465</td> <td> 0.146</td> <td>-3.47e+04</td> <td> 5204.543</td>\n",
       "</tr>\n",
       "<tr>\n",
       "  <th>PA_query.Day_Tuesday</th>                 <td>-4.272e+04</td> <td> 9444.511</td> <td>   -4.523</td> <td> 0.000</td> <td>-6.14e+04</td> <td> -2.4e+04</td>\n",
       "</tr>\n",
       "<tr>\n",
       "  <th>PA_query.Day_Wednesday</th>               <td>-2.807e+04</td> <td> 9082.145</td> <td>   -3.091</td> <td> 0.003</td> <td>-4.61e+04</td> <td>-1.01e+04</td>\n",
       "</tr>\n",
       "<tr>\n",
       "  <th>PA_query.Month_August</th>                <td> 5.342e+04</td> <td>  1.7e+04</td> <td>    3.151</td> <td> 0.002</td> <td> 1.98e+04</td> <td>  8.7e+04</td>\n",
       "</tr>\n",
       "<tr>\n",
       "  <th>PA_query.Month_July</th>                  <td> 4.796e+04</td> <td> 1.86e+04</td> <td>    2.583</td> <td> 0.011</td> <td> 1.12e+04</td> <td> 8.48e+04</td>\n",
       "</tr>\n",
       "<tr>\n",
       "  <th>PA_query.Month_June</th>                  <td> 4.662e+04</td> <td> 1.44e+04</td> <td>    3.237</td> <td> 0.002</td> <td> 1.81e+04</td> <td> 7.52e+04</td>\n",
       "</tr>\n",
       "<tr>\n",
       "  <th>PA_query.Month_March</th>                 <td> 2.621e+04</td> <td> 2.68e+04</td> <td>    0.977</td> <td> 0.331</td> <td>-2.69e+04</td> <td> 7.94e+04</td>\n",
       "</tr>\n",
       "<tr>\n",
       "  <th>PA_query.Month_May</th>                   <td>   1.6e+04</td> <td>  1.2e+04</td> <td>    1.339</td> <td> 0.183</td> <td>-7682.211</td> <td> 3.97e+04</td>\n",
       "</tr>\n",
       "<tr>\n",
       "  <th>PA_query.Month_September</th>             <td> 4.071e+04</td> <td> 1.75e+04</td> <td>    2.320</td> <td> 0.022</td> <td> 5941.665</td> <td> 7.55e+04</td>\n",
       "</tr>\n",
       "<tr>\n",
       "  <th>PA_query.Game Time_13:07:00</th>          <td> 3.837e+04</td> <td> 2.01e+04</td> <td>    1.908</td> <td> 0.059</td> <td>-1472.774</td> <td> 7.82e+04</td>\n",
       "</tr>\n",
       "<tr>\n",
       "  <th>PA_query.Game Time_15:37:00</th>          <td> 8.338e+04</td> <td> 5.27e+04</td> <td>    1.583</td> <td> 0.116</td> <td> -2.1e+04</td> <td> 1.88e+05</td>\n",
       "</tr>\n",
       "<tr>\n",
       "  <th>PA_query.Game Time_16:07:00</th>          <td> 7.594e+04</td> <td> 2.13e+04</td> <td>    3.558</td> <td> 0.001</td> <td> 3.36e+04</td> <td> 1.18e+05</td>\n",
       "</tr>\n",
       "<tr>\n",
       "  <th>PA_query.Game Time_19:07:00</th>          <td> 7.008e+04</td> <td>  1.6e+04</td> <td>    4.389</td> <td> 0.000</td> <td> 3.84e+04</td> <td> 1.02e+05</td>\n",
       "</tr>\n",
       "<tr>\n",
       "  <th>PA_query.Opponent_Halifax</th>            <td>-1108.9593</td> <td> 1.38e+04</td> <td>   -0.080</td> <td> 0.936</td> <td>-2.84e+04</td> <td> 2.62e+04</td>\n",
       "</tr>\n",
       "<tr>\n",
       "  <th>PA_query.Opponent_Hamilton</th>           <td>-3.627e+04</td> <td> 1.22e+04</td> <td>   -2.978</td> <td> 0.004</td> <td>-6.04e+04</td> <td>-1.21e+04</td>\n",
       "</tr>\n",
       "<tr>\n",
       "  <th>PA_query.Opponent_Moncton</th>            <td>-2799.7222</td> <td> 1.46e+04</td> <td>   -0.192</td> <td> 0.848</td> <td>-3.16e+04</td> <td>  2.6e+04</td>\n",
       "</tr>\n",
       "<tr>\n",
       "  <th>PA_query.Opponent_Montreal</th>           <td> 2.447e+04</td> <td> 1.32e+04</td> <td>    1.856</td> <td> 0.066</td> <td>-1654.612</td> <td> 5.06e+04</td>\n",
       "</tr>\n",
       "<tr>\n",
       "  <th>PA_query.Opponent_Ottawa</th>             <td> 3.213e+04</td> <td> 1.17e+04</td> <td>    2.737</td> <td> 0.007</td> <td> 8866.701</td> <td> 5.54e+04</td>\n",
       "</tr>\n",
       "<tr>\n",
       "  <th>PA_query.Opponent_Quebec City</th>        <td>-1.639e+04</td> <td> 1.24e+04</td> <td>   -1.318</td> <td> 0.190</td> <td> -4.1e+04</td> <td> 8245.662</td>\n",
       "</tr>\n",
       "<tr>\n",
       "  <th>PA_query.Opponent_Regina</th>             <td>-4992.5392</td> <td> 1.39e+04</td> <td>   -0.359</td> <td> 0.720</td> <td>-3.25e+04</td> <td> 2.25e+04</td>\n",
       "</tr>\n",
       "<tr>\n",
       "  <th>PA_query.Opponent_Vancouver</th>          <td>-1.811e+04</td> <td>  1.3e+04</td> <td>   -1.393</td> <td> 0.167</td> <td>-4.39e+04</td> <td> 7659.829</td>\n",
       "</tr>\n",
       "<tr>\n",
       "  <th>PA_query.Opponent_Victoria</th>           <td>-2.208e+04</td> <td> 1.37e+04</td> <td>   -1.609</td> <td> 0.110</td> <td>-4.93e+04</td> <td> 5115.758</td>\n",
       "</tr>\n",
       "<tr>\n",
       "  <th>PA_query.Opponent_Winnipeg</th>           <td>-2692.7239</td> <td> 1.37e+04</td> <td>   -0.197</td> <td> 0.844</td> <td>-2.98e+04</td> <td> 2.44e+04</td>\n",
       "</tr>\n",
       "<tr>\n",
       "  <th>PA_query.Holiday_Canada Day (Monday)</th> <td>-3.383e+04</td> <td> 4.13e+04</td> <td>   -0.818</td> <td> 0.415</td> <td>-1.16e+05</td> <td> 4.81e+04</td>\n",
       "</tr>\n",
       "<tr>\n",
       "  <th>PA_query.Holiday_Easter Sunday</th>       <td>-3.368e+04</td> <td> 2.93e+04</td> <td>   -1.149</td> <td> 0.253</td> <td>-9.17e+04</td> <td> 2.44e+04</td>\n",
       "</tr>\n",
       "<tr>\n",
       "  <th>PA_query.Holiday_Father's Day</th>        <td>-3.822e+04</td> <td> 2.99e+04</td> <td>   -1.277</td> <td> 0.204</td> <td>-9.75e+04</td> <td> 2.11e+04</td>\n",
       "</tr>\n",
       "<tr>\n",
       "  <th>PA_query.Holiday_Good Friday</th>         <td>-6.552e+04</td> <td> 3.27e+04</td> <td>   -2.001</td> <td> 0.048</td> <td> -1.3e+05</td> <td> -633.181</td>\n",
       "</tr>\n",
       "<tr>\n",
       "  <th>PA_query.Holiday_Labour Day</th>          <td>-4.009e+04</td> <td> 3.71e+04</td> <td>   -1.080</td> <td> 0.282</td> <td>-1.14e+05</td> <td> 3.34e+04</td>\n",
       "</tr>\n",
       "<tr>\n",
       "  <th>PA_query.Holiday_Mother's Day</th>        <td>-4.612e+04</td> <td> 2.97e+04</td> <td>   -1.554</td> <td> 0.123</td> <td>-1.05e+05</td> <td> 1.27e+04</td>\n",
       "</tr>\n",
       "<tr>\n",
       "  <th>PA_query.Holiday_None</th>                <td>-5.995e+04</td> <td> 1.82e+04</td> <td>   -3.296</td> <td> 0.001</td> <td> -9.6e+04</td> <td>-2.39e+04</td>\n",
       "</tr>\n",
       "<tr>\n",
       "  <th>PA_query.Promotion_Bobblehead</th>        <td> 6165.8432</td> <td> 1.46e+04</td> <td>    0.424</td> <td> 0.673</td> <td>-2.27e+04</td> <td>  3.5e+04</td>\n",
       "</tr>\n",
       "</table>\n",
       "<table class=\"simpletable\">\n",
       "<tr>\n",
       "  <th>Omnibus:</th>       <td> 2.306</td> <th>  Durbin-Watson:     </th> <td>   1.568</td>\n",
       "</tr>\n",
       "<tr>\n",
       "  <th>Prob(Omnibus):</th> <td> 0.316</td> <th>  Jarque-Bera (JB):  </th> <td>   1.675</td>\n",
       "</tr>\n",
       "<tr>\n",
       "  <th>Skew:</th>          <td> 0.009</td> <th>  Prob(JB):          </th> <td>   0.433</td>\n",
       "</tr>\n",
       "<tr>\n",
       "  <th>Kurtosis:</th>      <td> 2.483</td> <th>  Cond. No.          </th> <td>6.52e+05</td>\n",
       "</tr>\n",
       "</table><br/><br/>Warnings:<br/>[1] Standard Errors assume that the covariance matrix of the errors is correctly specified.<br/>[2] The condition number is large, 6.52e+05. This might indicate that there are<br/>strong multicollinearity or other numerical problems."
      ],
      "text/plain": [
       "<class 'statsmodels.iolib.summary.Summary'>\n",
       "\"\"\"\n",
       "                              OLS Regression Results                              \n",
       "==================================================================================\n",
       "Dep. Variable:     Total Game day revenue   R-squared:                       0.996\n",
       "Model:                                OLS   Adj. R-squared:                  0.994\n",
       "Method:                     Least Squares   F-statistic:                     672.7\n",
       "Date:                    Sat, 28 Dec 2019   Prob (F-statistic):          1.71e-115\n",
       "Time:                            07:45:54   Log-Likelihood:                -1729.3\n",
       "No. Observations:                     150   AIC:                             3537.\n",
       "Df Residuals:                         111   BIC:                             3654.\n",
       "Df Model:                              39                                         \n",
       "Covariance Type:                nonrobust                                         \n",
       "========================================================================================================\n",
       "                                           coef    std err          t      P>|t|      [0.025      0.975]\n",
       "--------------------------------------------------------------------------------------------------------\n",
       "PA_query.Opener                       1.795e+05    3.5e+04      5.127      0.000     1.1e+05    2.49e+05\n",
       "PA_query.Temp                         -855.0663    871.647     -0.981      0.329   -2582.293     872.161\n",
       "PA_query.Playoff Odds                -1.382e+04   2.83e+04     -0.488      0.627      -7e+04    4.23e+04\n",
       "PA_query.Paid Attendance                19.6005      1.024     19.135      0.000      17.571      21.630\n",
       "PA_query.No-Show Rate                -6.123e+04   7.97e+04     -0.768      0.444   -2.19e+05    9.68e+04\n",
       "PA_query.Day_Monday                  -3.915e+04   1.26e+04     -3.099      0.002   -6.42e+04   -1.41e+04\n",
       "PA_query.Day_Saturday                 4.714e+04   1.48e+04      3.177      0.002    1.77e+04    7.65e+04\n",
       "PA_query.Day_Sunday                   4.511e+04   1.56e+04      2.891      0.005    1.42e+04     7.6e+04\n",
       "PA_query.Day_Thursday                -1.476e+04   1.01e+04     -1.465      0.146   -3.47e+04    5204.543\n",
       "PA_query.Day_Tuesday                 -4.272e+04   9444.511     -4.523      0.000   -6.14e+04    -2.4e+04\n",
       "PA_query.Day_Wednesday               -2.807e+04   9082.145     -3.091      0.003   -4.61e+04   -1.01e+04\n",
       "PA_query.Month_August                 5.342e+04    1.7e+04      3.151      0.002    1.98e+04     8.7e+04\n",
       "PA_query.Month_July                   4.796e+04   1.86e+04      2.583      0.011    1.12e+04    8.48e+04\n",
       "PA_query.Month_June                   4.662e+04   1.44e+04      3.237      0.002    1.81e+04    7.52e+04\n",
       "PA_query.Month_March                  2.621e+04   2.68e+04      0.977      0.331   -2.69e+04    7.94e+04\n",
       "PA_query.Month_May                      1.6e+04    1.2e+04      1.339      0.183   -7682.211    3.97e+04\n",
       "PA_query.Month_September              4.071e+04   1.75e+04      2.320      0.022    5941.665    7.55e+04\n",
       "PA_query.Game Time_13:07:00           3.837e+04   2.01e+04      1.908      0.059   -1472.774    7.82e+04\n",
       "PA_query.Game Time_15:37:00           8.338e+04   5.27e+04      1.583      0.116    -2.1e+04    1.88e+05\n",
       "PA_query.Game Time_16:07:00           7.594e+04   2.13e+04      3.558      0.001    3.36e+04    1.18e+05\n",
       "PA_query.Game Time_19:07:00           7.008e+04    1.6e+04      4.389      0.000    3.84e+04    1.02e+05\n",
       "PA_query.Opponent_Halifax            -1108.9593   1.38e+04     -0.080      0.936   -2.84e+04    2.62e+04\n",
       "PA_query.Opponent_Hamilton           -3.627e+04   1.22e+04     -2.978      0.004   -6.04e+04   -1.21e+04\n",
       "PA_query.Opponent_Moncton            -2799.7222   1.46e+04     -0.192      0.848   -3.16e+04     2.6e+04\n",
       "PA_query.Opponent_Montreal            2.447e+04   1.32e+04      1.856      0.066   -1654.612    5.06e+04\n",
       "PA_query.Opponent_Ottawa              3.213e+04   1.17e+04      2.737      0.007    8866.701    5.54e+04\n",
       "PA_query.Opponent_Quebec City        -1.639e+04   1.24e+04     -1.318      0.190    -4.1e+04    8245.662\n",
       "PA_query.Opponent_Regina             -4992.5392   1.39e+04     -0.359      0.720   -3.25e+04    2.25e+04\n",
       "PA_query.Opponent_Vancouver          -1.811e+04    1.3e+04     -1.393      0.167   -4.39e+04    7659.829\n",
       "PA_query.Opponent_Victoria           -2.208e+04   1.37e+04     -1.609      0.110   -4.93e+04    5115.758\n",
       "PA_query.Opponent_Winnipeg           -2692.7239   1.37e+04     -0.197      0.844   -2.98e+04    2.44e+04\n",
       "PA_query.Holiday_Canada Day (Monday) -3.383e+04   4.13e+04     -0.818      0.415   -1.16e+05    4.81e+04\n",
       "PA_query.Holiday_Easter Sunday       -3.368e+04   2.93e+04     -1.149      0.253   -9.17e+04    2.44e+04\n",
       "PA_query.Holiday_Father's Day        -3.822e+04   2.99e+04     -1.277      0.204   -9.75e+04    2.11e+04\n",
       "PA_query.Holiday_Good Friday         -6.552e+04   3.27e+04     -2.001      0.048    -1.3e+05    -633.181\n",
       "PA_query.Holiday_Labour Day          -4.009e+04   3.71e+04     -1.080      0.282   -1.14e+05    3.34e+04\n",
       "PA_query.Holiday_Mother's Day        -4.612e+04   2.97e+04     -1.554      0.123   -1.05e+05    1.27e+04\n",
       "PA_query.Holiday_None                -5.995e+04   1.82e+04     -3.296      0.001    -9.6e+04   -2.39e+04\n",
       "PA_query.Promotion_Bobblehead         6165.8432   1.46e+04      0.424      0.673   -2.27e+04     3.5e+04\n",
       "==============================================================================\n",
       "Omnibus:                        2.306   Durbin-Watson:                   1.568\n",
       "Prob(Omnibus):                  0.316   Jarque-Bera (JB):                1.675\n",
       "Skew:                           0.009   Prob(JB):                        0.433\n",
       "Kurtosis:                       2.483   Cond. No.                     6.52e+05\n",
       "==============================================================================\n",
       "\n",
       "Warnings:\n",
       "[1] Standard Errors assume that the covariance matrix of the errors is correctly specified.\n",
       "[2] The condition number is large, 6.52e+05. This might indicate that there are\n",
       "strong multicollinearity or other numerical problems.\n",
       "\"\"\""
      ]
     },
     "execution_count": 457,
     "metadata": {},
     "output_type": "execute_result"
    }
   ],
   "source": [
    "x = df_part2.drop('Total Game day revenue',axis=1) # dependent variables\n",
    "y = df_part2['Total Game day revenue'] # target variable\n",
    "\n",
    "# Constructing the model\n",
    "model = sm.OLS(y,x) \n",
    " \n",
    "results = model.fit()\n",
    "\n",
    "# report the summary of the model\n",
    "results.summary()"
   ]
  },
  {
   "cell_type": "markdown",
   "metadata": {},
   "source": [
    "<b> The R-squared score is close to 1, suggesting that ordinary least square method is able provide accurate representation of the data </b>"
   ]
  },
  {
   "cell_type": "code",
   "execution_count": 458,
   "metadata": {
    "ExecuteTime": {
     "end_time": "2019-12-28T12:46:11.602282Z",
     "start_time": "2019-12-28T12:46:11.534462Z"
    }
   },
   "outputs": [
    {
     "data": {
      "text/plain": [
       "LinearRegression(copy_X=True, fit_intercept=True, n_jobs=1, normalize=False)"
      ]
     },
     "execution_count": 458,
     "metadata": {},
     "output_type": "execute_result"
    }
   ],
   "source": [
    "# Using the linear regression module from sklearn to predict the total game day revenue on 20th July, 2018\n",
    "\n",
    "X_train, y_train = x[:120], y[:120]\n",
    "\n",
    "X_test, y_test = x[120:], y[120:]\n",
    "\n",
    "mdl_lr = LinearRegression()\n",
    "mdl_lr.fit(X_train.values,y_train.values)\n",
    "\n"
   ]
  },
  {
   "cell_type": "code",
   "execution_count": 459,
   "metadata": {
    "ExecuteTime": {
     "end_time": "2019-12-28T12:46:24.717050Z",
     "start_time": "2019-12-28T12:46:24.533034Z"
    }
   },
   "outputs": [
    {
     "name": "stderr",
     "output_type": "stream",
     "text": [
      "C:\\Anaconda\\lib\\site-packages\\ipykernel_launcher.py:3: SettingWithCopyWarning: \n",
      "A value is trying to be set on a copy of a slice from a DataFrame\n",
      "\n",
      "See the caveats in the documentation: http://pandas.pydata.org/pandas-docs/stable/indexing.html#indexing-view-versus-copy\n",
      "  This is separate from the ipykernel package so we can avoid doing imports until\n"
     ]
    }
   ],
   "source": [
    "July20_2018 = X_test.loc['2018-07-20']\n",
    "\n",
    "July20_2018['PA_query.Promotion_Bobblehead'] = 1.0\n",
    "\n",
    "y_pred = mdl_lr.predict(July20_2018.values.reshape(1, -1))\n",
    "\n",
    "xtra_rev_gain = y_pred - y_test.iloc[1]"
   ]
  },
  {
   "cell_type": "code",
   "execution_count": 460,
   "metadata": {
    "ExecuteTime": {
     "end_time": "2019-12-28T12:46:50.275870Z",
     "start_time": "2019-12-28T12:46:50.252931Z"
    }
   },
   "outputs": [
    {
     "name": "stdout",
     "output_type": "stream",
     "text": [
      "the orginal total game day revenue of the game on 20th July,2018 is: $335326\n",
      "the predicted total game day revenue of the game on 20th July,2018 is: $368718\n",
      "the extra revenue gain is: $33392\n"
     ]
    }
   ],
   "source": [
    "print(\"the orginal total game day revenue of the game on 20th July,2018 is: ${}\".format(int(y_test.iloc[1])))\n",
    "print(\"the predicted total game day revenue of the game on 20th July,2018 is: ${}\".format(int(y_pred[0])))\n",
    "print(\"the extra revenue gain is: ${}\".format(int(xtra_rev_gain[0])))"
   ]
  },
  {
   "cell_type": "markdown",
   "metadata": {},
   "source": [
    "<b> Considering the cost of bobble head is $40,000 , the extra revenue gain would not cover the cost of it. As a result, the total game day revenue would actually be lower than the origial game day revenue </b>"
   ]
  },
  {
   "cell_type": "markdown",
   "metadata": {},
   "source": [
    "# Part III"
   ]
  },
  {
   "cell_type": "code",
   "execution_count": 463,
   "metadata": {
    "ExecuteTime": {
     "end_time": "2019-12-28T20:35:43.438890Z",
     "start_time": "2019-12-28T20:35:43.394217Z"
    }
   },
   "outputs": [],
   "source": [
    "df_part3 = pd.read_excel('Data for Associate Exercise_GJ.xlsx',sheet_name=7)\n",
    "\n",
    "df_dummies_part3 = pd.get_dummies(df_part3,drop_first=True)"
   ]
  },
  {
   "cell_type": "markdown",
   "metadata": {
    "ExecuteTime": {
     "end_time": "2019-12-22T15:18:27.013663Z",
     "start_time": "2019-12-22T15:18:27.008680Z"
    }
   },
   "source": [
    "#### Comparison of promotion methods on revenue generation and no-show rate reduction\n",
    "\n",
    "comparing all promotion methods in terms of their impact on different revenue streams. This would allow for better understanding on whcih method is most impactful for revenue generation as well as no-show rate reduction\n",
    "\n",
    "To quantify the impact on revenue, the correlation between the revenue stream and the promotion method was used as indicator. A higher correlation value corresponds to higher impact of the promotion \n",
    "\n",
    "Similarly, the correlation between the no-show rate and the promotion method was used as indicator. A lower correlation value corresponds to higher impact of the promotion "
   ]
  },
  {
   "cell_type": "code",
   "execution_count": 464,
   "metadata": {
    "ExecuteTime": {
     "end_time": "2019-12-28T20:35:51.802096Z",
     "start_time": "2019-12-28T20:35:51.771204Z"
    }
   },
   "outputs": [],
   "source": [
    "columns = [ 'PA_query.Promotion_Bobblehead', \n",
    "            'PA_query.Promotion_Hat',\n",
    "            'PA_query.Promotion_Jersey', \n",
    "            'PA_query.Promotion_Memorabilia',\n",
    "            'PA_query.Promotion_None', \n",
    "            'PA_query.Promotion_Other',\n",
    "            'PA_query.Promotion_Shirt/Sweater',\n",
    "            'PA_query.No-Show Rate', \n",
    "            'Food (Pregame)',\n",
    "            'Drinks (Pregame)', \n",
    "            'Merch.Pregame', \n",
    "            'PA_query.Total Ticket Revenue',\n",
    "            'Total Game day revenue'\n",
    "          ]\n",
    "df_promotion = df_dummies_part3[columns]"
   ]
  },
  {
   "cell_type": "code",
   "execution_count": 465,
   "metadata": {
    "ExecuteTime": {
     "end_time": "2019-12-28T20:35:59.993447Z",
     "start_time": "2019-12-28T20:35:59.926310Z"
    }
   },
   "outputs": [
    {
     "data": {
      "text/html": [
       "<div>\n",
       "<style scoped>\n",
       "    .dataframe tbody tr th:only-of-type {\n",
       "        vertical-align: middle;\n",
       "    }\n",
       "\n",
       "    .dataframe tbody tr th {\n",
       "        vertical-align: top;\n",
       "    }\n",
       "\n",
       "    .dataframe thead th {\n",
       "        text-align: right;\n",
       "    }\n",
       "</style>\n",
       "<table border=\"1\" class=\"dataframe\">\n",
       "  <thead>\n",
       "    <tr style=\"text-align: right;\">\n",
       "      <th></th>\n",
       "      <th>PA_query.No-Show Rate</th>\n",
       "      <th>Food (Pregame)</th>\n",
       "      <th>Drinks (Pregame)</th>\n",
       "      <th>Merch.Pregame</th>\n",
       "      <th>PA_query.Total Ticket Revenue</th>\n",
       "      <th>Total Game day revenue</th>\n",
       "    </tr>\n",
       "  </thead>\n",
       "  <tbody>\n",
       "    <tr>\n",
       "      <th>PA_query.Promotion_Bobblehead</th>\n",
       "      <td>-0.162019</td>\n",
       "      <td>0.288454</td>\n",
       "      <td>0.251638</td>\n",
       "      <td>0.234518</td>\n",
       "      <td>0.177899</td>\n",
       "      <td>0.174580</td>\n",
       "    </tr>\n",
       "    <tr>\n",
       "      <th>PA_query.Promotion_Hat</th>\n",
       "      <td>-0.175955</td>\n",
       "      <td>0.220676</td>\n",
       "      <td>0.284993</td>\n",
       "      <td>0.206031</td>\n",
       "      <td>0.156085</td>\n",
       "      <td>0.173509</td>\n",
       "    </tr>\n",
       "    <tr>\n",
       "      <th>PA_query.Promotion_Jersey</th>\n",
       "      <td>-0.116429</td>\n",
       "      <td>0.281980</td>\n",
       "      <td>0.140079</td>\n",
       "      <td>0.147086</td>\n",
       "      <td>0.130676</td>\n",
       "      <td>0.124265</td>\n",
       "    </tr>\n",
       "    <tr>\n",
       "      <th>PA_query.Promotion_Memorabilia</th>\n",
       "      <td>-0.007772</td>\n",
       "      <td>0.116483</td>\n",
       "      <td>0.027350</td>\n",
       "      <td>0.148281</td>\n",
       "      <td>0.154759</td>\n",
       "      <td>0.150532</td>\n",
       "    </tr>\n",
       "    <tr>\n",
       "      <th>PA_query.Promotion_None</th>\n",
       "      <td>0.314818</td>\n",
       "      <td>-0.616788</td>\n",
       "      <td>-0.520058</td>\n",
       "      <td>-0.404344</td>\n",
       "      <td>-0.343832</td>\n",
       "      <td>-0.367013</td>\n",
       "    </tr>\n",
       "    <tr>\n",
       "      <th>PA_query.Promotion_Other</th>\n",
       "      <td>-0.117227</td>\n",
       "      <td>0.266675</td>\n",
       "      <td>0.157986</td>\n",
       "      <td>0.167058</td>\n",
       "      <td>0.116058</td>\n",
       "      <td>0.129242</td>\n",
       "    </tr>\n",
       "    <tr>\n",
       "      <th>PA_query.Promotion_Shirt/Sweater</th>\n",
       "      <td>-0.089765</td>\n",
       "      <td>0.172828</td>\n",
       "      <td>0.242347</td>\n",
       "      <td>0.002453</td>\n",
       "      <td>0.051029</td>\n",
       "      <td>0.066873</td>\n",
       "    </tr>\n",
       "  </tbody>\n",
       "</table>\n",
       "</div>"
      ],
      "text/plain": [
       "                                  PA_query.No-Show Rate  Food (Pregame)  \\\n",
       "PA_query.Promotion_Bobblehead                 -0.162019        0.288454   \n",
       "PA_query.Promotion_Hat                        -0.175955        0.220676   \n",
       "PA_query.Promotion_Jersey                     -0.116429        0.281980   \n",
       "PA_query.Promotion_Memorabilia                -0.007772        0.116483   \n",
       "PA_query.Promotion_None                        0.314818       -0.616788   \n",
       "PA_query.Promotion_Other                      -0.117227        0.266675   \n",
       "PA_query.Promotion_Shirt/Sweater              -0.089765        0.172828   \n",
       "\n",
       "                                  Drinks (Pregame)  Merch.Pregame  \\\n",
       "PA_query.Promotion_Bobblehead             0.251638       0.234518   \n",
       "PA_query.Promotion_Hat                    0.284993       0.206031   \n",
       "PA_query.Promotion_Jersey                 0.140079       0.147086   \n",
       "PA_query.Promotion_Memorabilia            0.027350       0.148281   \n",
       "PA_query.Promotion_None                  -0.520058      -0.404344   \n",
       "PA_query.Promotion_Other                  0.157986       0.167058   \n",
       "PA_query.Promotion_Shirt/Sweater          0.242347       0.002453   \n",
       "\n",
       "                                  PA_query.Total Ticket Revenue  \\\n",
       "PA_query.Promotion_Bobblehead                          0.177899   \n",
       "PA_query.Promotion_Hat                                 0.156085   \n",
       "PA_query.Promotion_Jersey                              0.130676   \n",
       "PA_query.Promotion_Memorabilia                         0.154759   \n",
       "PA_query.Promotion_None                               -0.343832   \n",
       "PA_query.Promotion_Other                               0.116058   \n",
       "PA_query.Promotion_Shirt/Sweater                       0.051029   \n",
       "\n",
       "                                  Total Game day revenue  \n",
       "PA_query.Promotion_Bobblehead                   0.174580  \n",
       "PA_query.Promotion_Hat                          0.173509  \n",
       "PA_query.Promotion_Jersey                       0.124265  \n",
       "PA_query.Promotion_Memorabilia                  0.150532  \n",
       "PA_query.Promotion_None                        -0.367013  \n",
       "PA_query.Promotion_Other                        0.129242  \n",
       "PA_query.Promotion_Shirt/Sweater                0.066873  "
      ]
     },
     "execution_count": 465,
     "metadata": {},
     "output_type": "execute_result"
    }
   ],
   "source": [
    "corr = df_promotion.corr()\n",
    "\n",
    "corr_columns = ['PA_query.No-Show Rate',\n",
    "                'Food (Pregame)',\n",
    "                'Drinks (Pregame)',\n",
    "                'Merch.Pregame',\n",
    "                'PA_query.Total Ticket Revenue',\n",
    "                'Total Game day revenue']\n",
    "\n",
    "corr = corr[corr_columns]\n",
    "corr = corr.drop(['Food (Pregame)',\n",
    "                  'Drinks (Pregame)',\n",
    "                  'PA_query.No-Show Rate',\n",
    "                  'Merch.Pregame',\n",
    "                  'PA_query.Total Ticket Revenue',\n",
    "                  'Total Game day revenue'\n",
    "                 ],axis=0)\n",
    "\n",
    "corr"
   ]
  },
  {
   "cell_type": "code",
   "execution_count": 477,
   "metadata": {
    "ExecuteTime": {
     "end_time": "2019-12-28T20:40:21.789701Z",
     "start_time": "2019-12-28T20:40:21.306602Z"
    }
   },
   "outputs": [
    {
     "data": {
      "text/plain": [
       "(array([0.5, 1.5, 2.5, 3.5, 4.5, 5.5, 6.5]),\n",
       " <a list of 7 Text xticklabel objects>)"
      ]
     },
     "execution_count": 477,
     "metadata": {},
     "output_type": "execute_result"
    },
    {
     "data": {
      "image/png": "[encoded data removed]",
      "text/plain": [
       "<Figure size 720x720 with 2 Axes>"
      ]
     },
     "metadata": {},
     "output_type": "display_data"
    }
   ],
   "source": [
    "plt.figure(figsize = (10,10))\n",
    "sns.heatmap(corr.transpose(), vmin=0, vmax=1, cmap ='RdPu')\n",
    "plt.xticks(fontsize = 8,rotation = 45)"
   ]
  },
  {
   "cell_type": "code",
   "execution_count": 447,
   "metadata": {
    "ExecuteTime": {
     "end_time": "2019-12-28T02:14:07.410583Z",
     "start_time": "2019-12-28T02:14:07.399612Z"
    }
   },
   "outputs": [],
   "source": [
    "promotion_revenue_corr = corr['Total Game day revenue'].sort_values(ascending=False)\n",
    "promotion_ticket_corr = corr['PA_query.Total Ticket Revenue'].sort_values(ascending=False)\n",
    "promotion_merch_corr = corr['Merch.Pregame'].sort_values(ascending=False)\n",
    "promotion_drinks_corr = corr['Drinks (Pregame)'].sort_values(ascending=False)\n",
    "promotion_food_corr = corr['Food (Pregame)'].sort_values(ascending=False)\n",
    "\n",
    "promotion_noshoww_corr = corr['PA_query.No-Show Rate'].sort_values(ascending=True)"
   ]
  },
  {
   "cell_type": "code",
   "execution_count": 448,
   "metadata": {
    "ExecuteTime": {
     "end_time": "2019-12-28T02:14:14.815781Z",
     "start_time": "2019-12-28T02:14:14.805806Z"
    }
   },
   "outputs": [
    {
     "data": {
      "text/plain": [
       "PA_query.Promotion_Bobblehead       0.174580\n",
       "PA_query.Promotion_Hat              0.173509\n",
       "PA_query.Promotion_Memorabilia      0.150532\n",
       "PA_query.Promotion_Other            0.129242\n",
       "PA_query.Promotion_Jersey           0.124265\n",
       "PA_query.Promotion_Shirt/Sweater    0.066873\n",
       "PA_query.Promotion_None            -0.367013\n",
       "Name: Total Game day revenue, dtype: float64"
      ]
     },
     "execution_count": 448,
     "metadata": {},
     "output_type": "execute_result"
    }
   ],
   "source": [
    "# ranking of promotion method impact on total game day revenue\n",
    "promotion_revenue_corr"
   ]
  },
  {
   "cell_type": "code",
   "execution_count": 449,
   "metadata": {
    "ExecuteTime": {
     "end_time": "2019-12-28T02:14:21.509750Z",
     "start_time": "2019-12-28T02:14:21.499776Z"
    }
   },
   "outputs": [
    {
     "data": {
      "text/plain": [
       "PA_query.Promotion_Bobblehead       0.177899\n",
       "PA_query.Promotion_Hat              0.156085\n",
       "PA_query.Promotion_Memorabilia      0.154759\n",
       "PA_query.Promotion_Jersey           0.130676\n",
       "PA_query.Promotion_Other            0.116058\n",
       "PA_query.Promotion_Shirt/Sweater    0.051029\n",
       "PA_query.Promotion_None            -0.343832\n",
       "Name: PA_query.Total Ticket Revenue, dtype: float64"
      ]
     },
     "execution_count": 449,
     "metadata": {},
     "output_type": "execute_result"
    }
   ],
   "source": [
    "# ranking of promotion method impact on total tickets revenue\n",
    "promotion_ticket_corr"
   ]
  },
  {
   "cell_type": "code",
   "execution_count": 450,
   "metadata": {
    "ExecuteTime": {
     "end_time": "2019-12-28T02:14:29.050492Z",
     "start_time": "2019-12-28T02:14:29.040518Z"
    }
   },
   "outputs": [
    {
     "data": {
      "text/plain": [
       "PA_query.Promotion_Bobblehead       0.288454\n",
       "PA_query.Promotion_Jersey           0.281980\n",
       "PA_query.Promotion_Other            0.266675\n",
       "PA_query.Promotion_Hat              0.220676\n",
       "PA_query.Promotion_Shirt/Sweater    0.172828\n",
       "PA_query.Promotion_Memorabilia      0.116483\n",
       "PA_query.Promotion_None            -0.616788\n",
       "Name: Food (Pregame), dtype: float64"
      ]
     },
     "execution_count": 450,
     "metadata": {},
     "output_type": "execute_result"
    }
   ],
   "source": [
    "# ranking of promotion method impact on food (pregame) revenue\n",
    "promotion_food_corr"
   ]
  },
  {
   "cell_type": "code",
   "execution_count": 451,
   "metadata": {
    "ExecuteTime": {
     "end_time": "2019-12-28T02:14:37.599636Z",
     "start_time": "2019-12-28T02:14:37.590653Z"
    }
   },
   "outputs": [
    {
     "data": {
      "text/plain": [
       "PA_query.Promotion_Hat              0.284993\n",
       "PA_query.Promotion_Bobblehead       0.251638\n",
       "PA_query.Promotion_Shirt/Sweater    0.242347\n",
       "PA_query.Promotion_Other            0.157986\n",
       "PA_query.Promotion_Jersey           0.140079\n",
       "PA_query.Promotion_Memorabilia      0.027350\n",
       "PA_query.Promotion_None            -0.520058\n",
       "Name: Drinks (Pregame), dtype: float64"
      ]
     },
     "execution_count": 451,
     "metadata": {},
     "output_type": "execute_result"
    }
   ],
   "source": [
    "# ranking of promotion method impact on drinks (pregame) revenue\n",
    "promotion_drinks_corr"
   ]
  },
  {
   "cell_type": "code",
   "execution_count": 452,
   "metadata": {
    "ExecuteTime": {
     "end_time": "2019-12-28T02:14:45.591261Z",
     "start_time": "2019-12-28T02:14:45.581288Z"
    }
   },
   "outputs": [
    {
     "data": {
      "text/plain": [
       "PA_query.Promotion_Bobblehead       0.234518\n",
       "PA_query.Promotion_Hat              0.206031\n",
       "PA_query.Promotion_Other            0.167058\n",
       "PA_query.Promotion_Memorabilia      0.148281\n",
       "PA_query.Promotion_Jersey           0.147086\n",
       "PA_query.Promotion_Shirt/Sweater    0.002453\n",
       "PA_query.Promotion_None            -0.404344\n",
       "Name: Merch.Pregame, dtype: float64"
      ]
     },
     "execution_count": 452,
     "metadata": {},
     "output_type": "execute_result"
    }
   ],
   "source": [
    "# ranking of promotion method impact on merchandise (pregame) revenue\n",
    "promotion_merch_corr"
   ]
  },
  {
   "cell_type": "code",
   "execution_count": 453,
   "metadata": {
    "ExecuteTime": {
     "end_time": "2019-12-28T02:14:51.856676Z",
     "start_time": "2019-12-28T02:14:51.846700Z"
    }
   },
   "outputs": [
    {
     "data": {
      "text/plain": [
       "PA_query.Promotion_Hat             -0.175955\n",
       "PA_query.Promotion_Bobblehead      -0.162019\n",
       "PA_query.Promotion_Other           -0.117227\n",
       "PA_query.Promotion_Jersey          -0.116429\n",
       "PA_query.Promotion_Shirt/Sweater   -0.089765\n",
       "PA_query.Promotion_Memorabilia     -0.007772\n",
       "PA_query.Promotion_None             0.314818\n",
       "Name: PA_query.No-Show Rate, dtype: float64"
      ]
     },
     "execution_count": 453,
     "metadata": {},
     "output_type": "execute_result"
    }
   ],
   "source": [
    "# ranking of promotion method impact on no-show rate\n",
    "promotion_noshoww_corr"
   ]
  },
  {
   "cell_type": "markdown",
   "metadata": {},
   "source": [
    "#### Which factor is important to increase season tickets revenue?\n",
    "\n",
    "Season tickets revenue was found to be the biggest driver for total ticket revenue as of 2018. The motivating factors behind Season tickets sales should then be investigated\n",
    "\n",
    "The approach was to use Lasso regression to determine the most important factors."
   ]
  },
  {
   "cell_type": "code",
   "execution_count": 223,
   "metadata": {
    "ExecuteTime": {
     "end_time": "2019-12-25T16:25:06.190394Z",
     "start_time": "2019-12-25T16:25:06.181419Z"
    }
   },
   "outputs": [],
   "source": [
    "df_szn_tickets_rev = df.copy()\n",
    "df_szn_tickets_rev.set_index('Game Date',drop=True,inplace=True)"
   ]
  },
  {
   "cell_type": "code",
   "execution_count": 224,
   "metadata": {
    "ExecuteTime": {
     "end_time": "2019-12-25T16:25:08.950781Z",
     "start_time": "2019-12-25T16:25:08.913384Z"
    }
   },
   "outputs": [],
   "source": [
    "df_szn_tickets_rev.drop(['Season',\n",
    "                         'Opener',\n",
    "                         'Holiday',\n",
    "                         'Game Time',\n",
    "                         'Paid Attendance',\n",
    "                         'Total Ticket Revenue',\n",
    "                         'Season Ticket Revenue', \n",
    "                         'Single Game Tickets Sold',\n",
    "                         'Single Game Ticket Revenue', \n",
    "                         'Other Tickets Sold',\n",
    "                         'Other Ticket Revenue',\n",
    "                         'Stadium Capacity',\n",
    "                         'No-Show Rate'],axis=1,inplace=True)\n",
    "\n",
    "df_szn_tickets_rev = pd.get_dummies(df_szn_tickets_rev,drop_first=True)"
   ]
  },
  {
   "cell_type": "code",
   "execution_count": 260,
   "metadata": {
    "ExecuteTime": {
     "end_time": "2019-12-25T16:32:11.741621Z",
     "start_time": "2019-12-25T16:32:11.737597Z"
    }
   },
   "outputs": [],
   "source": [
    "from sklearn.linear_model import Lasso\n",
    "\n",
    "Lasso = Lasso(alpha=0.001,normalize=True)"
   ]
  },
  {
   "cell_type": "code",
   "execution_count": 261,
   "metadata": {
    "ExecuteTime": {
     "end_time": "2019-12-25T16:32:14.458337Z",
     "start_time": "2019-12-25T16:32:14.434891Z"
    }
   },
   "outputs": [],
   "source": [
    "x_lasso = df_szn_tickets_rev.drop('Season Tickets Sold',axis=1)\n",
    "y_lasso = df_szn_tickets_rev['Season Tickets Sold']\n",
    "\n",
    "Lasso.fit(x_lasso,y_lasso)\n",
    "\n",
    "coef = pd.Series(Lasso.coef_, x_lasso.columns)\n",
    "LassoVars = coef[coef >0].index\n",
    "\n",
    "x_LassoVars = x_lasso[LassoVars]"
   ]
  },
  {
   "cell_type": "code",
   "execution_count": 262,
   "metadata": {
    "ExecuteTime": {
     "end_time": "2019-12-25T16:32:17.499209Z",
     "start_time": "2019-12-25T16:32:17.023571Z"
    }
   },
   "outputs": [
    {
     "data": {
      "text/plain": [
       "Text(0.5,1,'Order of Features importance')"
      ]
     },
     "execution_count": 262,
     "metadata": {},
     "output_type": "execute_result"
    },
    {
     "data": {
      "image/png": "[encoded data removed]",
      "text/plain": [
       "<Figure size 720x1440 with 1 Axes>"
      ]
     },
     "metadata": {},
     "output_type": "display_data"
    }
   ],
   "source": [
    "plt.figure(figsize = (10,20))\n",
    "imp_coef = coef.sort_values()\n",
    "imp_coef.plot(kind = 'barh',color='orange',alpha=0.5)\n",
    "plt.title('Order of Features importance',fontsize = 16)"
   ]
  },
  {
   "cell_type": "markdown",
   "metadata": {},
   "source": [
    "<b> Interpretation </b>\n",
    "\n",
    "The most important factors for season ticket revenues were determined as the months during summer and fall as well as jersey promotion. \n",
    "\n",
    "Therefore, it's recommendd the promotion of season ticket sales should be empahsized during summer, with the aid of jersey giveaway"
   ]
  }
 ],
 "metadata": {
  "kernelspec": {
   "display_name": "Python 3",
   "language": "python",
   "name": "python3"
  },
  "language_info": {
   "codemirror_mode": {
    "name": "ipython",
    "version": 3
   },
   "file_extension": ".py",
   "mimetype": "text/x-python",
   "name": "python",
   "nbconvert_exporter": "python",
   "pygments_lexer": "ipython3",
   "version": "3.6.5"
  },
  "varInspector": {
   "cols": {
    "lenName": 16,
    "lenType": 16,
    "lenVar": 40
   },
   "kernels_config": {
    "python": {
     "delete_cmd_postfix": "",
     "delete_cmd_prefix": "del ",
     "library": "var_list.py",
     "varRefreshCmd": "print(var_dic_list())"
    },
    "r": {
     "delete_cmd_postfix": ") ",
     "delete_cmd_prefix": "rm(",
     "library": "var_list.r",
     "varRefreshCmd": "cat(var_dic_list()) "
    }
   },
   "types_to_exclude": [
    "module",
    "function",
    "builtin_function_or_method",
    "instance",
    "_Feature"
   ],
   "window_display": false
  }
 },
 "nbformat": 4,
 "nbformat_minor": 2
}
