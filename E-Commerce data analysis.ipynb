{
 "cells": [
  {
   "cell_type": "markdown",
   "metadata": {},
   "source": [
    "<h2> Background </h2>\n",
    "\n",
    "The dataset contains all the transactions occurring between 01/12/2009 and 09/12/2011 for an online retailer store.\n",
    "The company mainly sells unique all-occasion gifts to wholesalers."
   ]
  },
  {
   "cell_type": "code",
   "execution_count": 1,
   "metadata": {
    "ExecuteTime": {
     "end_time": "2019-10-10T19:38:58.562298Z",
     "start_time": "2019-10-10T19:38:52.970048Z"
    }
   },
   "outputs": [],
   "source": [
    "import numpy as np\n",
    "import pandas as pd\n",
    "from datetime import datetime, date\n",
    "import time\n",
    "import matplotlib.pyplot as plt\n",
    "import seaborn as sns\n",
    "\n",
    "from sklearn.cluster import KMeans\n",
    "from sklearn.preprocessing import StandardScaler "
   ]
  },
  {
   "cell_type": "code",
   "execution_count": 2,
   "metadata": {
    "ExecuteTime": {
     "end_time": "2019-10-10T19:42:23.311027Z",
     "start_time": "2019-10-10T19:40:51.230952Z"
    }
   },
   "outputs": [],
   "source": [
    "file = pd.ExcelFile('online_retail_II.xlsx')\n",
    "df = pd.read_excel(file,'Year 2009-2010')\n",
    "df_2 = pd.read_excel(file,'Year 2010-2011')"
   ]
  },
  {
   "cell_type": "code",
   "execution_count": 3,
   "metadata": {
    "ExecuteTime": {
     "end_time": "2019-10-10T19:46:27.227388Z",
     "start_time": "2019-10-10T19:45:58.956268Z"
    }
   },
   "outputs": [],
   "source": [
    "df['year'] = df['InvoiceDate'].apply(lambda x: x.year)\n",
    "df['month'] = df['InvoiceDate'].apply(lambda x: x.month)\n",
    "df['day'] = df['InvoiceDate'].apply(lambda x: x.day)\n",
    "df['hour'] = df['InvoiceDate'].apply(lambda x: x.hour)"
   ]
  },
  {
   "cell_type": "code",
   "execution_count": 8,
   "metadata": {
    "ExecuteTime": {
     "end_time": "2019-10-10T20:03:11.277464Z",
     "start_time": "2019-10-10T20:03:01.130799Z"
    }
   },
   "outputs": [],
   "source": [
    "df_2['year'] = df_2['InvoiceDate'].apply(lambda x: x.year)\n",
    "df_2['month'] = df_2['InvoiceDate'].apply(lambda x: x.month)\n",
    "df_2['day'] = df_2['InvoiceDate'].apply(lambda x: x.day)\n",
    "df_2['hour'] = df_2['InvoiceDate'].apply(lambda x: x.hour)"
   ]
  },
  {
   "cell_type": "code",
   "execution_count": 9,
   "metadata": {
    "ExecuteTime": {
     "end_time": "2019-10-10T20:03:13.317991Z",
     "start_time": "2019-10-10T20:03:12.973403Z"
    }
   },
   "outputs": [
    {
     "name": "stdout",
     "output_type": "stream",
     "text": [
      "<class 'pandas.core.frame.DataFrame'>\n",
      "RangeIndex: 525461 entries, 0 to 525460\n",
      "Data columns (total 12 columns):\n",
      "Invoice        525461 non-null object\n",
      "StockCode      525461 non-null object\n",
      "Description    522533 non-null object\n",
      "Quantity       525461 non-null int64\n",
      "InvoiceDate    525461 non-null datetime64[ns]\n",
      "Price          525461 non-null float64\n",
      "Customer ID    417534 non-null float64\n",
      "Country        525461 non-null object\n",
      "year           525461 non-null int64\n",
      "month          525461 non-null int64\n",
      "day            525461 non-null int64\n",
      "hour           525461 non-null int64\n",
      "dtypes: datetime64[ns](1), float64(2), int64(5), object(4)\n",
      "memory usage: 48.1+ MB\n"
     ]
    }
   ],
   "source": [
    "df.info()"
   ]
  },
  {
   "cell_type": "code",
   "execution_count": 10,
   "metadata": {
    "ExecuteTime": {
     "end_time": "2019-10-10T20:03:15.379689Z",
     "start_time": "2019-10-10T20:03:15.114695Z"
    }
   },
   "outputs": [
    {
     "data": {
      "text/plain": [
       "Invoice             0\n",
       "StockCode           0\n",
       "Description      2928\n",
       "Quantity            0\n",
       "InvoiceDate         0\n",
       "Price               0\n",
       "Customer ID    107927\n",
       "Country             0\n",
       "year                0\n",
       "month               0\n",
       "day                 0\n",
       "hour                0\n",
       "dtype: int64"
      ]
     },
     "execution_count": 10,
     "metadata": {},
     "output_type": "execute_result"
    }
   ],
   "source": [
    "df.isnull().sum()"
   ]
  },
  {
   "cell_type": "code",
   "execution_count": 11,
   "metadata": {
    "ExecuteTime": {
     "end_time": "2019-10-10T20:03:17.458545Z",
     "start_time": "2019-10-10T20:03:17.159378Z"
    }
   },
   "outputs": [
    {
     "name": "stdout",
     "output_type": "stream",
     "text": [
      "<class 'pandas.core.frame.DataFrame'>\n",
      "RangeIndex: 541910 entries, 0 to 541909\n",
      "Data columns (total 12 columns):\n",
      "Invoice        541910 non-null object\n",
      "StockCode      541910 non-null object\n",
      "Description    540456 non-null object\n",
      "Quantity       541910 non-null int64\n",
      "InvoiceDate    541910 non-null datetime64[ns]\n",
      "Price          541910 non-null float64\n",
      "Customer ID    406830 non-null float64\n",
      "Country        541910 non-null object\n",
      "year           541910 non-null int64\n",
      "month          541910 non-null int64\n",
      "day            541910 non-null int64\n",
      "hour           541910 non-null int64\n",
      "dtypes: datetime64[ns](1), float64(2), int64(5), object(4)\n",
      "memory usage: 49.6+ MB\n"
     ]
    }
   ],
   "source": [
    "df_2.info()"
   ]
  },
  {
   "cell_type": "code",
   "execution_count": 12,
   "metadata": {
    "ExecuteTime": {
     "end_time": "2019-10-10T20:03:21.174859Z",
     "start_time": "2019-10-10T20:03:20.929011Z"
    }
   },
   "outputs": [
    {
     "data": {
      "text/plain": [
       "Invoice             0\n",
       "StockCode           0\n",
       "Description      1454\n",
       "Quantity            0\n",
       "InvoiceDate         0\n",
       "Price               0\n",
       "Customer ID    135080\n",
       "Country             0\n",
       "year                0\n",
       "month               0\n",
       "day                 0\n",
       "hour                0\n",
       "dtype: int64"
      ]
     },
     "execution_count": 12,
     "metadata": {},
     "output_type": "execute_result"
    }
   ],
   "source": [
    "df_2.isnull().sum()"
   ]
  },
  {
   "cell_type": "code",
   "execution_count": 13,
   "metadata": {
    "ExecuteTime": {
     "end_time": "2019-10-10T20:03:40.486553Z",
     "start_time": "2019-10-10T20:03:39.915703Z"
    }
   },
   "outputs": [
    {
     "name": "stdout",
     "output_type": "stream",
     "text": [
      "Percentage of missing values of Customer ID:  20.53948818275762 %\n",
      "Percentage of missing values of Description:  0.5572249891048051 %\n"
     ]
    },
    {
     "data": {
      "text/plain": [
       "Invoice        0\n",
       "StockCode      0\n",
       "Description    0\n",
       "Quantity       0\n",
       "InvoiceDate    0\n",
       "Price          0\n",
       "Customer ID    0\n",
       "Country        0\n",
       "year           0\n",
       "month          0\n",
       "day            0\n",
       "hour           0\n",
       "dtype: int64"
      ]
     },
     "execution_count": 13,
     "metadata": {},
     "output_type": "execute_result"
    }
   ],
   "source": [
    "print('Percentage of missing values of Customer ID: ',df['Customer ID'].isnull().sum()/len(df)*100,'%')\n",
    "\n",
    "print('Percentage of missing values of Description: ',df['Description'].isnull().sum()/len(df)*100,'%')\n",
    "\n",
    "df = df.dropna()\n",
    "\n",
    "df.isnull().sum()"
   ]
  },
  {
   "cell_type": "code",
   "execution_count": 14,
   "metadata": {
    "ExecuteTime": {
     "end_time": "2019-10-10T20:04:07.719270Z",
     "start_time": "2019-10-10T20:04:07.168682Z"
    }
   },
   "outputs": [
    {
     "name": "stdout",
     "output_type": "stream",
     "text": [
      "Percentage of missing values of Customer ID:  32.3518563757682 %\n",
      "Percentage of missing values of Description:  0.34823511378714067 %\n"
     ]
    },
    {
     "data": {
      "text/plain": [
       "Invoice        0\n",
       "StockCode      0\n",
       "Description    0\n",
       "Quantity       0\n",
       "InvoiceDate    0\n",
       "Price          0\n",
       "Customer ID    0\n",
       "Country        0\n",
       "year           0\n",
       "month          0\n",
       "day            0\n",
       "hour           0\n",
       "dtype: int64"
      ]
     },
     "execution_count": 14,
     "metadata": {},
     "output_type": "execute_result"
    }
   ],
   "source": [
    "print('Percentage of missing values of Customer ID: ',df_2['Customer ID'].isnull().sum()/len(df)*100,'%')\n",
    "\n",
    "print('Percentage of missing values of Description: ',df_2['Description'].isnull().sum()/len(df)*100,'%')\n",
    "\n",
    "df_2 = df_2.dropna()\n",
    "\n",
    "df_2.isnull().sum()"
   ]
  },
  {
   "cell_type": "code",
   "execution_count": 15,
   "metadata": {
    "ExecuteTime": {
     "end_time": "2019-10-10T20:04:52.748909Z",
     "start_time": "2019-10-10T20:04:51.777786Z"
    }
   },
   "outputs": [
    {
     "data": {
      "text/html": [
       "<div>\n",
       "<style scoped>\n",
       "    .dataframe tbody tr th:only-of-type {\n",
       "        vertical-align: middle;\n",
       "    }\n",
       "\n",
       "    .dataframe tbody tr th {\n",
       "        vertical-align: top;\n",
       "    }\n",
       "\n",
       "    .dataframe thead th {\n",
       "        text-align: right;\n",
       "    }\n",
       "</style>\n",
       "<table border=\"1\" class=\"dataframe\">\n",
       "  <thead>\n",
       "    <tr style=\"text-align: right;\">\n",
       "      <th></th>\n",
       "      <th>Invoice</th>\n",
       "      <th>StockCode</th>\n",
       "      <th>Customer ID</th>\n",
       "      <th>Country</th>\n",
       "      <th>InvoiceDate</th>\n",
       "      <th>year</th>\n",
       "      <th>month</th>\n",
       "      <th>day</th>\n",
       "      <th>hour</th>\n",
       "      <th>Description</th>\n",
       "      <th>Quantity</th>\n",
       "      <th>Price</th>\n",
       "      <th>total amount</th>\n",
       "    </tr>\n",
       "  </thead>\n",
       "  <tbody>\n",
       "    <tr>\n",
       "      <th>0</th>\n",
       "      <td>489434</td>\n",
       "      <td>85048</td>\n",
       "      <td>13085</td>\n",
       "      <td>United Kingdom</td>\n",
       "      <td>2009-12-01 07:45:00</td>\n",
       "      <td>2009</td>\n",
       "      <td>12</td>\n",
       "      <td>1</td>\n",
       "      <td>7</td>\n",
       "      <td>15CM CHRISTMAS GLASS BALL 20 LIGHTS</td>\n",
       "      <td>12</td>\n",
       "      <td>6.95</td>\n",
       "      <td>83.4</td>\n",
       "    </tr>\n",
       "    <tr>\n",
       "      <th>1</th>\n",
       "      <td>489434</td>\n",
       "      <td>79323P</td>\n",
       "      <td>13085</td>\n",
       "      <td>United Kingdom</td>\n",
       "      <td>2009-12-01 07:45:00</td>\n",
       "      <td>2009</td>\n",
       "      <td>12</td>\n",
       "      <td>1</td>\n",
       "      <td>7</td>\n",
       "      <td>PINK CHERRY LIGHTS</td>\n",
       "      <td>12</td>\n",
       "      <td>6.75</td>\n",
       "      <td>81.0</td>\n",
       "    </tr>\n",
       "    <tr>\n",
       "      <th>2</th>\n",
       "      <td>489434</td>\n",
       "      <td>79323W</td>\n",
       "      <td>13085</td>\n",
       "      <td>United Kingdom</td>\n",
       "      <td>2009-12-01 07:45:00</td>\n",
       "      <td>2009</td>\n",
       "      <td>12</td>\n",
       "      <td>1</td>\n",
       "      <td>7</td>\n",
       "      <td>WHITE CHERRY LIGHTS</td>\n",
       "      <td>12</td>\n",
       "      <td>6.75</td>\n",
       "      <td>81.0</td>\n",
       "    </tr>\n",
       "    <tr>\n",
       "      <th>3</th>\n",
       "      <td>489434</td>\n",
       "      <td>22041</td>\n",
       "      <td>13085</td>\n",
       "      <td>United Kingdom</td>\n",
       "      <td>2009-12-01 07:45:00</td>\n",
       "      <td>2009</td>\n",
       "      <td>12</td>\n",
       "      <td>1</td>\n",
       "      <td>7</td>\n",
       "      <td>RECORD FRAME 7\" SINGLE SIZE</td>\n",
       "      <td>48</td>\n",
       "      <td>2.10</td>\n",
       "      <td>100.8</td>\n",
       "    </tr>\n",
       "    <tr>\n",
       "      <th>4</th>\n",
       "      <td>489434</td>\n",
       "      <td>21232</td>\n",
       "      <td>13085</td>\n",
       "      <td>United Kingdom</td>\n",
       "      <td>2009-12-01 07:45:00</td>\n",
       "      <td>2009</td>\n",
       "      <td>12</td>\n",
       "      <td>1</td>\n",
       "      <td>7</td>\n",
       "      <td>STRAWBERRY CERAMIC TRINKET BOX</td>\n",
       "      <td>24</td>\n",
       "      <td>1.25</td>\n",
       "      <td>30.0</td>\n",
       "    </tr>\n",
       "  </tbody>\n",
       "</table>\n",
       "</div>"
      ],
      "text/plain": [
       "  Invoice StockCode  Customer ID         Country         InvoiceDate  year  \\\n",
       "0  489434     85048        13085  United Kingdom 2009-12-01 07:45:00  2009   \n",
       "1  489434    79323P        13085  United Kingdom 2009-12-01 07:45:00  2009   \n",
       "2  489434    79323W        13085  United Kingdom 2009-12-01 07:45:00  2009   \n",
       "3  489434     22041        13085  United Kingdom 2009-12-01 07:45:00  2009   \n",
       "4  489434     21232        13085  United Kingdom 2009-12-01 07:45:00  2009   \n",
       "\n",
       "   month  day  hour                          Description  Quantity  Price  \\\n",
       "0     12    1     7  15CM CHRISTMAS GLASS BALL 20 LIGHTS        12   6.95   \n",
       "1     12    1     7                   PINK CHERRY LIGHTS        12   6.75   \n",
       "2     12    1     7                  WHITE CHERRY LIGHTS        12   6.75   \n",
       "3     12    1     7         RECORD FRAME 7\" SINGLE SIZE         48   2.10   \n",
       "4     12    1     7       STRAWBERRY CERAMIC TRINKET BOX        24   1.25   \n",
       "\n",
       "   total amount  \n",
       "0          83.4  \n",
       "1          81.0  \n",
       "2          81.0  \n",
       "3         100.8  \n",
       "4          30.0  "
      ]
     },
     "execution_count": 15,
     "metadata": {},
     "output_type": "execute_result"
    }
   ],
   "source": [
    "df['Customer ID'] = df['Customer ID'].astype('int64')\n",
    "df['Quantity'] = df['Quantity'].apply(lambda x: abs(x))\n",
    "\n",
    "df['total amount'] = df['Quantity']*df['Price']\n",
    "\n",
    "df = df[['Invoice','StockCode','Customer ID','Country','InvoiceDate','year','month','day','hour','Description',\n",
    "         'Quantity','Price','total amount']]\n",
    "\n",
    "df.head()"
   ]
  },
  {
   "cell_type": "code",
   "execution_count": 37,
   "metadata": {
    "ExecuteTime": {
     "end_time": "2019-10-10T20:15:12.080781Z",
     "start_time": "2019-10-10T20:15:11.759605Z"
    }
   },
   "outputs": [
    {
     "data": {
      "text/html": [
       "<div>\n",
       "<style scoped>\n",
       "    .dataframe tbody tr th:only-of-type {\n",
       "        vertical-align: middle;\n",
       "    }\n",
       "\n",
       "    .dataframe tbody tr th {\n",
       "        vertical-align: top;\n",
       "    }\n",
       "\n",
       "    .dataframe thead th {\n",
       "        text-align: right;\n",
       "    }\n",
       "</style>\n",
       "<table border=\"1\" class=\"dataframe\">\n",
       "  <thead>\n",
       "    <tr style=\"text-align: right;\">\n",
       "      <th></th>\n",
       "      <th>Invoice</th>\n",
       "      <th>StockCode</th>\n",
       "      <th>Customer ID</th>\n",
       "      <th>Country</th>\n",
       "      <th>InvoiceDate</th>\n",
       "      <th>year</th>\n",
       "      <th>month</th>\n",
       "      <th>day</th>\n",
       "      <th>hour</th>\n",
       "      <th>Description</th>\n",
       "      <th>Quantity</th>\n",
       "      <th>Price</th>\n",
       "      <th>total amount</th>\n",
       "    </tr>\n",
       "  </thead>\n",
       "  <tbody>\n",
       "    <tr>\n",
       "      <th>0</th>\n",
       "      <td>536365</td>\n",
       "      <td>85123A</td>\n",
       "      <td>17850</td>\n",
       "      <td>United Kingdom</td>\n",
       "      <td>2010-12-01 08:26:00</td>\n",
       "      <td>2010</td>\n",
       "      <td>12</td>\n",
       "      <td>1</td>\n",
       "      <td>8</td>\n",
       "      <td>WHITE HANGING HEART T-LIGHT HOLDER</td>\n",
       "      <td>6</td>\n",
       "      <td>2.55</td>\n",
       "      <td>15.30</td>\n",
       "    </tr>\n",
       "    <tr>\n",
       "      <th>1</th>\n",
       "      <td>536365</td>\n",
       "      <td>71053</td>\n",
       "      <td>17850</td>\n",
       "      <td>United Kingdom</td>\n",
       "      <td>2010-12-01 08:26:00</td>\n",
       "      <td>2010</td>\n",
       "      <td>12</td>\n",
       "      <td>1</td>\n",
       "      <td>8</td>\n",
       "      <td>WHITE METAL LANTERN</td>\n",
       "      <td>6</td>\n",
       "      <td>3.39</td>\n",
       "      <td>20.34</td>\n",
       "    </tr>\n",
       "    <tr>\n",
       "      <th>2</th>\n",
       "      <td>536365</td>\n",
       "      <td>84406B</td>\n",
       "      <td>17850</td>\n",
       "      <td>United Kingdom</td>\n",
       "      <td>2010-12-01 08:26:00</td>\n",
       "      <td>2010</td>\n",
       "      <td>12</td>\n",
       "      <td>1</td>\n",
       "      <td>8</td>\n",
       "      <td>CREAM CUPID HEARTS COAT HANGER</td>\n",
       "      <td>8</td>\n",
       "      <td>2.75</td>\n",
       "      <td>22.00</td>\n",
       "    </tr>\n",
       "    <tr>\n",
       "      <th>3</th>\n",
       "      <td>536365</td>\n",
       "      <td>84029G</td>\n",
       "      <td>17850</td>\n",
       "      <td>United Kingdom</td>\n",
       "      <td>2010-12-01 08:26:00</td>\n",
       "      <td>2010</td>\n",
       "      <td>12</td>\n",
       "      <td>1</td>\n",
       "      <td>8</td>\n",
       "      <td>KNITTED UNION FLAG HOT WATER BOTTLE</td>\n",
       "      <td>6</td>\n",
       "      <td>3.39</td>\n",
       "      <td>20.34</td>\n",
       "    </tr>\n",
       "    <tr>\n",
       "      <th>4</th>\n",
       "      <td>536365</td>\n",
       "      <td>84029E</td>\n",
       "      <td>17850</td>\n",
       "      <td>United Kingdom</td>\n",
       "      <td>2010-12-01 08:26:00</td>\n",
       "      <td>2010</td>\n",
       "      <td>12</td>\n",
       "      <td>1</td>\n",
       "      <td>8</td>\n",
       "      <td>RED WOOLLY HOTTIE WHITE HEART.</td>\n",
       "      <td>6</td>\n",
       "      <td>3.39</td>\n",
       "      <td>20.34</td>\n",
       "    </tr>\n",
       "  </tbody>\n",
       "</table>\n",
       "</div>"
      ],
      "text/plain": [
       "  Invoice StockCode  Customer ID         Country         InvoiceDate  year  \\\n",
       "0  536365    85123A        17850  United Kingdom 2010-12-01 08:26:00  2010   \n",
       "1  536365     71053        17850  United Kingdom 2010-12-01 08:26:00  2010   \n",
       "2  536365    84406B        17850  United Kingdom 2010-12-01 08:26:00  2010   \n",
       "3  536365    84029G        17850  United Kingdom 2010-12-01 08:26:00  2010   \n",
       "4  536365    84029E        17850  United Kingdom 2010-12-01 08:26:00  2010   \n",
       "\n",
       "   month  day  hour                          Description  Quantity  Price  \\\n",
       "0     12    1     8   WHITE HANGING HEART T-LIGHT HOLDER         6   2.55   \n",
       "1     12    1     8                  WHITE METAL LANTERN         6   3.39   \n",
       "2     12    1     8       CREAM CUPID HEARTS COAT HANGER         8   2.75   \n",
       "3     12    1     8  KNITTED UNION FLAG HOT WATER BOTTLE         6   3.39   \n",
       "4     12    1     8       RED WOOLLY HOTTIE WHITE HEART.         6   3.39   \n",
       "\n",
       "   total amount  \n",
       "0         15.30  \n",
       "1         20.34  \n",
       "2         22.00  \n",
       "3         20.34  \n",
       "4         20.34  "
      ]
     },
     "execution_count": 37,
     "metadata": {},
     "output_type": "execute_result"
    }
   ],
   "source": [
    "df_2['Customer ID'] = df_2['Customer ID'].astype('int64')\n",
    "df_2['Quantity'] = df_2['Quantity'].apply(lambda x: abs(x))\n",
    "\n",
    "df_2['total amount'] = df_2['Quantity']*df_2['Price']\n",
    "\n",
    "df_2 = df_2[['Invoice','StockCode','Customer ID','Country','InvoiceDate','year','month','day','hour','Description',\n",
    "         'Quantity','Price','total amount']]\n",
    "\n",
    "\n",
    "df_2.head()"
   ]
  },
  {
   "cell_type": "code",
   "execution_count": 39,
   "metadata": {
    "ExecuteTime": {
     "end_time": "2019-10-10T20:15:28.736144Z",
     "start_time": "2019-10-10T20:15:28.486880Z"
    }
   },
   "outputs": [
    {
     "data": {
      "text/html": [
       "<div>\n",
       "<style scoped>\n",
       "    .dataframe tbody tr th:only-of-type {\n",
       "        vertical-align: middle;\n",
       "    }\n",
       "\n",
       "    .dataframe tbody tr th {\n",
       "        vertical-align: top;\n",
       "    }\n",
       "\n",
       "    .dataframe thead th {\n",
       "        text-align: right;\n",
       "    }\n",
       "</style>\n",
       "<table border=\"1\" class=\"dataframe\">\n",
       "  <thead>\n",
       "    <tr style=\"text-align: right;\">\n",
       "      <th></th>\n",
       "      <th>Invoice</th>\n",
       "      <th>StockCode</th>\n",
       "      <th>Customer ID</th>\n",
       "      <th>Country</th>\n",
       "      <th>InvoiceDate</th>\n",
       "      <th>year</th>\n",
       "      <th>month</th>\n",
       "      <th>day</th>\n",
       "      <th>hour</th>\n",
       "      <th>Description</th>\n",
       "      <th>Quantity</th>\n",
       "      <th>Price</th>\n",
       "      <th>total amount</th>\n",
       "    </tr>\n",
       "  </thead>\n",
       "  <tbody>\n",
       "    <tr>\n",
       "      <th>0</th>\n",
       "      <td>489434</td>\n",
       "      <td>85048</td>\n",
       "      <td>13085</td>\n",
       "      <td>United Kingdom</td>\n",
       "      <td>2009-12-01 07:45:00</td>\n",
       "      <td>2009</td>\n",
       "      <td>12</td>\n",
       "      <td>1</td>\n",
       "      <td>7</td>\n",
       "      <td>15CM CHRISTMAS GLASS BALL 20 LIGHTS</td>\n",
       "      <td>12</td>\n",
       "      <td>6.95</td>\n",
       "      <td>83.4</td>\n",
       "    </tr>\n",
       "    <tr>\n",
       "      <th>1</th>\n",
       "      <td>489434</td>\n",
       "      <td>79323P</td>\n",
       "      <td>13085</td>\n",
       "      <td>United Kingdom</td>\n",
       "      <td>2009-12-01 07:45:00</td>\n",
       "      <td>2009</td>\n",
       "      <td>12</td>\n",
       "      <td>1</td>\n",
       "      <td>7</td>\n",
       "      <td>PINK CHERRY LIGHTS</td>\n",
       "      <td>12</td>\n",
       "      <td>6.75</td>\n",
       "      <td>81.0</td>\n",
       "    </tr>\n",
       "    <tr>\n",
       "      <th>2</th>\n",
       "      <td>489434</td>\n",
       "      <td>79323W</td>\n",
       "      <td>13085</td>\n",
       "      <td>United Kingdom</td>\n",
       "      <td>2009-12-01 07:45:00</td>\n",
       "      <td>2009</td>\n",
       "      <td>12</td>\n",
       "      <td>1</td>\n",
       "      <td>7</td>\n",
       "      <td>WHITE CHERRY LIGHTS</td>\n",
       "      <td>12</td>\n",
       "      <td>6.75</td>\n",
       "      <td>81.0</td>\n",
       "    </tr>\n",
       "    <tr>\n",
       "      <th>3</th>\n",
       "      <td>489434</td>\n",
       "      <td>22041</td>\n",
       "      <td>13085</td>\n",
       "      <td>United Kingdom</td>\n",
       "      <td>2009-12-01 07:45:00</td>\n",
       "      <td>2009</td>\n",
       "      <td>12</td>\n",
       "      <td>1</td>\n",
       "      <td>7</td>\n",
       "      <td>RECORD FRAME 7\" SINGLE SIZE</td>\n",
       "      <td>48</td>\n",
       "      <td>2.10</td>\n",
       "      <td>100.8</td>\n",
       "    </tr>\n",
       "    <tr>\n",
       "      <th>4</th>\n",
       "      <td>489434</td>\n",
       "      <td>21232</td>\n",
       "      <td>13085</td>\n",
       "      <td>United Kingdom</td>\n",
       "      <td>2009-12-01 07:45:00</td>\n",
       "      <td>2009</td>\n",
       "      <td>12</td>\n",
       "      <td>1</td>\n",
       "      <td>7</td>\n",
       "      <td>STRAWBERRY CERAMIC TRINKET BOX</td>\n",
       "      <td>24</td>\n",
       "      <td>1.25</td>\n",
       "      <td>30.0</td>\n",
       "    </tr>\n",
       "  </tbody>\n",
       "</table>\n",
       "</div>"
      ],
      "text/plain": [
       "  Invoice StockCode  Customer ID         Country         InvoiceDate  year  \\\n",
       "0  489434     85048        13085  United Kingdom 2009-12-01 07:45:00  2009   \n",
       "1  489434    79323P        13085  United Kingdom 2009-12-01 07:45:00  2009   \n",
       "2  489434    79323W        13085  United Kingdom 2009-12-01 07:45:00  2009   \n",
       "3  489434     22041        13085  United Kingdom 2009-12-01 07:45:00  2009   \n",
       "4  489434     21232        13085  United Kingdom 2009-12-01 07:45:00  2009   \n",
       "\n",
       "   month  day  hour                          Description  Quantity  Price  \\\n",
       "0     12    1     7  15CM CHRISTMAS GLASS BALL 20 LIGHTS        12   6.95   \n",
       "1     12    1     7                   PINK CHERRY LIGHTS        12   6.75   \n",
       "2     12    1     7                  WHITE CHERRY LIGHTS        12   6.75   \n",
       "3     12    1     7         RECORD FRAME 7\" SINGLE SIZE         48   2.10   \n",
       "4     12    1     7       STRAWBERRY CERAMIC TRINKET BOX        24   1.25   \n",
       "\n",
       "   total amount  \n",
       "0          83.4  \n",
       "1          81.0  \n",
       "2          81.0  \n",
       "3         100.8  \n",
       "4          30.0  "
      ]
     },
     "execution_count": 39,
     "metadata": {},
     "output_type": "execute_result"
    }
   ],
   "source": [
    "df_full = pd.concat([df,df_2],axis =0, ignore_index=True)\n",
    "df_full.head()"
   ]
  },
  {
   "cell_type": "markdown",
   "metadata": {},
   "source": [
    "### Exploratory Data Analysis"
   ]
  },
  {
   "cell_type": "code",
   "execution_count": 41,
   "metadata": {
    "ExecuteTime": {
     "end_time": "2019-10-10T20:15:46.273509Z",
     "start_time": "2019-10-10T20:15:45.548938Z"
    }
   },
   "outputs": [],
   "source": [
    "customer_pivot = pd.pivot_table(df_full,\n",
    "                                values=['total amount'],\n",
    "                                index=['Customer ID'],\n",
    "                                columns=['year'],\n",
    "                                fill_value = 0,\n",
    "                                aggfunc=np.sum,\n",
    "                                margins = True)"
   ]
  },
  {
   "cell_type": "code",
   "execution_count": 43,
   "metadata": {
    "ExecuteTime": {
     "end_time": "2019-10-10T20:16:20.209645Z",
     "start_time": "2019-10-10T20:16:19.894463Z"
    }
   },
   "outputs": [
    {
     "data": {
      "text/plain": [
       "([<matplotlib.axis.XTick at 0x198bfeaa780>,\n",
       "  <matplotlib.axis.XTick at 0x198bfeaa0b8>,\n",
       "  <matplotlib.axis.XTick at 0x198b29a1da0>,\n",
       "  <matplotlib.axis.XTick at 0x198b3c98e10>,\n",
       "  <matplotlib.axis.XTick at 0x198b44ba4e0>,\n",
       "  <matplotlib.axis.XTick at 0x198b44ba9e8>,\n",
       "  <matplotlib.axis.XTick at 0x198b44baef0>,\n",
       "  <matplotlib.axis.XTick at 0x198b5c12438>,\n",
       "  <matplotlib.axis.XTick at 0x198b29a1dd8>,\n",
       "  <matplotlib.axis.XTick at 0x198b58b5e80>,\n",
       "  <matplotlib.axis.XTick at 0x198b5c12898>,\n",
       "  <matplotlib.axis.XTick at 0x198b63259b0>,\n",
       "  <matplotlib.axis.XTick at 0x198b6325f60>],\n",
       " <a list of 12 Text xticklabel objects>)"
      ]
     },
     "execution_count": 43,
     "metadata": {},
     "output_type": "execute_result"
    },
    {
     "data": {
      "image/png": "[encoded data removed]",
      "text/plain": [
       "<Figure size 936x432 with 1 Axes>"
      ]
     },
     "metadata": {},
     "output_type": "display_data"
    }
   ],
   "source": [
    "plt.figure(figsize = (13,6))\n",
    "df.groupby(['year','month'])['total amount'].sum()[:-1].plot()\n",
    "plt.title('Sales from 2009-2010')\n",
    "plt.ylabel('Sales')\n",
    "plt.xticks(np.arange(13),('Dec_09','Jan_10','Feb_10','Mar_10','Apr_10','May_10','Jun_10','July_10','Aug_10',\n",
    "                          'Sep_10','Oct_10','Nov_10'),rotation = 360)"
   ]
  },
  {
   "cell_type": "code",
   "execution_count": 44,
   "metadata": {
    "ExecuteTime": {
     "end_time": "2019-10-10T20:17:09.965473Z",
     "start_time": "2019-10-10T20:17:09.669472Z"
    }
   },
   "outputs": [
    {
     "data": {
      "text/plain": [
       "([<matplotlib.axis.XTick at 0x198b8c4c438>,\n",
       "  <matplotlib.axis.XTick at 0x198b8cbdd30>,\n",
       "  <matplotlib.axis.XTick at 0x198b8cbda58>,\n",
       "  <matplotlib.axis.XTick at 0x198b836dba8>,\n",
       "  <matplotlib.axis.XTick at 0x198b933c320>,\n",
       "  <matplotlib.axis.XTick at 0x198b933c828>,\n",
       "  <matplotlib.axis.XTick at 0x198b933cd30>,\n",
       "  <matplotlib.axis.XTick at 0x198b8ffc278>,\n",
       "  <matplotlib.axis.XTick at 0x198b8cbda90>,\n",
       "  <matplotlib.axis.XTick at 0x198baab8320>,\n",
       "  <matplotlib.axis.XTick at 0x198b8ffca20>,\n",
       "  <matplotlib.axis.XTick at 0x198b91c6780>,\n",
       "  <matplotlib.axis.XTick at 0x198b91c6e10>],\n",
       " <a list of 12 Text xticklabel objects>)"
      ]
     },
     "execution_count": 44,
     "metadata": {},
     "output_type": "execute_result"
    },
    {
     "data": {
      "image/png": "[encoded data removed]",
      "text/plain": [
       "<Figure size 936x432 with 1 Axes>"
      ]
     },
     "metadata": {},
     "output_type": "display_data"
    }
   ],
   "source": [
    "plt.figure(figsize = (13,6))\n",
    "df_2.groupby(['year','month'])['total amount'].sum()[:-1].plot()\n",
    "plt.title('Sales from 2010-2011')\n",
    "plt.ylabel('Sales')\n",
    "plt.xticks(np.arange(13),('Dec_10','Jan_11','Feb_11','Mar_11','Apr_11','May_11','Jun_11','July_11','Aug_11',\n",
    "                          'Sep_11','Oct_11','Nov_11'),rotation = 360)"
   ]
  },
  {
   "cell_type": "code",
   "execution_count": 48,
   "metadata": {
    "ExecuteTime": {
     "end_time": "2019-10-10T20:18:58.892526Z",
     "start_time": "2019-10-10T20:18:58.388876Z"
    }
   },
   "outputs": [
    {
     "data": {
      "text/plain": [
       "([<matplotlib.axis.XTick at 0x198b4e73a90>,\n",
       "  <matplotlib.axis.XTick at 0x198b4e733c8>,\n",
       "  <matplotlib.axis.XTick at 0x198b3dcccf8>,\n",
       "  <matplotlib.axis.XTick at 0x198b70b10f0>,\n",
       "  <matplotlib.axis.XTick at 0x198b70b1978>,\n",
       "  <matplotlib.axis.XTick at 0x198b70b1e80>,\n",
       "  <matplotlib.axis.XTick at 0x198b667b3c8>,\n",
       "  <matplotlib.axis.XTick at 0x198b4e732b0>,\n",
       "  <matplotlib.axis.XTick at 0x198b6f5a0b8>,\n",
       "  <matplotlib.axis.XTick at 0x198b6fe15f8>,\n",
       "  <matplotlib.axis.XTick at 0x198b71342e8>,\n",
       "  <matplotlib.axis.XTick at 0x198b70b12b0>,\n",
       "  <matplotlib.axis.XTick at 0x198b6f5a550>,\n",
       "  <matplotlib.axis.XTick at 0x198b6f5aa58>,\n",
       "  <matplotlib.axis.XTick at 0x198b6f5af60>,\n",
       "  <matplotlib.axis.XTick at 0x198b81cf4a8>,\n",
       "  <matplotlib.axis.XTick at 0x198b81cf9b0>,\n",
       "  <matplotlib.axis.XTick at 0x198b81cfeb8>,\n",
       "  <matplotlib.axis.XTick at 0x198b81cf7b8>,\n",
       "  <matplotlib.axis.XTick at 0x198b6f5a9b0>,\n",
       "  <matplotlib.axis.XTick at 0x198b6fe1518>,\n",
       "  <matplotlib.axis.XTick at 0x198b8923748>,\n",
       "  <matplotlib.axis.XTick at 0x198b8923c50>,\n",
       "  <matplotlib.axis.XTick at 0x198b985e198>,\n",
       "  <matplotlib.axis.XTick at 0x198b985e6a0>,\n",
       "  <matplotlib.axis.XTick at 0x198b985eba8>],\n",
       " <a list of 24 Text xticklabel objects>)"
      ]
     },
     "execution_count": 48,
     "metadata": {},
     "output_type": "execute_result"
    },
    {
     "data": {
      "image/png": "[encoded data removed]",
      "text/plain": [
       "<Figure size 1800x432 with 1 Axes>"
      ]
     },
     "metadata": {},
     "output_type": "display_data"
    }
   ],
   "source": [
    "plt.figure(figsize = (25,6))\n",
    "df_full.groupby(['year','month'])['total amount'].sum()[:-1].plot()\n",
    "plt.title('Sales from 2009-2011')\n",
    "plt.ylabel('Sales')\n",
    "plt.xticks(np.arange(26),('Dec_09','Jan_10','Feb_10',\n",
    "                          'Mar_10','Apr_10','May_10',\n",
    "                          'Jun_10','July_10','Aug_10',\n",
    "                          'Sep_10','Oct_10','Nov_10',\n",
    "                          'Dec_10','Jan_11','Feb_11',\n",
    "                          'Mar_11','Apr_11','May_11',\n",
    "                          'Jun_11','July_11','Aug_11',\n",
    "                          'Sep_11','Oct_11','Nov_11'),rotation = 360)"
   ]
  },
  {
   "cell_type": "markdown",
   "metadata": {},
   "source": [
    "#### Top 5 customers"
   ]
  },
  {
   "cell_type": "code",
   "execution_count": 52,
   "metadata": {
    "ExecuteTime": {
     "end_time": "2019-10-10T20:20:02.460983Z",
     "start_time": "2019-10-10T20:20:02.191126Z"
    }
   },
   "outputs": [
    {
     "data": {
      "text/html": [
       "<div>\n",
       "<style scoped>\n",
       "    .dataframe tbody tr th:only-of-type {\n",
       "        vertical-align: middle;\n",
       "    }\n",
       "\n",
       "    .dataframe tbody tr th {\n",
       "        vertical-align: top;\n",
       "    }\n",
       "\n",
       "    .dataframe thead th {\n",
       "        text-align: right;\n",
       "    }\n",
       "</style>\n",
       "<table border=\"1\" class=\"dataframe\">\n",
       "  <thead>\n",
       "    <tr style=\"text-align: right;\">\n",
       "      <th></th>\n",
       "      <th>Customer ID</th>\n",
       "      <th>Country</th>\n",
       "      <th>total amount</th>\n",
       "    </tr>\n",
       "  </thead>\n",
       "  <tbody>\n",
       "    <tr>\n",
       "      <th>5769</th>\n",
       "      <td>18102</td>\n",
       "      <td>United Kingdom</td>\n",
       "      <td>619428.08</td>\n",
       "    </tr>\n",
       "    <tr>\n",
       "      <th>2313</th>\n",
       "      <td>14646</td>\n",
       "      <td>Netherlands</td>\n",
       "      <td>533862.97</td>\n",
       "    </tr>\n",
       "    <tr>\n",
       "      <th>4113</th>\n",
       "      <td>16446</td>\n",
       "      <td>United Kingdom</td>\n",
       "      <td>336951.10</td>\n",
       "    </tr>\n",
       "    <tr>\n",
       "      <th>1823</th>\n",
       "      <td>14156</td>\n",
       "      <td>EIRE</td>\n",
       "      <td>331328.05</td>\n",
       "    </tr>\n",
       "    <tr>\n",
       "      <th>2578</th>\n",
       "      <td>14911</td>\n",
       "      <td>EIRE</td>\n",
       "      <td>321696.73</td>\n",
       "    </tr>\n",
       "  </tbody>\n",
       "</table>\n",
       "</div>"
      ],
      "text/plain": [
       "      Customer ID         Country  total amount\n",
       "5769        18102  United Kingdom     619428.08\n",
       "2313        14646     Netherlands     533862.97\n",
       "4113        16446  United Kingdom     336951.10\n",
       "1823        14156            EIRE     331328.05\n",
       "2578        14911            EIRE     321696.73"
      ]
     },
     "execution_count": 52,
     "metadata": {},
     "output_type": "execute_result"
    }
   ],
   "source": [
    "Customer_order = df_full.groupby(['Customer ID','Country'],as_index=False)\n",
    "Top5_customers = Customer_order['total amount'].sum().sort_values(by='total amount',ascending = False).head(5)\n",
    "Top5_customers"
   ]
  },
  {
   "cell_type": "markdown",
   "metadata": {
    "heading_collapsed": true
   },
   "source": [
    "##### No.1 Customer"
   ]
  },
  {
   "cell_type": "code",
   "execution_count": 62,
   "metadata": {
    "ExecuteTime": {
     "end_time": "2019-10-10T20:22:11.792968Z",
     "start_time": "2019-10-10T20:22:11.780999Z"
    },
    "hidden": true
   },
   "outputs": [],
   "source": [
    "Max_customer_ID = Top5_customers['Customer ID'].values[0]\n",
    "Max_customer = df_full[df_full['Customer ID'] == Max_customer_ID]"
   ]
  },
  {
   "cell_type": "code",
   "execution_count": 65,
   "metadata": {
    "ExecuteTime": {
     "end_time": "2019-10-10T20:23:45.041822Z",
     "start_time": "2019-10-10T20:23:44.549177Z"
    },
    "hidden": true
   },
   "outputs": [
    {
     "data": {
      "text/plain": [
       "([<matplotlib.axis.XTick at 0x198c6a97780>,\n",
       "  <matplotlib.axis.XTick at 0x198c6a970f0>,\n",
       "  <matplotlib.axis.XTick at 0x198c62fafd0>,\n",
       "  <matplotlib.axis.XTick at 0x198c620f358>,\n",
       "  <matplotlib.axis.XTick at 0x198c620f828>,\n",
       "  <matplotlib.axis.XTick at 0x198c620fd30>,\n",
       "  <matplotlib.axis.XTick at 0x198c6165278>,\n",
       "  <matplotlib.axis.XTick at 0x198c6165780>,\n",
       "  <matplotlib.axis.XTick at 0x198c6abee10>,\n",
       "  <matplotlib.axis.XTick at 0x198c60504a8>,\n",
       "  <matplotlib.axis.XTick at 0x198c6050978>,\n",
       "  <matplotlib.axis.XTick at 0x198c6050e80>,\n",
       "  <matplotlib.axis.XTick at 0x198c5fe4cc0>],\n",
       " <a list of 12 Text xticklabel objects>)"
      ]
     },
     "execution_count": 65,
     "metadata": {},
     "output_type": "execute_result"
    },
    {
     "data": {
      "image/png": "[encoded data removed]",
      "text/plain": [
       "<Figure size 1800x432 with 1 Axes>"
      ]
     },
     "metadata": {},
     "output_type": "display_data"
    }
   ],
   "source": [
    "plt.figure(figsize = (25,6))\n",
    "Max_customer.groupby('month')['total amount'].sum().plot(kind='bar')\n",
    "plt.title('No.1 Customer\\'s spending ')\n",
    "plt.ylabel('Total amount spent')\n",
    "plt.xticks(np.arange(13),('Dec_09','Jan_10','Feb_10',\n",
    "                          'Mar_10','Apr_10','May_10',\n",
    "                          'Jun_10','July_10','Aug_10',\n",
    "                          'Sep_10','Oct_10','Nov_10'),rotation = 360)"
   ]
  },
  {
   "cell_type": "markdown",
   "metadata": {},
   "source": [
    "#### Customer orders"
   ]
  },
  {
   "cell_type": "code",
   "execution_count": 67,
   "metadata": {
    "ExecuteTime": {
     "end_time": "2019-10-10T20:24:10.250706Z",
     "start_time": "2019-10-10T20:24:10.151454Z"
    }
   },
   "outputs": [
    {
     "data": {
      "text/html": [
       "<div>\n",
       "<style scoped>\n",
       "    .dataframe tbody tr th:only-of-type {\n",
       "        vertical-align: middle;\n",
       "    }\n",
       "\n",
       "    .dataframe tbody tr th {\n",
       "        vertical-align: top;\n",
       "    }\n",
       "\n",
       "    .dataframe thead th {\n",
       "        text-align: right;\n",
       "    }\n",
       "</style>\n",
       "<table border=\"1\" class=\"dataframe\">\n",
       "  <thead>\n",
       "    <tr style=\"text-align: right;\">\n",
       "      <th></th>\n",
       "      <th>Customer ID</th>\n",
       "      <th>Country</th>\n",
       "      <th>Invoice</th>\n",
       "    </tr>\n",
       "  </thead>\n",
       "  <tbody>\n",
       "    <tr>\n",
       "      <th>5508</th>\n",
       "      <td>17841</td>\n",
       "      <td>United Kingdom</td>\n",
       "      <td>13097</td>\n",
       "    </tr>\n",
       "    <tr>\n",
       "      <th>2578</th>\n",
       "      <td>14911</td>\n",
       "      <td>EIRE</td>\n",
       "      <td>11613</td>\n",
       "    </tr>\n",
       "    <tr>\n",
       "      <th>415</th>\n",
       "      <td>12748</td>\n",
       "      <td>United Kingdom</td>\n",
       "      <td>7307</td>\n",
       "    </tr>\n",
       "    <tr>\n",
       "      <th>2273</th>\n",
       "      <td>14606</td>\n",
       "      <td>United Kingdom</td>\n",
       "      <td>6709</td>\n",
       "    </tr>\n",
       "    <tr>\n",
       "      <th>1763</th>\n",
       "      <td>14096</td>\n",
       "      <td>United Kingdom</td>\n",
       "      <td>5128</td>\n",
       "    </tr>\n",
       "  </tbody>\n",
       "</table>\n",
       "</div>"
      ],
      "text/plain": [
       "      Customer ID         Country  Invoice\n",
       "5508        17841  United Kingdom    13097\n",
       "2578        14911            EIRE    11613\n",
       "415         12748  United Kingdom     7307\n",
       "2273        14606  United Kingdom     6709\n",
       "1763        14096  United Kingdom     5128"
      ]
     },
     "execution_count": 67,
     "metadata": {},
     "output_type": "execute_result"
    }
   ],
   "source": [
    "Customer_order['Invoice'].count().sort_values(by='Invoice',ascending = False).head(5)"
   ]
  },
  {
   "cell_type": "code",
   "execution_count": 69,
   "metadata": {
    "ExecuteTime": {
     "end_time": "2019-10-10T20:25:51.399281Z",
     "start_time": "2019-10-10T20:25:50.753194Z"
    }
   },
   "outputs": [
    {
     "data": {
      "text/plain": [
       "([<matplotlib.axis.XTick at 0x198c44a0eb8>,\n",
       "  <matplotlib.axis.XTick at 0x198c44a07f0>,\n",
       "  <matplotlib.axis.XTick at 0x198c4040c18>,\n",
       "  <matplotlib.axis.XTick at 0x198c2434a20>,\n",
       "  <matplotlib.axis.XTick at 0x198c2434ef0>,\n",
       "  <matplotlib.axis.XTick at 0x198c36e8438>,\n",
       "  <matplotlib.axis.XTick at 0x198c36e8940>,\n",
       "  <matplotlib.axis.XTick at 0x198c36e8e48>,\n",
       "  <matplotlib.axis.XTick at 0x198c44a0550>,\n",
       "  <matplotlib.axis.XTick at 0x198c34c7160>,\n",
       "  <matplotlib.axis.XTick at 0x198c34c75f8>,\n",
       "  <matplotlib.axis.XTick at 0x198c34c7ac8>,\n",
       "  <matplotlib.axis.XTick at 0x198c3764208>,\n",
       "  <matplotlib.axis.XTick at 0x198c24346d8>,\n",
       "  <matplotlib.axis.XTick at 0x198c34c79b0>,\n",
       "  <matplotlib.axis.XTick at 0x198c33091d0>,\n",
       "  <matplotlib.axis.XTick at 0x198c33096d8>,\n",
       "  <matplotlib.axis.XTick at 0x198c3309be0>,\n",
       "  <matplotlib.axis.XTick at 0x198c2689160>,\n",
       "  <matplotlib.axis.XTick at 0x198c2689630>,\n",
       "  <matplotlib.axis.XTick at 0x198c2689b38>,\n",
       "  <matplotlib.axis.XTick at 0x198c2689a90>,\n",
       "  <matplotlib.axis.XTick at 0x198c3309ba8>,\n",
       "  <matplotlib.axis.XTick at 0x198c36e82b0>,\n",
       "  <matplotlib.axis.XTick at 0x198c25d93c8>,\n",
       "  <matplotlib.axis.XTick at 0x198c3764b70>],\n",
       " <a list of 25 Text xticklabel objects>)"
      ]
     },
     "execution_count": 69,
     "metadata": {},
     "output_type": "execute_result"
    },
    {
     "data": {
      "image/png": "[encoded data removed]",
      "text/plain": [
       "<Figure size 1800x432 with 1 Axes>"
      ]
     },
     "metadata": {},
     "output_type": "display_data"
    }
   ],
   "source": [
    "\n",
    "\n",
    "\n",
    "\n",
    "plt.figure(figsize = (25,6))\n",
    "df_full.groupby(['year','month'])['Invoice'].count().plot(kind = 'bar')\n",
    "plt.title('Invoice from 2009-2011')\n",
    "plt.ylabel('Amount of Invoice')\n",
    "plt.xticks(np.arange(26),('Dec_09','Jan_10','Feb_10',\n",
    "                          'Mar_10','Apr_10','May_10',\n",
    "                          'Jun_10','July_10','Aug_10',\n",
    "                          'Sep_10','Oct_10','Nov_10',\n",
    "                          'Dec_10','Jan_11','Feb_11',\n",
    "                          'Mar_11','Apr_11','May_11',\n",
    "                          'Jun_11','July_11','Aug_11',\n",
    "                          'Sep_11','Oct_11','Nov_11','Dec_11'),rotation = 360)"
   ]
  },
  {
   "cell_type": "markdown",
   "metadata": {
    "ExecuteTime": {
     "end_time": "2019-10-09T21:27:18.425268Z",
     "start_time": "2019-10-09T21:27:18.421276Z"
    }
   },
   "source": [
    "### RFM model"
   ]
  },
  {
   "cell_type": "markdown",
   "metadata": {},
   "source": [
    "#### Recency"
   ]
  },
  {
   "cell_type": "code",
   "execution_count": 436,
   "metadata": {
    "ExecuteTime": {
     "end_time": "2019-10-08T18:57:30.838567Z",
     "start_time": "2019-10-08T18:57:30.826598Z"
    }
   },
   "outputs": [
    {
     "data": {
      "text/html": [
       "<div>\n",
       "<style scoped>\n",
       "    .dataframe tbody tr th:only-of-type {\n",
       "        vertical-align: middle;\n",
       "    }\n",
       "\n",
       "    .dataframe tbody tr th {\n",
       "        vertical-align: top;\n",
       "    }\n",
       "\n",
       "    .dataframe thead th {\n",
       "        text-align: right;\n",
       "    }\n",
       "</style>\n",
       "<table border=\"1\" class=\"dataframe\">\n",
       "  <thead>\n",
       "    <tr style=\"text-align: right;\">\n",
       "      <th></th>\n",
       "      <th>Customer ID</th>\n",
       "      <th>recency</th>\n",
       "    </tr>\n",
       "  </thead>\n",
       "  <tbody>\n",
       "    <tr>\n",
       "      <th>0</th>\n",
       "      <td>12346</td>\n",
       "      <td>89 days</td>\n",
       "    </tr>\n",
       "    <tr>\n",
       "      <th>1</th>\n",
       "      <td>12347</td>\n",
       "      <td>25 days</td>\n",
       "    </tr>\n",
       "    <tr>\n",
       "      <th>2</th>\n",
       "      <td>12348</td>\n",
       "      <td>96 days</td>\n",
       "    </tr>\n",
       "    <tr>\n",
       "      <th>3</th>\n",
       "      <td>12349</td>\n",
       "      <td>65 days</td>\n",
       "    </tr>\n",
       "    <tr>\n",
       "      <th>4</th>\n",
       "      <td>12351</td>\n",
       "      <td>33 days</td>\n",
       "    </tr>\n",
       "  </tbody>\n",
       "</table>\n",
       "</div>"
      ],
      "text/plain": [
       "   Customer ID recency\n",
       "0        12346 89 days\n",
       "1        12347 25 days\n",
       "2        12348 96 days\n",
       "3        12349 65 days\n",
       "4        12351 33 days"
      ]
     },
     "execution_count": 436,
     "metadata": {},
     "output_type": "execute_result"
    }
   ],
   "source": [
    "recency = df.groupby('Customer ID',as_index=False)['InvoiceDate'].max()\n",
    "recency['Last_Purchase_Date'] = recency['InvoiceDate'].apply(lambda x: date(x.year,x.month,x.day))\n",
    "recency.drop('InvoiceDate',axis=1,inplace=True)\n",
    "\n",
    "now = date(year = int(2011), month = int(1), day = int(1))\n",
    "recency['recency'] = now-recency['Last_Purchase_Date']\n",
    "\n",
    "recency.drop('Last_Purchase_Date',axis = 1,inplace = True)\n",
    "\n",
    "recency.head()"
   ]
  },
  {
   "cell_type": "code",
   "execution_count": 76,
   "metadata": {
    "ExecuteTime": {
     "end_time": "2019-10-10T20:29:23.884359Z",
     "start_time": "2019-10-10T20:29:23.738779Z"
    }
   },
   "outputs": [
    {
     "data": {
      "text/html": [
       "<div>\n",
       "<style scoped>\n",
       "    .dataframe tbody tr th:only-of-type {\n",
       "        vertical-align: middle;\n",
       "    }\n",
       "\n",
       "    .dataframe tbody tr th {\n",
       "        vertical-align: top;\n",
       "    }\n",
       "\n",
       "    .dataframe thead th {\n",
       "        text-align: right;\n",
       "    }\n",
       "</style>\n",
       "<table border=\"1\" class=\"dataframe\">\n",
       "  <thead>\n",
       "    <tr style=\"text-align: right;\">\n",
       "      <th></th>\n",
       "      <th>Customer ID</th>\n",
       "      <th>recency</th>\n",
       "    </tr>\n",
       "  </thead>\n",
       "  <tbody>\n",
       "    <tr>\n",
       "      <th>0</th>\n",
       "      <td>12346</td>\n",
       "      <td>348 days</td>\n",
       "    </tr>\n",
       "    <tr>\n",
       "      <th>1</th>\n",
       "      <td>12347</td>\n",
       "      <td>25 days</td>\n",
       "    </tr>\n",
       "    <tr>\n",
       "      <th>2</th>\n",
       "      <td>12348</td>\n",
       "      <td>98 days</td>\n",
       "    </tr>\n",
       "    <tr>\n",
       "      <th>3</th>\n",
       "      <td>12349</td>\n",
       "      <td>41 days</td>\n",
       "    </tr>\n",
       "    <tr>\n",
       "      <th>4</th>\n",
       "      <td>12350</td>\n",
       "      <td>333 days</td>\n",
       "    </tr>\n",
       "  </tbody>\n",
       "</table>\n",
       "</div>"
      ],
      "text/plain": [
       "   Customer ID  recency\n",
       "0        12346 348 days\n",
       "1        12347  25 days\n",
       "2        12348  98 days\n",
       "3        12349  41 days\n",
       "4        12350 333 days"
      ]
     },
     "execution_count": 76,
     "metadata": {},
     "output_type": "execute_result"
    }
   ],
   "source": [
    "recency = df_full.groupby('Customer ID',as_index=False)['InvoiceDate'].max()\n",
    "recency['Last_Purchase_Date'] = recency['InvoiceDate'].apply(lambda x: date(x.year,x.month,x.day))\n",
    "recency.drop('InvoiceDate',axis=1,inplace=True)\n",
    "\n",
    "now = date(year = int(2012), month = int(1), day = int(1))\n",
    "recency['recency'] = now-recency['Last_Purchase_Date']\n",
    "\n",
    "recency.drop('Last_Purchase_Date',axis = 1,inplace = True)\n",
    "\n",
    "recency.head()"
   ]
  },
  {
   "cell_type": "markdown",
   "metadata": {
    "ExecuteTime": {
     "end_time": "2019-10-08T18:57:39.800576Z",
     "start_time": "2019-10-08T18:57:39.795589Z"
    }
   },
   "source": [
    "#### Frequency"
   ]
  },
  {
   "cell_type": "code",
   "execution_count": 441,
   "metadata": {
    "ExecuteTime": {
     "end_time": "2019-10-08T18:58:57.278712Z",
     "start_time": "2019-10-08T18:58:57.265747Z"
    }
   },
   "outputs": [
    {
     "data": {
      "text/html": [
       "<div>\n",
       "<style scoped>\n",
       "    .dataframe tbody tr th:only-of-type {\n",
       "        vertical-align: middle;\n",
       "    }\n",
       "\n",
       "    .dataframe tbody tr th {\n",
       "        vertical-align: top;\n",
       "    }\n",
       "\n",
       "    .dataframe thead th {\n",
       "        text-align: right;\n",
       "    }\n",
       "</style>\n",
       "<table border=\"1\" class=\"dataframe\">\n",
       "  <thead>\n",
       "    <tr style=\"text-align: right;\">\n",
       "      <th></th>\n",
       "      <th>Customer ID</th>\n",
       "      <th>frequency</th>\n",
       "    </tr>\n",
       "  </thead>\n",
       "  <tbody>\n",
       "    <tr>\n",
       "      <th>0</th>\n",
       "      <td>12346</td>\n",
       "      <td>46</td>\n",
       "    </tr>\n",
       "    <tr>\n",
       "      <th>1</th>\n",
       "      <td>12347</td>\n",
       "      <td>71</td>\n",
       "    </tr>\n",
       "    <tr>\n",
       "      <th>2</th>\n",
       "      <td>12348</td>\n",
       "      <td>20</td>\n",
       "    </tr>\n",
       "    <tr>\n",
       "      <th>3</th>\n",
       "      <td>12349</td>\n",
       "      <td>107</td>\n",
       "    </tr>\n",
       "    <tr>\n",
       "      <th>4</th>\n",
       "      <td>12351</td>\n",
       "      <td>21</td>\n",
       "    </tr>\n",
       "  </tbody>\n",
       "</table>\n",
       "</div>"
      ],
      "text/plain": [
       "   Customer ID  frequency\n",
       "0        12346         46\n",
       "1        12347         71\n",
       "2        12348         20\n",
       "3        12349        107\n",
       "4        12351         21"
      ]
     },
     "execution_count": 441,
     "metadata": {},
     "output_type": "execute_result"
    }
   ],
   "source": [
    "frequency = df.groupby('Customer ID',as_index=False)['Invoice'].count()\n",
    "frequency.columns=['Customer ID','frequency']\n",
    "\n",
    "frequency.head()"
   ]
  },
  {
   "cell_type": "code",
   "execution_count": 77,
   "metadata": {
    "ExecuteTime": {
     "end_time": "2019-10-10T20:29:46.283894Z",
     "start_time": "2019-10-10T20:29:46.140310Z"
    }
   },
   "outputs": [
    {
     "data": {
      "text/html": [
       "<div>\n",
       "<style scoped>\n",
       "    .dataframe tbody tr th:only-of-type {\n",
       "        vertical-align: middle;\n",
       "    }\n",
       "\n",
       "    .dataframe tbody tr th {\n",
       "        vertical-align: top;\n",
       "    }\n",
       "\n",
       "    .dataframe thead th {\n",
       "        text-align: right;\n",
       "    }\n",
       "</style>\n",
       "<table border=\"1\" class=\"dataframe\">\n",
       "  <thead>\n",
       "    <tr style=\"text-align: right;\">\n",
       "      <th></th>\n",
       "      <th>Customer ID</th>\n",
       "      <th>frequency</th>\n",
       "    </tr>\n",
       "  </thead>\n",
       "  <tbody>\n",
       "    <tr>\n",
       "      <th>0</th>\n",
       "      <td>12346</td>\n",
       "      <td>48</td>\n",
       "    </tr>\n",
       "    <tr>\n",
       "      <th>1</th>\n",
       "      <td>12347</td>\n",
       "      <td>253</td>\n",
       "    </tr>\n",
       "    <tr>\n",
       "      <th>2</th>\n",
       "      <td>12348</td>\n",
       "      <td>51</td>\n",
       "    </tr>\n",
       "    <tr>\n",
       "      <th>3</th>\n",
       "      <td>12349</td>\n",
       "      <td>180</td>\n",
       "    </tr>\n",
       "    <tr>\n",
       "      <th>4</th>\n",
       "      <td>12350</td>\n",
       "      <td>17</td>\n",
       "    </tr>\n",
       "  </tbody>\n",
       "</table>\n",
       "</div>"
      ],
      "text/plain": [
       "   Customer ID  frequency\n",
       "0        12346         48\n",
       "1        12347        253\n",
       "2        12348         51\n",
       "3        12349        180\n",
       "4        12350         17"
      ]
     },
     "execution_count": 77,
     "metadata": {},
     "output_type": "execute_result"
    }
   ],
   "source": [
    "frequency = df_full.groupby('Customer ID',as_index=False)['Invoice'].count()\n",
    "frequency.columns=['Customer ID','frequency']\n",
    "\n",
    "frequency.head()"
   ]
  },
  {
   "cell_type": "markdown",
   "metadata": {},
   "source": [
    "#### Monetary "
   ]
  },
  {
   "cell_type": "code",
   "execution_count": 442,
   "metadata": {
    "ExecuteTime": {
     "end_time": "2019-10-08T19:00:13.460744Z",
     "start_time": "2019-10-08T19:00:13.404891Z"
    }
   },
   "outputs": [
    {
     "data": {
      "text/html": [
       "<div>\n",
       "<style scoped>\n",
       "    .dataframe tbody tr th:only-of-type {\n",
       "        vertical-align: middle;\n",
       "    }\n",
       "\n",
       "    .dataframe tbody tr th {\n",
       "        vertical-align: top;\n",
       "    }\n",
       "\n",
       "    .dataframe thead th {\n",
       "        text-align: right;\n",
       "    }\n",
       "</style>\n",
       "<table border=\"1\" class=\"dataframe\">\n",
       "  <thead>\n",
       "    <tr style=\"text-align: right;\">\n",
       "      <th></th>\n",
       "      <th>Customer ID</th>\n",
       "      <th>monetary</th>\n",
       "    </tr>\n",
       "  </thead>\n",
       "  <tbody>\n",
       "    <tr>\n",
       "      <th>0</th>\n",
       "      <td>12346</td>\n",
       "      <td>810.40</td>\n",
       "    </tr>\n",
       "    <tr>\n",
       "      <th>1</th>\n",
       "      <td>12347</td>\n",
       "      <td>1323.32</td>\n",
       "    </tr>\n",
       "    <tr>\n",
       "      <th>2</th>\n",
       "      <td>12348</td>\n",
       "      <td>222.16</td>\n",
       "    </tr>\n",
       "    <tr>\n",
       "      <th>3</th>\n",
       "      <td>12349</td>\n",
       "      <td>2695.29</td>\n",
       "    </tr>\n",
       "    <tr>\n",
       "      <th>4</th>\n",
       "      <td>12351</td>\n",
       "      <td>300.93</td>\n",
       "    </tr>\n",
       "  </tbody>\n",
       "</table>\n",
       "</div>"
      ],
      "text/plain": [
       "   Customer ID  monetary\n",
       "0        12346    810.40\n",
       "1        12347   1323.32\n",
       "2        12348    222.16\n",
       "3        12349   2695.29\n",
       "4        12351    300.93"
      ]
     },
     "execution_count": 442,
     "metadata": {},
     "output_type": "execute_result"
    }
   ],
   "source": [
    "monetary = df.groupby('Customer ID',as_index=False)['total amount'].sum()\n",
    "monetary.columns=['Customer ID','monetary']\n",
    "monetary.head()"
   ]
  },
  {
   "cell_type": "code",
   "execution_count": 78,
   "metadata": {
    "ExecuteTime": {
     "end_time": "2019-10-10T20:30:04.949316Z",
     "start_time": "2019-10-10T20:30:04.866024Z"
    }
   },
   "outputs": [
    {
     "data": {
      "text/html": [
       "<div>\n",
       "<style scoped>\n",
       "    .dataframe tbody tr th:only-of-type {\n",
       "        vertical-align: middle;\n",
       "    }\n",
       "\n",
       "    .dataframe tbody tr th {\n",
       "        vertical-align: top;\n",
       "    }\n",
       "\n",
       "    .dataframe thead th {\n",
       "        text-align: right;\n",
       "    }\n",
       "</style>\n",
       "<table border=\"1\" class=\"dataframe\">\n",
       "  <thead>\n",
       "    <tr style=\"text-align: right;\">\n",
       "      <th></th>\n",
       "      <th>Customer ID</th>\n",
       "      <th>monetary</th>\n",
       "    </tr>\n",
       "  </thead>\n",
       "  <tbody>\n",
       "    <tr>\n",
       "      <th>0</th>\n",
       "      <td>12346</td>\n",
       "      <td>155177.60</td>\n",
       "    </tr>\n",
       "    <tr>\n",
       "      <th>1</th>\n",
       "      <td>12347</td>\n",
       "      <td>5633.32</td>\n",
       "    </tr>\n",
       "    <tr>\n",
       "      <th>2</th>\n",
       "      <td>12348</td>\n",
       "      <td>2019.40</td>\n",
       "    </tr>\n",
       "    <tr>\n",
       "      <th>3</th>\n",
       "      <td>12349</td>\n",
       "      <td>4452.84</td>\n",
       "    </tr>\n",
       "    <tr>\n",
       "      <th>4</th>\n",
       "      <td>12350</td>\n",
       "      <td>334.40</td>\n",
       "    </tr>\n",
       "  </tbody>\n",
       "</table>\n",
       "</div>"
      ],
      "text/plain": [
       "   Customer ID   monetary\n",
       "0        12346  155177.60\n",
       "1        12347    5633.32\n",
       "2        12348    2019.40\n",
       "3        12349    4452.84\n",
       "4        12350     334.40"
      ]
     },
     "execution_count": 78,
     "metadata": {},
     "output_type": "execute_result"
    }
   ],
   "source": [
    "monetary = df_full.groupby('Customer ID',as_index=False)['total amount'].sum()\n",
    "monetary.columns=['Customer ID','monetary']\n",
    "monetary.head()"
   ]
  },
  {
   "cell_type": "markdown",
   "metadata": {},
   "source": [
    "#### Full RFM model"
   ]
  },
  {
   "cell_type": "code",
   "execution_count": 79,
   "metadata": {
    "ExecuteTime": {
     "end_time": "2019-10-10T20:30:11.376585Z",
     "start_time": "2019-10-10T20:30:11.265726Z"
    }
   },
   "outputs": [],
   "source": [
    "RF = recency.merge(frequency,left_on='Customer ID',right_on='Customer ID')\n",
    "RFM = RF.merge(monetary,left_on='Customer ID',right_on='Customer ID')\n",
    "\n",
    "RFM['recency'] = RFM['recency'].apply(lambda x:x.days)\n",
    "RFM.set_index('Customer ID',inplace=True)"
   ]
  },
  {
   "cell_type": "code",
   "execution_count": 80,
   "metadata": {
    "ExecuteTime": {
     "end_time": "2019-10-10T20:30:12.351253Z",
     "start_time": "2019-10-10T20:30:12.336612Z"
    }
   },
   "outputs": [
    {
     "data": {
      "text/html": [
       "<div>\n",
       "<style scoped>\n",
       "    .dataframe tbody tr th:only-of-type {\n",
       "        vertical-align: middle;\n",
       "    }\n",
       "\n",
       "    .dataframe tbody tr th {\n",
       "        vertical-align: top;\n",
       "    }\n",
       "\n",
       "    .dataframe thead th {\n",
       "        text-align: right;\n",
       "    }\n",
       "</style>\n",
       "<table border=\"1\" class=\"dataframe\">\n",
       "  <thead>\n",
       "    <tr style=\"text-align: right;\">\n",
       "      <th></th>\n",
       "      <th>recency</th>\n",
       "      <th>frequency</th>\n",
       "      <th>monetary</th>\n",
       "    </tr>\n",
       "    <tr>\n",
       "      <th>Customer ID</th>\n",
       "      <th></th>\n",
       "      <th></th>\n",
       "      <th></th>\n",
       "    </tr>\n",
       "  </thead>\n",
       "  <tbody>\n",
       "    <tr>\n",
       "      <th>12346</th>\n",
       "      <td>348</td>\n",
       "      <td>48</td>\n",
       "      <td>155177.60</td>\n",
       "    </tr>\n",
       "    <tr>\n",
       "      <th>12347</th>\n",
       "      <td>25</td>\n",
       "      <td>253</td>\n",
       "      <td>5633.32</td>\n",
       "    </tr>\n",
       "    <tr>\n",
       "      <th>12348</th>\n",
       "      <td>98</td>\n",
       "      <td>51</td>\n",
       "      <td>2019.40</td>\n",
       "    </tr>\n",
       "    <tr>\n",
       "      <th>12349</th>\n",
       "      <td>41</td>\n",
       "      <td>180</td>\n",
       "      <td>4452.84</td>\n",
       "    </tr>\n",
       "    <tr>\n",
       "      <th>12350</th>\n",
       "      <td>333</td>\n",
       "      <td>17</td>\n",
       "      <td>334.40</td>\n",
       "    </tr>\n",
       "  </tbody>\n",
       "</table>\n",
       "</div>"
      ],
      "text/plain": [
       "             recency  frequency   monetary\n",
       "Customer ID                               \n",
       "12346            348         48  155177.60\n",
       "12347             25        253    5633.32\n",
       "12348             98         51    2019.40\n",
       "12349             41        180    4452.84\n",
       "12350            333         17     334.40"
      ]
     },
     "execution_count": 80,
     "metadata": {},
     "output_type": "execute_result"
    }
   ],
   "source": [
    "RFM.head()"
   ]
  },
  {
   "cell_type": "markdown",
   "metadata": {},
   "source": [
    "#### K-Mean clustering"
   ]
  },
  {
   "cell_type": "code",
   "execution_count": 81,
   "metadata": {
    "ExecuteTime": {
     "end_time": "2019-10-10T20:30:18.081656Z",
     "start_time": "2019-10-10T20:30:18.022849Z"
    }
   },
   "outputs": [],
   "source": [
    "RFM_copy = RFM.copy()\n",
    "\n",
    "sc = StandardScaler()\n",
    "RFM_copy = sc.fit_transform(RFM_copy)"
   ]
  },
  {
   "cell_type": "code",
   "execution_count": 82,
   "metadata": {
    "ExecuteTime": {
     "end_time": "2019-10-10T20:30:22.111429Z",
     "start_time": "2019-10-10T20:30:20.796870Z"
    }
   },
   "outputs": [],
   "source": [
    "score_list = []\n",
    "num_k = np.arange(1,11)\n",
    "\n",
    "for i in range(1,11):\n",
    "    kmeans = KMeans(n_clusters=i)\n",
    "    kmeans.fit(RFM_copy)\n",
    "    score = kmeans.score(RFM_copy)\n",
    "    score_list.append(score)"
   ]
  },
  {
   "cell_type": "code",
   "execution_count": 83,
   "metadata": {
    "ExecuteTime": {
     "end_time": "2019-10-10T20:30:22.681121Z",
     "start_time": "2019-10-10T20:30:22.403649Z"
    }
   },
   "outputs": [
    {
     "data": {
      "image/png": "[encoded data removed]",
      "text/plain": [
       "<Figure size 720x432 with 1 Axes>"
      ]
     },
     "metadata": {},
     "output_type": "display_data"
    }
   ],
   "source": [
    "plt.figure(figsize=(10,6))\n",
    "plt.plot(num_k,score_list)\n",
    "plt.xlabel('Number of clusters')\n",
    "plt.ylabel('Score')\n",
    "plt.title('Elbow Curve')\n",
    "plt.show()"
   ]
  },
  {
   "cell_type": "code",
   "execution_count": 84,
   "metadata": {
    "ExecuteTime": {
     "end_time": "2019-10-10T20:30:36.747645Z",
     "start_time": "2019-10-10T20:30:36.565135Z"
    }
   },
   "outputs": [],
   "source": [
    "kmeans = KMeans(n_clusters=6).fit(RFM_copy)\n",
    "\n",
    "RFM_copy = pd.DataFrame(RFM_copy)\n",
    "RFM_copy['cluster'] = kmeans.labels_"
   ]
  },
  {
   "cell_type": "code",
   "execution_count": 85,
   "metadata": {
    "ExecuteTime": {
     "end_time": "2019-10-10T20:30:40.409695Z",
     "start_time": "2019-10-10T20:30:40.403709Z"
    }
   },
   "outputs": [],
   "source": [
    "RFM['cluster']=RFM_copy['cluster'].values"
   ]
  },
  {
   "cell_type": "code",
   "execution_count": 86,
   "metadata": {
    "ExecuteTime": {
     "end_time": "2019-10-10T20:30:52.320301Z",
     "start_time": "2019-10-10T20:30:52.292375Z"
    }
   },
   "outputs": [],
   "source": [
    "#cluster_0 = RFM[RFM['cluster']==0]\n",
    "#cluster_1 = RFM[RFM['cluster']==1]\n",
    "#cluster_2 = RFM[RFM['cluster']==2]\n",
    "\n",
    "cluster_0 = RFM[RFM['cluster']==0]\n",
    "cluster_1 = RFM[RFM['cluster']==1]\n",
    "cluster_2 = RFM[RFM['cluster']==2]\n",
    "cluster_3 = RFM[RFM['cluster']==3]\n",
    "cluster_4 = RFM[RFM['cluster']==4]\n",
    "cluster_5 = RFM[RFM['cluster']==5]"
   ]
  },
  {
   "cell_type": "code",
   "execution_count": 87,
   "metadata": {
    "ExecuteTime": {
     "end_time": "2019-10-10T20:30:56.586895Z",
     "start_time": "2019-10-10T20:30:56.525060Z"
    }
   },
   "outputs": [
    {
     "data": {
      "text/html": [
       "<div>\n",
       "<style scoped>\n",
       "    .dataframe tbody tr th:only-of-type {\n",
       "        vertical-align: middle;\n",
       "    }\n",
       "\n",
       "    .dataframe tbody tr th {\n",
       "        vertical-align: top;\n",
       "    }\n",
       "\n",
       "    .dataframe thead th {\n",
       "        text-align: right;\n",
       "    }\n",
       "</style>\n",
       "<table border=\"1\" class=\"dataframe\">\n",
       "  <thead>\n",
       "    <tr style=\"text-align: right;\">\n",
       "      <th></th>\n",
       "      <th>recency</th>\n",
       "      <th>frequency</th>\n",
       "      <th>monetary</th>\n",
       "      <th>cluster</th>\n",
       "    </tr>\n",
       "  </thead>\n",
       "  <tbody>\n",
       "    <tr>\n",
       "      <th>count</th>\n",
       "      <td>3639.000000</td>\n",
       "      <td>3639.000000</td>\n",
       "      <td>3639.000000</td>\n",
       "      <td>3639.0</td>\n",
       "    </tr>\n",
       "    <tr>\n",
       "      <th>mean</th>\n",
       "      <td>97.110470</td>\n",
       "      <td>111.092333</td>\n",
       "      <td>2135.266148</td>\n",
       "      <td>0.0</td>\n",
       "    </tr>\n",
       "    <tr>\n",
       "      <th>std</th>\n",
       "      <td>73.962008</td>\n",
       "      <td>107.470334</td>\n",
       "      <td>2829.456625</td>\n",
       "      <td>0.0</td>\n",
       "    </tr>\n",
       "    <tr>\n",
       "      <th>min</th>\n",
       "      <td>23.000000</td>\n",
       "      <td>1.000000</td>\n",
       "      <td>0.000000</td>\n",
       "      <td>0.0</td>\n",
       "    </tr>\n",
       "    <tr>\n",
       "      <th>25%</th>\n",
       "      <td>40.000000</td>\n",
       "      <td>30.000000</td>\n",
       "      <td>517.225000</td>\n",
       "      <td>0.0</td>\n",
       "    </tr>\n",
       "    <tr>\n",
       "      <th>50%</th>\n",
       "      <td>69.000000</td>\n",
       "      <td>72.000000</td>\n",
       "      <td>1179.870000</td>\n",
       "      <td>0.0</td>\n",
       "    </tr>\n",
       "    <tr>\n",
       "      <th>75%</th>\n",
       "      <td>131.500000</td>\n",
       "      <td>161.000000</td>\n",
       "      <td>2666.785000</td>\n",
       "      <td>0.0</td>\n",
       "    </tr>\n",
       "    <tr>\n",
       "      <th>max</th>\n",
       "      <td>314.000000</td>\n",
       "      <td>506.000000</td>\n",
       "      <td>33826.360000</td>\n",
       "      <td>0.0</td>\n",
       "    </tr>\n",
       "  </tbody>\n",
       "</table>\n",
       "</div>"
      ],
      "text/plain": [
       "           recency    frequency      monetary  cluster\n",
       "count  3639.000000  3639.000000   3639.000000   3639.0\n",
       "mean     97.110470   111.092333   2135.266148      0.0\n",
       "std      73.962008   107.470334   2829.456625      0.0\n",
       "min      23.000000     1.000000      0.000000      0.0\n",
       "25%      40.000000    30.000000    517.225000      0.0\n",
       "50%      69.000000    72.000000   1179.870000      0.0\n",
       "75%     131.500000   161.000000   2666.785000      0.0\n",
       "max     314.000000   506.000000  33826.360000      0.0"
      ]
     },
     "execution_count": 87,
     "metadata": {},
     "output_type": "execute_result"
    }
   ],
   "source": [
    "cluster_0.describe()"
   ]
  },
  {
   "cell_type": "code",
   "execution_count": 88,
   "metadata": {
    "ExecuteTime": {
     "end_time": "2019-10-10T20:30:57.717923Z",
     "start_time": "2019-10-10T20:30:57.677031Z"
    }
   },
   "outputs": [
    {
     "data": {
      "text/html": [
       "<div>\n",
       "<style scoped>\n",
       "    .dataframe tbody tr th:only-of-type {\n",
       "        vertical-align: middle;\n",
       "    }\n",
       "\n",
       "    .dataframe tbody tr th {\n",
       "        vertical-align: top;\n",
       "    }\n",
       "\n",
       "    .dataframe thead th {\n",
       "        text-align: right;\n",
       "    }\n",
       "</style>\n",
       "<table border=\"1\" class=\"dataframe\">\n",
       "  <thead>\n",
       "    <tr style=\"text-align: right;\">\n",
       "      <th></th>\n",
       "      <th>recency</th>\n",
       "      <th>frequency</th>\n",
       "      <th>monetary</th>\n",
       "      <th>cluster</th>\n",
       "    </tr>\n",
       "  </thead>\n",
       "  <tbody>\n",
       "    <tr>\n",
       "      <th>count</th>\n",
       "      <td>1945.000000</td>\n",
       "      <td>1945.000000</td>\n",
       "      <td>1945.000000</td>\n",
       "      <td>1945.0</td>\n",
       "    </tr>\n",
       "    <tr>\n",
       "      <th>mean</th>\n",
       "      <td>498.300257</td>\n",
       "      <td>42.538817</td>\n",
       "      <td>833.530063</td>\n",
       "      <td>1.0</td>\n",
       "    </tr>\n",
       "    <tr>\n",
       "      <th>std</th>\n",
       "      <td>123.831798</td>\n",
       "      <td>57.268299</td>\n",
       "      <td>2243.665418</td>\n",
       "      <td>0.0</td>\n",
       "    </tr>\n",
       "    <tr>\n",
       "      <th>min</th>\n",
       "      <td>293.000000</td>\n",
       "      <td>1.000000</td>\n",
       "      <td>0.000000</td>\n",
       "      <td>1.0</td>\n",
       "    </tr>\n",
       "    <tr>\n",
       "      <th>25%</th>\n",
       "      <td>406.000000</td>\n",
       "      <td>11.000000</td>\n",
       "      <td>190.470000</td>\n",
       "      <td>1.0</td>\n",
       "    </tr>\n",
       "    <tr>\n",
       "      <th>50%</th>\n",
       "      <td>460.000000</td>\n",
       "      <td>24.000000</td>\n",
       "      <td>382.310000</td>\n",
       "      <td>1.0</td>\n",
       "    </tr>\n",
       "    <tr>\n",
       "      <th>75%</th>\n",
       "      <td>598.000000</td>\n",
       "      <td>51.000000</td>\n",
       "      <td>837.530000</td>\n",
       "      <td>1.0</td>\n",
       "    </tr>\n",
       "    <tr>\n",
       "      <th>max</th>\n",
       "      <td>761.000000</td>\n",
       "      <td>630.000000</td>\n",
       "      <td>49187.600000</td>\n",
       "      <td>1.0</td>\n",
       "    </tr>\n",
       "  </tbody>\n",
       "</table>\n",
       "</div>"
      ],
      "text/plain": [
       "           recency    frequency      monetary  cluster\n",
       "count  1945.000000  1945.000000   1945.000000   1945.0\n",
       "mean    498.300257    42.538817    833.530063      1.0\n",
       "std     123.831798    57.268299   2243.665418      0.0\n",
       "min     293.000000     1.000000      0.000000      1.0\n",
       "25%     406.000000    11.000000    190.470000      1.0\n",
       "50%     460.000000    24.000000    382.310000      1.0\n",
       "75%     598.000000    51.000000    837.530000      1.0\n",
       "max     761.000000   630.000000  49187.600000      1.0"
      ]
     },
     "execution_count": 88,
     "metadata": {},
     "output_type": "execute_result"
    }
   ],
   "source": [
    "cluster_1.describe()"
   ]
  },
  {
   "cell_type": "code",
   "execution_count": 89,
   "metadata": {
    "ExecuteTime": {
     "end_time": "2019-10-10T20:30:58.388173Z",
     "start_time": "2019-10-10T20:30:58.345286Z"
    }
   },
   "outputs": [
    {
     "data": {
      "text/html": [
       "<div>\n",
       "<style scoped>\n",
       "    .dataframe tbody tr th:only-of-type {\n",
       "        vertical-align: middle;\n",
       "    }\n",
       "\n",
       "    .dataframe tbody tr th {\n",
       "        vertical-align: top;\n",
       "    }\n",
       "\n",
       "    .dataframe thead th {\n",
       "        text-align: right;\n",
       "    }\n",
       "</style>\n",
       "<table border=\"1\" class=\"dataframe\">\n",
       "  <thead>\n",
       "    <tr style=\"text-align: right;\">\n",
       "      <th></th>\n",
       "      <th>recency</th>\n",
       "      <th>frequency</th>\n",
       "      <th>monetary</th>\n",
       "      <th>cluster</th>\n",
       "    </tr>\n",
       "  </thead>\n",
       "  <tbody>\n",
       "    <tr>\n",
       "      <th>count</th>\n",
       "      <td>4.00</td>\n",
       "      <td>4.000000</td>\n",
       "      <td>4.000000</td>\n",
       "      <td>4.0</td>\n",
       "    </tr>\n",
       "    <tr>\n",
       "      <th>mean</th>\n",
       "      <td>23.75</td>\n",
       "      <td>9681.500000</td>\n",
       "      <td>122201.267500</td>\n",
       "      <td>2.0</td>\n",
       "    </tr>\n",
       "    <tr>\n",
       "      <th>std</th>\n",
       "      <td>0.50</td>\n",
       "      <td>3155.436526</td>\n",
       "      <td>134132.654954</td>\n",
       "      <td>0.0</td>\n",
       "    </tr>\n",
       "    <tr>\n",
       "      <th>min</th>\n",
       "      <td>23.00</td>\n",
       "      <td>6709.000000</td>\n",
       "      <td>31627.740000</td>\n",
       "      <td>2.0</td>\n",
       "    </tr>\n",
       "    <tr>\n",
       "      <th>25%</th>\n",
       "      <td>23.75</td>\n",
       "      <td>7157.500000</td>\n",
       "      <td>55328.422500</td>\n",
       "      <td>2.0</td>\n",
       "    </tr>\n",
       "    <tr>\n",
       "      <th>50%</th>\n",
       "      <td>24.00</td>\n",
       "      <td>9460.000000</td>\n",
       "      <td>67740.300000</td>\n",
       "      <td>2.0</td>\n",
       "    </tr>\n",
       "    <tr>\n",
       "      <th>75%</th>\n",
       "      <td>24.00</td>\n",
       "      <td>11984.000000</td>\n",
       "      <td>134613.145000</td>\n",
       "      <td>2.0</td>\n",
       "    </tr>\n",
       "    <tr>\n",
       "      <th>max</th>\n",
       "      <td>24.00</td>\n",
       "      <td>13097.000000</td>\n",
       "      <td>321696.730000</td>\n",
       "      <td>2.0</td>\n",
       "    </tr>\n",
       "  </tbody>\n",
       "</table>\n",
       "</div>"
      ],
      "text/plain": [
       "       recency     frequency       monetary  cluster\n",
       "count     4.00      4.000000       4.000000      4.0\n",
       "mean     23.75   9681.500000  122201.267500      2.0\n",
       "std       0.50   3155.436526  134132.654954      0.0\n",
       "min      23.00   6709.000000   31627.740000      2.0\n",
       "25%      23.75   7157.500000   55328.422500      2.0\n",
       "50%      24.00   9460.000000   67740.300000      2.0\n",
       "75%      24.00  11984.000000  134613.145000      2.0\n",
       "max      24.00  13097.000000  321696.730000      2.0"
      ]
     },
     "execution_count": 89,
     "metadata": {},
     "output_type": "execute_result"
    }
   ],
   "source": [
    "cluster_2.describe()"
   ]
  },
  {
   "cell_type": "code",
   "execution_count": 90,
   "metadata": {
    "ExecuteTime": {
     "end_time": "2019-10-10T20:30:59.369422Z",
     "start_time": "2019-10-10T20:30:59.325537Z"
    }
   },
   "outputs": [
    {
     "data": {
      "text/html": [
       "<div>\n",
       "<style scoped>\n",
       "    .dataframe tbody tr th:only-of-type {\n",
       "        vertical-align: middle;\n",
       "    }\n",
       "\n",
       "    .dataframe tbody tr th {\n",
       "        vertical-align: top;\n",
       "    }\n",
       "\n",
       "    .dataframe thead th {\n",
       "        text-align: right;\n",
       "    }\n",
       "</style>\n",
       "<table border=\"1\" class=\"dataframe\">\n",
       "  <thead>\n",
       "    <tr style=\"text-align: right;\">\n",
       "      <th></th>\n",
       "      <th>recency</th>\n",
       "      <th>frequency</th>\n",
       "      <th>monetary</th>\n",
       "      <th>cluster</th>\n",
       "    </tr>\n",
       "  </thead>\n",
       "  <tbody>\n",
       "    <tr>\n",
       "      <th>count</th>\n",
       "      <td>336.000000</td>\n",
       "      <td>336.000000</td>\n",
       "      <td>336.000000</td>\n",
       "      <td>336.0</td>\n",
       "    </tr>\n",
       "    <tr>\n",
       "      <th>mean</th>\n",
       "      <td>48.005952</td>\n",
       "      <td>790.419643</td>\n",
       "      <td>15155.616768</td>\n",
       "      <td>3.0</td>\n",
       "    </tr>\n",
       "    <tr>\n",
       "      <th>std</th>\n",
       "      <td>50.586648</td>\n",
       "      <td>421.516097</td>\n",
       "      <td>14831.971362</td>\n",
       "      <td>0.0</td>\n",
       "    </tr>\n",
       "    <tr>\n",
       "      <th>min</th>\n",
       "      <td>23.000000</td>\n",
       "      <td>5.000000</td>\n",
       "      <td>1468.550000</td>\n",
       "      <td>3.0</td>\n",
       "    </tr>\n",
       "    <tr>\n",
       "      <th>25%</th>\n",
       "      <td>26.000000</td>\n",
       "      <td>535.750000</td>\n",
       "      <td>6459.392500</td>\n",
       "      <td>3.0</td>\n",
       "    </tr>\n",
       "    <tr>\n",
       "      <th>50%</th>\n",
       "      <td>32.000000</td>\n",
       "      <td>671.500000</td>\n",
       "      <td>10136.275000</td>\n",
       "      <td>3.0</td>\n",
       "    </tr>\n",
       "    <tr>\n",
       "      <th>75%</th>\n",
       "      <td>46.000000</td>\n",
       "      <td>933.500000</td>\n",
       "      <td>17446.035000</td>\n",
       "      <td>3.0</td>\n",
       "    </tr>\n",
       "    <tr>\n",
       "      <th>max</th>\n",
       "      <td>395.000000</td>\n",
       "      <td>3255.000000</td>\n",
       "      <td>93139.260000</td>\n",
       "      <td>3.0</td>\n",
       "    </tr>\n",
       "  </tbody>\n",
       "</table>\n",
       "</div>"
      ],
      "text/plain": [
       "          recency    frequency      monetary  cluster\n",
       "count  336.000000   336.000000    336.000000    336.0\n",
       "mean    48.005952   790.419643  15155.616768      3.0\n",
       "std     50.586648   421.516097  14831.971362      0.0\n",
       "min     23.000000     5.000000   1468.550000      3.0\n",
       "25%     26.000000   535.750000   6459.392500      3.0\n",
       "50%     32.000000   671.500000  10136.275000      3.0\n",
       "75%     46.000000   933.500000  17446.035000      3.0\n",
       "max    395.000000  3255.000000  93139.260000      3.0"
      ]
     },
     "execution_count": 90,
     "metadata": {},
     "output_type": "execute_result"
    }
   ],
   "source": [
    "cluster_3.describe()"
   ]
  },
  {
   "cell_type": "code",
   "execution_count": 91,
   "metadata": {
    "ExecuteTime": {
     "end_time": "2019-10-10T20:31:01.305490Z",
     "start_time": "2019-10-10T20:31:01.265601Z"
    }
   },
   "outputs": [
    {
     "data": {
      "text/html": [
       "<div>\n",
       "<style scoped>\n",
       "    .dataframe tbody tr th:only-of-type {\n",
       "        vertical-align: middle;\n",
       "    }\n",
       "\n",
       "    .dataframe tbody tr th {\n",
       "        vertical-align: top;\n",
       "    }\n",
       "\n",
       "    .dataframe thead th {\n",
       "        text-align: right;\n",
       "    }\n",
       "</style>\n",
       "<table border=\"1\" class=\"dataframe\">\n",
       "  <thead>\n",
       "    <tr style=\"text-align: right;\">\n",
       "      <th></th>\n",
       "      <th>recency</th>\n",
       "      <th>frequency</th>\n",
       "      <th>monetary</th>\n",
       "      <th>cluster</th>\n",
       "    </tr>\n",
       "  </thead>\n",
       "  <tbody>\n",
       "    <tr>\n",
       "      <th>count</th>\n",
       "      <td>3.000000</td>\n",
       "      <td>3.000000</td>\n",
       "      <td>3.000000</td>\n",
       "      <td>3.0</td>\n",
       "    </tr>\n",
       "    <tr>\n",
       "      <th>mean</th>\n",
       "      <td>26.333333</td>\n",
       "      <td>3029.333333</td>\n",
       "      <td>494873.033333</td>\n",
       "      <td>4.0</td>\n",
       "    </tr>\n",
       "    <tr>\n",
       "      <th>std</th>\n",
       "      <td>4.932883</td>\n",
       "      <td>1702.798089</td>\n",
       "      <td>147954.615313</td>\n",
       "      <td>0.0</td>\n",
       "    </tr>\n",
       "    <tr>\n",
       "      <th>min</th>\n",
       "      <td>23.000000</td>\n",
       "      <td>1068.000000</td>\n",
       "      <td>331328.050000</td>\n",
       "      <td>4.0</td>\n",
       "    </tr>\n",
       "    <tr>\n",
       "      <th>25%</th>\n",
       "      <td>23.500000</td>\n",
       "      <td>2479.000000</td>\n",
       "      <td>432595.510000</td>\n",
       "      <td>4.0</td>\n",
       "    </tr>\n",
       "    <tr>\n",
       "      <th>50%</th>\n",
       "      <td>24.000000</td>\n",
       "      <td>3890.000000</td>\n",
       "      <td>533862.970000</td>\n",
       "      <td>4.0</td>\n",
       "    </tr>\n",
       "    <tr>\n",
       "      <th>75%</th>\n",
       "      <td>28.000000</td>\n",
       "      <td>4010.000000</td>\n",
       "      <td>576645.525000</td>\n",
       "      <td>4.0</td>\n",
       "    </tr>\n",
       "    <tr>\n",
       "      <th>max</th>\n",
       "      <td>32.000000</td>\n",
       "      <td>4130.000000</td>\n",
       "      <td>619428.080000</td>\n",
       "      <td>4.0</td>\n",
       "    </tr>\n",
       "  </tbody>\n",
       "</table>\n",
       "</div>"
      ],
      "text/plain": [
       "         recency    frequency       monetary  cluster\n",
       "count   3.000000     3.000000       3.000000      3.0\n",
       "mean   26.333333  3029.333333  494873.033333      4.0\n",
       "std     4.932883  1702.798089  147954.615313      0.0\n",
       "min    23.000000  1068.000000  331328.050000      4.0\n",
       "25%    23.500000  2479.000000  432595.510000      4.0\n",
       "50%    24.000000  3890.000000  533862.970000      4.0\n",
       "75%    28.000000  4010.000000  576645.525000      4.0\n",
       "max    32.000000  4130.000000  619428.080000      4.0"
      ]
     },
     "execution_count": 91,
     "metadata": {},
     "output_type": "execute_result"
    }
   ],
   "source": [
    "cluster_4.describe()"
   ]
  },
  {
   "cell_type": "code",
   "execution_count": 92,
   "metadata": {
    "ExecuteTime": {
     "end_time": "2019-10-10T20:31:11.854385Z",
     "start_time": "2019-10-10T20:31:11.822470Z"
    }
   },
   "outputs": [
    {
     "data": {
      "text/html": [
       "<div>\n",
       "<style scoped>\n",
       "    .dataframe tbody tr th:only-of-type {\n",
       "        vertical-align: middle;\n",
       "    }\n",
       "\n",
       "    .dataframe tbody tr th {\n",
       "        vertical-align: top;\n",
       "    }\n",
       "\n",
       "    .dataframe thead th {\n",
       "        text-align: right;\n",
       "    }\n",
       "</style>\n",
       "<table border=\"1\" class=\"dataframe\">\n",
       "  <thead>\n",
       "    <tr style=\"text-align: right;\">\n",
       "      <th></th>\n",
       "      <th>recency</th>\n",
       "      <th>frequency</th>\n",
       "      <th>monetary</th>\n",
       "      <th>cluster</th>\n",
       "    </tr>\n",
       "  </thead>\n",
       "  <tbody>\n",
       "    <tr>\n",
       "      <th>count</th>\n",
       "      <td>15.000000</td>\n",
       "      <td>15.000000</td>\n",
       "      <td>15.000000</td>\n",
       "      <td>15.0</td>\n",
       "    </tr>\n",
       "    <tr>\n",
       "      <th>mean</th>\n",
       "      <td>52.200000</td>\n",
       "      <td>1597.733333</td>\n",
       "      <td>158760.338667</td>\n",
       "      <td>5.0</td>\n",
       "    </tr>\n",
       "    <tr>\n",
       "      <th>std</th>\n",
       "      <td>82.560973</td>\n",
       "      <td>1696.873910</td>\n",
       "      <td>66689.737676</td>\n",
       "      <td>0.0</td>\n",
       "    </tr>\n",
       "    <tr>\n",
       "      <th>min</th>\n",
       "      <td>23.000000</td>\n",
       "      <td>5.000000</td>\n",
       "      <td>73208.670000</td>\n",
       "      <td>5.0</td>\n",
       "    </tr>\n",
       "    <tr>\n",
       "      <th>25%</th>\n",
       "      <td>25.000000</td>\n",
       "      <td>351.000000</td>\n",
       "      <td>120145.390000</td>\n",
       "      <td>5.0</td>\n",
       "    </tr>\n",
       "    <tr>\n",
       "      <th>50%</th>\n",
       "      <td>26.000000</td>\n",
       "      <td>990.000000</td>\n",
       "      <td>145647.450000</td>\n",
       "      <td>5.0</td>\n",
       "    </tr>\n",
       "    <tr>\n",
       "      <th>75%</th>\n",
       "      <td>37.500000</td>\n",
       "      <td>2501.000000</td>\n",
       "      <td>167249.360000</td>\n",
       "      <td>5.0</td>\n",
       "    </tr>\n",
       "    <tr>\n",
       "      <th>max</th>\n",
       "      <td>348.000000</td>\n",
       "      <td>5128.000000</td>\n",
       "      <td>336951.100000</td>\n",
       "      <td>5.0</td>\n",
       "    </tr>\n",
       "  </tbody>\n",
       "</table>\n",
       "</div>"
      ],
      "text/plain": [
       "          recency    frequency       monetary  cluster\n",
       "count   15.000000    15.000000      15.000000     15.0\n",
       "mean    52.200000  1597.733333  158760.338667      5.0\n",
       "std     82.560973  1696.873910   66689.737676      0.0\n",
       "min     23.000000     5.000000   73208.670000      5.0\n",
       "25%     25.000000   351.000000  120145.390000      5.0\n",
       "50%     26.000000   990.000000  145647.450000      5.0\n",
       "75%     37.500000  2501.000000  167249.360000      5.0\n",
       "max    348.000000  5128.000000  336951.100000      5.0"
      ]
     },
     "execution_count": 92,
     "metadata": {},
     "output_type": "execute_result"
    }
   ],
   "source": [
    "cluster_5.describe()"
   ]
  },
  {
   "cell_type": "code",
   "execution_count": 93,
   "metadata": {
    "ExecuteTime": {
     "end_time": "2019-10-10T20:32:00.347006Z",
     "start_time": "2019-10-10T20:31:59.894188Z"
    }
   },
   "outputs": [
    {
     "data": {
      "text/plain": [
       "Text(0.5,1,'Boxplot of recency for each cluster')"
      ]
     },
     "execution_count": 93,
     "metadata": {},
     "output_type": "execute_result"
    },
    {
     "data": {
      "image/png": "[encoded data removed]",
      "text/plain": [
       "<Figure size 1440x576 with 1 Axes>"
      ]
     },
     "metadata": {},
     "output_type": "display_data"
    }
   ],
   "source": [
    "plt.figure(figsize=(20,8))\n",
    "sns.boxplot(RFM['cluster'],RFM['recency'])\n",
    "plt.title('Boxplot of recency for each cluster')"
   ]
  },
  {
   "cell_type": "code",
   "execution_count": 94,
   "metadata": {
    "ExecuteTime": {
     "end_time": "2019-10-10T20:32:06.696428Z",
     "start_time": "2019-10-10T20:32:06.256262Z"
    }
   },
   "outputs": [
    {
     "data": {
      "text/plain": [
       "Text(0.5,1,'Boxplot of frequency for each cluster')"
      ]
     },
     "execution_count": 94,
     "metadata": {},
     "output_type": "execute_result"
    },
    {
     "data": {
      "image/png": "[encoded data removed]",
      "text/plain": [
       "<Figure size 1440x576 with 1 Axes>"
      ]
     },
     "metadata": {},
     "output_type": "display_data"
    }
   ],
   "source": [
    "plt.figure(figsize=(20,8))\n",
    "sns.boxplot(RFM['cluster'],RFM['frequency'])\n",
    "plt.title('Boxplot of frequency for each cluster')"
   ]
  },
  {
   "cell_type": "code",
   "execution_count": 95,
   "metadata": {
    "ExecuteTime": {
     "end_time": "2019-10-10T20:32:09.783506Z",
     "start_time": "2019-10-10T20:32:09.404330Z"
    }
   },
   "outputs": [
    {
     "data": {
      "text/plain": [
       "Text(0.5,1,'Boxplot of monetary for each cluster')"
      ]
     },
     "execution_count": 95,
     "metadata": {},
     "output_type": "execute_result"
    },
    {
     "data": {
      "image/png": "[encoded data removed]",
      "text/plain": [
       "<Figure size 1440x576 with 1 Axes>"
      ]
     },
     "metadata": {},
     "output_type": "display_data"
    }
   ],
   "source": [
    "plt.figure(figsize=(20,8))\n",
    "sns.boxplot(RFM['cluster'],RFM['monetary'])\n",
    "plt.title('Boxplot of monetary for each cluster')"
   ]
  },
  {
   "cell_type": "markdown",
   "metadata": {},
   "source": [
    "<h4>Observation</h4>\n",
    "\n",
    "Customers in cluster 0 may be the second targets for retailers because they are frequent buyers, though they don't have high monetary values\n",
    "\n",
    "Customers in cluster 1 may be likely to lose as most of their last purchased dates are more than 100 days. Yet they don't generate much monetary values\n",
    "\n",
    "Customers in cluster 2, 4 and 5 are the most desirable but they are rare due to small sample size\n",
    "\n",
    "Customers in cluster 3 are the majority of buyers so they have the highest distribution \n"
   ]
  },
  {
   "cell_type": "markdown",
   "metadata": {},
   "source": [
    "#### RFM Score"
   ]
  },
  {
   "cell_type": "code",
   "execution_count": 96,
   "metadata": {
    "ExecuteTime": {
     "end_time": "2019-10-10T20:33:38.706453Z",
     "start_time": "2019-10-10T20:33:38.693502Z"
    }
   },
   "outputs": [
    {
     "data": {
      "text/plain": [
       "{'recency': {0.25: 47.0, 0.5: 118.5, 0.75: 404.0},\n",
       " 'frequency': {0.25: 21.0, 0.5: 53.0, 0.75: 144.0},\n",
       " 'monetary': {0.25: 347.99750000000006,\n",
       "  0.5: 906.1649999999998,\n",
       "  0.75: 2363.1400000000017}}"
      ]
     },
     "execution_count": 96,
     "metadata": {},
     "output_type": "execute_result"
    }
   ],
   "source": [
    "Quantile = RFM.iloc[:,:-1].quantile([.25,.5,.75]).to_dict()\n",
    "Quantile"
   ]
  },
  {
   "cell_type": "code",
   "execution_count": 97,
   "metadata": {
    "ExecuteTime": {
     "end_time": "2019-10-10T20:33:41.757258Z",
     "start_time": "2019-10-10T20:33:41.749310Z"
    }
   },
   "outputs": [],
   "source": [
    "# For R score, lower the score the more valuable the customer is \n",
    "def RScore(R,re,q):\n",
    "    if R <= q[re][0.25]:\n",
    "        return 4\n",
    "    elif R <= q[re][0.50]:\n",
    "        return 3\n",
    "    elif R <= q[re][0.75]: \n",
    "        return 2\n",
    "    else:\n",
    "        return 1\n",
    "\n",
    "# For F&M score, higher the score the more valuable the customer is    \n",
    "def FMScore(x,p,d):\n",
    "    if x <= d[p][0.25]:\n",
    "        return 1\n",
    "    elif x <= d[p][0.50]:\n",
    "        return 2\n",
    "    elif x <= d[p][0.75]: \n",
    "        return 3\n",
    "    else:\n",
    "        return 4"
   ]
  },
  {
   "cell_type": "code",
   "execution_count": 98,
   "metadata": {
    "ExecuteTime": {
     "end_time": "2019-10-10T20:33:43.278579Z",
     "start_time": "2019-10-10T20:33:43.243674Z"
    }
   },
   "outputs": [],
   "source": [
    "RFM['R_score'] = RFM['recency'].apply(lambda x: RScore(x,'recency',Quantile))\n",
    "RFM['F_score'] = RFM['frequency'].apply(lambda x: FMScore(x,'frequency',Quantile))\n",
    "RFM['M_score'] = RFM['monetary'].apply(lambda x: FMScore(x,'monetary',Quantile))"
   ]
  },
  {
   "cell_type": "code",
   "execution_count": 99,
   "metadata": {
    "ExecuteTime": {
     "end_time": "2019-10-10T20:33:44.633871Z",
     "start_time": "2019-10-10T20:33:44.604950Z"
    }
   },
   "outputs": [
    {
     "data": {
      "text/html": [
       "<div>\n",
       "<style scoped>\n",
       "    .dataframe tbody tr th:only-of-type {\n",
       "        vertical-align: middle;\n",
       "    }\n",
       "\n",
       "    .dataframe tbody tr th {\n",
       "        vertical-align: top;\n",
       "    }\n",
       "\n",
       "    .dataframe thead th {\n",
       "        text-align: right;\n",
       "    }\n",
       "</style>\n",
       "<table border=\"1\" class=\"dataframe\">\n",
       "  <thead>\n",
       "    <tr style=\"text-align: right;\">\n",
       "      <th></th>\n",
       "      <th>recency</th>\n",
       "      <th>frequency</th>\n",
       "      <th>monetary</th>\n",
       "      <th>cluster</th>\n",
       "      <th>R_score</th>\n",
       "      <th>F_score</th>\n",
       "      <th>M_score</th>\n",
       "      <th>RFMScore</th>\n",
       "    </tr>\n",
       "    <tr>\n",
       "      <th>Customer ID</th>\n",
       "      <th></th>\n",
       "      <th></th>\n",
       "      <th></th>\n",
       "      <th></th>\n",
       "      <th></th>\n",
       "      <th></th>\n",
       "      <th></th>\n",
       "      <th></th>\n",
       "    </tr>\n",
       "  </thead>\n",
       "  <tbody>\n",
       "    <tr>\n",
       "      <th>12346</th>\n",
       "      <td>348</td>\n",
       "      <td>48</td>\n",
       "      <td>155177.60</td>\n",
       "      <td>5</td>\n",
       "      <td>2</td>\n",
       "      <td>2</td>\n",
       "      <td>4</td>\n",
       "      <td>224</td>\n",
       "    </tr>\n",
       "    <tr>\n",
       "      <th>12347</th>\n",
       "      <td>25</td>\n",
       "      <td>253</td>\n",
       "      <td>5633.32</td>\n",
       "      <td>0</td>\n",
       "      <td>4</td>\n",
       "      <td>4</td>\n",
       "      <td>4</td>\n",
       "      <td>444</td>\n",
       "    </tr>\n",
       "    <tr>\n",
       "      <th>12348</th>\n",
       "      <td>98</td>\n",
       "      <td>51</td>\n",
       "      <td>2019.40</td>\n",
       "      <td>0</td>\n",
       "      <td>3</td>\n",
       "      <td>2</td>\n",
       "      <td>3</td>\n",
       "      <td>323</td>\n",
       "    </tr>\n",
       "    <tr>\n",
       "      <th>12349</th>\n",
       "      <td>41</td>\n",
       "      <td>180</td>\n",
       "      <td>4452.84</td>\n",
       "      <td>0</td>\n",
       "      <td>4</td>\n",
       "      <td>4</td>\n",
       "      <td>4</td>\n",
       "      <td>444</td>\n",
       "    </tr>\n",
       "    <tr>\n",
       "      <th>12350</th>\n",
       "      <td>333</td>\n",
       "      <td>17</td>\n",
       "      <td>334.40</td>\n",
       "      <td>1</td>\n",
       "      <td>2</td>\n",
       "      <td>1</td>\n",
       "      <td>1</td>\n",
       "      <td>211</td>\n",
       "    </tr>\n",
       "  </tbody>\n",
       "</table>\n",
       "</div>"
      ],
      "text/plain": [
       "             recency  frequency   monetary  cluster  R_score  F_score  \\\n",
       "Customer ID                                                             \n",
       "12346            348         48  155177.60        5        2        2   \n",
       "12347             25        253    5633.32        0        4        4   \n",
       "12348             98         51    2019.40        0        3        2   \n",
       "12349             41        180    4452.84        0        4        4   \n",
       "12350            333         17     334.40        1        2        1   \n",
       "\n",
       "             M_score RFMScore  \n",
       "Customer ID                    \n",
       "12346              4      224  \n",
       "12347              4      444  \n",
       "12348              3      323  \n",
       "12349              4      444  \n",
       "12350              1      211  "
      ]
     },
     "execution_count": 99,
     "metadata": {},
     "output_type": "execute_result"
    }
   ],
   "source": [
    "RFM['RFMScore'] = RFM['R_score'].map(str)+RFM['F_score'].map(str)+RFM['M_score'].map(str)\n",
    "RFM.head()"
   ]
  },
  {
   "cell_type": "code",
   "execution_count": 100,
   "metadata": {
    "ExecuteTime": {
     "end_time": "2019-10-10T20:33:59.359740Z",
     "start_time": "2019-10-10T20:33:57.828355Z"
    }
   },
   "outputs": [],
   "source": [
    "RFM.to_excel('E-Commerce_data_RFM_model.xlsx')"
   ]
  },
  {
   "cell_type": "markdown",
   "metadata": {},
   "source": [
    "### Churn rate analysis"
   ]
  },
  {
   "cell_type": "code",
   "execution_count": 101,
   "metadata": {
    "ExecuteTime": {
     "end_time": "2019-10-10T20:34:03.718929Z",
     "start_time": "2019-10-10T20:34:03.712946Z"
    }
   },
   "outputs": [],
   "source": [
    "def SetMonth(x):\n",
    "    return datetime(x.year,x.month,1)"
   ]
  },
  {
   "cell_type": "code",
   "execution_count": 103,
   "metadata": {
    "ExecuteTime": {
     "end_time": "2019-10-10T20:34:17.920712Z",
     "start_time": "2019-10-10T20:34:12.322166Z"
    }
   },
   "outputs": [],
   "source": [
    "df_copy = df_full\n",
    "\n",
    "df_copy['Invoice_month'] = df_copy['InvoiceDate'].apply(SetMonth)\n",
    "\n",
    "df_copy['Cohort_month'] = df_copy.groupby('Customer ID')['Invoice_month'].transform('min')"
   ]
  },
  {
   "cell_type": "code",
   "execution_count": 104,
   "metadata": {
    "ExecuteTime": {
     "end_time": "2019-10-10T20:34:41.154245Z",
     "start_time": "2019-10-10T20:34:22.733601Z"
    }
   },
   "outputs": [],
   "source": [
    "year_diff = df_copy['Invoice_month'].apply(lambda x: x.year) - df_copy['Cohort_month'].apply(lambda x: x.year)\n",
    "month_diff = df_copy['Invoice_month'].apply(lambda x: x.month) - df_copy['Cohort_month'].apply(lambda x: x.month)\n",
    "df_copy['Cohort_index'] = year_diff*12+month_diff+1"
   ]
  },
  {
   "cell_type": "code",
   "execution_count": 106,
   "metadata": {
    "ExecuteTime": {
     "end_time": "2019-10-10T20:35:02.369341Z",
     "start_time": "2019-10-10T20:35:02.031143Z"
    }
   },
   "outputs": [],
   "source": [
    "df_Cohort = df_copy.groupby(['Cohort_month', 'Cohort_index'])\n",
    "Cohort_data = df_Cohort['Customer ID'].nunique()\n",
    "Cohort_data= Cohort_data.reset_index()"
   ]
  },
  {
   "cell_type": "code",
   "execution_count": 107,
   "metadata": {
    "ExecuteTime": {
     "end_time": "2019-10-10T20:35:03.507240Z",
     "start_time": "2019-10-10T20:35:03.431441Z"
    },
    "scrolled": true
   },
   "outputs": [
    {
     "data": {
      "text/html": [
       "<div>\n",
       "<style scoped>\n",
       "    .dataframe tbody tr th:only-of-type {\n",
       "        vertical-align: middle;\n",
       "    }\n",
       "\n",
       "    .dataframe tbody tr th {\n",
       "        vertical-align: top;\n",
       "    }\n",
       "\n",
       "    .dataframe thead th {\n",
       "        text-align: right;\n",
       "    }\n",
       "</style>\n",
       "<table border=\"1\" class=\"dataframe\">\n",
       "  <thead>\n",
       "    <tr style=\"text-align: right;\">\n",
       "      <th>Cohort_index</th>\n",
       "      <th>1</th>\n",
       "      <th>2</th>\n",
       "      <th>3</th>\n",
       "      <th>4</th>\n",
       "      <th>5</th>\n",
       "      <th>6</th>\n",
       "      <th>7</th>\n",
       "      <th>8</th>\n",
       "      <th>9</th>\n",
       "      <th>10</th>\n",
       "      <th>...</th>\n",
       "      <th>16</th>\n",
       "      <th>17</th>\n",
       "      <th>18</th>\n",
       "      <th>19</th>\n",
       "      <th>20</th>\n",
       "      <th>21</th>\n",
       "      <th>22</th>\n",
       "      <th>23</th>\n",
       "      <th>24</th>\n",
       "      <th>25</th>\n",
       "    </tr>\n",
       "    <tr>\n",
       "      <th>Cohort_month</th>\n",
       "      <th></th>\n",
       "      <th></th>\n",
       "      <th></th>\n",
       "      <th></th>\n",
       "      <th></th>\n",
       "      <th></th>\n",
       "      <th></th>\n",
       "      <th></th>\n",
       "      <th></th>\n",
       "      <th></th>\n",
       "      <th></th>\n",
       "      <th></th>\n",
       "      <th></th>\n",
       "      <th></th>\n",
       "      <th></th>\n",
       "      <th></th>\n",
       "      <th></th>\n",
       "      <th></th>\n",
       "      <th></th>\n",
       "      <th></th>\n",
       "      <th></th>\n",
       "    </tr>\n",
       "  </thead>\n",
       "  <tbody>\n",
       "    <tr>\n",
       "      <th>2009-12-01</th>\n",
       "      <td>1045.0</td>\n",
       "      <td>392.0</td>\n",
       "      <td>358.0</td>\n",
       "      <td>447.0</td>\n",
       "      <td>410.0</td>\n",
       "      <td>408.0</td>\n",
       "      <td>408.0</td>\n",
       "      <td>374.0</td>\n",
       "      <td>355.0</td>\n",
       "      <td>392.0</td>\n",
       "      <td>...</td>\n",
       "      <td>319.0</td>\n",
       "      <td>273.0</td>\n",
       "      <td>316.0</td>\n",
       "      <td>303.0</td>\n",
       "      <td>287.0</td>\n",
       "      <td>274.0</td>\n",
       "      <td>332.0</td>\n",
       "      <td>319.0</td>\n",
       "      <td>427.0</td>\n",
       "      <td>218.0</td>\n",
       "    </tr>\n",
       "    <tr>\n",
       "      <th>2010-01-01</th>\n",
       "      <td>394.0</td>\n",
       "      <td>86.0</td>\n",
       "      <td>119.0</td>\n",
       "      <td>120.0</td>\n",
       "      <td>110.0</td>\n",
       "      <td>115.0</td>\n",
       "      <td>105.0</td>\n",
       "      <td>91.0</td>\n",
       "      <td>114.0</td>\n",
       "      <td>134.0</td>\n",
       "      <td>...</td>\n",
       "      <td>60.0</td>\n",
       "      <td>86.0</td>\n",
       "      <td>74.0</td>\n",
       "      <td>69.0</td>\n",
       "      <td>73.0</td>\n",
       "      <td>93.0</td>\n",
       "      <td>73.0</td>\n",
       "      <td>88.0</td>\n",
       "      <td>29.0</td>\n",
       "      <td>NaN</td>\n",
       "    </tr>\n",
       "    <tr>\n",
       "      <th>2010-02-01</th>\n",
       "      <td>363.0</td>\n",
       "      <td>109.0</td>\n",
       "      <td>82.0</td>\n",
       "      <td>110.0</td>\n",
       "      <td>93.0</td>\n",
       "      <td>76.0</td>\n",
       "      <td>79.0</td>\n",
       "      <td>103.0</td>\n",
       "      <td>100.0</td>\n",
       "      <td>106.0</td>\n",
       "      <td>...</td>\n",
       "      <td>74.0</td>\n",
       "      <td>67.0</td>\n",
       "      <td>61.0</td>\n",
       "      <td>53.0</td>\n",
       "      <td>85.0</td>\n",
       "      <td>90.0</td>\n",
       "      <td>62.0</td>\n",
       "      <td>23.0</td>\n",
       "      <td>NaN</td>\n",
       "      <td>NaN</td>\n",
       "    </tr>\n",
       "    <tr>\n",
       "      <th>2010-03-01</th>\n",
       "      <td>436.0</td>\n",
       "      <td>95.0</td>\n",
       "      <td>113.0</td>\n",
       "      <td>103.0</td>\n",
       "      <td>100.0</td>\n",
       "      <td>87.0</td>\n",
       "      <td>105.0</td>\n",
       "      <td>130.0</td>\n",
       "      <td>126.0</td>\n",
       "      <td>50.0</td>\n",
       "      <td>...</td>\n",
       "      <td>74.0</td>\n",
       "      <td>76.0</td>\n",
       "      <td>69.0</td>\n",
       "      <td>74.0</td>\n",
       "      <td>89.0</td>\n",
       "      <td>93.0</td>\n",
       "      <td>33.0</td>\n",
       "      <td>NaN</td>\n",
       "      <td>NaN</td>\n",
       "      <td>NaN</td>\n",
       "    </tr>\n",
       "    <tr>\n",
       "      <th>2010-04-01</th>\n",
       "      <td>291.0</td>\n",
       "      <td>67.0</td>\n",
       "      <td>58.0</td>\n",
       "      <td>47.0</td>\n",
       "      <td>54.0</td>\n",
       "      <td>67.0</td>\n",
       "      <td>79.0</td>\n",
       "      <td>76.0</td>\n",
       "      <td>33.0</td>\n",
       "      <td>34.0</td>\n",
       "      <td>...</td>\n",
       "      <td>43.0</td>\n",
       "      <td>41.0</td>\n",
       "      <td>41.0</td>\n",
       "      <td>50.0</td>\n",
       "      <td>61.0</td>\n",
       "      <td>19.0</td>\n",
       "      <td>NaN</td>\n",
       "      <td>NaN</td>\n",
       "      <td>NaN</td>\n",
       "      <td>NaN</td>\n",
       "    </tr>\n",
       "    <tr>\n",
       "      <th>2010-05-01</th>\n",
       "      <td>254.0</td>\n",
       "      <td>49.0</td>\n",
       "      <td>45.0</td>\n",
       "      <td>49.0</td>\n",
       "      <td>48.0</td>\n",
       "      <td>66.0</td>\n",
       "      <td>56.0</td>\n",
       "      <td>33.0</td>\n",
       "      <td>17.0</td>\n",
       "      <td>22.0</td>\n",
       "      <td>...</td>\n",
       "      <td>33.0</td>\n",
       "      <td>36.0</td>\n",
       "      <td>42.0</td>\n",
       "      <td>40.0</td>\n",
       "      <td>12.0</td>\n",
       "      <td>NaN</td>\n",
       "      <td>NaN</td>\n",
       "      <td>NaN</td>\n",
       "      <td>NaN</td>\n",
       "      <td>NaN</td>\n",
       "    </tr>\n",
       "    <tr>\n",
       "      <th>2010-06-01</th>\n",
       "      <td>269.0</td>\n",
       "      <td>58.0</td>\n",
       "      <td>53.0</td>\n",
       "      <td>55.0</td>\n",
       "      <td>62.0</td>\n",
       "      <td>76.0</td>\n",
       "      <td>35.0</td>\n",
       "      <td>25.0</td>\n",
       "      <td>22.0</td>\n",
       "      <td>32.0</td>\n",
       "      <td>...</td>\n",
       "      <td>33.0</td>\n",
       "      <td>37.0</td>\n",
       "      <td>55.0</td>\n",
       "      <td>16.0</td>\n",
       "      <td>NaN</td>\n",
       "      <td>NaN</td>\n",
       "      <td>NaN</td>\n",
       "      <td>NaN</td>\n",
       "      <td>NaN</td>\n",
       "      <td>NaN</td>\n",
       "    </tr>\n",
       "    <tr>\n",
       "      <th>2010-07-01</th>\n",
       "      <td>183.0</td>\n",
       "      <td>38.0</td>\n",
       "      <td>37.0</td>\n",
       "      <td>52.0</td>\n",
       "      <td>55.0</td>\n",
       "      <td>28.0</td>\n",
       "      <td>21.0</td>\n",
       "      <td>28.0</td>\n",
       "      <td>26.0</td>\n",
       "      <td>22.0</td>\n",
       "      <td>...</td>\n",
       "      <td>32.0</td>\n",
       "      <td>45.0</td>\n",
       "      <td>17.0</td>\n",
       "      <td>NaN</td>\n",
       "      <td>NaN</td>\n",
       "      <td>NaN</td>\n",
       "      <td>NaN</td>\n",
       "      <td>NaN</td>\n",
       "      <td>NaN</td>\n",
       "      <td>NaN</td>\n",
       "    </tr>\n",
       "    <tr>\n",
       "      <th>2010-08-01</th>\n",
       "      <td>158.0</td>\n",
       "      <td>39.0</td>\n",
       "      <td>50.0</td>\n",
       "      <td>51.0</td>\n",
       "      <td>29.0</td>\n",
       "      <td>21.0</td>\n",
       "      <td>16.0</td>\n",
       "      <td>22.0</td>\n",
       "      <td>23.0</td>\n",
       "      <td>21.0</td>\n",
       "      <td>...</td>\n",
       "      <td>32.0</td>\n",
       "      <td>11.0</td>\n",
       "      <td>NaN</td>\n",
       "      <td>NaN</td>\n",
       "      <td>NaN</td>\n",
       "      <td>NaN</td>\n",
       "      <td>NaN</td>\n",
       "      <td>NaN</td>\n",
       "      <td>NaN</td>\n",
       "      <td>NaN</td>\n",
       "    </tr>\n",
       "    <tr>\n",
       "      <th>2010-09-01</th>\n",
       "      <td>242.0</td>\n",
       "      <td>73.0</td>\n",
       "      <td>63.0</td>\n",
       "      <td>34.0</td>\n",
       "      <td>22.0</td>\n",
       "      <td>25.0</td>\n",
       "      <td>34.0</td>\n",
       "      <td>24.0</td>\n",
       "      <td>30.0</td>\n",
       "      <td>34.0</td>\n",
       "      <td>...</td>\n",
       "      <td>13.0</td>\n",
       "      <td>NaN</td>\n",
       "      <td>NaN</td>\n",
       "      <td>NaN</td>\n",
       "      <td>NaN</td>\n",
       "      <td>NaN</td>\n",
       "      <td>NaN</td>\n",
       "      <td>NaN</td>\n",
       "      <td>NaN</td>\n",
       "      <td>NaN</td>\n",
       "    </tr>\n",
       "    <tr>\n",
       "      <th>2010-10-01</th>\n",
       "      <td>379.0</td>\n",
       "      <td>112.0</td>\n",
       "      <td>61.0</td>\n",
       "      <td>49.0</td>\n",
       "      <td>35.0</td>\n",
       "      <td>34.0</td>\n",
       "      <td>51.0</td>\n",
       "      <td>54.0</td>\n",
       "      <td>43.0</td>\n",
       "      <td>35.0</td>\n",
       "      <td>...</td>\n",
       "      <td>NaN</td>\n",
       "      <td>NaN</td>\n",
       "      <td>NaN</td>\n",
       "      <td>NaN</td>\n",
       "      <td>NaN</td>\n",
       "      <td>NaN</td>\n",
       "      <td>NaN</td>\n",
       "      <td>NaN</td>\n",
       "      <td>NaN</td>\n",
       "      <td>NaN</td>\n",
       "    </tr>\n",
       "    <tr>\n",
       "      <th>2010-11-01</th>\n",
       "      <td>322.0</td>\n",
       "      <td>68.0</td>\n",
       "      <td>31.0</td>\n",
       "      <td>34.0</td>\n",
       "      <td>30.0</td>\n",
       "      <td>30.0</td>\n",
       "      <td>44.0</td>\n",
       "      <td>35.0</td>\n",
       "      <td>28.0</td>\n",
       "      <td>29.0</td>\n",
       "      <td>...</td>\n",
       "      <td>NaN</td>\n",
       "      <td>NaN</td>\n",
       "      <td>NaN</td>\n",
       "      <td>NaN</td>\n",
       "      <td>NaN</td>\n",
       "      <td>NaN</td>\n",
       "      <td>NaN</td>\n",
       "      <td>NaN</td>\n",
       "      <td>NaN</td>\n",
       "      <td>NaN</td>\n",
       "    </tr>\n",
       "    <tr>\n",
       "      <th>2010-12-01</th>\n",
       "      <td>77.0</td>\n",
       "      <td>9.0</td>\n",
       "      <td>4.0</td>\n",
       "      <td>7.0</td>\n",
       "      <td>9.0</td>\n",
       "      <td>6.0</td>\n",
       "      <td>4.0</td>\n",
       "      <td>7.0</td>\n",
       "      <td>5.0</td>\n",
       "      <td>2.0</td>\n",
       "      <td>...</td>\n",
       "      <td>NaN</td>\n",
       "      <td>NaN</td>\n",
       "      <td>NaN</td>\n",
       "      <td>NaN</td>\n",
       "      <td>NaN</td>\n",
       "      <td>NaN</td>\n",
       "      <td>NaN</td>\n",
       "      <td>NaN</td>\n",
       "      <td>NaN</td>\n",
       "      <td>NaN</td>\n",
       "    </tr>\n",
       "    <tr>\n",
       "      <th>2011-01-01</th>\n",
       "      <td>71.0</td>\n",
       "      <td>15.0</td>\n",
       "      <td>15.0</td>\n",
       "      <td>14.0</td>\n",
       "      <td>15.0</td>\n",
       "      <td>11.0</td>\n",
       "      <td>11.0</td>\n",
       "      <td>9.0</td>\n",
       "      <td>8.0</td>\n",
       "      <td>17.0</td>\n",
       "      <td>...</td>\n",
       "      <td>NaN</td>\n",
       "      <td>NaN</td>\n",
       "      <td>NaN</td>\n",
       "      <td>NaN</td>\n",
       "      <td>NaN</td>\n",
       "      <td>NaN</td>\n",
       "      <td>NaN</td>\n",
       "      <td>NaN</td>\n",
       "      <td>NaN</td>\n",
       "      <td>NaN</td>\n",
       "    </tr>\n",
       "    <tr>\n",
       "      <th>2011-02-01</th>\n",
       "      <td>123.0</td>\n",
       "      <td>25.0</td>\n",
       "      <td>21.0</td>\n",
       "      <td>23.0</td>\n",
       "      <td>27.0</td>\n",
       "      <td>19.0</td>\n",
       "      <td>21.0</td>\n",
       "      <td>19.0</td>\n",
       "      <td>20.0</td>\n",
       "      <td>24.0</td>\n",
       "      <td>...</td>\n",
       "      <td>NaN</td>\n",
       "      <td>NaN</td>\n",
       "      <td>NaN</td>\n",
       "      <td>NaN</td>\n",
       "      <td>NaN</td>\n",
       "      <td>NaN</td>\n",
       "      <td>NaN</td>\n",
       "      <td>NaN</td>\n",
       "      <td>NaN</td>\n",
       "      <td>NaN</td>\n",
       "    </tr>\n",
       "    <tr>\n",
       "      <th>2011-03-01</th>\n",
       "      <td>178.0</td>\n",
       "      <td>43.0</td>\n",
       "      <td>43.0</td>\n",
       "      <td>40.0</td>\n",
       "      <td>40.0</td>\n",
       "      <td>30.0</td>\n",
       "      <td>39.0</td>\n",
       "      <td>40.0</td>\n",
       "      <td>45.0</td>\n",
       "      <td>17.0</td>\n",
       "      <td>...</td>\n",
       "      <td>NaN</td>\n",
       "      <td>NaN</td>\n",
       "      <td>NaN</td>\n",
       "      <td>NaN</td>\n",
       "      <td>NaN</td>\n",
       "      <td>NaN</td>\n",
       "      <td>NaN</td>\n",
       "      <td>NaN</td>\n",
       "      <td>NaN</td>\n",
       "      <td>NaN</td>\n",
       "    </tr>\n",
       "    <tr>\n",
       "      <th>2011-04-01</th>\n",
       "      <td>105.0</td>\n",
       "      <td>28.0</td>\n",
       "      <td>22.0</td>\n",
       "      <td>21.0</td>\n",
       "      <td>21.0</td>\n",
       "      <td>26.0</td>\n",
       "      <td>21.0</td>\n",
       "      <td>27.0</td>\n",
       "      <td>13.0</td>\n",
       "      <td>NaN</td>\n",
       "      <td>...</td>\n",
       "      <td>NaN</td>\n",
       "      <td>NaN</td>\n",
       "      <td>NaN</td>\n",
       "      <td>NaN</td>\n",
       "      <td>NaN</td>\n",
       "      <td>NaN</td>\n",
       "      <td>NaN</td>\n",
       "      <td>NaN</td>\n",
       "      <td>NaN</td>\n",
       "      <td>NaN</td>\n",
       "    </tr>\n",
       "    <tr>\n",
       "      <th>2011-05-01</th>\n",
       "      <td>108.0</td>\n",
       "      <td>29.0</td>\n",
       "      <td>27.0</td>\n",
       "      <td>19.0</td>\n",
       "      <td>24.0</td>\n",
       "      <td>23.0</td>\n",
       "      <td>28.0</td>\n",
       "      <td>12.0</td>\n",
       "      <td>NaN</td>\n",
       "      <td>NaN</td>\n",
       "      <td>...</td>\n",
       "      <td>NaN</td>\n",
       "      <td>NaN</td>\n",
       "      <td>NaN</td>\n",
       "      <td>NaN</td>\n",
       "      <td>NaN</td>\n",
       "      <td>NaN</td>\n",
       "      <td>NaN</td>\n",
       "      <td>NaN</td>\n",
       "      <td>NaN</td>\n",
       "      <td>NaN</td>\n",
       "    </tr>\n",
       "    <tr>\n",
       "      <th>2011-06-01</th>\n",
       "      <td>108.0</td>\n",
       "      <td>29.0</td>\n",
       "      <td>24.0</td>\n",
       "      <td>30.0</td>\n",
       "      <td>24.0</td>\n",
       "      <td>31.0</td>\n",
       "      <td>11.0</td>\n",
       "      <td>NaN</td>\n",
       "      <td>NaN</td>\n",
       "      <td>NaN</td>\n",
       "      <td>...</td>\n",
       "      <td>NaN</td>\n",
       "      <td>NaN</td>\n",
       "      <td>NaN</td>\n",
       "      <td>NaN</td>\n",
       "      <td>NaN</td>\n",
       "      <td>NaN</td>\n",
       "      <td>NaN</td>\n",
       "      <td>NaN</td>\n",
       "      <td>NaN</td>\n",
       "      <td>NaN</td>\n",
       "    </tr>\n",
       "    <tr>\n",
       "      <th>2011-07-01</th>\n",
       "      <td>102.0</td>\n",
       "      <td>24.0</td>\n",
       "      <td>31.0</td>\n",
       "      <td>30.0</td>\n",
       "      <td>36.0</td>\n",
       "      <td>16.0</td>\n",
       "      <td>NaN</td>\n",
       "      <td>NaN</td>\n",
       "      <td>NaN</td>\n",
       "      <td>NaN</td>\n",
       "      <td>...</td>\n",
       "      <td>NaN</td>\n",
       "      <td>NaN</td>\n",
       "      <td>NaN</td>\n",
       "      <td>NaN</td>\n",
       "      <td>NaN</td>\n",
       "      <td>NaN</td>\n",
       "      <td>NaN</td>\n",
       "      <td>NaN</td>\n",
       "      <td>NaN</td>\n",
       "      <td>NaN</td>\n",
       "    </tr>\n",
       "    <tr>\n",
       "      <th>2011-08-01</th>\n",
       "      <td>106.0</td>\n",
       "      <td>35.0</td>\n",
       "      <td>33.0</td>\n",
       "      <td>29.0</td>\n",
       "      <td>20.0</td>\n",
       "      <td>NaN</td>\n",
       "      <td>NaN</td>\n",
       "      <td>NaN</td>\n",
       "      <td>NaN</td>\n",
       "      <td>NaN</td>\n",
       "      <td>...</td>\n",
       "      <td>NaN</td>\n",
       "      <td>NaN</td>\n",
       "      <td>NaN</td>\n",
       "      <td>NaN</td>\n",
       "      <td>NaN</td>\n",
       "      <td>NaN</td>\n",
       "      <td>NaN</td>\n",
       "      <td>NaN</td>\n",
       "      <td>NaN</td>\n",
       "      <td>NaN</td>\n",
       "    </tr>\n",
       "    <tr>\n",
       "      <th>2011-09-01</th>\n",
       "      <td>187.0</td>\n",
       "      <td>64.0</td>\n",
       "      <td>73.0</td>\n",
       "      <td>30.0</td>\n",
       "      <td>NaN</td>\n",
       "      <td>NaN</td>\n",
       "      <td>NaN</td>\n",
       "      <td>NaN</td>\n",
       "      <td>NaN</td>\n",
       "      <td>NaN</td>\n",
       "      <td>...</td>\n",
       "      <td>NaN</td>\n",
       "      <td>NaN</td>\n",
       "      <td>NaN</td>\n",
       "      <td>NaN</td>\n",
       "      <td>NaN</td>\n",
       "      <td>NaN</td>\n",
       "      <td>NaN</td>\n",
       "      <td>NaN</td>\n",
       "      <td>NaN</td>\n",
       "      <td>NaN</td>\n",
       "    </tr>\n",
       "    <tr>\n",
       "      <th>2011-10-01</th>\n",
       "      <td>221.0</td>\n",
       "      <td>74.0</td>\n",
       "      <td>39.0</td>\n",
       "      <td>NaN</td>\n",
       "      <td>NaN</td>\n",
       "      <td>NaN</td>\n",
       "      <td>NaN</td>\n",
       "      <td>NaN</td>\n",
       "      <td>NaN</td>\n",
       "      <td>NaN</td>\n",
       "      <td>...</td>\n",
       "      <td>NaN</td>\n",
       "      <td>NaN</td>\n",
       "      <td>NaN</td>\n",
       "      <td>NaN</td>\n",
       "      <td>NaN</td>\n",
       "      <td>NaN</td>\n",
       "      <td>NaN</td>\n",
       "      <td>NaN</td>\n",
       "      <td>NaN</td>\n",
       "      <td>NaN</td>\n",
       "    </tr>\n",
       "    <tr>\n",
       "      <th>2011-11-01</th>\n",
       "      <td>192.0</td>\n",
       "      <td>33.0</td>\n",
       "      <td>NaN</td>\n",
       "      <td>NaN</td>\n",
       "      <td>NaN</td>\n",
       "      <td>NaN</td>\n",
       "      <td>NaN</td>\n",
       "      <td>NaN</td>\n",
       "      <td>NaN</td>\n",
       "      <td>NaN</td>\n",
       "      <td>...</td>\n",
       "      <td>NaN</td>\n",
       "      <td>NaN</td>\n",
       "      <td>NaN</td>\n",
       "      <td>NaN</td>\n",
       "      <td>NaN</td>\n",
       "      <td>NaN</td>\n",
       "      <td>NaN</td>\n",
       "      <td>NaN</td>\n",
       "      <td>NaN</td>\n",
       "      <td>NaN</td>\n",
       "    </tr>\n",
       "    <tr>\n",
       "      <th>2011-12-01</th>\n",
       "      <td>28.0</td>\n",
       "      <td>NaN</td>\n",
       "      <td>NaN</td>\n",
       "      <td>NaN</td>\n",
       "      <td>NaN</td>\n",
       "      <td>NaN</td>\n",
       "      <td>NaN</td>\n",
       "      <td>NaN</td>\n",
       "      <td>NaN</td>\n",
       "      <td>NaN</td>\n",
       "      <td>...</td>\n",
       "      <td>NaN</td>\n",
       "      <td>NaN</td>\n",
       "      <td>NaN</td>\n",
       "      <td>NaN</td>\n",
       "      <td>NaN</td>\n",
       "      <td>NaN</td>\n",
       "      <td>NaN</td>\n",
       "      <td>NaN</td>\n",
       "      <td>NaN</td>\n",
       "      <td>NaN</td>\n",
       "    </tr>\n",
       "  </tbody>\n",
       "</table>\n",
       "<p>25 rows × 25 columns</p>\n",
       "</div>"
      ],
      "text/plain": [
       "Cohort_index      1      2      3      4      5      6      7      8      9   \\\n",
       "Cohort_month                                                                   \n",
       "2009-12-01    1045.0  392.0  358.0  447.0  410.0  408.0  408.0  374.0  355.0   \n",
       "2010-01-01     394.0   86.0  119.0  120.0  110.0  115.0  105.0   91.0  114.0   \n",
       "2010-02-01     363.0  109.0   82.0  110.0   93.0   76.0   79.0  103.0  100.0   \n",
       "2010-03-01     436.0   95.0  113.0  103.0  100.0   87.0  105.0  130.0  126.0   \n",
       "2010-04-01     291.0   67.0   58.0   47.0   54.0   67.0   79.0   76.0   33.0   \n",
       "2010-05-01     254.0   49.0   45.0   49.0   48.0   66.0   56.0   33.0   17.0   \n",
       "2010-06-01     269.0   58.0   53.0   55.0   62.0   76.0   35.0   25.0   22.0   \n",
       "2010-07-01     183.0   38.0   37.0   52.0   55.0   28.0   21.0   28.0   26.0   \n",
       "2010-08-01     158.0   39.0   50.0   51.0   29.0   21.0   16.0   22.0   23.0   \n",
       "2010-09-01     242.0   73.0   63.0   34.0   22.0   25.0   34.0   24.0   30.0   \n",
       "2010-10-01     379.0  112.0   61.0   49.0   35.0   34.0   51.0   54.0   43.0   \n",
       "2010-11-01     322.0   68.0   31.0   34.0   30.0   30.0   44.0   35.0   28.0   \n",
       "2010-12-01      77.0    9.0    4.0    7.0    9.0    6.0    4.0    7.0    5.0   \n",
       "2011-01-01      71.0   15.0   15.0   14.0   15.0   11.0   11.0    9.0    8.0   \n",
       "2011-02-01     123.0   25.0   21.0   23.0   27.0   19.0   21.0   19.0   20.0   \n",
       "2011-03-01     178.0   43.0   43.0   40.0   40.0   30.0   39.0   40.0   45.0   \n",
       "2011-04-01     105.0   28.0   22.0   21.0   21.0   26.0   21.0   27.0   13.0   \n",
       "2011-05-01     108.0   29.0   27.0   19.0   24.0   23.0   28.0   12.0    NaN   \n",
       "2011-06-01     108.0   29.0   24.0   30.0   24.0   31.0   11.0    NaN    NaN   \n",
       "2011-07-01     102.0   24.0   31.0   30.0   36.0   16.0    NaN    NaN    NaN   \n",
       "2011-08-01     106.0   35.0   33.0   29.0   20.0    NaN    NaN    NaN    NaN   \n",
       "2011-09-01     187.0   64.0   73.0   30.0    NaN    NaN    NaN    NaN    NaN   \n",
       "2011-10-01     221.0   74.0   39.0    NaN    NaN    NaN    NaN    NaN    NaN   \n",
       "2011-11-01     192.0   33.0    NaN    NaN    NaN    NaN    NaN    NaN    NaN   \n",
       "2011-12-01      28.0    NaN    NaN    NaN    NaN    NaN    NaN    NaN    NaN   \n",
       "\n",
       "Cohort_index     10  ...       16     17     18     19     20     21     22  \\\n",
       "Cohort_month         ...                                                      \n",
       "2009-12-01    392.0  ...    319.0  273.0  316.0  303.0  287.0  274.0  332.0   \n",
       "2010-01-01    134.0  ...     60.0   86.0   74.0   69.0   73.0   93.0   73.0   \n",
       "2010-02-01    106.0  ...     74.0   67.0   61.0   53.0   85.0   90.0   62.0   \n",
       "2010-03-01     50.0  ...     74.0   76.0   69.0   74.0   89.0   93.0   33.0   \n",
       "2010-04-01     34.0  ...     43.0   41.0   41.0   50.0   61.0   19.0    NaN   \n",
       "2010-05-01     22.0  ...     33.0   36.0   42.0   40.0   12.0    NaN    NaN   \n",
       "2010-06-01     32.0  ...     33.0   37.0   55.0   16.0    NaN    NaN    NaN   \n",
       "2010-07-01     22.0  ...     32.0   45.0   17.0    NaN    NaN    NaN    NaN   \n",
       "2010-08-01     21.0  ...     32.0   11.0    NaN    NaN    NaN    NaN    NaN   \n",
       "2010-09-01     34.0  ...     13.0    NaN    NaN    NaN    NaN    NaN    NaN   \n",
       "2010-10-01     35.0  ...      NaN    NaN    NaN    NaN    NaN    NaN    NaN   \n",
       "2010-11-01     29.0  ...      NaN    NaN    NaN    NaN    NaN    NaN    NaN   \n",
       "2010-12-01      2.0  ...      NaN    NaN    NaN    NaN    NaN    NaN    NaN   \n",
       "2011-01-01     17.0  ...      NaN    NaN    NaN    NaN    NaN    NaN    NaN   \n",
       "2011-02-01     24.0  ...      NaN    NaN    NaN    NaN    NaN    NaN    NaN   \n",
       "2011-03-01     17.0  ...      NaN    NaN    NaN    NaN    NaN    NaN    NaN   \n",
       "2011-04-01      NaN  ...      NaN    NaN    NaN    NaN    NaN    NaN    NaN   \n",
       "2011-05-01      NaN  ...      NaN    NaN    NaN    NaN    NaN    NaN    NaN   \n",
       "2011-06-01      NaN  ...      NaN    NaN    NaN    NaN    NaN    NaN    NaN   \n",
       "2011-07-01      NaN  ...      NaN    NaN    NaN    NaN    NaN    NaN    NaN   \n",
       "2011-08-01      NaN  ...      NaN    NaN    NaN    NaN    NaN    NaN    NaN   \n",
       "2011-09-01      NaN  ...      NaN    NaN    NaN    NaN    NaN    NaN    NaN   \n",
       "2011-10-01      NaN  ...      NaN    NaN    NaN    NaN    NaN    NaN    NaN   \n",
       "2011-11-01      NaN  ...      NaN    NaN    NaN    NaN    NaN    NaN    NaN   \n",
       "2011-12-01      NaN  ...      NaN    NaN    NaN    NaN    NaN    NaN    NaN   \n",
       "\n",
       "Cohort_index     23     24     25  \n",
       "Cohort_month                       \n",
       "2009-12-01    319.0  427.0  218.0  \n",
       "2010-01-01     88.0   29.0    NaN  \n",
       "2010-02-01     23.0    NaN    NaN  \n",
       "2010-03-01      NaN    NaN    NaN  \n",
       "2010-04-01      NaN    NaN    NaN  \n",
       "2010-05-01      NaN    NaN    NaN  \n",
       "2010-06-01      NaN    NaN    NaN  \n",
       "2010-07-01      NaN    NaN    NaN  \n",
       "2010-08-01      NaN    NaN    NaN  \n",
       "2010-09-01      NaN    NaN    NaN  \n",
       "2010-10-01      NaN    NaN    NaN  \n",
       "2010-11-01      NaN    NaN    NaN  \n",
       "2010-12-01      NaN    NaN    NaN  \n",
       "2011-01-01      NaN    NaN    NaN  \n",
       "2011-02-01      NaN    NaN    NaN  \n",
       "2011-03-01      NaN    NaN    NaN  \n",
       "2011-04-01      NaN    NaN    NaN  \n",
       "2011-05-01      NaN    NaN    NaN  \n",
       "2011-06-01      NaN    NaN    NaN  \n",
       "2011-07-01      NaN    NaN    NaN  \n",
       "2011-08-01      NaN    NaN    NaN  \n",
       "2011-09-01      NaN    NaN    NaN  \n",
       "2011-10-01      NaN    NaN    NaN  \n",
       "2011-11-01      NaN    NaN    NaN  \n",
       "2011-12-01      NaN    NaN    NaN  \n",
       "\n",
       "[25 rows x 25 columns]"
      ]
     },
     "execution_count": 107,
     "metadata": {},
     "output_type": "execute_result"
    }
   ],
   "source": [
    "Cohort_pivot = Cohort_data.pivot(index='Cohort_month', columns='Cohort_index', values='Customer ID')\n",
    "Cohort_pivot"
   ]
  },
  {
   "cell_type": "code",
   "execution_count": 115,
   "metadata": {
    "ExecuteTime": {
     "end_time": "2019-10-10T20:37:05.458537Z",
     "start_time": "2019-10-10T20:37:05.441582Z"
    }
   },
   "outputs": [],
   "source": [
    "Cohort_bases = Cohort_pivot.iloc[:,0]\n",
    "churn = 1- Cohort_pivot.divide(Cohort_bases, axis=0)\n",
    "churn.round(2) * 100\n",
    "churn.index = churn.index.astype('str')\n",
    "#churn.round(2) * 100"
   ]
  },
  {
   "cell_type": "code",
   "execution_count": 116,
   "metadata": {
    "ExecuteTime": {
     "end_time": "2019-10-10T20:37:14.081412Z",
     "start_time": "2019-10-10T20:37:12.648739Z"
    }
   },
   "outputs": [
    {
     "data": {
      "image/png": "[encoded data removed]",
      "text/plain": [
       "<Figure size 1800x576 with 2 Axes>"
      ]
     },
     "metadata": {},
     "output_type": "display_data"
    }
   ],
   "source": [
    "plt.figure(figsize=(25, 8))\n",
    "plt.title('Churn rates')\n",
    "sns.heatmap(data = churn,annot = True, fmt = '.0%', vmin = 0.0, vmax = 1, cmap ='YlGnBu')\n",
    "plt.show()"
   ]
  },
  {
   "cell_type": "code",
   "execution_count": null,
   "metadata": {},
   "outputs": [],
   "source": []
  }
 ],
 "metadata": {
  "kernelspec": {
   "display_name": "Python 3",
   "language": "python",
   "name": "python3"
  },
  "language_info": {
   "codemirror_mode": {
    "name": "ipython",
    "version": 3
   },
   "file_extension": ".py",
   "mimetype": "text/x-python",
   "name": "python",
   "nbconvert_exporter": "python",
   "pygments_lexer": "ipython3",
   "version": "3.6.5"
  },
  "varInspector": {
   "cols": {
    "lenName": 16,
    "lenType": 16,
    "lenVar": 40
   },
   "kernels_config": {
    "python": {
     "delete_cmd_postfix": "",
     "delete_cmd_prefix": "del ",
     "library": "var_list.py",
     "varRefreshCmd": "print(var_dic_list())"
    },
    "r": {
     "delete_cmd_postfix": ") ",
     "delete_cmd_prefix": "rm(",
     "library": "var_list.r",
     "varRefreshCmd": "cat(var_dic_list()) "
    }
   },
   "types_to_exclude": [
    "module",
    "function",
    "builtin_function_or_method",
    "instance",
    "_Feature"
   ],
   "window_display": false
  }
 },
 "nbformat": 4,
 "nbformat_minor": 2
}
