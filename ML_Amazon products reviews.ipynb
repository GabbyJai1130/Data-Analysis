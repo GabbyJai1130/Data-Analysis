{
 "cells": [
  {
   "cell_type": "markdown",
   "metadata": {},
   "source": [
    "# Amazon products reviews analysis \n",
    "\n",
    "\n",
    "Objectives:\n",
    "\n",
    "- Analyze the Electonics products, such as IPad & Tablets to get a better understanding\n",
    "- Develop a sentiment model to predict the optics of the reviews "
   ]
  },
  {
   "cell_type": "code",
   "execution_count": 481,
   "metadata": {
    "ExecuteTime": {
     "end_time": "2019-09-30T19:19:00.069252Z",
     "start_time": "2019-09-30T19:19:00.061273Z"
    }
   },
   "outputs": [],
   "source": [
    "import numpy as np\n",
    "import pandas as pd\n",
    "import matplotlib.pyplot as plt\n",
    "from datetime import datetime\n",
    "import re\n",
    "import string\n",
    "import nltk\n",
    "from nltk.corpus import stopwords\n",
    "from nltk import sent_tokenize, word_tokenize\n",
    "\n",
    "import itertools\n",
    "from collections import Counter\n",
    "\n",
    "from sklearn.model_selection import train_test_split\n",
    "from imblearn.under_sampling import RandomUnderSampler\n",
    "from sklearn.feature_extraction.text import TfidfVectorizer \n",
    "from sklearn.linear_model import LogisticRegression\n",
    "from sklearn.metrics import accuracy_score, classification_report, confusion_matrix\n"
   ]
  },
  {
   "cell_type": "code",
   "execution_count": 441,
   "metadata": {
    "ExecuteTime": {
     "end_time": "2019-09-30T19:00:15.737019Z",
     "start_time": "2019-09-30T19:00:15.727046Z"
    }
   },
   "outputs": [],
   "source": [
    "# texting cleaning function\n",
    "\n",
    "def cleanText(text):\n",
    "    stop_words = set(stopwords.words('english')) \n",
    "    punct = set(string.punctuation)\n",
    "    \n",
    "    text = text.lower()\n",
    "    text = ''.join(word for word in text if word not in punct) #remove punctuation\n",
    "    text = re.sub('\\n','',text)\n",
    "    text = word_tokenize(text) # tonkenize words\n",
    "    text = [i for i in text if not i in stop_words] #remove stop words\n",
    "    \n",
    "    return text"
   ]
  },
  {
   "cell_type": "code",
   "execution_count": 698,
   "metadata": {
    "ExecuteTime": {
     "end_time": "2019-10-01T02:32:39.074270Z",
     "start_time": "2019-10-01T02:32:39.066288Z"
    }
   },
   "outputs": [],
   "source": [
    "# extracting categories fucntion\n",
    "\n",
    "def getCat(text):\n",
    "    if len(text) >=2:\n",
    "        main_cat = text[0]\n",
    "        sub_cat_1 = text[1]\n",
    "    else:\n",
    "        main_cat = text[0]\n",
    "        sub_cat_1 = np.NaN\n",
    "    return main_cat, sub_cat_1  "
   ]
  },
  {
   "cell_type": "code",
   "execution_count": 656,
   "metadata": {
    "ExecuteTime": {
     "end_time": "2019-09-30T23:18:25.608596Z",
     "start_time": "2019-09-30T23:18:24.846242Z"
    }
   },
   "outputs": [
    {
     "name": "stderr",
     "output_type": "stream",
     "text": [
      "C:\\Anaconda\\lib\\site-packages\\IPython\\core\\interactiveshell.py:2785: DtypeWarning: Columns (1,10) have mixed types. Specify dtype option on import or set low_memory=False.\n",
      "  interactivity=interactivity, compiler=compiler, result=result)\n"
     ]
    }
   ],
   "source": [
    "df = pd.read_csv('Amazon products reviews.csv')"
   ]
  },
  {
   "cell_type": "code",
   "execution_count": 657,
   "metadata": {
    "ExecuteTime": {
     "end_time": "2019-09-30T23:18:28.659434Z",
     "start_time": "2019-09-30T23:18:28.649464Z"
    }
   },
   "outputs": [
    {
     "data": {
      "text/plain": [
       "(34660, 21)"
      ]
     },
     "execution_count": 657,
     "metadata": {},
     "output_type": "execute_result"
    }
   ],
   "source": [
    "df.shape"
   ]
  },
  {
   "cell_type": "code",
   "execution_count": 658,
   "metadata": {
    "ExecuteTime": {
     "end_time": "2019-09-30T23:18:31.448013Z",
     "start_time": "2019-09-30T23:18:31.424041Z"
    }
   },
   "outputs": [],
   "source": [
    "# Renaming columns\n",
    "df.columns = ['id', 'name', 'asins', \n",
    "              'brand', 'categories', 'keys', \n",
    "              'manufacturer','date', 'dateAdded', \n",
    "              'dateSeen','didPurchase', 'doRecommend',\n",
    "              'review id','numHelpful', 'rating', \n",
    "              'sourceURLs','text', 'title',\n",
    "              'userCity','userProvince', 'username']"
   ]
  },
  {
   "cell_type": "code",
   "execution_count": 659,
   "metadata": {
    "ExecuteTime": {
     "end_time": "2019-09-30T23:18:33.966528Z",
     "start_time": "2019-09-30T23:18:33.917620Z"
    },
    "scrolled": false
   },
   "outputs": [
    {
     "data": {
      "text/plain": [
       "id                  0\n",
       "name             6760\n",
       "asins               2\n",
       "brand               0\n",
       "categories          0\n",
       "keys                0\n",
       "manufacturer        0\n",
       "date               39\n",
       "dateAdded       10621\n",
       "dateSeen            0\n",
       "didPurchase     34659\n",
       "doRecommend       594\n",
       "review id       34659\n",
       "numHelpful        529\n",
       "rating             33\n",
       "sourceURLs          0\n",
       "text                1\n",
       "title               5\n",
       "userCity        34660\n",
       "userProvince    34660\n",
       "username            2\n",
       "dtype: int64"
      ]
     },
     "execution_count": 659,
     "metadata": {},
     "output_type": "execute_result"
    }
   ],
   "source": [
    "# checking missing values\n",
    "df.isnull().sum()"
   ]
  },
  {
   "cell_type": "code",
   "execution_count": 660,
   "metadata": {
    "ExecuteTime": {
     "end_time": "2019-09-30T23:18:41.217110Z",
     "start_time": "2019-09-30T23:18:36.535619Z"
    }
   },
   "outputs": [],
   "source": [
    "df.drop(labels=['id','asins','keys','dateSeen','sourceURLs','review id','didPurchase','userCity','userProvince'],axis=1,inplace=True)\n",
    "\n",
    "df['date'] = df['date'].apply(lambda x: pd.to_datetime(x))\n",
    "df['dateAdded'] = df['dateAdded'].apply(lambda x: pd.to_datetime(x))"
   ]
  },
  {
   "cell_type": "code",
   "execution_count": 661,
   "metadata": {
    "ExecuteTime": {
     "end_time": "2019-09-30T23:18:44.079895Z",
     "start_time": "2019-09-30T23:18:44.043988Z"
    }
   },
   "outputs": [
    {
     "data": {
      "text/html": [
       "<div>\n",
       "<style scoped>\n",
       "    .dataframe tbody tr th:only-of-type {\n",
       "        vertical-align: middle;\n",
       "    }\n",
       "\n",
       "    .dataframe tbody tr th {\n",
       "        vertical-align: top;\n",
       "    }\n",
       "\n",
       "    .dataframe thead th {\n",
       "        text-align: right;\n",
       "    }\n",
       "</style>\n",
       "<table border=\"1\" class=\"dataframe\">\n",
       "  <thead>\n",
       "    <tr style=\"text-align: right;\">\n",
       "      <th></th>\n",
       "      <th>name</th>\n",
       "      <th>brand</th>\n",
       "      <th>categories</th>\n",
       "      <th>manufacturer</th>\n",
       "      <th>date</th>\n",
       "      <th>dateAdded</th>\n",
       "      <th>doRecommend</th>\n",
       "      <th>numHelpful</th>\n",
       "      <th>rating</th>\n",
       "      <th>text</th>\n",
       "      <th>title</th>\n",
       "      <th>username</th>\n",
       "    </tr>\n",
       "  </thead>\n",
       "  <tbody>\n",
       "    <tr>\n",
       "      <th>0</th>\n",
       "      <td>All-New Fire HD 8 Tablet, 8 HD Display, Wi-Fi,...</td>\n",
       "      <td>Amazon</td>\n",
       "      <td>Electronics,iPad &amp; Tablets,All Tablets,Fire Ta...</td>\n",
       "      <td>Amazon</td>\n",
       "      <td>2017-01-13</td>\n",
       "      <td>2017-07-03 23:33:15</td>\n",
       "      <td>True</td>\n",
       "      <td>0.0</td>\n",
       "      <td>5.0</td>\n",
       "      <td>This product so far has not disappointed. My c...</td>\n",
       "      <td>Kindle</td>\n",
       "      <td>Adapter</td>\n",
       "    </tr>\n",
       "    <tr>\n",
       "      <th>1</th>\n",
       "      <td>All-New Fire HD 8 Tablet, 8 HD Display, Wi-Fi,...</td>\n",
       "      <td>Amazon</td>\n",
       "      <td>Electronics,iPad &amp; Tablets,All Tablets,Fire Ta...</td>\n",
       "      <td>Amazon</td>\n",
       "      <td>2017-01-13</td>\n",
       "      <td>2017-07-03 23:33:15</td>\n",
       "      <td>True</td>\n",
       "      <td>0.0</td>\n",
       "      <td>5.0</td>\n",
       "      <td>great for beginner or experienced person. Boug...</td>\n",
       "      <td>very fast</td>\n",
       "      <td>truman</td>\n",
       "    </tr>\n",
       "    <tr>\n",
       "      <th>2</th>\n",
       "      <td>All-New Fire HD 8 Tablet, 8 HD Display, Wi-Fi,...</td>\n",
       "      <td>Amazon</td>\n",
       "      <td>Electronics,iPad &amp; Tablets,All Tablets,Fire Ta...</td>\n",
       "      <td>Amazon</td>\n",
       "      <td>2017-01-13</td>\n",
       "      <td>2017-07-03 23:33:15</td>\n",
       "      <td>True</td>\n",
       "      <td>0.0</td>\n",
       "      <td>5.0</td>\n",
       "      <td>Inexpensive tablet for him to use and learn on...</td>\n",
       "      <td>Beginner tablet for our 9 year old son.</td>\n",
       "      <td>DaveZ</td>\n",
       "    </tr>\n",
       "    <tr>\n",
       "      <th>3</th>\n",
       "      <td>All-New Fire HD 8 Tablet, 8 HD Display, Wi-Fi,...</td>\n",
       "      <td>Amazon</td>\n",
       "      <td>Electronics,iPad &amp; Tablets,All Tablets,Fire Ta...</td>\n",
       "      <td>Amazon</td>\n",
       "      <td>2017-01-13</td>\n",
       "      <td>2017-07-03 23:33:15</td>\n",
       "      <td>True</td>\n",
       "      <td>0.0</td>\n",
       "      <td>4.0</td>\n",
       "      <td>I've had my Fire HD 8 two weeks now and I love...</td>\n",
       "      <td>Good!!!</td>\n",
       "      <td>Shacks</td>\n",
       "    </tr>\n",
       "    <tr>\n",
       "      <th>4</th>\n",
       "      <td>All-New Fire HD 8 Tablet, 8 HD Display, Wi-Fi,...</td>\n",
       "      <td>Amazon</td>\n",
       "      <td>Electronics,iPad &amp; Tablets,All Tablets,Fire Ta...</td>\n",
       "      <td>Amazon</td>\n",
       "      <td>2017-01-12</td>\n",
       "      <td>2017-07-03 23:33:15</td>\n",
       "      <td>True</td>\n",
       "      <td>0.0</td>\n",
       "      <td>5.0</td>\n",
       "      <td>I bought this for my grand daughter when she c...</td>\n",
       "      <td>Fantastic Tablet for kids</td>\n",
       "      <td>explore42</td>\n",
       "    </tr>\n",
       "  </tbody>\n",
       "</table>\n",
       "</div>"
      ],
      "text/plain": [
       "                                                name   brand  \\\n",
       "0  All-New Fire HD 8 Tablet, 8 HD Display, Wi-Fi,...  Amazon   \n",
       "1  All-New Fire HD 8 Tablet, 8 HD Display, Wi-Fi,...  Amazon   \n",
       "2  All-New Fire HD 8 Tablet, 8 HD Display, Wi-Fi,...  Amazon   \n",
       "3  All-New Fire HD 8 Tablet, 8 HD Display, Wi-Fi,...  Amazon   \n",
       "4  All-New Fire HD 8 Tablet, 8 HD Display, Wi-Fi,...  Amazon   \n",
       "\n",
       "                                          categories manufacturer       date  \\\n",
       "0  Electronics,iPad & Tablets,All Tablets,Fire Ta...       Amazon 2017-01-13   \n",
       "1  Electronics,iPad & Tablets,All Tablets,Fire Ta...       Amazon 2017-01-13   \n",
       "2  Electronics,iPad & Tablets,All Tablets,Fire Ta...       Amazon 2017-01-13   \n",
       "3  Electronics,iPad & Tablets,All Tablets,Fire Ta...       Amazon 2017-01-13   \n",
       "4  Electronics,iPad & Tablets,All Tablets,Fire Ta...       Amazon 2017-01-12   \n",
       "\n",
       "            dateAdded doRecommend  numHelpful  rating  \\\n",
       "0 2017-07-03 23:33:15        True         0.0     5.0   \n",
       "1 2017-07-03 23:33:15        True         0.0     5.0   \n",
       "2 2017-07-03 23:33:15        True         0.0     5.0   \n",
       "3 2017-07-03 23:33:15        True         0.0     4.0   \n",
       "4 2017-07-03 23:33:15        True         0.0     5.0   \n",
       "\n",
       "                                                text  \\\n",
       "0  This product so far has not disappointed. My c...   \n",
       "1  great for beginner or experienced person. Boug...   \n",
       "2  Inexpensive tablet for him to use and learn on...   \n",
       "3  I've had my Fire HD 8 two weeks now and I love...   \n",
       "4  I bought this for my grand daughter when she c...   \n",
       "\n",
       "                                     title   username  \n",
       "0                                   Kindle    Adapter  \n",
       "1                                very fast     truman  \n",
       "2  Beginner tablet for our 9 year old son.      DaveZ  \n",
       "3                                  Good!!!     Shacks  \n",
       "4                Fantastic Tablet for kids  explore42  "
      ]
     },
     "execution_count": 661,
     "metadata": {},
     "output_type": "execute_result"
    }
   ],
   "source": [
    "df.head()"
   ]
  },
  {
   "cell_type": "markdown",
   "metadata": {},
   "source": [
    "### Exploratory analysis"
   ]
  },
  {
   "cell_type": "markdown",
   "metadata": {
    "heading_collapsed": true
   },
   "source": [
    "#### user "
   ]
  },
  {
   "cell_type": "code",
   "execution_count": 668,
   "metadata": {
    "ExecuteTime": {
     "end_time": "2019-10-01T01:41:48.351572Z",
     "start_time": "2019-10-01T01:41:48.320658Z"
    },
    "hidden": true
   },
   "outputs": [],
   "source": [
    "user = df.username.value_counts()"
   ]
  },
  {
   "cell_type": "code",
   "execution_count": 681,
   "metadata": {
    "ExecuteTime": {
     "end_time": "2019-10-01T01:45:31.192942Z",
     "start_time": "2019-10-01T01:45:31.181971Z"
    },
    "hidden": true
   },
   "outputs": [
    {
     "name": "stdout",
     "output_type": "stream",
     "text": [
      "total review = 34658\n",
      "total user = 26789\n",
      "review per user = 1.2937399678972712\n",
      "number of users who submits more than 20 reviews is 50\n"
     ]
    }
   ],
   "source": [
    "print('total review = ' + str(user.sum())) \n",
    "print('total user = '+ str(user.count()))\n",
    "print('review per user = ' +str(user.sum()/user.count()))\n",
    "print('number of users who submits more than 20 reviews is '+ str(user[user>20].count()))"
   ]
  },
  {
   "cell_type": "code",
   "execution_count": 684,
   "metadata": {
    "ExecuteTime": {
     "end_time": "2019-10-01T01:51:11.757919Z",
     "start_time": "2019-10-01T01:51:10.931527Z"
    },
    "hidden": true
   },
   "outputs": [
    {
     "name": "stderr",
     "output_type": "stream",
     "text": [
      "C:\\Anaconda\\lib\\site-packages\\ipykernel_launcher.py:5: SettingWithCopyWarning: \n",
      "A value is trying to be set on a copy of a slice from a DataFrame.\n",
      "Try using .loc[row_indexer,col_indexer] = value instead\n",
      "\n",
      "See the caveats in the documentation: http://pandas.pydata.org/pandas-docs/stable/indexing.html#indexing-view-versus-copy\n",
      "  \"\"\"\n"
     ]
    }
   ],
   "source": [
    "username_rating = df[['rating','username']]\n",
    "\n",
    "frequent_reviewer = user[user>20]\n",
    "\n",
    "username_rating['frequent reviewer'] = username_rating['username'].apply(lambda x: 1 if x in frequent_reviewer.index else 0)"
   ]
  },
  {
   "cell_type": "code",
   "execution_count": 697,
   "metadata": {
    "ExecuteTime": {
     "end_time": "2019-10-01T01:56:30.661975Z",
     "start_time": "2019-10-01T01:56:30.327833Z"
    },
    "hidden": true
   },
   "outputs": [
    {
     "name": "stderr",
     "output_type": "stream",
     "text": [
      "C:\\Anaconda\\lib\\site-packages\\numpy\\lib\\function_base.py:780: RuntimeWarning: invalid value encountered in greater_equal\n",
      "  keep = (tmp_a >= first_edge)\n",
      "C:\\Anaconda\\lib\\site-packages\\numpy\\lib\\function_base.py:781: RuntimeWarning: invalid value encountered in less_equal\n",
      "  keep &= (tmp_a <= last_edge)\n"
     ]
    },
    {
     "data": {
      "text/plain": [
       "Text(0.5,1,'rating distribution of non-frequent reviewers')"
      ]
     },
     "execution_count": 697,
     "metadata": {},
     "output_type": "execute_result"
    },
    {
     "data": {
      "image/png": "[encoded data removed]",
      "text/plain": [
       "<Figure size 720x360 with 2 Axes>"
      ]
     },
     "metadata": {},
     "output_type": "display_data"
    }
   ],
   "source": [
    "plt.figure(figsize = (10,5))\n",
    "plt.subplot(121)\n",
    "plt.hist(username_rating[username_rating['frequent reviewer']==1]['rating'],bins=5, range = (0,5))\n",
    "plt.title('rating distribution of frequent reviewers')\n",
    "plt.subplot(122)\n",
    "plt.hist(username_rating[username_rating['frequent reviewer']==0]['rating'],bins=5, range = (0,5))\n",
    "plt.title('rating distribution of non-frequent reviewers')"
   ]
  },
  {
   "cell_type": "markdown",
   "metadata": {
    "hidden": true
   },
   "source": [
    "Conclusion: frequent reviewers do not seem to give a bias rating becuase they have the same distribution as non-frequent reviewers"
   ]
  },
  {
   "cell_type": "markdown",
   "metadata": {
    "heading_collapsed": true
   },
   "source": [
    "#### Categories "
   ]
  },
  {
   "cell_type": "code",
   "execution_count": 13,
   "metadata": {
    "ExecuteTime": {
     "end_time": "2019-09-28T22:26:24.830299Z",
     "start_time": "2019-09-28T22:26:24.824345Z"
    },
    "code_folding": [],
    "hidden": true
   },
   "outputs": [],
   "source": [
    "#print('There are', df['categories'].nunique(), 'unique values in category name column')"
   ]
  },
  {
   "cell_type": "code",
   "execution_count": 246,
   "metadata": {
    "ExecuteTime": {
     "end_time": "2019-09-29T14:22:04.056402Z",
     "start_time": "2019-09-29T14:22:00.770193Z"
    },
    "hidden": true
   },
   "outputs": [
    {
     "data": {
      "text/plain": [
       "array(['2nd', '3g', '4gb', '4th', '5th', 'accessories', 'accs',\n",
       "       'adapters', 'alarms', 'all', 'amazon', 'android', 'assistant',\n",
       "       'assistants', 'audio', 'automation', 'back', 'bags', 'batteries',\n",
       "       'beauty', 'bluetooth', 'book', 'books', 'brands', 'business',\n",
       "       'cables', 'cases', 'categories', 'cell', 'chargers', 'clearance',\n",
       "       'co', 'college', 'components', 'computer', 'computers',\n",
       "       'connected', 'consumer', 'controllers', 'controls', 'covers',\n",
       "       'deals', 'device', 'devices', 'dining', 'dishes', 'docks',\n",
       "       'drives', 'dx', 'ebook', 'echo', 'electrical', 'electronic',\n",
       "       'electronics', 'enabled', 'entertainment', 'ereaders', 'family',\n",
       "       'featured', 'features', 'fi', 'fire', 'for', 'frys', 'furniture',\n",
       "       'games', 'garage', 'generation', 'global', 'hard', 'headphones',\n",
       "       'holiday', 'home', 'hubs', 'improvement', 'internet', 'ipad',\n",
       "       'ipads', 'ipod', 'kids', 'kindle', 'kitchen', 'laptops', 'living',\n",
       "       'lotions', 'magazines', 'mazon', 'meals', 'media', 'mini',\n",
       "       'mobile', 'moisturizers', 'more', 'movies', 'mp3', 'music',\n",
       "       'networking', 'office', 'paperwhite', 'phone', 'phones', 'player',\n",
       "       'players', 'portable', 'power', 'rated', 'reader', 'readers',\n",
       "       'ready', 'remote', 'rice', 'routers', 'safety', 'security', 'see',\n",
       "       'sensors', 'shop', 'smart', 'software', 'speaker', 'speakers',\n",
       "       'stereos', 'storage', 'store', 'streamers', 'streaming',\n",
       "       'surveillance', 'sync', 'systems', 'tablet', 'tablets', 'tap',\n",
       "       'tech', 'theater', 'to', 'top', 'touch', 'toys', 'tv', 'tvs', 'uk',\n",
       "       'unlocked', 'usb', 'used', 'video', 'virtual', 'voice', 'voyage',\n",
       "       'walmart', 'ways', 'wi', 'windows', 'wireless'], dtype='<U13')"
      ]
     },
     "execution_count": 246,
     "metadata": {},
     "output_type": "execute_result"
    }
   ],
   "source": [
    "# Splitting the categories to find some keywords\n",
    "\n",
    "df['categories']=df['categories'].apply(lambda x: x.split(','))\n",
    "\n",
    "packed_cat_list = []\n",
    "\n",
    "for i in range(len(df['categories'])):\n",
    "    packed_cat_list.append(df['categories'][i])\n",
    "cat_list =list(itertools.chain(*packed_cat_list))\n",
    "\n",
    "tfidf_vectorizer=TfidfVectorizer(use_idf=True, ngram_range=(1,1),tokenizer=True)\n",
    "tfidf_vectorizer_vectors=tfidf_vectorizer.fit_transform(cat_list)\n",
    "feature_array = np.array(tfidf_vectorizer.get_feature_names())\n",
    "#tfidf_sorting = np.argsort(tfidf_vectorizer_vectors.toarray())\n",
    "feature_array "
   ]
  },
  {
   "cell_type": "code",
   "execution_count": 297,
   "metadata": {
    "ExecuteTime": {
     "end_time": "2019-09-30T02:16:09.639103Z",
     "start_time": "2019-09-30T02:16:09.469385Z"
    },
    "hidden": true
   },
   "outputs": [],
   "source": [
    "# Splitting the cateogroy into 2 categories\n",
    "\n",
    "df['main_cat'], df['sub_cat_1'] = zip(*df['categories'].apply(lambda x: getCat(x)))  "
   ]
  },
  {
   "cell_type": "code",
   "execution_count": 303,
   "metadata": {
    "ExecuteTime": {
     "end_time": "2019-09-30T02:21:56.372975Z",
     "start_time": "2019-09-30T02:21:56.366992Z"
    },
    "hidden": true
   },
   "outputs": [],
   "source": [
    "Cat_group = df.groupby(['main_cat','sub_cat_1'])"
   ]
  },
  {
   "cell_type": "code",
   "execution_count": 321,
   "metadata": {
    "ExecuteTime": {
     "end_time": "2019-09-30T02:28:27.080387Z",
     "start_time": "2019-09-30T02:28:27.050467Z"
    },
    "hidden": true
   },
   "outputs": [
    {
     "data": {
      "text/html": [
       "<div>\n",
       "<style scoped>\n",
       "    .dataframe tbody tr th:only-of-type {\n",
       "        vertical-align: middle;\n",
       "    }\n",
       "\n",
       "    .dataframe tbody tr th {\n",
       "        vertical-align: top;\n",
       "    }\n",
       "\n",
       "    .dataframe thead tr th {\n",
       "        text-align: left;\n",
       "    }\n",
       "\n",
       "    .dataframe thead tr:last-of-type th {\n",
       "        text-align: right;\n",
       "    }\n",
       "</style>\n",
       "<table border=\"1\" class=\"dataframe\">\n",
       "  <thead>\n",
       "    <tr>\n",
       "      <th></th>\n",
       "      <th></th>\n",
       "      <th colspan=\"2\" halign=\"left\">rating</th>\n",
       "    </tr>\n",
       "    <tr>\n",
       "      <th></th>\n",
       "      <th></th>\n",
       "      <th>mean</th>\n",
       "      <th>count</th>\n",
       "    </tr>\n",
       "    <tr>\n",
       "      <th>main_cat</th>\n",
       "      <th>sub_cat_1</th>\n",
       "      <th></th>\n",
       "      <th></th>\n",
       "    </tr>\n",
       "  </thead>\n",
       "  <tbody>\n",
       "    <tr>\n",
       "      <th>Amazon Device Accessories</th>\n",
       "      <th>Kindle Store</th>\n",
       "      <td>3.666667</td>\n",
       "      <td>6</td>\n",
       "    </tr>\n",
       "    <tr>\n",
       "      <th>Amazon Devices &amp; Accessories</th>\n",
       "      <th>Amazon Device Accessories</th>\n",
       "      <td>4.440299</td>\n",
       "      <td>402</td>\n",
       "    </tr>\n",
       "    <tr>\n",
       "      <th>Back To College</th>\n",
       "      <th>College Electronics</th>\n",
       "      <td>4.707278</td>\n",
       "      <td>5056</td>\n",
       "    </tr>\n",
       "    <tr>\n",
       "      <th>Cases</th>\n",
       "      <th>Kindle Store</th>\n",
       "      <td>3.923077</td>\n",
       "      <td>13</td>\n",
       "    </tr>\n",
       "    <tr>\n",
       "      <th>Categories</th>\n",
       "      <th>Streaming Media Players</th>\n",
       "      <td>3.125000</td>\n",
       "      <td>8</td>\n",
       "    </tr>\n",
       "    <tr>\n",
       "      <th>Chargers &amp; Adapters</th>\n",
       "      <th>Computers &amp; Accessories</th>\n",
       "      <td>4.205479</td>\n",
       "      <td>73</td>\n",
       "    </tr>\n",
       "    <tr>\n",
       "      <th rowspan=\"2\" valign=\"top\">Computers &amp; Tablets</th>\n",
       "      <th>E-Readers &amp; Accessories</th>\n",
       "      <td>4.862745</td>\n",
       "      <td>51</td>\n",
       "    </tr>\n",
       "    <tr>\n",
       "      <th>Tablets</th>\n",
       "      <td>4.700000</td>\n",
       "      <td>10</td>\n",
       "    </tr>\n",
       "    <tr>\n",
       "      <th rowspan=\"2\" valign=\"top\">Computers/Tablets &amp; Networking</th>\n",
       "      <th>Tablet &amp; eBook Reader Accs</th>\n",
       "      <td>2.461538</td>\n",
       "      <td>13</td>\n",
       "    </tr>\n",
       "    <tr>\n",
       "      <th>Tablets &amp; eBook Readers</th>\n",
       "      <td>4.504817</td>\n",
       "      <td>1038</td>\n",
       "    </tr>\n",
       "    <tr>\n",
       "      <th rowspan=\"6\" valign=\"top\">Electronics</th>\n",
       "      <th>Amazon Device Accessories</th>\n",
       "      <td>3.500000</td>\n",
       "      <td>10</td>\n",
       "    </tr>\n",
       "    <tr>\n",
       "      <th>Categories</th>\n",
       "      <td>5.000000</td>\n",
       "      <td>4</td>\n",
       "    </tr>\n",
       "    <tr>\n",
       "      <th>Computers</th>\n",
       "      <td>4.833333</td>\n",
       "      <td>6</td>\n",
       "    </tr>\n",
       "    <tr>\n",
       "      <th>Tablets &amp; E-Readers</th>\n",
       "      <td>4.558594</td>\n",
       "      <td>256</td>\n",
       "    </tr>\n",
       "    <tr>\n",
       "      <th>eBook Readers &amp; Accessories</th>\n",
       "      <td>3.300000</td>\n",
       "      <td>20</td>\n",
       "    </tr>\n",
       "    <tr>\n",
       "      <th>iPad &amp; Tablets</th>\n",
       "      <td>4.583115</td>\n",
       "      <td>3056</td>\n",
       "    </tr>\n",
       "    <tr>\n",
       "      <th>Electronics Features</th>\n",
       "      <th>Fire Tablets</th>\n",
       "      <td>4.424731</td>\n",
       "      <td>372</td>\n",
       "    </tr>\n",
       "    <tr>\n",
       "      <th>Featured Brands</th>\n",
       "      <th>Electronics</th>\n",
       "      <td>4.531447</td>\n",
       "      <td>636</td>\n",
       "    </tr>\n",
       "    <tr>\n",
       "      <th>Fire Tablets</th>\n",
       "      <th>Tablets</th>\n",
       "      <td>4.457044</td>\n",
       "      <td>11244</td>\n",
       "    </tr>\n",
       "    <tr>\n",
       "      <th>Frys</th>\n",
       "      <th>Software &amp; Books</th>\n",
       "      <td>4.500000</td>\n",
       "      <td>2</td>\n",
       "    </tr>\n",
       "    <tr>\n",
       "      <th>Kindle E-readers</th>\n",
       "      <th>Electronics Features</th>\n",
       "      <td>4.666667</td>\n",
       "      <td>6</td>\n",
       "    </tr>\n",
       "    <tr>\n",
       "      <th rowspan=\"2\" valign=\"top\">Kindle Store</th>\n",
       "      <th>Amazon Devices</th>\n",
       "      <td>NaN</td>\n",
       "      <td>0</td>\n",
       "    </tr>\n",
       "    <tr>\n",
       "      <th>Categories</th>\n",
       "      <td>4.500000</td>\n",
       "      <td>16</td>\n",
       "    </tr>\n",
       "    <tr>\n",
       "      <th>Power Adapters &amp; Cables</th>\n",
       "      <th>Electronics</th>\n",
       "      <td>4.875000</td>\n",
       "      <td>8</td>\n",
       "    </tr>\n",
       "    <tr>\n",
       "      <th>Rice Dishes</th>\n",
       "      <th>Ready Meals</th>\n",
       "      <td>NaN</td>\n",
       "      <td>0</td>\n",
       "    </tr>\n",
       "    <tr>\n",
       "      <th>Stereos</th>\n",
       "      <th>Remote Controls</th>\n",
       "      <td>4.671098</td>\n",
       "      <td>6619</td>\n",
       "    </tr>\n",
       "    <tr>\n",
       "      <th>TVs Entertainment</th>\n",
       "      <th>Wireless Speakers</th>\n",
       "      <td>4.285714</td>\n",
       "      <td>7</td>\n",
       "    </tr>\n",
       "    <tr>\n",
       "      <th>Tablets</th>\n",
       "      <th>Fire Tablets</th>\n",
       "      <td>4.532041</td>\n",
       "      <td>1857</td>\n",
       "    </tr>\n",
       "    <tr>\n",
       "      <th>Walmart for Business</th>\n",
       "      <th>Office Electronics</th>\n",
       "      <td>4.765708</td>\n",
       "      <td>3756</td>\n",
       "    </tr>\n",
       "    <tr>\n",
       "      <th>eBook Readers</th>\n",
       "      <th>Kindle E-readers</th>\n",
       "      <td>4.611940</td>\n",
       "      <td>67</td>\n",
       "    </tr>\n",
       "    <tr>\n",
       "      <th>mazon.co.uk</th>\n",
       "      <th>Amazon Devices</th>\n",
       "      <td>4.666667</td>\n",
       "      <td>15</td>\n",
       "    </tr>\n",
       "  </tbody>\n",
       "</table>\n",
       "</div>"
      ],
      "text/plain": [
       "                                                              rating       \n",
       "                                                                mean  count\n",
       "main_cat                       sub_cat_1                                   \n",
       "Amazon Device Accessories      Kindle Store                 3.666667      6\n",
       "Amazon Devices & Accessories   Amazon Device Accessories    4.440299    402\n",
       "Back To College                College Electronics          4.707278   5056\n",
       "Cases                          Kindle Store                 3.923077     13\n",
       "Categories                     Streaming Media Players      3.125000      8\n",
       "Chargers & Adapters            Computers & Accessories      4.205479     73\n",
       "Computers & Tablets            E-Readers & Accessories      4.862745     51\n",
       "                               Tablets                      4.700000     10\n",
       "Computers/Tablets & Networking Tablet & eBook Reader Accs   2.461538     13\n",
       "                               Tablets & eBook Readers      4.504817   1038\n",
       "Electronics                    Amazon Device Accessories    3.500000     10\n",
       "                               Categories                   5.000000      4\n",
       "                               Computers                    4.833333      6\n",
       "                               Tablets & E-Readers          4.558594    256\n",
       "                               eBook Readers & Accessories  3.300000     20\n",
       "                               iPad & Tablets               4.583115   3056\n",
       "Electronics Features           Fire Tablets                 4.424731    372\n",
       "Featured Brands                Electronics                  4.531447    636\n",
       "Fire Tablets                   Tablets                      4.457044  11244\n",
       "Frys                           Software & Books             4.500000      2\n",
       "Kindle E-readers               Electronics Features         4.666667      6\n",
       "Kindle Store                   Amazon Devices                    NaN      0\n",
       "                               Categories                   4.500000     16\n",
       "Power Adapters & Cables        Electronics                  4.875000      8\n",
       "Rice Dishes                    Ready Meals                       NaN      0\n",
       "Stereos                        Remote Controls              4.671098   6619\n",
       "TVs Entertainment              Wireless Speakers            4.285714      7\n",
       "Tablets                        Fire Tablets                 4.532041   1857\n",
       "Walmart for Business           Office Electronics           4.765708   3756\n",
       "eBook Readers                  Kindle E-readers             4.611940     67\n",
       "mazon.co.uk                    Amazon Devices               4.666667     15"
      ]
     },
     "execution_count": 321,
     "metadata": {},
     "output_type": "execute_result"
    }
   ],
   "source": [
    "Cat_group.agg({'rating':['mean','count']})"
   ]
  },
  {
   "cell_type": "markdown",
   "metadata": {
    "ExecuteTime": {
     "end_time": "2019-09-29T13:44:24.638316Z",
     "start_time": "2019-09-29T13:44:24.618372Z"
    },
    "heading_collapsed": true
   },
   "source": [
    "#### name"
   ]
  },
  {
   "cell_type": "code",
   "execution_count": 223,
   "metadata": {
    "ExecuteTime": {
     "end_time": "2019-09-29T14:12:12.104233Z",
     "start_time": "2019-09-29T14:12:11.603020Z"
    },
    "hidden": true
   },
   "outputs": [],
   "source": [
    "name = df[df['name'].notnull()]['name']\n",
    "\n",
    "name = name.apply(lambda x: x.split(','))"
   ]
  },
  {
   "cell_type": "code",
   "execution_count": 225,
   "metadata": {
    "ExecuteTime": {
     "end_time": "2019-09-29T14:13:24.768313Z",
     "start_time": "2019-09-29T14:13:24.337769Z"
    },
    "hidden": true
   },
   "outputs": [],
   "source": [
    "packed_name_list = []\n",
    "\n",
    "for i in range(len(name)):\n",
    "    packed_name_list.append(name[i])\n",
    "name_list =list(itertools.chain(*packed_name_list))"
   ]
  },
  {
   "cell_type": "code",
   "execution_count": 244,
   "metadata": {
    "ExecuteTime": {
     "end_time": "2019-09-29T14:21:13.641446Z",
     "start_time": "2019-09-29T14:21:12.867514Z"
    },
    "hidden": true
   },
   "outputs": [
    {
     "data": {
      "text/plain": [
       "array(['10', '12', '16', '16gb', '1st', '2011', '2014', '2015', '2016',\n",
       "       '2nd', '300', '32', '3g', '3rd', '4gb', '4th', '5ft', '5th', '5w',\n",
       "       '6th', '8gb', '8in', '9w', 'adapter', 'adaptive', 'alexa', 'all',\n",
       "       'aluminum', 'amazon', 'and', 'android', 'angle', 'b018szt3bk',\n",
       "       'black', 'blue', 'bluetooth', 'brand', 'built', 'cable', 'case',\n",
       "       'cayenne', 'certified', 'charger', 'charging', 'coconut', 'cover',\n",
       "       'display', 'dx', 'dxs', 'ebook', 'echo', 'edition', 'ereaders',\n",
       "       'fi', 'fire', 'fits', 'for', 'free', 'gb', 'gen', 'generation',\n",
       "       'glare', 'green', 'hd', 'high', 'in', 'includes', 'ips',\n",
       "       'keyboard', 'kid', 'kids', 'kindle', 'latest', 'leather', 'light',\n",
       "       'lighted', 'magenta', 'merlot', 'micro', 'monochrome', 'most',\n",
       "       'new', 'oasis', 'oem', 'of', 'offers', 'official', 'olive', 'oz',\n",
       "       'pack', 'pagepress', 'paperwhite', 'portable', 'power',\n",
       "       'powerfast', 'ppi', 'previous', 'proof', 'protective', 'reader',\n",
       "       'red', 'refurbished', 'release', 'remote', 'resolution', 'sensors',\n",
       "       'silver', 'speaker', 'special', 'standing', 'stick', 'tablet',\n",
       "       'tablets', 'tangerine', 'tap', 'tea', 'to', 'touch', 'touchscreen',\n",
       "       'tv', 'usb', 'voice', 'voyage', 'water', 'white', 'wi', 'wifi',\n",
       "       'with', 'works'], dtype='<U11')"
      ]
     },
     "execution_count": 244,
     "metadata": {},
     "output_type": "execute_result"
    }
   ],
   "source": [
    "tfidf_vectorizer=TfidfVectorizer(use_idf=True, ngram_range=(1,1))\n",
    "tfidf_vectorizer_vectors=tfidf_vectorizer.fit_transform(name_list)\n",
    "\n",
    "feature_array = np.array(tfidf_vectorizer.get_feature_names())\n",
    "#tfidf_sorting = np.argsort(tfidf_vectorizer_vectors.toarray())\n",
    "feature_array "
   ]
  },
  {
   "cell_type": "markdown",
   "metadata": {
    "heading_collapsed": true
   },
   "source": [
    "#### Brand"
   ]
  },
  {
   "cell_type": "code",
   "execution_count": 256,
   "metadata": {
    "ExecuteTime": {
     "end_time": "2019-09-30T01:39:01.944707Z",
     "start_time": "2019-09-30T01:39:01.939722Z"
    },
    "hidden": true
   },
   "outputs": [],
   "source": [
    "Brand = df.groupby('brand')"
   ]
  },
  {
   "cell_type": "code",
   "execution_count": 260,
   "metadata": {
    "ExecuteTime": {
     "end_time": "2019-09-30T01:39:46.938444Z",
     "start_time": "2019-09-30T01:39:46.892568Z"
    },
    "hidden": true
   },
   "outputs": [
    {
     "data": {
      "text/plain": [
       "brand\n",
       "Amazon                          26949\n",
       "Amazon Coco T                       0\n",
       "Amazon Digital Services Inc.        0\n",
       "Amazon Echo                       589\n",
       "Amazon Fire                       241\n",
       "Amazon Fire Tv                   4903\n",
       "Name: doRecommend, dtype: int64"
      ]
     },
     "execution_count": 260,
     "metadata": {},
     "output_type": "execute_result"
    }
   ],
   "source": [
    "Brand['doRecommend'].sum()"
   ]
  },
  {
   "cell_type": "code",
   "execution_count": 262,
   "metadata": {
    "ExecuteTime": {
     "end_time": "2019-09-30T01:45:24.251111Z",
     "start_time": "2019-09-30T01:45:24.241136Z"
    },
    "hidden": true
   },
   "outputs": [
    {
     "data": {
      "text/plain": [
       "brand\n",
       "Amazon                          4.564721\n",
       "Amazon Coco T                        NaN\n",
       "Amazon Digital Services Inc.    3.500000\n",
       "Amazon Echo                     4.531447\n",
       "Amazon Fire                     4.558594\n",
       "Amazon Fire Tv                  4.707278\n",
       "Name: rating, dtype: float64"
      ]
     },
     "execution_count": 262,
     "metadata": {},
     "output_type": "execute_result"
    }
   ],
   "source": [
    "Brand['rating'].mean()"
   ]
  },
  {
   "cell_type": "markdown",
   "metadata": {
    "ExecuteTime": {
     "end_time": "2019-09-30T17:45:01.194788Z",
     "start_time": "2019-09-30T17:45:01.190799Z"
    }
   },
   "source": [
    "### Sentiment analysis on IPad & Tablets"
   ]
  },
  {
   "cell_type": "code",
   "execution_count": 451,
   "metadata": {
    "ExecuteTime": {
     "end_time": "2019-09-30T19:02:00.649876Z",
     "start_time": "2019-09-30T19:02:00.602999Z"
    }
   },
   "outputs": [],
   "source": [
    "df_sub1 = df[df['sub_cat_1']=='Tablets']\n",
    "df_sub1.reset_index(inplace=True,drop = True)\n",
    "df_sub2 = df[df['sub_cat_1']=='iPad & Tablets']\n",
    "df_sub2.reset_index(inplace=True, drop = True)\n",
    "\n",
    "df_sub = pd.concat([df_sub1,df_sub2])\n",
    "\n",
    "columns=['name','brand', 'categories','main_cat','sub_cat_1',\n",
    "         'manufacturer','date', 'dateAdded','doRecommend',\n",
    "         'numHelpful', 'rating','text', 'title','username']\n",
    "df_sub = df_sub[columns]"
   ]
  },
  {
   "cell_type": "code",
   "execution_count": 440,
   "metadata": {
    "ExecuteTime": {
     "end_time": "2019-09-30T19:00:12.777638Z",
     "start_time": "2019-09-30T19:00:12.612425Z"
    },
    "scrolled": true
   },
   "outputs": [
    {
     "data": {
      "text/plain": [
       "<matplotlib.axes._subplots.AxesSubplot at 0x26b9fe15908>"
      ]
     },
     "execution_count": 440,
     "metadata": {},
     "output_type": "execute_result"
    },
    {
     "data": {
      "image/png": "[encoded data removed]",
      "text/plain": [
       "<Figure size 432x288 with 1 Axes>"
      ]
     },
     "metadata": {},
     "output_type": "display_data"
    }
   ],
   "source": [
    "df_sub['doRecommend'].value_counts().plot.bar()"
   ]
  },
  {
   "cell_type": "code",
   "execution_count": 452,
   "metadata": {
    "ExecuteTime": {
     "end_time": "2019-09-30T19:02:21.475843Z",
     "start_time": "2019-09-30T19:02:05.242253Z"
    }
   },
   "outputs": [],
   "source": [
    "df_sub['text'] = df_sub['text'].apply(lambda x: cleanText(x))\n",
    "\n",
    "df_sub = df_sub[['text','doRecommend']]"
   ]
  },
  {
   "cell_type": "code",
   "execution_count": 472,
   "metadata": {
    "ExecuteTime": {
     "end_time": "2019-09-30T19:11:42.298909Z",
     "start_time": "2019-09-30T19:11:42.275968Z"
    }
   },
   "outputs": [],
   "source": [
    "df_sub['text'] = df_sub['text'].apply(lambda x: ' '.join(x))\n",
    "df_sub['doRecommend'] = df_sub['doRecommend'].replace(['True','False'],['1','0'])\n",
    "df_sub.dropna(axis=0,inplace = True)\n",
    "X = df_sub['text']\n",
    "y = df_sub['doRecommend']"
   ]
  },
  {
   "cell_type": "code",
   "execution_count": 476,
   "metadata": {
    "ExecuteTime": {
     "end_time": "2019-09-30T19:16:29.419394Z",
     "start_time": "2019-09-30T19:16:29.400442Z"
    }
   },
   "outputs": [],
   "source": [
    "X_train, X_test, y_train, y_test = train_test_split(X, y, test_size=0.2, shuffle=True, random_state=123, stratify=y)"
   ]
  },
  {
   "cell_type": "code",
   "execution_count": 518,
   "metadata": {
    "ExecuteTime": {
     "end_time": "2019-09-30T20:33:20.213507Z",
     "start_time": "2019-09-30T20:33:20.207524Z"
    }
   },
   "outputs": [],
   "source": [
    "RUS = RandomUnderSampler()\n",
    "X_train_rus, y_train_rus = RUS.fit_resample(X_train.values.reshape(-1, 1),y_train.values)\n",
    "\n",
    "X_train_rus = X_train_rus.tolist()\n",
    "\n",
    "X_train_rus =list(itertools.chain(*X_train_rus))"
   ]
  },
  {
   "cell_type": "code",
   "execution_count": 527,
   "metadata": {
    "ExecuteTime": {
     "end_time": "2019-09-30T20:35:24.277626Z",
     "start_time": "2019-09-30T20:35:24.267684Z"
    }
   },
   "outputs": [],
   "source": [
    "vectorizer = TfidfVectorizer()\n",
    "LR = LogisticRegression()\n",
    "\n",
    "def sentiment_prediction(X_train,y_train,X_test,y_test,vectorizer=vectorizer, ngram = (1,3), classifier=LR):\n",
    "    vectorizer.set_params(ngram_range = ngram,max_features=10000)\n",
    "    X_train_Tfidf = vectorizer.fit_transform(X_train)\n",
    "    X_test_Tfidf = vectorizer.transform(X_test)\n",
    "    \n",
    "    LR.fit(X_train_Tfidf, y_train)\n",
    "    \n",
    "    y_pred = LR.predict(X_test_Tfidf)\n",
    "    accuracy = accuracy_score(y_test, y_pred)\n",
    "    return accuracy"
   ]
  },
  {
   "cell_type": "code",
   "execution_count": 530,
   "metadata": {
    "ExecuteTime": {
     "end_time": "2019-09-30T20:35:38.483975Z",
     "start_time": "2019-09-30T20:35:36.743624Z"
    }
   },
   "outputs": [
    {
     "name": "stderr",
     "output_type": "stream",
     "text": [
      "C:\\Anaconda\\lib\\site-packages\\sklearn\\linear_model\\logistic.py:432: FutureWarning: Default solver will be changed to 'lbfgs' in 0.22. Specify a solver to silence this warning.\n",
      "  FutureWarning)\n"
     ]
    }
   ],
   "source": [
    "predAccuracy = sentiment_prediction(X_train,y_train,X_test,y_test)"
   ]
  },
  {
   "cell_type": "code",
   "execution_count": 531,
   "metadata": {
    "ExecuteTime": {
     "end_time": "2019-09-30T20:35:40.668132Z",
     "start_time": "2019-09-30T20:35:40.658157Z"
    }
   },
   "outputs": [
    {
     "data": {
      "text/plain": [
       "0.9542278127183788"
      ]
     },
     "execution_count": 531,
     "metadata": {},
     "output_type": "execute_result"
    }
   ],
   "source": [
    "predAccuracy"
   ]
  },
  {
   "cell_type": "markdown",
   "metadata": {
    "heading_collapsed": true
   },
   "source": [
    "### Sentiment prediction for Electronics products "
   ]
  },
  {
   "cell_type": "code",
   "execution_count": 595,
   "metadata": {
    "ExecuteTime": {
     "end_time": "2019-09-30T22:40:55.339618Z",
     "start_time": "2019-09-30T22:40:55.303713Z"
    },
    "hidden": true
   },
   "outputs": [],
   "source": [
    "df_elect = df[df['main_cat']=='Electronics']"
   ]
  },
  {
   "cell_type": "code",
   "execution_count": 596,
   "metadata": {
    "ExecuteTime": {
     "end_time": "2019-09-30T22:41:12.156322Z",
     "start_time": "2019-09-30T22:41:12.138367Z"
    },
    "hidden": true
   },
   "outputs": [
    {
     "data": {
      "text/plain": [
       "name            281\n",
       "brand             0\n",
       "categories        0\n",
       "manufacturer      0\n",
       "date              8\n",
       "dateAdded       507\n",
       "doRecommend      40\n",
       "numHelpful       19\n",
       "rating            5\n",
       "text              0\n",
       "title             1\n",
       "username          0\n",
       "main_cat          0\n",
       "sub_cat_1         0\n",
       "dtype: int64"
      ]
     },
     "execution_count": 596,
     "metadata": {},
     "output_type": "execute_result"
    }
   ],
   "source": [
    "df_elect.isnull().sum()"
   ]
  },
  {
   "cell_type": "code",
   "execution_count": 602,
   "metadata": {
    "ExecuteTime": {
     "end_time": "2019-09-30T22:44:28.320711Z",
     "start_time": "2019-09-30T22:44:28.304754Z"
    },
    "hidden": true
   },
   "outputs": [],
   "source": [
    "df_elect= df_elect.dropna(subset = ['rating'],axis=0)"
   ]
  },
  {
   "cell_type": "code",
   "execution_count": 605,
   "metadata": {
    "ExecuteTime": {
     "end_time": "2019-09-30T22:44:57.964380Z",
     "start_time": "2019-09-30T22:44:57.763917Z"
    },
    "hidden": true
   },
   "outputs": [
    {
     "data": {
      "text/plain": [
       "(array([   0.,   41.,   33.,  125., 3153.]),\n",
       " array([0., 1., 2., 3., 4., 5.]),\n",
       " <a list of 5 Patch objects>)"
      ]
     },
     "execution_count": 605,
     "metadata": {},
     "output_type": "execute_result"
    },
    {
     "data": {
      "image/png": "[encoded data removed]",
      "text/plain": [
       "<Figure size 432x288 with 1 Axes>"
      ]
     },
     "metadata": {},
     "output_type": "display_data"
    }
   ],
   "source": [
    "plt.figure()\n",
    "plt.hist(df_elect['rating'],bins=5,range=(0,5))"
   ]
  },
  {
   "cell_type": "code",
   "execution_count": 606,
   "metadata": {
    "ExecuteTime": {
     "end_time": "2019-09-30T22:45:02.799340Z",
     "start_time": "2019-09-30T22:45:02.574303Z"
    },
    "hidden": true
   },
   "outputs": [],
   "source": [
    "df_elect['sentiment'] = df_elect['rating']>4\n",
    "df_elect['sentiment'] = df_elect['sentiment'].replace([True , False] , ['pos' , 'neg'])"
   ]
  },
  {
   "cell_type": "code",
   "execution_count": 607,
   "metadata": {
    "ExecuteTime": {
     "end_time": "2019-09-30T22:45:05.945099Z",
     "start_time": "2019-09-30T22:45:05.779801Z"
    },
    "hidden": true
   },
   "outputs": [
    {
     "data": {
      "text/plain": [
       "<matplotlib.axes._subplots.AxesSubplot at 0x26b9a0eceb8>"
      ]
     },
     "execution_count": 607,
     "metadata": {},
     "output_type": "execute_result"
    },
    {
     "data": {
      "image/png": "[encoded data removed]",
      "text/plain": [
       "<Figure size 432x288 with 1 Axes>"
      ]
     },
     "metadata": {},
     "output_type": "display_data"
    }
   ],
   "source": [
    "df_elect['sentiment'].value_counts().plot(kind='barh')"
   ]
  },
  {
   "cell_type": "code",
   "execution_count": 608,
   "metadata": {
    "ExecuteTime": {
     "end_time": "2019-09-30T22:45:16.483588Z",
     "start_time": "2019-09-30T22:45:12.769133Z"
    },
    "hidden": true
   },
   "outputs": [],
   "source": [
    "df_elect['text'] = df_elect['text'].apply(lambda x: cleanText(x))\n",
    "df_elect['text'] = df_elect['text'].apply(lambda x: ' '.join(x))"
   ]
  },
  {
   "cell_type": "code",
   "execution_count": 609,
   "metadata": {
    "ExecuteTime": {
     "end_time": "2019-09-30T22:45:19.003060Z",
     "start_time": "2019-09-30T22:45:18.997041Z"
    },
    "hidden": true
   },
   "outputs": [],
   "source": [
    "X = df_elect['text']\n",
    "y = df_elect['sentiment']"
   ]
  },
  {
   "cell_type": "code",
   "execution_count": 611,
   "metadata": {
    "ExecuteTime": {
     "end_time": "2019-09-30T22:45:25.279898Z",
     "start_time": "2019-09-30T22:45:25.243842Z"
    },
    "hidden": true
   },
   "outputs": [],
   "source": [
    "X_train, X_test, y_train, y_test = train_test_split(X, y, test_size=0.2, shuffle=True, random_state=123, stratify=y)"
   ]
  },
  {
   "cell_type": "code",
   "execution_count": 644,
   "metadata": {
    "ExecuteTime": {
     "end_time": "2019-09-30T23:00:45.286880Z",
     "start_time": "2019-09-30T23:00:44.837077Z"
    },
    "hidden": true
   },
   "outputs": [
    {
     "name": "stderr",
     "output_type": "stream",
     "text": [
      "C:\\Anaconda\\lib\\site-packages\\sklearn\\linear_model\\logistic.py:432: FutureWarning: Default solver will be changed to 'lbfgs' in 0.22. Specify a solver to silence this warning.\n",
      "  FutureWarning)\n"
     ]
    }
   ],
   "source": [
    "vectorizer = TfidfVectorizer()\n",
    "LR = LogisticRegression()\n",
    "\n",
    "\n",
    "vectorizer.set_params(ngram_range = (1,3),max_features=100)\n",
    "X_train_Tfidf = vectorizer.fit_transform(X_train)\n",
    "X_test_Tfidf = vectorizer.transform(X_test)\n",
    "\n",
    "LR.fit(X_train_Tfidf, y_train)\n",
    "    \n",
    "y_pred = LR.predict(X_test_Tfidf)"
   ]
  },
  {
   "cell_type": "code",
   "execution_count": 645,
   "metadata": {
    "ExecuteTime": {
     "end_time": "2019-09-30T23:00:49.084643Z",
     "start_time": "2019-09-30T23:00:49.058747Z"
    },
    "hidden": true
   },
   "outputs": [
    {
     "data": {
      "text/html": [
       "<div>\n",
       "<style scoped>\n",
       "    .dataframe tbody tr th:only-of-type {\n",
       "        vertical-align: middle;\n",
       "    }\n",
       "\n",
       "    .dataframe tbody tr th {\n",
       "        vertical-align: top;\n",
       "    }\n",
       "\n",
       "    .dataframe thead th {\n",
       "        text-align: right;\n",
       "    }\n",
       "</style>\n",
       "<table border=\"1\" class=\"dataframe\">\n",
       "  <thead>\n",
       "    <tr style=\"text-align: right;\">\n",
       "      <th></th>\n",
       "      <th>words</th>\n",
       "      <th>score</th>\n",
       "    </tr>\n",
       "  </thead>\n",
       "  <tbody>\n",
       "    <tr>\n",
       "      <th>57</th>\n",
       "      <td>love</td>\n",
       "      <td>1.748070</td>\n",
       "    </tr>\n",
       "    <tr>\n",
       "      <th>67</th>\n",
       "      <td>perfect</td>\n",
       "      <td>1.661569</td>\n",
       "    </tr>\n",
       "    <tr>\n",
       "      <th>20</th>\n",
       "      <td>daughter</td>\n",
       "      <td>1.603422</td>\n",
       "    </tr>\n",
       "    <tr>\n",
       "      <th>58</th>\n",
       "      <td>loves</td>\n",
       "      <td>1.247838</td>\n",
       "    </tr>\n",
       "    <tr>\n",
       "      <th>78</th>\n",
       "      <td>recommend</td>\n",
       "      <td>1.156180</td>\n",
       "    </tr>\n",
       "    <tr>\n",
       "      <th>7</th>\n",
       "      <td>battery life</td>\n",
       "      <td>1.023668</td>\n",
       "    </tr>\n",
       "    <tr>\n",
       "      <th>70</th>\n",
       "      <td>prime</td>\n",
       "      <td>0.975310</td>\n",
       "    </tr>\n",
       "    <tr>\n",
       "      <th>75</th>\n",
       "      <td>read</td>\n",
       "      <td>0.970919</td>\n",
       "    </tr>\n",
       "    <tr>\n",
       "      <th>61</th>\n",
       "      <td>much</td>\n",
       "      <td>0.965738</td>\n",
       "    </tr>\n",
       "    <tr>\n",
       "      <th>8</th>\n",
       "      <td>best</td>\n",
       "      <td>0.917308</td>\n",
       "    </tr>\n",
       "    <tr>\n",
       "      <th>60</th>\n",
       "      <td>movies</td>\n",
       "      <td>0.861335</td>\n",
       "    </tr>\n",
       "    <tr>\n",
       "      <th>25</th>\n",
       "      <td>easy use</td>\n",
       "      <td>0.844268</td>\n",
       "    </tr>\n",
       "    <tr>\n",
       "      <th>41</th>\n",
       "      <td>great</td>\n",
       "      <td>0.823842</td>\n",
       "    </tr>\n",
       "    <tr>\n",
       "      <th>65</th>\n",
       "      <td>old</td>\n",
       "      <td>0.798887</td>\n",
       "    </tr>\n",
       "    <tr>\n",
       "      <th>29</th>\n",
       "      <td>fast</td>\n",
       "      <td>0.770593</td>\n",
       "    </tr>\n",
       "    <tr>\n",
       "      <th>81</th>\n",
       "      <td>son</td>\n",
       "      <td>0.755401</td>\n",
       "    </tr>\n",
       "    <tr>\n",
       "      <th>76</th>\n",
       "      <td>reading</td>\n",
       "      <td>0.718002</td>\n",
       "    </tr>\n",
       "    <tr>\n",
       "      <th>72</th>\n",
       "      <td>purchase</td>\n",
       "      <td>0.543751</td>\n",
       "    </tr>\n",
       "    <tr>\n",
       "      <th>17</th>\n",
       "      <td>christmas</td>\n",
       "      <td>0.491746</td>\n",
       "    </tr>\n",
       "    <tr>\n",
       "      <th>88</th>\n",
       "      <td>using</td>\n",
       "      <td>0.471046</td>\n",
       "    </tr>\n",
       "    <tr>\n",
       "      <th>34</th>\n",
       "      <td>games</td>\n",
       "      <td>0.457772</td>\n",
       "    </tr>\n",
       "    <tr>\n",
       "      <th>90</th>\n",
       "      <td>want</td>\n",
       "      <td>0.449416</td>\n",
       "    </tr>\n",
       "    <tr>\n",
       "      <th>80</th>\n",
       "      <td>size</td>\n",
       "      <td>0.447501</td>\n",
       "    </tr>\n",
       "    <tr>\n",
       "      <th>11</th>\n",
       "      <td>black</td>\n",
       "      <td>0.444941</td>\n",
       "    </tr>\n",
       "    <tr>\n",
       "      <th>40</th>\n",
       "      <td>got</td>\n",
       "      <td>0.444472</td>\n",
       "    </tr>\n",
       "    <tr>\n",
       "      <th>31</th>\n",
       "      <td>fire</td>\n",
       "      <td>0.428486</td>\n",
       "    </tr>\n",
       "    <tr>\n",
       "      <th>43</th>\n",
       "      <td>happy</td>\n",
       "      <td>0.428171</td>\n",
       "    </tr>\n",
       "    <tr>\n",
       "      <th>10</th>\n",
       "      <td>better</td>\n",
       "      <td>0.415474</td>\n",
       "    </tr>\n",
       "    <tr>\n",
       "      <th>12</th>\n",
       "      <td>books</td>\n",
       "      <td>0.367379</td>\n",
       "    </tr>\n",
       "    <tr>\n",
       "      <th>77</th>\n",
       "      <td>really</td>\n",
       "      <td>0.357214</td>\n",
       "    </tr>\n",
       "    <tr>\n",
       "      <th>...</th>\n",
       "      <td>...</td>\n",
       "      <td>...</td>\n",
       "    </tr>\n",
       "    <tr>\n",
       "      <th>84</th>\n",
       "      <td>tablets</td>\n",
       "      <td>-0.251788</td>\n",
       "    </tr>\n",
       "    <tr>\n",
       "      <th>74</th>\n",
       "      <td>quality</td>\n",
       "      <td>-0.274199</td>\n",
       "    </tr>\n",
       "    <tr>\n",
       "      <th>63</th>\n",
       "      <td>new</td>\n",
       "      <td>-0.312258</td>\n",
       "    </tr>\n",
       "    <tr>\n",
       "      <th>62</th>\n",
       "      <td>need</td>\n",
       "      <td>-0.314935</td>\n",
       "    </tr>\n",
       "    <tr>\n",
       "      <th>85</th>\n",
       "      <td>time</td>\n",
       "      <td>-0.319498</td>\n",
       "    </tr>\n",
       "    <tr>\n",
       "      <th>99</th>\n",
       "      <td>year old</td>\n",
       "      <td>-0.348985</td>\n",
       "    </tr>\n",
       "    <tr>\n",
       "      <th>89</th>\n",
       "      <td>value</td>\n",
       "      <td>-0.388965</td>\n",
       "    </tr>\n",
       "    <tr>\n",
       "      <th>45</th>\n",
       "      <td>im</td>\n",
       "      <td>-0.392598</td>\n",
       "    </tr>\n",
       "    <tr>\n",
       "      <th>73</th>\n",
       "      <td>purchased</td>\n",
       "      <td>-0.419947</td>\n",
       "    </tr>\n",
       "    <tr>\n",
       "      <th>54</th>\n",
       "      <td>little</td>\n",
       "      <td>-0.457204</td>\n",
       "    </tr>\n",
       "    <tr>\n",
       "      <th>68</th>\n",
       "      <td>play</td>\n",
       "      <td>-0.494037</td>\n",
       "    </tr>\n",
       "    <tr>\n",
       "      <th>28</th>\n",
       "      <td>far</td>\n",
       "      <td>-0.518779</td>\n",
       "    </tr>\n",
       "    <tr>\n",
       "      <th>79</th>\n",
       "      <td>screen</td>\n",
       "      <td>-0.540528</td>\n",
       "    </tr>\n",
       "    <tr>\n",
       "      <th>18</th>\n",
       "      <td>could</td>\n",
       "      <td>-0.548921</td>\n",
       "    </tr>\n",
       "    <tr>\n",
       "      <th>2</th>\n",
       "      <td>amazon</td>\n",
       "      <td>-0.551607</td>\n",
       "    </tr>\n",
       "    <tr>\n",
       "      <th>3</th>\n",
       "      <td>amazon fire</td>\n",
       "      <td>-0.559246</td>\n",
       "    </tr>\n",
       "    <tr>\n",
       "      <th>21</th>\n",
       "      <td>device</td>\n",
       "      <td>-0.561848</td>\n",
       "    </tr>\n",
       "    <tr>\n",
       "      <th>87</th>\n",
       "      <td>used</td>\n",
       "      <td>-0.609433</td>\n",
       "    </tr>\n",
       "    <tr>\n",
       "      <th>48</th>\n",
       "      <td>kids</td>\n",
       "      <td>-0.627932</td>\n",
       "    </tr>\n",
       "    <tr>\n",
       "      <th>35</th>\n",
       "      <td>get</td>\n",
       "      <td>-0.742352</td>\n",
       "    </tr>\n",
       "    <tr>\n",
       "      <th>97</th>\n",
       "      <td>would</td>\n",
       "      <td>-0.788214</td>\n",
       "    </tr>\n",
       "    <tr>\n",
       "      <th>9</th>\n",
       "      <td>best buy</td>\n",
       "      <td>-0.794282</td>\n",
       "    </tr>\n",
       "    <tr>\n",
       "      <th>5</th>\n",
       "      <td>apps</td>\n",
       "      <td>-0.805394</td>\n",
       "    </tr>\n",
       "    <tr>\n",
       "      <th>22</th>\n",
       "      <td>dont</td>\n",
       "      <td>-0.939376</td>\n",
       "    </tr>\n",
       "    <tr>\n",
       "      <th>95</th>\n",
       "      <td>work</td>\n",
       "      <td>-0.953198</td>\n",
       "    </tr>\n",
       "    <tr>\n",
       "      <th>39</th>\n",
       "      <td>google</td>\n",
       "      <td>-0.986182</td>\n",
       "    </tr>\n",
       "    <tr>\n",
       "      <th>53</th>\n",
       "      <td>like</td>\n",
       "      <td>-1.050063</td>\n",
       "    </tr>\n",
       "    <tr>\n",
       "      <th>38</th>\n",
       "      <td>good</td>\n",
       "      <td>-1.091921</td>\n",
       "    </tr>\n",
       "    <tr>\n",
       "      <th>4</th>\n",
       "      <td>app</td>\n",
       "      <td>-1.121640</td>\n",
       "    </tr>\n",
       "    <tr>\n",
       "      <th>82</th>\n",
       "      <td>store</td>\n",
       "      <td>-1.327464</td>\n",
       "    </tr>\n",
       "  </tbody>\n",
       "</table>\n",
       "<p>100 rows × 2 columns</p>\n",
       "</div>"
      ],
      "text/plain": [
       "           words     score\n",
       "57          love  1.748070\n",
       "67       perfect  1.661569\n",
       "20      daughter  1.603422\n",
       "58         loves  1.247838\n",
       "78     recommend  1.156180\n",
       "7   battery life  1.023668\n",
       "70         prime  0.975310\n",
       "75          read  0.970919\n",
       "61          much  0.965738\n",
       "8           best  0.917308\n",
       "60        movies  0.861335\n",
       "25      easy use  0.844268\n",
       "41         great  0.823842\n",
       "65           old  0.798887\n",
       "29          fast  0.770593\n",
       "81           son  0.755401\n",
       "76       reading  0.718002\n",
       "72      purchase  0.543751\n",
       "17     christmas  0.491746\n",
       "88         using  0.471046\n",
       "34         games  0.457772\n",
       "90          want  0.449416\n",
       "80          size  0.447501\n",
       "11         black  0.444941\n",
       "40           got  0.444472\n",
       "31          fire  0.428486\n",
       "43         happy  0.428171\n",
       "10        better  0.415474\n",
       "12         books  0.367379\n",
       "77        really  0.357214\n",
       "..           ...       ...\n",
       "84       tablets -0.251788\n",
       "74       quality -0.274199\n",
       "63           new -0.312258\n",
       "62          need -0.314935\n",
       "85          time -0.319498\n",
       "99      year old -0.348985\n",
       "89         value -0.388965\n",
       "45            im -0.392598\n",
       "73     purchased -0.419947\n",
       "54        little -0.457204\n",
       "68          play -0.494037\n",
       "28           far -0.518779\n",
       "79        screen -0.540528\n",
       "18         could -0.548921\n",
       "2         amazon -0.551607\n",
       "3    amazon fire -0.559246\n",
       "21        device -0.561848\n",
       "87          used -0.609433\n",
       "48          kids -0.627932\n",
       "35           get -0.742352\n",
       "97         would -0.788214\n",
       "9       best buy -0.794282\n",
       "5           apps -0.805394\n",
       "22          dont -0.939376\n",
       "95          work -0.953198\n",
       "39        google -0.986182\n",
       "53          like -1.050063\n",
       "38          good -1.091921\n",
       "4            app -1.121640\n",
       "82         store -1.327464\n",
       "\n",
       "[100 rows x 2 columns]"
      ]
     },
     "execution_count": 645,
     "metadata": {},
     "output_type": "execute_result"
    }
   ],
   "source": [
    "Results = pd.DataFrame(data = list(zip(vectorizer.get_feature_names(),LR.coef_[0])), columns = ['words','score'])\n",
    "Results.sort_values(by='score',ascending = False)\n"
   ]
  },
  {
   "cell_type": "code",
   "execution_count": 641,
   "metadata": {
    "ExecuteTime": {
     "end_time": "2019-09-30T22:59:08.347834Z",
     "start_time": "2019-09-30T22:59:08.310932Z"
    },
    "hidden": true
   },
   "outputs": [
    {
     "name": "stdout",
     "output_type": "stream",
     "text": [
      "              precision    recall  f1-score   support\n",
      "\n",
      "         neg       0.66      0.18      0.28       225\n",
      "         pos       0.70      0.95      0.80       446\n",
      "\n",
      "    accuracy                           0.69       671\n",
      "   macro avg       0.68      0.57      0.54       671\n",
      "weighted avg       0.68      0.69      0.63       671\n",
      "\n"
     ]
    }
   ],
   "source": [
    "print(classification_report(y_test,y_pred))"
   ]
  },
  {
   "cell_type": "code",
   "execution_count": 649,
   "metadata": {
    "ExecuteTime": {
     "end_time": "2019-09-30T23:03:55.083945Z",
     "start_time": "2019-09-30T23:03:54.921865Z"
    },
    "hidden": true
   },
   "outputs": [
    {
     "data": {
      "text/plain": [
       "<Figure size 1152x576 with 0 Axes>"
      ]
     },
     "metadata": {},
     "output_type": "display_data"
    },
    {
     "data": {
      "image/png": "[encoded data removed]",
      "text/plain": [
       "<Figure size 288x288 with 1 Axes>"
      ]
     },
     "metadata": {},
     "output_type": "display_data"
    }
   ],
   "source": [
    "confusionMatrix = confusion_matrix(y_test,y_pred,labels=['pos','neg'])\n",
    "\n",
    "plt.figure(figsize=(16, 8))\n",
    "plt.matshow(confusionMatrix, cmap=plt.cm.coolwarm, alpha=0.2)\n",
    "for i in range(2):\n",
    "    for j in range(2):\n",
    "        plt.text(x=j, y=i, s=confusionMatrix[i, j], ha=\"center\", va=\"center\")\n",
    "plt.title(\"Confusion matrix\", y=1.1, fontdict={\"fontsize\": 20})\n",
    "plt.xlabel(\"Predicted\", fontdict={\"fontsize\": 14})\n",
    "plt.ylabel(\"Actual\", fontdict={\"fontsize\": 14});"
   ]
  },
  {
   "cell_type": "markdown",
   "metadata": {
    "heading_collapsed": true,
    "hidden": true
   },
   "source": [
    "##### testing model with artificial reviews"
   ]
  },
  {
   "cell_type": "code",
   "execution_count": 654,
   "metadata": {
    "ExecuteTime": {
     "end_time": "2019-09-30T23:10:45.129629Z",
     "start_time": "2019-09-30T23:10:45.122644Z"
    },
    "hidden": true
   },
   "outputs": [],
   "source": [
    "def test_sample(model, sample):\n",
    "    sample_tfidf = vectorizer.transform([sample])\n",
    "    result = model.predict(sample_tfidf)[0]\n",
    "    prob = model.predict_proba(sample_tfidf)[0]\n",
    "    print(\"the review is estimated as %s: negative prob %f, positive prob %f\" % (result.upper(), prob[0], prob[1]))"
   ]
  },
  {
   "cell_type": "code",
   "execution_count": 655,
   "metadata": {
    "ExecuteTime": {
     "end_time": "2019-09-30T23:10:47.723992Z",
     "start_time": "2019-09-30T23:10:47.711026Z"
    },
    "hidden": true
   },
   "outputs": [
    {
     "name": "stdout",
     "output_type": "stream",
     "text": [
      "the review is estimated as POS: negative prob 0.417123, positive prob 0.582877\n",
      "the review is estimated as NEG: negative prob 0.641421, positive prob 0.358579\n",
      "the review is estimated as NEG: negative prob 0.523641, positive prob 0.476359\n",
      "the review is estimated as POS: negative prob 0.379204, positive prob 0.620796\n"
     ]
    }
   ],
   "source": [
    "test_sample(LR, \"The product was good and easy to use\")\n",
    "test_sample(LR, \"the device donts work well and i hate it\")\n",
    "test_sample(LR, \"product is not good\")\n",
    "test_sample(LR, \"i dont recommend it\")"
   ]
  },
  {
   "cell_type": "code",
   "execution_count": null,
   "metadata": {
    "hidden": true
   },
   "outputs": [],
   "source": []
  }
 ],
 "metadata": {
  "kernelspec": {
   "display_name": "Python 3",
   "language": "python",
   "name": "python3"
  },
  "language_info": {
   "codemirror_mode": {
    "name": "ipython",
    "version": 3
   },
   "file_extension": ".py",
   "mimetype": "text/x-python",
   "name": "python",
   "nbconvert_exporter": "python",
   "pygments_lexer": "ipython3",
   "version": "3.6.5"
  },
  "varInspector": {
   "cols": {
    "lenName": 16,
    "lenType": 16,
    "lenVar": 40
   },
   "kernels_config": {
    "python": {
     "delete_cmd_postfix": "",
     "delete_cmd_prefix": "del ",
     "library": "var_list.py",
     "varRefreshCmd": "print(var_dic_list())"
    },
    "r": {
     "delete_cmd_postfix": ") ",
     "delete_cmd_prefix": "rm(",
     "library": "var_list.r",
     "varRefreshCmd": "cat(var_dic_list()) "
    }
   },
   "types_to_exclude": [
    "module",
    "function",
    "builtin_function_or_method",
    "instance",
    "_Feature"
   ],
   "window_display": false
  }
 },
 "nbformat": 4,
 "nbformat_minor": 2
}
