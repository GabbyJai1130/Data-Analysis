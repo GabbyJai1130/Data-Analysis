{
  "nbformat": 4,
  "nbformat_minor": 0,
  "metadata": {
    "colab": {
      "name": "Flinks_data_challenge_GJ",
      "provenance": [],
      "collapsed_sections": [
        "WD30LG2YDnDh",
        "mvN6D_KKDypo",
        "Qi-CS_bw7J32",
        "yC6iu4avWmdM",
        "W_rQ7pZBiNn_",
        "azzingfmWsH3",
        "M_7fYpUeXtJl",
        "EsKeXk11aCEo",
        "G-ASy3mW2CUd",
        "ODTcDSuggW1c",
        "aklNptsdKReQ",
        "0nszwMW4PMAp",
        "wgT6hT_oqvyK",
        "RHJL8X3pyKDV",
        "dZRRhe2f1ikq"
      ],
      "authorship_tag": "ABX9TyOgvZhvmhkV9HPNfL0quHH0"
    },
    "kernelspec": {
      "name": "python3",
      "display_name": "Python 3"
    }
  },
  "cells": [
    {
      "cell_type": "markdown",
      "metadata": {
        "id": "Yeur5DBU5c-E",
        "colab_type": "text"
      },
      "source": [
        "# Flinks data challenge\n",
        "\n",
        "The objective of the challenge was to classify each project in its right main_category given the name and basic informaiton of the project\n",
        "\n",
        "This notebook consists of 4 sections in following order:\n",
        "\n",
        "1. Data preprocessing\n",
        "\n",
        "2. Exploratory analysis\n",
        "\n",
        "3. Best results\n",
        "\n",
        "4. Other modeling attempts\n",
        "\n",
        "Results: \n",
        "\n",
        "2 embedding techniques and 4 models were chosen to carry out the classification. All models were able to deliver at least 95% scores for overall precision and recall using project name & sub-catgory as predictors and undersampling technique. Among all models, LinearSVC and Logistic Regression had the highest accurracy (99%). Naive Bayes had the fastest computation time (1.68s) with a 96% accuracy"
      ]
    },
    {
      "cell_type": "code",
      "metadata": {
        "id": "IZDw_gcN4o5-",
        "colab_type": "code",
        "colab": {
          "base_uri": "https://localhost:8080/",
          "height": 121
        },
        "outputId": "e322c400-96ac-4eec-a68e-47861501dd24"
      },
      "source": [
        "from google.colab import drive\n",
        "drive.mount('/content/gdrive')"
      ],
      "execution_count": 1,
      "outputs": [
        {
          "output_type": "stream",
          "text": [
            "Go to this URL in a browser: https://accounts.google.com/o/oauth2/auth?client_id=947318989803-6bn6qk8qdgf4n4g3pfee6491hc0brc4i.apps.googleusercontent.com&redirect_uri=urn%3aietf%3awg%3aoauth%3a2.0%3aoob&response_type=code&scope=email%20https%3a%2f%2fwww.googleapis.com%2fauth%2fdocs.test%20https%3a%2f%2fwww.googleapis.com%2fauth%2fdrive%20https%3a%2f%2fwww.googleapis.com%2fauth%2fdrive.photos.readonly%20https%3a%2f%2fwww.googleapis.com%2fauth%2fpeopleapi.readonly\n",
            "\n",
            "Enter your authorization code:\n",
            "··········\n",
            "Mounted at /content/gdrive\n"
          ],
          "name": "stdout"
        }
      ]
    },
    {
      "cell_type": "code",
      "metadata": {
        "id": "Kp6d3Yo73ELT",
        "colab_type": "code",
        "colab": {
          "base_uri": "https://localhost:8080/",
          "height": 84
        },
        "outputId": "a9e502e9-8a28-4c0d-edcf-270f66c00ece"
      },
      "source": [
        "import numpy as np\n",
        "import pandas as pd\n",
        "import matplotlib.pyplot as plt\n",
        "import seaborn as sns\n",
        "import math\n",
        "\n",
        "import re\n",
        "import nltk\n",
        "from nltk.tokenize import word_tokenize, sent_tokenize\n",
        "from nltk.corpus import stopwords\n",
        "\n",
        "nltk.download('stopwords')\n",
        "nltk.download('punkt')\n",
        "\n",
        "import string\n",
        "punct = list(set(string.punctuation))\n",
        "\n",
        "from html.parser import HTMLParser\n",
        "\n",
        "import gensim\n",
        "from gensim import corpora\n",
        "from gensim import models\n",
        "from gensim.models import Phrases, Word2Vec\n",
        "from gensim.utils import simple_preprocess\n",
        "from gensim.matutils import corpus2dense, corpus2csc\n",
        "\n",
        "from sklearn.preprocessing import OneHotEncoder, LabelEncoder\n",
        "from sklearn.preprocessing import MinMaxScaler\n",
        "\n",
        "from sklearn.pipeline import Pipeline\n",
        "from sklearn.feature_extraction.text import CountVectorizer\n",
        "from sklearn.feature_extraction.text import TfidfTransformer\n",
        "from sklearn.decomposition import TruncatedSVD\n",
        "\n",
        "from imblearn.under_sampling import RandomUnderSampler\n",
        "from sklearn.model_selection import train_test_split\n",
        "\n",
        "from sklearn.linear_model import LogisticRegression\n",
        "from sklearn.ensemble import RandomForestClassifier\n",
        "from sklearn.tree import DecisionTreeClassifier\n",
        "from sklearn.svm import LinearSVC, SVC\n",
        "from sklearn.naive_bayes import MultinomialNB\n",
        "\n",
        "from sklearn.model_selection import GridSearchCV, RandomizedSearchCV\n",
        "from sklearn.metrics import classification_report, confusion_matrix, ConfusionMatrixDisplay\n",
        "\n",
        "import time"
      ],
      "execution_count": 33,
      "outputs": [
        {
          "output_type": "stream",
          "text": [
            "[nltk_data] Downloading package stopwords to /root/nltk_data...\n",
            "[nltk_data]   Package stopwords is already up-to-date!\n",
            "[nltk_data] Downloading package punkt to /root/nltk_data...\n",
            "[nltk_data]   Package punkt is already up-to-date!\n"
          ],
          "name": "stdout"
        }
      ]
    },
    {
      "cell_type": "code",
      "metadata": {
        "id": "tMlQv8sz4Op2",
        "colab_type": "code",
        "colab": {
          "base_uri": "https://localhost:8080/",
          "height": 50
        },
        "outputId": "ee05f070-63ff-4370-9147-14c1fb46c00b"
      },
      "source": [
        "path = '/content/gdrive/My Drive/Colab Notebooks/data/flinks-data-challenge.csv'\n",
        "\n",
        "df = pd.read_csv(path)\n",
        "df.drop('Unnamed: 0',axis=1,inplace=True)"
      ],
      "execution_count": 90,
      "outputs": [
        {
          "output_type": "stream",
          "text": [
            "/usr/local/lib/python3.6/dist-packages/IPython/core/interactiveshell.py:2718: DtypeWarning: Columns (2) have mixed types.Specify dtype option on import or set low_memory=False.\n",
            "  interactivity=interactivity, compiler=compiler, result=result)\n"
          ],
          "name": "stderr"
        }
      ]
    },
    {
      "cell_type": "markdown",
      "metadata": {
        "id": "WD30LG2YDnDh",
        "colab_type": "text"
      },
      "source": [
        "## Data Preprocessing \n",
        "\n",
        "This section consists of basic data cleaning for each column"
      ]
    },
    {
      "cell_type": "markdown",
      "metadata": {
        "id": "folx2EoTDtJD",
        "colab_type": "text"
      },
      "source": [
        "#### name"
      ]
    },
    {
      "cell_type": "markdown",
      "metadata": {
        "id": "-7Zsc6dg_W1L",
        "colab_type": "text"
      },
      "source": [
        "The first step was to check if there was any missing value, and 4 missing titles were found after initial screening. Since they only made up of 0.0012% of the dataset, I decided to simply drop them becauseit would not affect much for the result later on"
      ]
    },
    {
      "cell_type": "code",
      "metadata": {
        "id": "oTVKgomj5BY-",
        "colab_type": "code",
        "colab": {
          "base_uri": "https://localhost:8080/",
          "height": 283
        },
        "outputId": "c95cc8ab-fe04-45ea-ead7-427196056c62"
      },
      "source": [
        "print(df.isna().sum()/len(df)*100)\n",
        "df[df['name'].isna()]"
      ],
      "execution_count": 42,
      "outputs": [
        {
          "output_type": "stream",
          "text": [
            "name             0.001238\n",
            "goal             0.000000\n",
            "sub_category     0.000000\n",
            "main_category    0.000000\n",
            "launched         0.000000\n",
            "deadline         0.000000\n",
            "dtype: float64\n"
          ],
          "name": "stdout"
        },
        {
          "output_type": "execute_result",
          "data": {
            "text/html": [
              "<div>\n",
              "<style scoped>\n",
              "    .dataframe tbody tr th:only-of-type {\n",
              "        vertical-align: middle;\n",
              "    }\n",
              "\n",
              "    .dataframe tbody tr th {\n",
              "        vertical-align: top;\n",
              "    }\n",
              "\n",
              "    .dataframe thead th {\n",
              "        text-align: right;\n",
              "    }\n",
              "</style>\n",
              "<table border=\"1\" class=\"dataframe\">\n",
              "  <thead>\n",
              "    <tr style=\"text-align: right;\">\n",
              "      <th></th>\n",
              "      <th>name</th>\n",
              "      <th>goal</th>\n",
              "      <th>sub_category</th>\n",
              "      <th>main_category</th>\n",
              "      <th>launched</th>\n",
              "      <th>deadline</th>\n",
              "    </tr>\n",
              "  </thead>\n",
              "  <tbody>\n",
              "    <tr>\n",
              "      <th>142581</th>\n",
              "      <td>NaN</td>\n",
              "      <td>200000</td>\n",
              "      <td>Narrative Film</td>\n",
              "      <td>Film &amp; Video</td>\n",
              "      <td>2012-01-01 12:35:31</td>\n",
              "      <td>2012-02-29 15:04:00</td>\n",
              "    </tr>\n",
              "    <tr>\n",
              "      <th>262398</th>\n",
              "      <td>NaN</td>\n",
              "      <td>2000</td>\n",
              "      <td>Video Games</td>\n",
              "      <td>Games</td>\n",
              "      <td>2012-12-19 23:57:48</td>\n",
              "      <td>2013-01-06 23:00:00</td>\n",
              "    </tr>\n",
              "    <tr>\n",
              "      <th>264745</th>\n",
              "      <td>NaN</td>\n",
              "      <td>2500</td>\n",
              "      <td>Product Design</td>\n",
              "      <td>Design</td>\n",
              "      <td>2016-06-18 05:01:47</td>\n",
              "      <td>2016-07-18 05:01:47</td>\n",
              "    </tr>\n",
              "    <tr>\n",
              "      <th>289292</th>\n",
              "      <td>NaN</td>\n",
              "      <td>35000</td>\n",
              "      <td>Painting</td>\n",
              "      <td>Art</td>\n",
              "      <td>2011-11-06 23:55:55</td>\n",
              "      <td>2011-12-05 05:59:00</td>\n",
              "    </tr>\n",
              "  </tbody>\n",
              "</table>\n",
              "</div>"
            ],
            "text/plain": [
              "       name    goal  ...             launched             deadline\n",
              "142581  NaN  200000  ...  2012-01-01 12:35:31  2012-02-29 15:04:00\n",
              "262398  NaN    2000  ...  2012-12-19 23:57:48  2013-01-06 23:00:00\n",
              "264745  NaN    2500  ...  2016-06-18 05:01:47  2016-07-18 05:01:47\n",
              "289292  NaN   35000  ...  2011-11-06 23:55:55  2011-12-05 05:59:00\n",
              "\n",
              "[4 rows x 6 columns]"
            ]
          },
          "metadata": {
            "tags": []
          },
          "execution_count": 42
        }
      ]
    },
    {
      "cell_type": "code",
      "metadata": {
        "id": "fSIRM-Mo7dX4",
        "colab_type": "code",
        "colab": {}
      },
      "source": [
        "df.dropna(subset=['name'],axis=0,inplace=True)\n",
        "df.reset_index(drop=True,inplace=True)"
      ],
      "execution_count": 43,
      "outputs": []
    },
    {
      "cell_type": "markdown",
      "metadata": {
        "id": "X5T_YhgqGGeA",
        "colab_type": "text"
      },
      "source": [
        "The second step was to clean up the name of projects. Having examined several samples, the following rules were applied to process all the project names.\n",
        "\n",
        "- It was found that some projects across multiple categoires had either (Canceled) or (Suspended) in thier name to indicate the cancelation/suspension of that project. Since these two terms were intuitively irrelavent to the category, so I decided to remove them.\n",
        "\n",
        "- Some projects had a / between two words, so I decided to replace it with 'or' to indicate its semantic meaning. Otherwise its significance would vanish after the punctuation removal step\n",
        "\n",
        "- Besides the common punctuations, some punctuations seemed to have different encoding, so they wered added to the punctuation list manually \n",
        "\n",
        "- As for the number in title, the value of the number would be less important than the fact that there was a number in the title, so I decided to replace all numbers with %d to avoid generating too many vocab of number, hence decreasing memory usage.\n",
        "\n",
        "- Similar to the idea of number replacement, the presence of a url was more important than the identity of url itself, so I replaced all web links with a word 'url' to indicate its presence\n",
        "\n",
        "- There were also quite a few special characters in the title, so I decided to remove them to reduce the noise\n",
        "\n",
        "- A lot of titles had words in uppercase, but the meaning of them would be identical if in lowercase, so I decided to lowercase all the words to avoid generating the same vocab with one in lowercase and one in uppercase\n",
        "\n",
        "- Because stopwords (e.g. a, and, the, ...) would introduce noise to the data, so they were also removed. It was found that some titles were in German, so the stopwords set included English and German\n",
        "\n",
        "- after removing the stopwords, it was found that some titles had a pattern of [ stopword + 's ], which is not in the set of stopwrods. Thus, I decided to remove the remaining 's .\n",
        "\n",
        "- Finally, some titles would have two whitespace after the above cleaning, so I reduced the two whitespace to one "
      ]
    },
    {
      "cell_type": "code",
      "metadata": {
        "id": "waZ1j46o76o8",
        "colab_type": "code",
        "colab": {}
      },
      "source": [
        "stop_words = set(stopwords.words(['english','german']))\n",
        "\n",
        "# the following punctuations were in different encoding, so they had to be added to the list \n",
        "punct.append('``')\n",
        "punct.append('\\'\\'')\n",
        "punct.append('\\'')\n",
        "punct.append('...')\n",
        "punct.append('||')\n",
        "\n",
        "def title_cleaning(name):\n",
        "  # remove the word (Canceled) and (Suspended)\n",
        "  name = ' '.join([word for word in name.split() if not word in ['(Canceled)','(Suspended)']]) \n",
        "\n",
        "  # replace / with or to indicate the semantic meaning \n",
        "  name = re.sub('/',' or ',name)\n",
        "\n",
        "  # remove punctuation \n",
        "  name = ' '.join(word for word in word_tokenize(name) if word not in punct)\n",
        "\n",
        "  # replace all number with %d to unify the signifiance of the word \n",
        "  name = ' '.join(\"%d\" if word.isdigit() else word for word in name.split())\n",
        "\n",
        "  # replace all web links with url to unify the signifiance of the weblink \n",
        "  name = re.sub(r'www.*.com', \"url\", name)\n",
        "  \n",
        "  # remove special characters\n",
        "  name = re.sub(r'(?:[\\ufffd]+)','',name)\n",
        "  \n",
        "  # lowercase the word\n",
        "  name = name.lower()\n",
        "  \n",
        "  # remove stop words\n",
        "  name = ' '.join([word for word in name.split() if not word in stop_words])\n",
        "  \n",
        "  # replace any 's if it's missed from stop wods removal \n",
        "  name = re.sub('\\'s', '', name)\n",
        "  \n",
        "  # replace double white space with single white space\n",
        "  name = re.sub('  ',' ',name)\n",
        "\n",
        "  return name"
      ],
      "execution_count": 25,
      "outputs": []
    },
    {
      "cell_type": "code",
      "metadata": {
        "id": "zBNkWBFV8AXw",
        "colab_type": "code",
        "colab": {}
      },
      "source": [
        "df['processed_name'] = df['name'].apply(lambda x: title_cleaning(x))"
      ],
      "execution_count": 44,
      "outputs": []
    },
    {
      "cell_type": "markdown",
      "metadata": {
        "id": "X2YIwfQEDwfK",
        "colab_type": "text"
      },
      "source": [
        "#### goal"
      ]
    },
    {
      "cell_type": "markdown",
      "metadata": {
        "id": "Rl22gZfyUx6y",
        "colab_type": "text"
      },
      "source": [
        "The first step was to convert the column to numerice type, and replace the non-numeric value with NaN using the parameter errors = 'coerce'"
      ]
    },
    {
      "cell_type": "code",
      "metadata": {
        "id": "pRoffPii_2Yv",
        "colab_type": "code",
        "colab": {}
      },
      "source": [
        "df['goal']= df['goal'].apply(lambda x: pd.to_numeric(x,errors='coerce'))"
      ],
      "execution_count": 45,
      "outputs": []
    },
    {
      "cell_type": "code",
      "metadata": {
        "id": "v0D_3iw6BVLF",
        "colab_type": "code",
        "colab": {
          "base_uri": "https://localhost:8080/",
          "height": 389
        },
        "outputId": "58d66878-501d-4536-9693-728f2de7e71e"
      },
      "source": [
        "print(df.isna().sum())\n",
        "df[df['goal'].isna()]"
      ],
      "execution_count": 46,
      "outputs": [
        {
          "output_type": "stream",
          "text": [
            "name              0\n",
            "goal              7\n",
            "sub_category      0\n",
            "main_category     0\n",
            "launched          0\n",
            "deadline          0\n",
            "processed_name    0\n",
            "dtype: int64\n"
          ],
          "name": "stdout"
        },
        {
          "output_type": "execute_result",
          "data": {
            "text/html": [
              "<div>\n",
              "<style scoped>\n",
              "    .dataframe tbody tr th:only-of-type {\n",
              "        vertical-align: middle;\n",
              "    }\n",
              "\n",
              "    .dataframe tbody tr th {\n",
              "        vertical-align: top;\n",
              "    }\n",
              "\n",
              "    .dataframe thead th {\n",
              "        text-align: right;\n",
              "    }\n",
              "</style>\n",
              "<table border=\"1\" class=\"dataframe\">\n",
              "  <thead>\n",
              "    <tr style=\"text-align: right;\">\n",
              "      <th></th>\n",
              "      <th>name</th>\n",
              "      <th>goal</th>\n",
              "      <th>sub_category</th>\n",
              "      <th>main_category</th>\n",
              "      <th>launched</th>\n",
              "      <th>deadline</th>\n",
              "      <th>processed_name</th>\n",
              "    </tr>\n",
              "  </thead>\n",
              "  <tbody>\n",
              "    <tr>\n",
              "      <th>64370</th>\n",
              "      <td>CD: Heartsong Harmonics</td>\n",
              "      <td>NaN</td>\n",
              "      <td>Marc &amp; Mary sing together at last!</td>\n",
              "      <td>Music</td>\n",
              "      <td>7085</td>\n",
              "      <td>USD</td>\n",
              "      <td>cd heartsong harmonics</td>\n",
              "    </tr>\n",
              "    <tr>\n",
              "      <th>85465</th>\n",
              "      <td>Everyday Beautiful</td>\n",
              "      <td>NaN</td>\n",
              "      <td>a day in the life of a champion</td>\n",
              "      <td>Film &amp; Video</td>\n",
              "      <td>2000</td>\n",
              "      <td>USD</td>\n",
              "      <td>everyday beautiful</td>\n",
              "    </tr>\n",
              "    <tr>\n",
              "      <th>98438</th>\n",
              "      <td>Hana Zara's new album</td>\n",
              "      <td>NaN</td>\n",
              "      <td>The North (2015)</td>\n",
              "      <td>Music</td>\n",
              "      <td>3000</td>\n",
              "      <td>USD</td>\n",
              "      <td>hana zara new album</td>\n",
              "    </tr>\n",
              "    <tr>\n",
              "      <th>123282</th>\n",
              "      <td>Celebrating Joni Mitchell</td>\n",
              "      <td>NaN</td>\n",
              "      <td>Songs by &amp; about her + Stories</td>\n",
              "      <td>Music</td>\n",
              "      <td>5000</td>\n",
              "      <td>CAD</td>\n",
              "      <td>celebrating joni mitchell</td>\n",
              "    </tr>\n",
              "    <tr>\n",
              "      <th>159138</th>\n",
              "      <td>Legal Highs</td>\n",
              "      <td>NaN</td>\n",
              "      <td>The Sobering Truth</td>\n",
              "      <td>Film &amp; Video</td>\n",
              "      <td>5000</td>\n",
              "      <td>GBP</td>\n",
              "      <td>legal highs</td>\n",
              "    </tr>\n",
              "    <tr>\n",
              "      <th>162774</th>\n",
              "      <td>Puppy Training Steps</td>\n",
              "      <td>NaN</td>\n",
              "      <td>Right and Wrong</td>\n",
              "      <td>Film &amp; Video</td>\n",
              "      <td>5000</td>\n",
              "      <td>USD</td>\n",
              "      <td>puppy training steps</td>\n",
              "    </tr>\n",
              "    <tr>\n",
              "      <th>177307</th>\n",
              "      <td>Adventure to Peru's Sacred Valley</td>\n",
              "      <td>NaN</td>\n",
              "      <td>Recording Soundtracks</td>\n",
              "      <td>Music</td>\n",
              "      <td>2200</td>\n",
              "      <td>USD</td>\n",
              "      <td>adventure peru sacred valley</td>\n",
              "    </tr>\n",
              "  </tbody>\n",
              "</table>\n",
              "</div>"
            ],
            "text/plain": [
              "                                     name  ...                processed_name\n",
              "64370             CD: Heartsong Harmonics  ...        cd heartsong harmonics\n",
              "85465                  Everyday Beautiful  ...            everyday beautiful\n",
              "98438               Hana Zara's new album  ...           hana zara new album\n",
              "123282          Celebrating Joni Mitchell  ...     celebrating joni mitchell\n",
              "159138                        Legal Highs  ...                   legal highs\n",
              "162774               Puppy Training Steps  ...          puppy training steps\n",
              "177307  Adventure to Peru's Sacred Valley  ...  adventure peru sacred valley\n",
              "\n",
              "[7 rows x 7 columns]"
            ]
          },
          "metadata": {
            "tags": []
          },
          "execution_count": 46
        }
      ]
    },
    {
      "cell_type": "markdown",
      "metadata": {
        "id": "aS9rzBhZHR4H",
        "colab_type": "text"
      },
      "source": [
        "For the NaN values in the column, the users seemed to input the value of goal in the column *launched* . Therefore, the easiest way to fix this issue was to fill the NaN with the values from the column *launched* "
      ]
    },
    {
      "cell_type": "code",
      "metadata": {
        "id": "no_szBSHCCBm",
        "colab_type": "code",
        "colab": {}
      },
      "source": [
        "df['goal'].fillna(df[df['goal'].isna()]['launched'].astype('float'),inplace=True)"
      ],
      "execution_count": 47,
      "outputs": []
    },
    {
      "cell_type": "markdown",
      "metadata": {
        "id": "mvN6D_KKDypo",
        "colab_type": "text"
      },
      "source": [
        "#### launched and deadline"
      ]
    },
    {
      "cell_type": "markdown",
      "metadata": {
        "id": "_a62sk7sWowK",
        "colab_type": "text"
      },
      "source": [
        "The first step was to convert both columns to datetime type and compute the duration of project"
      ]
    },
    {
      "cell_type": "code",
      "metadata": {
        "id": "rbodQwoJDkvK",
        "colab_type": "code",
        "colab": {}
      },
      "source": [
        "df['launched'] = df['launched'].apply(lambda x: pd.to_datetime(x, errors='coerce',yearfirst=True))\n",
        "df['deadline'] = df['deadline'].apply(lambda x: pd.to_datetime(x, errors='coerce',yearfirst=True))\n",
        "\n",
        "df['duration'] = df['deadline']-df['launched']\n",
        "df['duration'] = df['duration'].apply(lambda x: x.days)"
      ],
      "execution_count": 48,
      "outputs": []
    },
    {
      "cell_type": "markdown",
      "metadata": {
        "id": "UDDRdxOeXI6z",
        "colab_type": "text"
      },
      "source": [
        "The sceond step was to examine the missing values in all three columns"
      ]
    },
    {
      "cell_type": "code",
      "metadata": {
        "id": "loGAxXKVEMxp",
        "colab_type": "code",
        "colab": {
          "base_uri": "https://localhost:8080/",
          "height": 346
        },
        "outputId": "ab031c80-1d41-42a2-d644-33750319a3f9"
      },
      "source": [
        "print(df.isna().sum())\n",
        "df[df['launched'].isna()]"
      ],
      "execution_count": 49,
      "outputs": [
        {
          "output_type": "stream",
          "text": [
            "name              0\n",
            "goal              0\n",
            "sub_category      0\n",
            "main_category     0\n",
            "launched          5\n",
            "deadline          7\n",
            "processed_name    0\n",
            "duration          7\n",
            "dtype: int64\n"
          ],
          "name": "stdout"
        },
        {
          "output_type": "execute_result",
          "data": {
            "text/html": [
              "<div>\n",
              "<style scoped>\n",
              "    .dataframe tbody tr th:only-of-type {\n",
              "        vertical-align: middle;\n",
              "    }\n",
              "\n",
              "    .dataframe tbody tr th {\n",
              "        vertical-align: top;\n",
              "    }\n",
              "\n",
              "    .dataframe thead th {\n",
              "        text-align: right;\n",
              "    }\n",
              "</style>\n",
              "<table border=\"1\" class=\"dataframe\">\n",
              "  <thead>\n",
              "    <tr style=\"text-align: right;\">\n",
              "      <th></th>\n",
              "      <th>name</th>\n",
              "      <th>goal</th>\n",
              "      <th>sub_category</th>\n",
              "      <th>main_category</th>\n",
              "      <th>launched</th>\n",
              "      <th>deadline</th>\n",
              "      <th>processed_name</th>\n",
              "      <th>duration</th>\n",
              "    </tr>\n",
              "  </thead>\n",
              "  <tbody>\n",
              "    <tr>\n",
              "      <th>64370</th>\n",
              "      <td>CD: Heartsong Harmonics</td>\n",
              "      <td>7085.0</td>\n",
              "      <td>Marc &amp; Mary sing together at last!</td>\n",
              "      <td>Music</td>\n",
              "      <td>NaT</td>\n",
              "      <td>NaT</td>\n",
              "      <td>cd heartsong harmonics</td>\n",
              "      <td>NaN</td>\n",
              "    </tr>\n",
              "    <tr>\n",
              "      <th>98438</th>\n",
              "      <td>Hana Zara's new album</td>\n",
              "      <td>3000.0</td>\n",
              "      <td>The North (2015)</td>\n",
              "      <td>Music</td>\n",
              "      <td>NaT</td>\n",
              "      <td>NaT</td>\n",
              "      <td>hana zara new album</td>\n",
              "      <td>NaN</td>\n",
              "    </tr>\n",
              "    <tr>\n",
              "      <th>123282</th>\n",
              "      <td>Celebrating Joni Mitchell</td>\n",
              "      <td>5000.0</td>\n",
              "      <td>Songs by &amp; about her + Stories</td>\n",
              "      <td>Music</td>\n",
              "      <td>NaT</td>\n",
              "      <td>NaT</td>\n",
              "      <td>celebrating joni mitchell</td>\n",
              "      <td>NaN</td>\n",
              "    </tr>\n",
              "    <tr>\n",
              "      <th>159138</th>\n",
              "      <td>Legal Highs</td>\n",
              "      <td>5000.0</td>\n",
              "      <td>The Sobering Truth</td>\n",
              "      <td>Film &amp; Video</td>\n",
              "      <td>NaT</td>\n",
              "      <td>NaT</td>\n",
              "      <td>legal highs</td>\n",
              "      <td>NaN</td>\n",
              "    </tr>\n",
              "    <tr>\n",
              "      <th>162774</th>\n",
              "      <td>Puppy Training Steps</td>\n",
              "      <td>5000.0</td>\n",
              "      <td>Right and Wrong</td>\n",
              "      <td>Film &amp; Video</td>\n",
              "      <td>NaT</td>\n",
              "      <td>NaT</td>\n",
              "      <td>puppy training steps</td>\n",
              "      <td>NaN</td>\n",
              "    </tr>\n",
              "  </tbody>\n",
              "</table>\n",
              "</div>"
            ],
            "text/plain": [
              "                             name    goal  ...             processed_name duration\n",
              "64370     CD: Heartsong Harmonics  7085.0  ...     cd heartsong harmonics      NaN\n",
              "98438       Hana Zara's new album  3000.0  ...        hana zara new album      NaN\n",
              "123282  Celebrating Joni Mitchell  5000.0  ...  celebrating joni mitchell      NaN\n",
              "159138                Legal Highs  5000.0  ...                legal highs      NaN\n",
              "162774       Puppy Training Steps  5000.0  ...       puppy training steps      NaN\n",
              "\n",
              "[5 rows x 8 columns]"
            ]
          },
          "metadata": {
            "tags": []
          },
          "execution_count": 49
        }
      ]
    },
    {
      "cell_type": "code",
      "metadata": {
        "id": "UjnBqI9ZZYbp",
        "colab_type": "code",
        "colab": {
          "base_uri": "https://localhost:8080/",
          "height": 254
        },
        "outputId": "69175763-bdb6-4711-9ae5-718d733d75d1"
      },
      "source": [
        "df[df['deadline'].isna()]"
      ],
      "execution_count": 50,
      "outputs": [
        {
          "output_type": "execute_result",
          "data": {
            "text/html": [
              "<div>\n",
              "<style scoped>\n",
              "    .dataframe tbody tr th:only-of-type {\n",
              "        vertical-align: middle;\n",
              "    }\n",
              "\n",
              "    .dataframe tbody tr th {\n",
              "        vertical-align: top;\n",
              "    }\n",
              "\n",
              "    .dataframe thead th {\n",
              "        text-align: right;\n",
              "    }\n",
              "</style>\n",
              "<table border=\"1\" class=\"dataframe\">\n",
              "  <thead>\n",
              "    <tr style=\"text-align: right;\">\n",
              "      <th></th>\n",
              "      <th>name</th>\n",
              "      <th>goal</th>\n",
              "      <th>sub_category</th>\n",
              "      <th>main_category</th>\n",
              "      <th>launched</th>\n",
              "      <th>deadline</th>\n",
              "      <th>processed_name</th>\n",
              "      <th>duration</th>\n",
              "    </tr>\n",
              "  </thead>\n",
              "  <tbody>\n",
              "    <tr>\n",
              "      <th>64370</th>\n",
              "      <td>CD: Heartsong Harmonics</td>\n",
              "      <td>7085.0</td>\n",
              "      <td>Marc &amp; Mary sing together at last!</td>\n",
              "      <td>Music</td>\n",
              "      <td>NaT</td>\n",
              "      <td>NaT</td>\n",
              "      <td>cd heartsong harmonics</td>\n",
              "      <td>NaN</td>\n",
              "    </tr>\n",
              "    <tr>\n",
              "      <th>85465</th>\n",
              "      <td>Everyday Beautiful</td>\n",
              "      <td>2000.0</td>\n",
              "      <td>a day in the life of a champion</td>\n",
              "      <td>Film &amp; Video</td>\n",
              "      <td>2000-01-01</td>\n",
              "      <td>NaT</td>\n",
              "      <td>everyday beautiful</td>\n",
              "      <td>NaN</td>\n",
              "    </tr>\n",
              "    <tr>\n",
              "      <th>98438</th>\n",
              "      <td>Hana Zara's new album</td>\n",
              "      <td>3000.0</td>\n",
              "      <td>The North (2015)</td>\n",
              "      <td>Music</td>\n",
              "      <td>NaT</td>\n",
              "      <td>NaT</td>\n",
              "      <td>hana zara new album</td>\n",
              "      <td>NaN</td>\n",
              "    </tr>\n",
              "    <tr>\n",
              "      <th>123282</th>\n",
              "      <td>Celebrating Joni Mitchell</td>\n",
              "      <td>5000.0</td>\n",
              "      <td>Songs by &amp; about her + Stories</td>\n",
              "      <td>Music</td>\n",
              "      <td>NaT</td>\n",
              "      <td>NaT</td>\n",
              "      <td>celebrating joni mitchell</td>\n",
              "      <td>NaN</td>\n",
              "    </tr>\n",
              "    <tr>\n",
              "      <th>159138</th>\n",
              "      <td>Legal Highs</td>\n",
              "      <td>5000.0</td>\n",
              "      <td>The Sobering Truth</td>\n",
              "      <td>Film &amp; Video</td>\n",
              "      <td>NaT</td>\n",
              "      <td>NaT</td>\n",
              "      <td>legal highs</td>\n",
              "      <td>NaN</td>\n",
              "    </tr>\n",
              "    <tr>\n",
              "      <th>162774</th>\n",
              "      <td>Puppy Training Steps</td>\n",
              "      <td>5000.0</td>\n",
              "      <td>Right and Wrong</td>\n",
              "      <td>Film &amp; Video</td>\n",
              "      <td>NaT</td>\n",
              "      <td>NaT</td>\n",
              "      <td>puppy training steps</td>\n",
              "      <td>NaN</td>\n",
              "    </tr>\n",
              "    <tr>\n",
              "      <th>177307</th>\n",
              "      <td>Adventure to Peru's Sacred Valley</td>\n",
              "      <td>2200.0</td>\n",
              "      <td>Recording Soundtracks</td>\n",
              "      <td>Music</td>\n",
              "      <td>2200-01-01</td>\n",
              "      <td>NaT</td>\n",
              "      <td>adventure peru sacred valley</td>\n",
              "      <td>NaN</td>\n",
              "    </tr>\n",
              "  </tbody>\n",
              "</table>\n",
              "</div>"
            ],
            "text/plain": [
              "                                     name  ...  duration\n",
              "64370             CD: Heartsong Harmonics  ...       NaN\n",
              "85465                  Everyday Beautiful  ...       NaN\n",
              "98438               Hana Zara's new album  ...       NaN\n",
              "123282          Celebrating Joni Mitchell  ...       NaN\n",
              "159138                        Legal Highs  ...       NaN\n",
              "162774               Puppy Training Steps  ...       NaN\n",
              "177307  Adventure to Peru's Sacred Valley  ...       NaN\n",
              "\n",
              "[7 rows x 8 columns]"
            ]
          },
          "metadata": {
            "tags": []
          },
          "execution_count": 50
        }
      ]
    },
    {
      "cell_type": "markdown",
      "metadata": {
        "id": "_1lgeoPyXR0S",
        "colab_type": "text"
      },
      "source": [
        "There were 7 projects with missing values in launched/dealine columns. 5 of them were missing both launched date and deadline date. One project seemed to have a typo in in the launched date. Instead of filling the values in these two columns, I decided to only fill their missing duration by using the average duration from their corresponding main category\n",
        "\n",
        "Additionally, it was noticed that the values in the sub category in these projects seemed to be in the wrong column, which prompted for a cleaning on sub category"
      ]
    },
    {
      "cell_type": "code",
      "metadata": {
        "id": "BAbldn6lG6IE",
        "colab_type": "code",
        "colab": {
          "base_uri": "https://localhost:8080/"
        },
        "outputId": "68016dd5-2d3c-43d6-87ca-b014c9ee6625"
      },
      "source": [
        "# Examine the statistics of duration for each category\n",
        "df.groupby('main_category')['duration'].describe()"
      ],
      "execution_count": null,
      "outputs": [
        {
          "output_type": "execute_result",
          "data": {
            "text/html": [
              "<div>\n",
              "<style scoped>\n",
              "    .dataframe tbody tr th:only-of-type {\n",
              "        vertical-align: middle;\n",
              "    }\n",
              "\n",
              "    .dataframe tbody tr th {\n",
              "        vertical-align: top;\n",
              "    }\n",
              "\n",
              "    .dataframe thead th {\n",
              "        text-align: right;\n",
              "    }\n",
              "</style>\n",
              "<table border=\"1\" class=\"dataframe\">\n",
              "  <thead>\n",
              "    <tr style=\"text-align: right;\">\n",
              "      <th></th>\n",
              "      <th>count</th>\n",
              "      <th>mean</th>\n",
              "      <th>std</th>\n",
              "      <th>min</th>\n",
              "      <th>25%</th>\n",
              "      <th>50%</th>\n",
              "      <th>75%</th>\n",
              "      <th>max</th>\n",
              "    </tr>\n",
              "    <tr>\n",
              "      <th>main_category</th>\n",
              "      <th></th>\n",
              "      <th></th>\n",
              "      <th></th>\n",
              "      <th></th>\n",
              "      <th></th>\n",
              "      <th></th>\n",
              "      <th></th>\n",
              "      <th></th>\n",
              "    </tr>\n",
              "  </thead>\n",
              "  <tbody>\n",
              "    <tr>\n",
              "      <th>Art</th>\n",
              "      <td>23958.0</td>\n",
              "      <td>33.424785</td>\n",
              "      <td>96.585320</td>\n",
              "      <td>1.0</td>\n",
              "      <td>29.0</td>\n",
              "      <td>30.0</td>\n",
              "      <td>35.0</td>\n",
              "      <td>14835.0</td>\n",
              "    </tr>\n",
              "    <tr>\n",
              "      <th>Comics</th>\n",
              "      <td>8743.0</td>\n",
              "      <td>34.601739</td>\n",
              "      <td>12.291730</td>\n",
              "      <td>1.0</td>\n",
              "      <td>30.0</td>\n",
              "      <td>30.0</td>\n",
              "      <td>35.0</td>\n",
              "      <td>91.0</td>\n",
              "    </tr>\n",
              "    <tr>\n",
              "      <th>Crafts</th>\n",
              "      <td>7182.0</td>\n",
              "      <td>31.583821</td>\n",
              "      <td>11.120581</td>\n",
              "      <td>1.0</td>\n",
              "      <td>29.0</td>\n",
              "      <td>30.0</td>\n",
              "      <td>30.0</td>\n",
              "      <td>91.0</td>\n",
              "    </tr>\n",
              "    <tr>\n",
              "      <th>Dance</th>\n",
              "      <td>3372.0</td>\n",
              "      <td>32.856762</td>\n",
              "      <td>13.179159</td>\n",
              "      <td>1.0</td>\n",
              "      <td>27.0</td>\n",
              "      <td>30.0</td>\n",
              "      <td>36.0</td>\n",
              "      <td>91.0</td>\n",
              "    </tr>\n",
              "    <tr>\n",
              "      <th>Design</th>\n",
              "      <td>23864.0</td>\n",
              "      <td>35.056612</td>\n",
              "      <td>95.623765</td>\n",
              "      <td>1.0</td>\n",
              "      <td>30.0</td>\n",
              "      <td>30.0</td>\n",
              "      <td>40.0</td>\n",
              "      <td>14709.0</td>\n",
              "    </tr>\n",
              "    <tr>\n",
              "      <th>Fashion</th>\n",
              "      <td>18382.0</td>\n",
              "      <td>32.913829</td>\n",
              "      <td>10.996222</td>\n",
              "      <td>1.0</td>\n",
              "      <td>30.0</td>\n",
              "      <td>30.0</td>\n",
              "      <td>35.0</td>\n",
              "      <td>92.0</td>\n",
              "    </tr>\n",
              "    <tr>\n",
              "      <th>Film &amp; Video</th>\n",
              "      <td>57661.0</td>\n",
              "      <td>35.721146</td>\n",
              "      <td>88.218412</td>\n",
              "      <td>1.0</td>\n",
              "      <td>30.0</td>\n",
              "      <td>30.0</td>\n",
              "      <td>40.0</td>\n",
              "      <td>14867.0</td>\n",
              "    </tr>\n",
              "    <tr>\n",
              "      <th>Food</th>\n",
              "      <td>21198.0</td>\n",
              "      <td>33.874516</td>\n",
              "      <td>12.028528</td>\n",
              "      <td>1.0</td>\n",
              "      <td>30.0</td>\n",
              "      <td>30.0</td>\n",
              "      <td>35.0</td>\n",
              "      <td>91.0</td>\n",
              "    </tr>\n",
              "    <tr>\n",
              "      <th>Games</th>\n",
              "      <td>28004.0</td>\n",
              "      <td>32.758285</td>\n",
              "      <td>10.833211</td>\n",
              "      <td>1.0</td>\n",
              "      <td>30.0</td>\n",
              "      <td>30.0</td>\n",
              "      <td>33.0</td>\n",
              "      <td>91.0</td>\n",
              "    </tr>\n",
              "    <tr>\n",
              "      <th>Journalism</th>\n",
              "      <td>4069.0</td>\n",
              "      <td>34.416073</td>\n",
              "      <td>14.476531</td>\n",
              "      <td>1.0</td>\n",
              "      <td>30.0</td>\n",
              "      <td>30.0</td>\n",
              "      <td>39.0</td>\n",
              "      <td>91.0</td>\n",
              "    </tr>\n",
              "    <tr>\n",
              "      <th>Music</th>\n",
              "      <td>46718.0</td>\n",
              "      <td>35.689006</td>\n",
              "      <td>69.427243</td>\n",
              "      <td>1.0</td>\n",
              "      <td>30.0</td>\n",
              "      <td>30.0</td>\n",
              "      <td>40.0</td>\n",
              "      <td>14733.0</td>\n",
              "    </tr>\n",
              "    <tr>\n",
              "      <th>Photography</th>\n",
              "      <td>9664.0</td>\n",
              "      <td>33.817984</td>\n",
              "      <td>14.105701</td>\n",
              "      <td>1.0</td>\n",
              "      <td>30.0</td>\n",
              "      <td>30.0</td>\n",
              "      <td>36.0</td>\n",
              "      <td>91.0</td>\n",
              "    </tr>\n",
              "    <tr>\n",
              "      <th>Publishing</th>\n",
              "      <td>34221.0</td>\n",
              "      <td>34.399550</td>\n",
              "      <td>91.156143</td>\n",
              "      <td>1.0</td>\n",
              "      <td>30.0</td>\n",
              "      <td>30.0</td>\n",
              "      <td>35.0</td>\n",
              "      <td>16739.0</td>\n",
              "    </tr>\n",
              "    <tr>\n",
              "      <th>Technology</th>\n",
              "      <td>26116.0</td>\n",
              "      <td>35.307321</td>\n",
              "      <td>11.801608</td>\n",
              "      <td>1.0</td>\n",
              "      <td>30.0</td>\n",
              "      <td>30.0</td>\n",
              "      <td>40.0</td>\n",
              "      <td>91.0</td>\n",
              "    </tr>\n",
              "    <tr>\n",
              "      <th>Theater</th>\n",
              "      <td>9962.0</td>\n",
              "      <td>34.919293</td>\n",
              "      <td>148.256340</td>\n",
              "      <td>1.0</td>\n",
              "      <td>27.0</td>\n",
              "      <td>30.0</td>\n",
              "      <td>38.0</td>\n",
              "      <td>14761.0</td>\n",
              "    </tr>\n",
              "  </tbody>\n",
              "</table>\n",
              "</div>"
            ],
            "text/plain": [
              "                 count       mean         std  min   25%   50%   75%      max\n",
              "main_category                                                                \n",
              "Art            23958.0  33.424785   96.585320  1.0  29.0  30.0  35.0  14835.0\n",
              "Comics          8743.0  34.601739   12.291730  1.0  30.0  30.0  35.0     91.0\n",
              "Crafts          7182.0  31.583821   11.120581  1.0  29.0  30.0  30.0     91.0\n",
              "Dance           3372.0  32.856762   13.179159  1.0  27.0  30.0  36.0     91.0\n",
              "Design         23864.0  35.056612   95.623765  1.0  30.0  30.0  40.0  14709.0\n",
              "Fashion        18382.0  32.913829   10.996222  1.0  30.0  30.0  35.0     92.0\n",
              "Film & Video   57661.0  35.721146   88.218412  1.0  30.0  30.0  40.0  14867.0\n",
              "Food           21198.0  33.874516   12.028528  1.0  30.0  30.0  35.0     91.0\n",
              "Games          28004.0  32.758285   10.833211  1.0  30.0  30.0  33.0     91.0\n",
              "Journalism      4069.0  34.416073   14.476531  1.0  30.0  30.0  39.0     91.0\n",
              "Music          46718.0  35.689006   69.427243  1.0  30.0  30.0  40.0  14733.0\n",
              "Photography     9664.0  33.817984   14.105701  1.0  30.0  30.0  36.0     91.0\n",
              "Publishing     34221.0  34.399550   91.156143  1.0  30.0  30.0  35.0  16739.0\n",
              "Technology     26116.0  35.307321   11.801608  1.0  30.0  30.0  40.0     91.0\n",
              "Theater         9962.0  34.919293  148.256340  1.0  27.0  30.0  38.0  14761.0"
            ]
          },
          "metadata": {
            "tags": []
          },
          "execution_count": 13
        }
      ]
    },
    {
      "cell_type": "code",
      "metadata": {
        "id": "oE0DENMlLSwi",
        "colab_type": "code",
        "colab": {}
      },
      "source": [
        "# filling the missing duration by using the average duration of the project's category \n",
        "\n",
        "missing_val_idx = []\n",
        "fillna_val = []\n",
        "\n",
        "# extracting the index of data with missing duration value and assign the value to fill in a list\n",
        "for cat in df[df['duration'].isna()]['main_category'].unique():\n",
        "  missing_val_idx.append(df[(df['main_category']==cat) & (df['duration'].isna())].index)\n",
        "  fillna_val.append(df[(df['main_category']==cat)]['duration'].mean())\n",
        "\n",
        "# filling the missing values\n",
        "for cat_idx,val in zip(missing_val_idx,fillna_val):\n",
        "  for idx in cat_idx:\n",
        "    df.iloc[idx,-1] = val"
      ],
      "execution_count": null,
      "outputs": []
    },
    {
      "cell_type": "markdown",
      "metadata": {
        "id": "Qi-CS_bw7J32",
        "colab_type": "text"
      },
      "source": [
        "#### Sub category"
      ]
    },
    {
      "cell_type": "markdown",
      "metadata": {
        "id": "Tv1QRuw1d5Rr",
        "colab_type": "text"
      },
      "source": [
        "The first step was to examine the number of abnormal sub categories in each category"
      ]
    },
    {
      "cell_type": "code",
      "metadata": {
        "id": "dAdJzvRGdmZ0",
        "colab_type": "code",
        "colab": {
          "base_uri": "https://localhost:8080/",
          "height": 1000
        },
        "outputId": "e0ed79c7-1eb5-46e7-a42b-4c5075b3bf6b"
      },
      "source": [
        "for cat in df['main_category'].unique():\n",
        "  print('main category: ', cat)\n",
        "  print('')\n",
        "  print('number of project in each sub-category: \\n')\n",
        "  print(df[df['main_category']==cat]['sub_category'].value_counts().sort_values(ascending = True))\n",
        "  print('-----------------------------------')\n",
        "  print('')"
      ],
      "execution_count": 54,
      "outputs": [
        {
          "output_type": "stream",
          "text": [
            "main category:  Publishing\n",
            "\n",
            "number of project in each sub-category: \n",
            "\n",
            "Translations          127\n",
            "Literary Journals     218\n",
            "Calendars             243\n",
            "Anthologies           266\n",
            "Zines                 285\n",
            "Young Adult           652\n",
            "Academic              706\n",
            "Radio & Podcasts      802\n",
            "Periodicals          1142\n",
            "Poetry               1220\n",
            "Art Books            2224\n",
            "Publishing           5050\n",
            "Children's Books     5651\n",
            "Nonfiction           7404\n",
            "Fiction              8231\n",
            "Name: sub_category, dtype: int64\n",
            "-----------------------------------\n",
            "\n",
            "main category:  Film & Video\n",
            "\n",
            "number of project in each sub-category: \n",
            "\n",
            " a day in the life of a champion        1\n",
            " Right and Wrong                        1\n",
            " The Sobering Truth                     1\n",
            "Romance                               159\n",
            "Movie Theaters                        194\n",
            "Festivals                             228\n",
            "Fantasy                               273\n",
            "Family                                276\n",
            "Experimental                          460\n",
            "Music Videos                          593\n",
            "Thrillers                             597\n",
            "Science Fiction                       602\n",
            "Action                                606\n",
            "Television                            822\n",
            "Horror                               1034\n",
            "Drama                                1719\n",
            "Comedy                               1745\n",
            "Animation                            2264\n",
            "Narrative Film                       4963\n",
            "Webseries                            5347\n",
            "Film & Video                         9207\n",
            "Shorts                              11681\n",
            "Documentary                         14891\n",
            "Name: sub_category, dtype: int64\n",
            "-----------------------------------\n",
            "\n",
            "main category:  Music\n",
            "\n",
            "number of project in each sub-category: \n",
            "\n",
            " Marc & Mary sing together at last!        1\n",
            " Recording Soundtracks                     1\n",
            " Songs by & about her + Stories            1\n",
            " The North (2015)                          1\n",
            "Chiptune                                  33\n",
            "Latin                                    104\n",
            "Blues                                    226\n",
            "Kids                                     237\n",
            "Punk                                     261\n",
            "R&B                                      358\n",
            "Metal                                    623\n",
            "Faith                                    896\n",
            "Jazz                                    1664\n",
            "World Music                             1846\n",
            "Electronic Music                        1915\n",
            "Classical Music                         2378\n",
            "Pop                                     3032\n",
            "Hip-Hop                                 3474\n",
            "Country & Folk                          4047\n",
            "Indie Rock                              5372\n",
            "Rock                                    6345\n",
            "Music                                  13907\n",
            "Name: sub_category, dtype: int64\n",
            "-----------------------------------\n",
            "\n",
            "main category:  Food\n",
            "\n",
            "number of project in each sub-category: \n",
            "\n",
            "Bacon                  205\n",
            "Community Gardens      258\n",
            "Spaces                 329\n",
            "Farmer's Markets       351\n",
            "Vegan                  420\n",
            "Cookbooks              439\n",
            "Events                 562\n",
            "Farms                  969\n",
            "Food Trucks           1457\n",
            "Small Batch           1471\n",
            "Drinks                1909\n",
            "Restaurants           2295\n",
            "Food                 10533\n",
            "Name: sub_category, dtype: int64\n",
            "-----------------------------------\n",
            "\n",
            "main category:  Design\n",
            "\n",
            "number of project in each sub-category: \n",
            "\n",
            "Typography               79\n",
            "Civic Design            242\n",
            "Interactive Design      332\n",
            "Architecture            622\n",
            "Graphic Design         1658\n",
            "Design                 3455\n",
            "Product Design        17476\n",
            "Name: sub_category, dtype: int64\n",
            "-----------------------------------\n",
            "\n",
            "main category:  Crafts\n",
            "\n",
            "number of project in each sub-category: \n",
            "\n",
            "Taxidermy        11\n",
            "Letterpress      36\n",
            "Weaving          69\n",
            "Quilts           70\n",
            "Pottery          74\n",
            "Embroidery       85\n",
            "Glass           126\n",
            "Crochet         132\n",
            "Knitting        152\n",
            "Stationery      168\n",
            "Printing        184\n",
            "Candles         354\n",
            "DIY             920\n",
            "Woodworking     941\n",
            "Crafts         3860\n",
            "Name: sub_category, dtype: int64\n",
            "-----------------------------------\n",
            "\n",
            "main category:  Games\n",
            "\n",
            "number of project in each sub-category: \n",
            "\n",
            "Puzzles              185\n",
            "Gaming Hardware      330\n",
            "Live Games           857\n",
            "Mobile Games        1424\n",
            "Playing Cards       1762\n",
            "Games               2680\n",
            "Video Games        10058\n",
            "Tabletop Games     10708\n",
            "Name: sub_category, dtype: int64\n",
            "-----------------------------------\n",
            "\n",
            "main category:  Comics\n",
            "\n",
            "number of project in each sub-category: \n",
            "\n",
            "Events             131\n",
            "Anthologies        283\n",
            "Webcomics          470\n",
            "Graphic Novels    1362\n",
            "Comic Books       1866\n",
            "Comics            4631\n",
            "Name: sub_category, dtype: int64\n",
            "-----------------------------------\n",
            "\n",
            "main category:  Fashion\n",
            "\n",
            "number of project in each sub-category: \n",
            "\n",
            "Pet Fashion       107\n",
            "Couture           232\n",
            "Childrenswear     380\n",
            "Footwear          663\n",
            "Ready-to-wear     681\n",
            "Jewelry           878\n",
            "Accessories      2053\n",
            "Apparel          5478\n",
            "Fashion          7910\n",
            "Name: sub_category, dtype: int64\n",
            "-----------------------------------\n",
            "\n",
            "main category:  Theater\n",
            "\n",
            "number of project in each sub-category: \n",
            "\n",
            "Spaces           171\n",
            "Immersive        268\n",
            "Experimental     312\n",
            "Festivals        469\n",
            "Musical          761\n",
            "Plays           1148\n",
            "Theater         6833\n",
            "Name: sub_category, dtype: int64\n",
            "-----------------------------------\n",
            "\n",
            "main category:  Art\n",
            "\n",
            "number of project in each sub-category: \n",
            "\n",
            "Video Art           155\n",
            "Textiles            197\n",
            "Ceramics            228\n",
            "Installations       388\n",
            "Conceptual Art      913\n",
            "Digital Art        1117\n",
            "Sculpture          1624\n",
            "Performance Art    2014\n",
            "Illustration       2325\n",
            "Mixed Media        2395\n",
            "Public Art         2839\n",
            "Painting           2869\n",
            "Art                6894\n",
            "Name: sub_category, dtype: int64\n",
            "-----------------------------------\n",
            "\n",
            "main category:  Photography\n",
            "\n",
            "number of project in each sub-category: \n",
            "\n",
            "Animals         218\n",
            "Nature          489\n",
            "Fine Art        644\n",
            "Places          649\n",
            "People          945\n",
            "Photobooks     1209\n",
            "Photography    5510\n",
            "Name: sub_category, dtype: int64\n",
            "-----------------------------------\n",
            "\n",
            "main category:  Technology\n",
            "\n",
            "number of project in each sub-category: \n",
            "\n",
            "Makerspaces           193\n",
            "Fabrication Tools     195\n",
            "Space Exploration     259\n",
            "Camera Equipment      305\n",
            "Flight                360\n",
            "Robots                454\n",
            "Sound                 487\n",
            "3D Printing           556\n",
            "DIY Electronics       698\n",
            "Wearables             902\n",
            "Gadgets              2175\n",
            "Software             2555\n",
            "Hardware             3158\n",
            "Web                  3197\n",
            "Apps                 4860\n",
            "Technology           5762\n",
            "Name: sub_category, dtype: int64\n",
            "-----------------------------------\n",
            "\n",
            "main category:  Dance\n",
            "\n",
            "number of project in each sub-category: \n",
            "\n",
            "Residencies       54\n",
            "Workshops        131\n",
            "Spaces           149\n",
            "Performances     815\n",
            "Dance           2223\n",
            "Name: sub_category, dtype: int64\n",
            "-----------------------------------\n",
            "\n",
            "main category:  Journalism\n",
            "\n",
            "number of project in each sub-category: \n",
            "\n",
            "Photo          170\n",
            "Audio          320\n",
            "Video          337\n",
            "Print          600\n",
            "Web           1023\n",
            "Journalism    1619\n",
            "Name: sub_category, dtype: int64\n",
            "-----------------------------------\n",
            "\n"
          ],
          "name": "stdout"
        }
      ]
    },
    {
      "cell_type": "markdown",
      "metadata": {
        "id": "C1Xqb01vegwK",
        "colab_type": "text"
      },
      "source": [
        "Because there were not many outliers (less than 10 in total), so I decided to replace them with the most common sub category within the corresponding main category"
      ]
    },
    {
      "cell_type": "code",
      "metadata": {
        "id": "o_WXpTWq7M2a",
        "colab_type": "code",
        "colab": {}
      },
      "source": [
        "sub_cat_rename_dict = dict()\n",
        "\n",
        "for cat in df['main_category'].unique():\n",
        "  sub_cat_mode =  df[df['main_category']==cat]['sub_category'].value_counts(ascending=False).index[0]\n",
        "\n",
        "  for sub_cat in df[df['main_category']==cat]['sub_category'].unique():\n",
        "    if len(df[(df['main_category']==cat) & (df['sub_category'] == sub_cat)].values) <10:\n",
        "      sub_cat_rename_dict[sub_cat] = sub_cat_mode\n",
        "\n",
        "df['processed_sub_category']= df['sub_category'].replace(sub_cat_rename_dict)"
      ],
      "execution_count": 55,
      "outputs": []
    },
    {
      "cell_type": "markdown",
      "metadata": {
        "id": "s_tuCX6uTIwi",
        "colab_type": "text"
      },
      "source": [
        "## Features Extraction and Exploratory analysis"
      ]
    },
    {
      "cell_type": "markdown",
      "metadata": {
        "id": "yC6iu4avWmdM",
        "colab_type": "text"
      },
      "source": [
        "#### Distribution of main category"
      ]
    },
    {
      "cell_type": "code",
      "metadata": {
        "id": "rR1Q69yRUTvC",
        "colab_type": "code",
        "colab": {
          "base_uri": "https://localhost:8080/"
        },
        "outputId": "500efddd-bf67-451d-9c7c-e785db93b7b1"
      },
      "source": [
        "plt.figure(figsize=(8,4))\n",
        "df['main_category'].value_counts(ascending=True).plot(kind='barh')\n",
        "plt.title('main category distribution')"
      ],
      "execution_count": null,
      "outputs": [
        {
          "output_type": "execute_result",
          "data": {
            "text/plain": [
              "Text(0.5, 1.0, 'main category distribution')"
            ]
          },
          "metadata": {
            "tags": []
          },
          "execution_count": 16
        },
        {
          "output_type": "display_data",
          "data": {
            "image/png": "[encoded data removed]",
            "text/plain": [
              "<Figure size 576x288 with 1 Axes>"
            ]
          },
          "metadata": {
            "tags": [],
            "needs_background": "light"
          }
        }
      ]
    },
    {
      "cell_type": "markdown",
      "metadata": {
        "id": "OScUNJc8Wufo",
        "colab_type": "text"
      },
      "source": [
        "**Observation:** It's is obvious that there is a class imbalance issue. The dominant categories outnumber the lowest amount category by more than 10 folds. A potential remedy for the issue is to perform re-sampling"
      ]
    },
    {
      "cell_type": "markdown",
      "metadata": {
        "id": "W_rQ7pZBiNn_",
        "colab_type": "text"
      },
      "source": [
        "#### Project Title name"
      ]
    },
    {
      "cell_type": "markdown",
      "metadata": {
        "id": "Q0ly3iAJD6oo",
        "colab_type": "text"
      },
      "source": [
        "There were 3 quantitative exploratory analyses for the project title names:\n",
        "\n",
        "- number of word of each project title, \n",
        "- number of word with first letter in uppercase, \n",
        "- number of word in uppercase. \n",
        "\n",
        "If any of the above feature could help distinguish categories from one another, they could be incorporated into the predictors \n",
        "\n",
        "Additionally, it was noticed that some project titles were framed as a question, so it would be interesting to study if it was a preferred patten in certain categories "
      ]
    },
    {
      "cell_type": "code",
      "metadata": {
        "id": "2YYTA8r2sA_r",
        "colab_type": "code",
        "colab": {}
      },
      "source": [
        "punct_no_question_mark = set(string.punctuation)\n",
        "punct_no_question_mark.remove('?')\n",
        "\n",
        "def is_question(name):\n",
        "  num_question_sent = 0\n",
        "  name = sent_tokenize(name.replace(\"\\\"\",''))\n",
        "  name = [sent for sent in name if len(sent) >1]\n",
        "  for sent in name:\n",
        "    sent = ' '.join(word for word in word_tokenize(sent) if word not in punct_no_question_mark)\n",
        "    if( len(sent) > 0) and (sent[-1] == '?'):\n",
        "      num_question_sent +=1\n",
        "    \n",
        "    if num_question_sent>0:\n",
        "      return True\n",
        "    else:\n",
        "      return False"
      ],
      "execution_count": null,
      "outputs": []
    },
    {
      "cell_type": "code",
      "metadata": {
        "id": "pVpx7yBpiMk4",
        "colab_type": "code",
        "colab": {}
      },
      "source": [
        "df['num_word']= df['name'].apply(lambda x: len(word_tokenize(x)))\n",
        "df['num_1st_letter_uppercase'] = df['name'].apply(lambda x: sum(word[0].isupper() for word in word_tokenize(x)))\n",
        "df['num_capword'] = df['name'].apply(lambda x: sum(word.isupper() for word in word_tokenize(x)))\n",
        "df['name_is_question'] = df['name'].apply(lambda x: is_question(x))"
      ],
      "execution_count": null,
      "outputs": []
    },
    {
      "cell_type": "code",
      "metadata": {
        "id": "fJrTR8HlGpv2",
        "colab_type": "code",
        "colab": {
          "base_uri": "https://localhost:8080/"
        },
        "outputId": "6aaba7fe-d863-4245-d982-a6f5e9e3906e"
      },
      "source": [
        "fig= plt.figure(figsize=(20,4))\n",
        "ax = fig.add_subplot(111)\n",
        "df.groupby('main_category')[['num_word','num_1st_letter_uppercase','num_capword']].mean().plot(kind='bar',ax=ax)\n",
        "plt.xticks(rotation=360)\n",
        "plt.title('statics of project name in each main category')"
      ],
      "execution_count": null,
      "outputs": [
        {
          "output_type": "execute_result",
          "data": {
            "text/plain": [
              "Text(0.5, 1.0, 'statics of project name in each main category')"
            ]
          },
          "metadata": {
            "tags": []
          },
          "execution_count": 19
        },
        {
          "output_type": "display_data",
          "data": {
            "image/png": "[encoded data removed]",
            "text/plain": [
              "<Figure size 1440x288 with 1 Axes>"
            ]
          },
          "metadata": {
            "tags": [],
            "needs_background": "light"
          }
        }
      ]
    },
    {
      "cell_type": "markdown",
      "metadata": {
        "id": "Vnc2SvleH4Wa",
        "colab_type": "text"
      },
      "source": [
        "**Observation:** All categories were similar in 3 quantitative aspects, so these aspects did not seem to be indicative for classification"
      ]
    },
    {
      "cell_type": "code",
      "metadata": {
        "id": "_Gl6oFLUcDt1",
        "colab_type": "code",
        "colab": {
          "base_uri": "https://localhost:8080/"
        },
        "outputId": "7722a9e2-fd7b-4fa9-c220-c4972d9a76e9"
      },
      "source": [
        "##df['name_is_question'] = df['name_is_question'].map({True:int(1),False:int(0)}).astype('category')\n",
        "\n",
        "fig= plt.figure(figsize=(20,4))\n",
        "ax = fig.add_subplot(111)\n",
        "\n",
        "df.groupby('main_category')['name_is_question'].sum().sort_values().plot(kind='bar',ax=ax)\n",
        "plt.xticks(rotation=360)\n",
        "plt.title('number of project with a question sense in each main category')"
      ],
      "execution_count": null,
      "outputs": [
        {
          "output_type": "execute_result",
          "data": {
            "text/plain": [
              "Text(0.5, 1.0, 'number of project with a question sense in each main category')"
            ]
          },
          "metadata": {
            "tags": []
          },
          "execution_count": 20
        },
        {
          "output_type": "display_data",
          "data": {
            "image/png": "[encoded data removed]",
            "text/plain": [
              "<Figure size 1440x288 with 1 Axes>"
            ]
          },
          "metadata": {
            "tags": [],
            "needs_background": "light"
          }
        }
      ]
    },
    {
      "cell_type": "markdown",
      "metadata": {
        "id": "Wp4FwSD2JhwL",
        "colab_type": "text"
      },
      "source": [
        "**Observation**: The Film & Video, Publishing, and Music categories had relatively more projects with a question sense than the rest of the categories. However, the highest number was still only around 700, it might not be very helpful to use indicator as  one of the predictors "
      ]
    },
    {
      "cell_type": "markdown",
      "metadata": {
        "id": "azzingfmWsH3",
        "colab_type": "text"
      },
      "source": [
        "#### Project goal"
      ]
    },
    {
      "cell_type": "code",
      "metadata": {
        "id": "QEDD-tRU7yqN",
        "colab_type": "code",
        "colab": {
          "base_uri": "https://localhost:8080/"
        },
        "outputId": "436c6b01-d015-49e9-d520-422e3adf3c79"
      },
      "source": [
        "df.groupby('main_category')['goal'].describe()"
      ],
      "execution_count": null,
      "outputs": [
        {
          "output_type": "execute_result",
          "data": {
            "text/html": [
              "<div>\n",
              "<style scoped>\n",
              "    .dataframe tbody tr th:only-of-type {\n",
              "        vertical-align: middle;\n",
              "    }\n",
              "\n",
              "    .dataframe tbody tr th {\n",
              "        vertical-align: top;\n",
              "    }\n",
              "\n",
              "    .dataframe thead th {\n",
              "        text-align: right;\n",
              "    }\n",
              "</style>\n",
              "<table border=\"1\" class=\"dataframe\">\n",
              "  <thead>\n",
              "    <tr style=\"text-align: right;\">\n",
              "      <th></th>\n",
              "      <th>count</th>\n",
              "      <th>mean</th>\n",
              "      <th>std</th>\n",
              "      <th>min</th>\n",
              "      <th>25%</th>\n",
              "      <th>50%</th>\n",
              "      <th>75%</th>\n",
              "      <th>max</th>\n",
              "    </tr>\n",
              "    <tr>\n",
              "      <th>main_category</th>\n",
              "      <th></th>\n",
              "      <th></th>\n",
              "      <th></th>\n",
              "      <th></th>\n",
              "      <th></th>\n",
              "      <th></th>\n",
              "      <th></th>\n",
              "      <th></th>\n",
              "    </tr>\n",
              "  </thead>\n",
              "  <tbody>\n",
              "    <tr>\n",
              "      <th>Art</th>\n",
              "      <td>23958.0</td>\n",
              "      <td>36413.842416</td>\n",
              "      <td>1.181711e+06</td>\n",
              "      <td>0.01</td>\n",
              "      <td>1000.000</td>\n",
              "      <td>3000.0</td>\n",
              "      <td>7500.00</td>\n",
              "      <td>100000000.0</td>\n",
              "    </tr>\n",
              "    <tr>\n",
              "      <th>Comics</th>\n",
              "      <td>8743.0</td>\n",
              "      <td>22910.229817</td>\n",
              "      <td>1.080410e+06</td>\n",
              "      <td>1.00</td>\n",
              "      <td>1500.000</td>\n",
              "      <td>3840.0</td>\n",
              "      <td>8475.00</td>\n",
              "      <td>100000000.0</td>\n",
              "    </tr>\n",
              "    <tr>\n",
              "      <th>Crafts</th>\n",
              "      <td>7182.0</td>\n",
              "      <td>11710.819618</td>\n",
              "      <td>1.300150e+05</td>\n",
              "      <td>1.00</td>\n",
              "      <td>644.125</td>\n",
              "      <td>2000.0</td>\n",
              "      <td>6500.00</td>\n",
              "      <td>10000000.0</td>\n",
              "    </tr>\n",
              "    <tr>\n",
              "      <th>Dance</th>\n",
              "      <td>3372.0</td>\n",
              "      <td>9719.983778</td>\n",
              "      <td>5.585464e+04</td>\n",
              "      <td>5.00</td>\n",
              "      <td>1500.000</td>\n",
              "      <td>3000.0</td>\n",
              "      <td>6400.00</td>\n",
              "      <td>2000000.0</td>\n",
              "    </tr>\n",
              "    <tr>\n",
              "      <th>Design</th>\n",
              "      <td>23864.0</td>\n",
              "      <td>49202.222047</td>\n",
              "      <td>1.008286e+06</td>\n",
              "      <td>1.00</td>\n",
              "      <td>4118.000</td>\n",
              "      <td>10000.0</td>\n",
              "      <td>30000.00</td>\n",
              "      <td>100000000.0</td>\n",
              "    </tr>\n",
              "    <tr>\n",
              "      <th>Fashion</th>\n",
              "      <td>18382.0</td>\n",
              "      <td>24751.340162</td>\n",
              "      <td>7.605822e+05</td>\n",
              "      <td>1.00</td>\n",
              "      <td>2000.000</td>\n",
              "      <td>6000.0</td>\n",
              "      <td>15000.00</td>\n",
              "      <td>100000000.0</td>\n",
              "    </tr>\n",
              "    <tr>\n",
              "      <th>Film &amp; Video</th>\n",
              "      <td>57664.0</td>\n",
              "      <td>72986.051066</td>\n",
              "      <td>1.463831e+06</td>\n",
              "      <td>0.15</td>\n",
              "      <td>2500.000</td>\n",
              "      <td>6500.0</td>\n",
              "      <td>20000.00</td>\n",
              "      <td>100000000.0</td>\n",
              "    </tr>\n",
              "    <tr>\n",
              "      <th>Food</th>\n",
              "      <td>21198.0</td>\n",
              "      <td>50572.268969</td>\n",
              "      <td>1.027043e+06</td>\n",
              "      <td>1.00</td>\n",
              "      <td>3500.000</td>\n",
              "      <td>10000.0</td>\n",
              "      <td>25000.00</td>\n",
              "      <td>100000000.0</td>\n",
              "    </tr>\n",
              "    <tr>\n",
              "      <th>Games</th>\n",
              "      <td>28004.0</td>\n",
              "      <td>55624.263327</td>\n",
              "      <td>1.143162e+06</td>\n",
              "      <td>1.00</td>\n",
              "      <td>2800.000</td>\n",
              "      <td>8706.0</td>\n",
              "      <td>24711.25</td>\n",
              "      <td>100000000.0</td>\n",
              "    </tr>\n",
              "    <tr>\n",
              "      <th>Journalism</th>\n",
              "      <td>4069.0</td>\n",
              "      <td>95423.538285</td>\n",
              "      <td>2.322291e+06</td>\n",
              "      <td>1.00</td>\n",
              "      <td>1500.000</td>\n",
              "      <td>5000.0</td>\n",
              "      <td>15000.00</td>\n",
              "      <td>100000000.0</td>\n",
              "    </tr>\n",
              "    <tr>\n",
              "      <th>Music</th>\n",
              "      <td>46722.0</td>\n",
              "      <td>15311.559918</td>\n",
              "      <td>3.671670e+05</td>\n",
              "      <td>1.00</td>\n",
              "      <td>1600.000</td>\n",
              "      <td>4000.0</td>\n",
              "      <td>8500.00</td>\n",
              "      <td>50000000.0</td>\n",
              "    </tr>\n",
              "    <tr>\n",
              "      <th>Photography</th>\n",
              "      <td>9664.0</td>\n",
              "      <td>12719.892540</td>\n",
              "      <td>1.479436e+05</td>\n",
              "      <td>1.00</td>\n",
              "      <td>1500.000</td>\n",
              "      <td>4000.0</td>\n",
              "      <td>10000.00</td>\n",
              "      <td>10000000.0</td>\n",
              "    </tr>\n",
              "    <tr>\n",
              "      <th>Publishing</th>\n",
              "      <td>34221.0</td>\n",
              "      <td>30662.741736</td>\n",
              "      <td>1.170785e+06</td>\n",
              "      <td>0.01</td>\n",
              "      <td>2000.000</td>\n",
              "      <td>5000.0</td>\n",
              "      <td>10000.00</td>\n",
              "      <td>100000000.0</td>\n",
              "    </tr>\n",
              "    <tr>\n",
              "      <th>Technology</th>\n",
              "      <td>26116.0</td>\n",
              "      <td>116349.361663</td>\n",
              "      <td>1.747727e+06</td>\n",
              "      <td>1.00</td>\n",
              "      <td>5000.000</td>\n",
              "      <td>20000.0</td>\n",
              "      <td>50000.00</td>\n",
              "      <td>100000000.0</td>\n",
              "    </tr>\n",
              "    <tr>\n",
              "      <th>Theater</th>\n",
              "      <td>9962.0</td>\n",
              "      <td>26501.276311</td>\n",
              "      <td>5.496680e+05</td>\n",
              "      <td>1.00</td>\n",
              "      <td>1500.000</td>\n",
              "      <td>3000.0</td>\n",
              "      <td>7500.00</td>\n",
              "      <td>40000000.0</td>\n",
              "    </tr>\n",
              "  </tbody>\n",
              "</table>\n",
              "</div>"
            ],
            "text/plain": [
              "                 count           mean  ...       75%          max\n",
              "main_category                          ...                       \n",
              "Art            23958.0   36413.842416  ...   7500.00  100000000.0\n",
              "Comics          8743.0   22910.229817  ...   8475.00  100000000.0\n",
              "Crafts          7182.0   11710.819618  ...   6500.00   10000000.0\n",
              "Dance           3372.0    9719.983778  ...   6400.00    2000000.0\n",
              "Design         23864.0   49202.222047  ...  30000.00  100000000.0\n",
              "Fashion        18382.0   24751.340162  ...  15000.00  100000000.0\n",
              "Film & Video   57664.0   72986.051066  ...  20000.00  100000000.0\n",
              "Food           21198.0   50572.268969  ...  25000.00  100000000.0\n",
              "Games          28004.0   55624.263327  ...  24711.25  100000000.0\n",
              "Journalism      4069.0   95423.538285  ...  15000.00  100000000.0\n",
              "Music          46722.0   15311.559918  ...   8500.00   50000000.0\n",
              "Photography     9664.0   12719.892540  ...  10000.00   10000000.0\n",
              "Publishing     34221.0   30662.741736  ...  10000.00  100000000.0\n",
              "Technology     26116.0  116349.361663  ...  50000.00  100000000.0\n",
              "Theater         9962.0   26501.276311  ...   7500.00   40000000.0\n",
              "\n",
              "[15 rows x 8 columns]"
            ]
          },
          "metadata": {
            "tags": []
          },
          "execution_count": 21
        }
      ]
    },
    {
      "cell_type": "code",
      "metadata": {
        "id": "M71oplMF_SKf",
        "colab_type": "code",
        "colab": {
          "base_uri": "https://localhost:8080/"
        },
        "outputId": "cf3fd4be-631b-48b9-e983-8b88554e47ef"
      },
      "source": [
        "plt.figure(figsize=(14,4))\n",
        "sns.boxplot(x='goal',y='main_category',data=df,orient='h')\n",
        "plt.title('distribution of poject goal per main category')"
      ],
      "execution_count": null,
      "outputs": [
        {
          "output_type": "execute_result",
          "data": {
            "text/plain": [
              "Text(0.5, 1.0, 'distribution of poject goal per main category')"
            ]
          },
          "metadata": {
            "tags": []
          },
          "execution_count": 22
        },
        {
          "output_type": "display_data",
          "data": {
            "image/png": "[encoded data removed]",
            "text/plain": [
              "<Figure size 1008x288 with 1 Axes>"
            ]
          },
          "metadata": {
            "tags": [],
            "needs_background": "light"
          }
        }
      ]
    },
    {
      "cell_type": "markdown",
      "metadata": {
        "id": "aw45XwtSL2u8",
        "colab_type": "text"
      },
      "source": [
        "**Observation**: the boxplot above showed that there were quite a few extreme outliers, so this feature required further processing"
      ]
    },
    {
      "cell_type": "code",
      "metadata": {
        "id": "6FJcamyA73a6",
        "colab_type": "code",
        "colab": {
          "base_uri": "https://localhost:8080/"
        },
        "outputId": "e1fec3b3-3d69-43f6-b5e5-536b70813181"
      },
      "source": [
        "cat_list = df['main_category'].unique()\n",
        "plt.figure(figsize=(8,4))\n",
        "fig = plt.figure(figsize=(20,20))\n",
        "for i in range(df['main_category'].nunique()):\n",
        "    ax = fig.add_subplot(4, 4, i+1)\n",
        "    ax = plt.hist(df[df['main_category'] == cat_list[i]]['goal'],\n",
        "                  bins=10,\n",
        "                  range=(0,df[df['main_category'] == cat_list[i]]['goal'].quantile(0.75)*1.5))\n",
        "    \n",
        "    plt.title(cat_list[i])\n",
        "    plt.xlabel('goal')"
      ],
      "execution_count": null,
      "outputs": [
        {
          "output_type": "display_data",
          "data": {
            "text/plain": [
              "<Figure size 576x288 with 0 Axes>"
            ]
          },
          "metadata": {
            "tags": []
          }
        },
        {
          "output_type": "display_data",
          "data": {
            "image/png": "[encoded data removed]",
            "text/plain": [
              "<Figure size 1440x1440 with 15 Axes>"
            ]
          },
          "metadata": {
            "tags": [],
            "needs_background": "light"
          }
        }
      ]
    },
    {
      "cell_type": "markdown",
      "metadata": {
        "id": "sQTkp2EvOGAl",
        "colab_type": "text"
      },
      "source": [
        "**Observation**: The distribution of each category showed that the data was right-skewed. Thus, it seemed a log transfromation of the this feature would be a way to resolve the outliers and right skewed distribution issues. "
      ]
    },
    {
      "cell_type": "code",
      "metadata": {
        "id": "ypEK9VIgwfKM",
        "colab_type": "code",
        "colab": {
          "base_uri": "https://localhost:8080/"
        },
        "outputId": "c5ae0886-5a7f-413d-85c6-6fb5ca9f5945"
      },
      "source": [
        "df['log_goal'] = df['goal'].apply(lambda x: np.log1p(x))\n",
        "\n",
        "plt.figure(figsize=(8,4))\n",
        "fig = plt.figure(figsize=(20,20))\n",
        "for i in range(df['main_category'].nunique()):\n",
        "    ax = fig.add_subplot(4, 4, i+1)\n",
        "    ax = plt.hist(df[df['main_category'] == cat_list[i]]['log_goal'],\n",
        "                  bins=10)\n",
        "    \n",
        "    plt.title(cat_list[i])\n",
        "    plt.xlabel('goal')"
      ],
      "execution_count": null,
      "outputs": [
        {
          "output_type": "display_data",
          "data": {
            "text/plain": [
              "<Figure size 576x288 with 0 Axes>"
            ]
          },
          "metadata": {
            "tags": []
          }
        },
        {
          "output_type": "display_data",
          "data": {
            "image/png": "[encoded data removed]",
            "text/plain": [
              "<Figure size 1440x1440 with 15 Axes>"
            ]
          },
          "metadata": {
            "tags": [],
            "needs_background": "light"
          }
        }
      ]
    },
    {
      "cell_type": "markdown",
      "metadata": {
        "id": "C7XMW6BAPCLI",
        "colab_type": "text"
      },
      "source": [
        "After performing the log transformation, the distributions were more normally distriubted"
      ]
    },
    {
      "cell_type": "markdown",
      "metadata": {
        "id": "M_7fYpUeXtJl",
        "colab_type": "text"
      },
      "source": [
        "#### Sub-category"
      ]
    },
    {
      "cell_type": "code",
      "metadata": {
        "id": "FaQ797XgX2fM",
        "colab_type": "code",
        "colab": {
          "base_uri": "https://localhost:8080/"
        },
        "outputId": "d58ccd5d-9418-4f45-c465-57108fe67803"
      },
      "source": [
        "for cat in df['main_category'].unique():\n",
        "  print('main category: ', cat)\n",
        "  print('')\n",
        "  print('number of subcategory: ', df[df['main_category']==cat]['processed_sub_category'].nunique())\n",
        "  print('')\n",
        "  print('number of project in each sub-category: \\n')\n",
        "  print(df[df['main_category']==cat]['processed_sub_category'].value_counts())\n",
        "  print('-----------------------------------')\n",
        "  print('')"
      ],
      "execution_count": null,
      "outputs": [
        {
          "output_type": "stream",
          "text": [
            "main category:  Publishing\n",
            "\n",
            "number of subcategory:  15\n",
            "\n",
            "number of project in each sub-category: \n",
            "\n",
            "Fiction              8231\n",
            "Nonfiction           7404\n",
            "Children's Books     5651\n",
            "Publishing           5050\n",
            "Art Books            2224\n",
            "Poetry               1220\n",
            "Periodicals          1142\n",
            "Radio & Podcasts      802\n",
            "Academic              706\n",
            "Young Adult           652\n",
            "Zines                 285\n",
            "Anthologies           266\n",
            "Calendars             243\n",
            "Literary Journals     218\n",
            "Translations          127\n",
            "Name: processed_sub_category, dtype: int64\n",
            "-----------------------------------\n",
            "\n",
            "main category:  Film & Video\n",
            "\n",
            "number of subcategory:  20\n",
            "\n",
            "number of project in each sub-category: \n",
            "\n",
            "Documentary        14894\n",
            "Shorts             11681\n",
            "Film & Video        9207\n",
            "Webseries           5347\n",
            "Narrative Film      4963\n",
            "Animation           2264\n",
            "Comedy              1745\n",
            "Drama               1719\n",
            "Horror              1034\n",
            "Television           822\n",
            "Action               606\n",
            "Science Fiction      602\n",
            "Thrillers            597\n",
            "Music Videos         593\n",
            "Experimental         460\n",
            "Family               276\n",
            "Fantasy              273\n",
            "Festivals            228\n",
            "Movie Theaters       194\n",
            "Romance              159\n",
            "Name: processed_sub_category, dtype: int64\n",
            "-----------------------------------\n",
            "\n",
            "main category:  Music\n",
            "\n",
            "number of subcategory:  18\n",
            "\n",
            "number of project in each sub-category: \n",
            "\n",
            "Music               13911\n",
            "Rock                 6345\n",
            "Indie Rock           5372\n",
            "Country & Folk       4047\n",
            "Hip-Hop              3474\n",
            "Pop                  3032\n",
            "Classical Music      2378\n",
            "Electronic Music     1915\n",
            "World Music          1846\n",
            "Jazz                 1664\n",
            "Faith                 896\n",
            "Metal                 623\n",
            "R&B                   358\n",
            "Punk                  261\n",
            "Kids                  237\n",
            "Blues                 226\n",
            "Latin                 104\n",
            "Chiptune               33\n",
            "Name: processed_sub_category, dtype: int64\n",
            "-----------------------------------\n",
            "\n",
            "main category:  Food\n",
            "\n",
            "number of subcategory:  13\n",
            "\n",
            "number of project in each sub-category: \n",
            "\n",
            "Food                 10533\n",
            "Restaurants           2295\n",
            "Drinks                1909\n",
            "Small Batch           1471\n",
            "Food Trucks           1457\n",
            "Farms                  969\n",
            "Events                 562\n",
            "Cookbooks              439\n",
            "Vegan                  420\n",
            "Farmer's Markets       351\n",
            "Spaces                 329\n",
            "Community Gardens      258\n",
            "Bacon                  205\n",
            "Name: processed_sub_category, dtype: int64\n",
            "-----------------------------------\n",
            "\n",
            "main category:  Design\n",
            "\n",
            "number of subcategory:  7\n",
            "\n",
            "number of project in each sub-category: \n",
            "\n",
            "Product Design        17476\n",
            "Design                 3455\n",
            "Graphic Design         1658\n",
            "Architecture            622\n",
            "Interactive Design      332\n",
            "Civic Design            242\n",
            "Typography               79\n",
            "Name: processed_sub_category, dtype: int64\n",
            "-----------------------------------\n",
            "\n",
            "main category:  Crafts\n",
            "\n",
            "number of subcategory:  15\n",
            "\n",
            "number of project in each sub-category: \n",
            "\n",
            "Crafts         3860\n",
            "Woodworking     941\n",
            "DIY             920\n",
            "Candles         354\n",
            "Printing        184\n",
            "Stationery      168\n",
            "Knitting        152\n",
            "Crochet         132\n",
            "Glass           126\n",
            "Embroidery       85\n",
            "Pottery          74\n",
            "Quilts           70\n",
            "Weaving          69\n",
            "Letterpress      36\n",
            "Taxidermy        11\n",
            "Name: processed_sub_category, dtype: int64\n",
            "-----------------------------------\n",
            "\n",
            "main category:  Games\n",
            "\n",
            "number of subcategory:  8\n",
            "\n",
            "number of project in each sub-category: \n",
            "\n",
            "Tabletop Games     10708\n",
            "Video Games        10058\n",
            "Games               2680\n",
            "Playing Cards       1762\n",
            "Mobile Games        1424\n",
            "Live Games           857\n",
            "Gaming Hardware      330\n",
            "Puzzles              185\n",
            "Name: processed_sub_category, dtype: int64\n",
            "-----------------------------------\n",
            "\n",
            "main category:  Comics\n",
            "\n",
            "number of subcategory:  6\n",
            "\n",
            "number of project in each sub-category: \n",
            "\n",
            "Comics            4631\n",
            "Comic Books       1866\n",
            "Graphic Novels    1362\n",
            "Webcomics          470\n",
            "Anthologies        283\n",
            "Events             131\n",
            "Name: processed_sub_category, dtype: int64\n",
            "-----------------------------------\n",
            "\n",
            "main category:  Fashion\n",
            "\n",
            "number of subcategory:  9\n",
            "\n",
            "number of project in each sub-category: \n",
            "\n",
            "Fashion          7910\n",
            "Apparel          5478\n",
            "Accessories      2053\n",
            "Jewelry           878\n",
            "Ready-to-wear     681\n",
            "Footwear          663\n",
            "Childrenswear     380\n",
            "Couture           232\n",
            "Pet Fashion       107\n",
            "Name: processed_sub_category, dtype: int64\n",
            "-----------------------------------\n",
            "\n",
            "main category:  Theater\n",
            "\n",
            "number of subcategory:  7\n",
            "\n",
            "number of project in each sub-category: \n",
            "\n",
            "Theater         6833\n",
            "Plays           1148\n",
            "Musical          761\n",
            "Festivals        469\n",
            "Experimental     312\n",
            "Immersive        268\n",
            "Spaces           171\n",
            "Name: processed_sub_category, dtype: int64\n",
            "-----------------------------------\n",
            "\n",
            "main category:  Art\n",
            "\n",
            "number of subcategory:  13\n",
            "\n",
            "number of project in each sub-category: \n",
            "\n",
            "Art                6894\n",
            "Painting           2869\n",
            "Public Art         2839\n",
            "Mixed Media        2395\n",
            "Illustration       2325\n",
            "Performance Art    2014\n",
            "Sculpture          1624\n",
            "Digital Art        1117\n",
            "Conceptual Art      913\n",
            "Installations       388\n",
            "Ceramics            228\n",
            "Textiles            197\n",
            "Video Art           155\n",
            "Name: processed_sub_category, dtype: int64\n",
            "-----------------------------------\n",
            "\n",
            "main category:  Photography\n",
            "\n",
            "number of subcategory:  7\n",
            "\n",
            "number of project in each sub-category: \n",
            "\n",
            "Photography    5510\n",
            "Photobooks     1209\n",
            "People          945\n",
            "Places          649\n",
            "Fine Art        644\n",
            "Nature          489\n",
            "Animals         218\n",
            "Name: processed_sub_category, dtype: int64\n",
            "-----------------------------------\n",
            "\n",
            "main category:  Technology\n",
            "\n",
            "number of subcategory:  16\n",
            "\n",
            "number of project in each sub-category: \n",
            "\n",
            "Technology           5762\n",
            "Apps                 4860\n",
            "Web                  3197\n",
            "Hardware             3158\n",
            "Software             2555\n",
            "Gadgets              2175\n",
            "Wearables             902\n",
            "DIY Electronics       698\n",
            "3D Printing           556\n",
            "Sound                 487\n",
            "Robots                454\n",
            "Flight                360\n",
            "Camera Equipment      305\n",
            "Space Exploration     259\n",
            "Fabrication Tools     195\n",
            "Makerspaces           193\n",
            "Name: processed_sub_category, dtype: int64\n",
            "-----------------------------------\n",
            "\n",
            "main category:  Dance\n",
            "\n",
            "number of subcategory:  5\n",
            "\n",
            "number of project in each sub-category: \n",
            "\n",
            "Dance           2223\n",
            "Performances     815\n",
            "Spaces           149\n",
            "Workshops        131\n",
            "Residencies       54\n",
            "Name: processed_sub_category, dtype: int64\n",
            "-----------------------------------\n",
            "\n",
            "main category:  Journalism\n",
            "\n",
            "number of subcategory:  6\n",
            "\n",
            "number of project in each sub-category: \n",
            "\n",
            "Journalism    1619\n",
            "Web           1023\n",
            "Print          600\n",
            "Video          337\n",
            "Audio          320\n",
            "Photo          170\n",
            "Name: processed_sub_category, dtype: int64\n",
            "-----------------------------------\n",
            "\n"
          ],
          "name": "stdout"
        }
      ]
    },
    {
      "cell_type": "markdown",
      "metadata": {
        "id": "gJG7paBpPkC3",
        "colab_type": "text"
      },
      "source": [
        "**Observation**: Most main categories had distinct sub-categories. This would surely help classify the projects into their appropriate main categories because of their specificity. The only concern was for the Journalism category as its sub categories overlapped with other main categories, for instance, both Technology and Jounalism had a sub category called Web"
      ]
    },
    {
      "cell_type": "markdown",
      "metadata": {
        "id": "EsKeXk11aCEo",
        "colab_type": "text"
      },
      "source": [
        "#### Project Duration"
      ]
    },
    {
      "cell_type": "code",
      "metadata": {
        "id": "htKoMAs-YJlm",
        "colab_type": "code",
        "colab": {
          "base_uri": "https://localhost:8080/"
        },
        "outputId": "378e7d35-c252-46c2-d7b2-e8a37cc00d4f"
      },
      "source": [
        "fig= plt.figure(figsize=(15,8))\n",
        "ax = fig.add_subplot(111)\n",
        "ax = sns.boxplot(x='main_category',y='duration',data=df)\n",
        "plt.ylim(0,100)\n",
        "plt.xticks(fontsize=8,rotation=45)"
      ],
      "execution_count": null,
      "outputs": [
        {
          "output_type": "execute_result",
          "data": {
            "text/plain": [
              "(array([ 0,  1,  2,  3,  4,  5,  6,  7,  8,  9, 10, 11, 12, 13, 14]),\n",
              " <a list of 15 Text major ticklabel objects>)"
            ]
          },
          "metadata": {
            "tags": []
          },
          "execution_count": 26
        },
        {
          "output_type": "display_data",
          "data": {
            "image/png": "[encoded data removed]",
            "text/plain": [
              "<Figure size 1080x576 with 1 Axes>"
            ]
          },
          "metadata": {
            "tags": [],
            "needs_background": "light"
          }
        }
      ]
    },
    {
      "cell_type": "markdown",
      "metadata": {
        "id": "-ty_Zjt1Q0Fq",
        "colab_type": "text"
      },
      "source": [
        "**Observation**: Most categories shared the same patterns for the duration, so it might not be indicative to be one of the predictors"
      ]
    },
    {
      "cell_type": "markdown",
      "metadata": {
        "id": "L1XW-QapSbIh",
        "colab_type": "text"
      },
      "source": [
        "**Take away from Exploratory Analysis**\n",
        "\n",
        "The quantitative features in the dataset did not seem to be effective to seperate main categories from each other, so using them as part of the predictors might not seem effective. On the other hand, the sub-category feature seemed to be the a helpful predictor because many of them were specific to their corresponding main category.  "
      ]
    },
    {
      "cell_type": "markdown",
      "metadata": {
        "id": "MwponDZg99aN",
        "colab_type": "text"
      },
      "source": [
        "## Modeling\n",
        "\n",
        "This section consists of the best model demonstration, attempts of using various models and techniques, and a model hyperparameter tuning \n",
        "\n",
        "2 embeddig techniques were selected prior classification:\n",
        "\n",
        " - TFIDF: it was chosen because it is easy to compute and adjust the importance of word based on its occurance in all project titles\n",
        "\n",
        " - Word2Vec: it was chosen because it captures the position and meaning of the words in the project title \n",
        "\n",
        "4 models were chosen for classification: \n",
        "\n",
        "- Linear Support Vector Machine Classifier: it was chosen because it is effective in high dimensional space (even when # of features > # of samples) and it is versatile due to various kernels. \n",
        "\n",
        "- Naive Bayes Classifier: it was chosen because it is fast and highly scalable.\n",
        "\n",
        "- Logistic Regression: it was chosen because it is easy to implement and the mechanism of it is slighly similar to nueral network (nueral network is somewhat a stacked logistic regression classifier)\n",
        "\n",
        "- Random Forest Classifier: it is similar to decision tree but better at reducing variance\n",
        "\n",
        "\n",
        "Side note:\n",
        "\n",
        "For TFIDF vectorizer, the bigram feature was enabled. \n",
        "\n",
        "For all the benchmarking models, they were set with their default parameters except for Random Forest model (with max_depth = 100) to reduce training time.\n"
      ]
    },
    {
      "cell_type": "code",
      "metadata": {
        "id": "n6Vy-ozTEPXw",
        "colab_type": "code",
        "colab": {}
      },
      "source": [
        "#df.to_pickle('/content/gdrive/My Drive/Colab Notebooks/data/df.pkl')\n",
        "#df = pd.read_pickle('/content/gdrive/My Drive/Colab Notebooks/data/df.pkl')"
      ],
      "execution_count": 3,
      "outputs": []
    },
    {
      "cell_type": "markdown",
      "metadata": {
        "id": "FI4wNkXlOZ01",
        "colab_type": "text"
      },
      "source": [
        "### Best results"
      ]
    },
    {
      "cell_type": "code",
      "metadata": {
        "id": "3skv1fSoOca_",
        "colab_type": "code",
        "colab": {
          "base_uri": "https://localhost:8080/",
          "height": 154
        },
        "outputId": "fffcfaca-f1de-4463-d546-964c303389d1"
      },
      "source": [
        "df['processed_sub_category'] = df['processed_sub_category'].apply(lambda x: title_cleaning(x))\n",
        "\n",
        "combined_text = df['processed_name'] + \" \" + df['processed_sub_category']\n",
        "labels = df['main_category']\n",
        "\n",
        "rus = RandomUnderSampler()\n",
        "\n",
        "vectorizer = Pipeline([('vect', CountVectorizer(ngram_range=(1,2))),\n",
        "                       ('tfidf', TfidfTransformer())\n",
        "                       ])\n",
        "\n",
        "time_vectorized_start = time.time()\n",
        "vectorized_matrix = vectorizer.fit_transform(combined_text)\n",
        "time_vectorized_end = time.time()\n",
        "\n",
        "# resample the data\n",
        "X_resampled, y_resampled = rus.fit_resample(vectorized_matrix,labels)\n",
        "\n",
        "X_train,X_test,y_train,y_test = train_test_split(X_resampled,y_resampled,\n",
        "                                                 test_size=0.3,\n",
        "                                                 random_state=123)\n",
        "\n",
        "\n",
        "print('finished vectorization, the running time is: {}s'.format(np.round(time_vectorized_end-time_vectorized_start,2)))\n",
        "\n",
        "results = []\n",
        "\n",
        "classifier = LinearSVC()\n",
        "\n",
        "print('begin training')\n",
        "time_start = time.time()\n",
        "\n",
        "classifier.fit(X_train, y_train)\n",
        "y_pred = classifier.predict(X_test)\n",
        "\n",
        "time_end = time.time()\n",
        "\n",
        "report = classification_report(y_test, y_pred)\n",
        "confusionMatrix = confusion_matrix(y_test,y_pred)\n",
        "    \n",
        "\n",
        "print('')\n",
        "print('the training time is: {} s'.format(np.round(time_end-time_start,2)))\n",
        "print('')\n"
      ],
      "execution_count": 28,
      "outputs": [
        {
          "output_type": "stream",
          "text": [
            "/usr/local/lib/python3.6/dist-packages/sklearn/utils/deprecation.py:87: FutureWarning: Function safe_indexing is deprecated; safe_indexing is deprecated in version 0.22 and will be removed in version 0.24.\n",
            "  warnings.warn(msg, category=FutureWarning)\n"
          ],
          "name": "stderr"
        },
        {
          "output_type": "stream",
          "text": [
            "finished vectorization, the running time is: 13.11s\n",
            "begin training\n",
            "\n",
            "the training time is: 2.71 s\n",
            "\n"
          ],
          "name": "stdout"
        }
      ]
    },
    {
      "cell_type": "code",
      "metadata": {
        "id": "m4bSfD8jOyPy",
        "colab_type": "code",
        "colab": {
          "base_uri": "https://localhost:8080/",
          "height": 386
        },
        "outputId": "ffdfbe10-abc1-4e23-a60b-13a261b687dc"
      },
      "source": [
        "print(report)"
      ],
      "execution_count": 29,
      "outputs": [
        {
          "output_type": "stream",
          "text": [
            "              precision    recall  f1-score   support\n",
            "\n",
            "         Art       0.99      0.99      0.99       970\n",
            "      Comics       0.99      0.99      0.99      1003\n",
            "      Crafts       0.99      1.00      1.00       980\n",
            "       Dance       0.97      1.00      0.98      1001\n",
            "      Design       1.00      0.99      0.99      1007\n",
            "     Fashion       0.99      0.99      0.99      1004\n",
            "Film & Video       0.99      0.98      0.98      1063\n",
            "        Food       0.98      0.99      0.99       997\n",
            "       Games       1.00      1.00      1.00      1044\n",
            "  Journalism       0.91      0.96      0.93      1019\n",
            "       Music       0.99      0.99      0.99      1010\n",
            " Photography       0.99      0.99      0.99      1054\n",
            "  Publishing       0.99      0.99      0.99      1001\n",
            "  Technology       0.98      0.89      0.93      1001\n",
            "     Theater       0.98      0.98      0.98      1020\n",
            "\n",
            "    accuracy                           0.98     15174\n",
            "   macro avg       0.98      0.98      0.98     15174\n",
            "weighted avg       0.98      0.98      0.98     15174\n",
            "\n"
          ],
          "name": "stdout"
        }
      ]
    },
    {
      "cell_type": "code",
      "metadata": {
        "id": "Q3scWHTbQAKr",
        "colab_type": "code",
        "colab": {
          "base_uri": "https://localhost:8080/",
          "height": 886
        },
        "outputId": "79cb232f-407c-40b4-8aac-d4414006457b"
      },
      "source": [
        "fig = plt.figure(figsize=(15,15))\n",
        "ax = fig.add_subplot(111)\n",
        "ConfusionMatrixDisplay(confusionMatrix,display_labels=labels.unique()).plot(ax=ax)\n",
        "plt.xticks(rotation=45)"
      ],
      "execution_count": 41,
      "outputs": [
        {
          "output_type": "execute_result",
          "data": {
            "text/plain": [
              "(array([ 0,  1,  2,  3,  4,  5,  6,  7,  8,  9, 10, 11, 12, 13, 14]),\n",
              " <a list of 15 Text major ticklabel objects>)"
            ]
          },
          "metadata": {
            "tags": []
          },
          "execution_count": 41
        },
        {
          "output_type": "display_data",
          "data": {
            "image/png": "[encoded data removed]",
            "text/plain": [
              "<Figure size 1080x1080 with 2 Axes>"
            ]
          },
          "metadata": {
            "tags": [],
            "needs_background": "light"
          }
        }
      ]
    },
    {
      "cell_type": "markdown",
      "metadata": {
        "id": "2TOlg_4ySfYz",
        "colab_type": "text"
      },
      "source": [
        "**Observation**: All categories were classifed near perfectly, with only a handful (< 10) was mis-classified. The poorest performance was in Theater and Dance categories, where 95 samples of Theater catorgory were wrongly identified as Dance category  "
      ]
    },
    {
      "cell_type": "markdown",
      "metadata": {
        "id": "G-ASy3mW2CUd",
        "colab_type": "text"
      },
      "source": [
        "#### Benchmarking with TFIDF vectorizer "
      ]
    },
    {
      "cell_type": "code",
      "metadata": {
        "id": "7L-WzxyryMa4",
        "colab_type": "code",
        "colab": {
          "base_uri": "https://localhost:8080/",
          "height": 34
        },
        "outputId": "aa95da95-2432-488f-d224-34769824c449"
      },
      "source": [
        "# using project names as predictor \n",
        "project_names = df['processed_name']\n",
        "labels = df['main_category']\n",
        "\n",
        "X_train, X_test, y_train, y_test = train_test_split(project_names, \n",
        "                                                    labels, \n",
        "                                                    test_size=0.3, \n",
        "                                                    random_state = 123)\n",
        "# initiate a pipeline for vectorization \n",
        "vectorizer = Pipeline([('vect', CountVectorizer(ngram_range=(1,2))),\n",
        "                       ('tfidf', TfidfTransformer())\n",
        "                       ])\n",
        "\n",
        "time_vectorized_start = time.time()\n",
        "X_train_vectorized = vectorizer.fit_transform(X_train)\n",
        "X_test_vectorized = vectorizer.transform(X_test)\n",
        "time_vectorized_end = time.time()\n",
        "\n",
        "print('finished vectorization, the running time is: {}s'.format(np.round(time_vectorized_end-time_vectorized_start,2)))"
      ],
      "execution_count": 7,
      "outputs": [
        {
          "output_type": "stream",
          "text": [
            "finished vectorization, the running time is: 8.75s\n"
          ],
          "name": "stdout"
        }
      ]
    },
    {
      "cell_type": "code",
      "metadata": {
        "id": "SAXSvd3EPPrC",
        "colab_type": "code",
        "colab": {
          "base_uri": "https://localhost:8080/",
          "height": 574
        },
        "outputId": "934a3f41-a556-48bf-d6bc-867ab7c0bbe1"
      },
      "source": [
        "results = []\n",
        "\n",
        "clf_models = {\n",
        "    \"SVC\": LinearSVC(),\n",
        "    \"NB\": MultinomialNB(),\n",
        "    \"LR\": LogisticRegression(multi_class='multinomial'),\n",
        "    \"RF\": RandomForestClassifier(max_depth=100)\n",
        "}\n",
        "\n",
        "# iterate each model to perform benchmarking\n",
        "for mdl_name in clf_models.keys():\n",
        "    print('begin training {}'.format(mdl_name))\n",
        "    time_start = time.time()\n",
        "\n",
        "    classifier = clf_models[mdl_name]\n",
        "  \n",
        "    classifier.fit(X_train_vectorized, y_train)\n",
        "\n",
        "    y_pred = classifier.predict(X_test_vectorized)\n",
        "    time_end = time.time()\n",
        "\n",
        "    report = classification_report(y_test, y_pred)\n",
        "    results.append((mdl_name,report))\n",
        "\n",
        "    print('finished training ',mdl_name)\n",
        "    print('')\n",
        "    print('the training time is: {} s'.format(np.round(time_end-time_start,2)))\n",
        "    print('')"
      ],
      "execution_count": 9,
      "outputs": [
        {
          "output_type": "stream",
          "text": [
            "begin training SVC\n",
            "finished training  SVC\n",
            "\n",
            "the training time is: 42.1 s\n",
            "\n",
            "begin training NB\n"
          ],
          "name": "stdout"
        },
        {
          "output_type": "stream",
          "text": [
            "/usr/local/lib/python3.6/dist-packages/sklearn/metrics/_classification.py:1272: UndefinedMetricWarning: Precision and F-score are ill-defined and being set to 0.0 in labels with no predicted samples. Use `zero_division` parameter to control this behavior.\n",
            "  _warn_prf(average, modifier, msg_start, len(result))\n"
          ],
          "name": "stderr"
        },
        {
          "output_type": "stream",
          "text": [
            "finished training  NB\n",
            "\n",
            "the training time is: 1.81 s\n",
            "\n",
            "begin training LR\n"
          ],
          "name": "stdout"
        },
        {
          "output_type": "stream",
          "text": [
            "/usr/local/lib/python3.6/dist-packages/sklearn/linear_model/_logistic.py:940: ConvergenceWarning: lbfgs failed to converge (status=1):\n",
            "STOP: TOTAL NO. of ITERATIONS REACHED LIMIT.\n",
            "\n",
            "Increase the number of iterations (max_iter) or scale the data as shown in:\n",
            "    https://scikit-learn.org/stable/modules/preprocessing.html\n",
            "Please also refer to the documentation for alternative solver options:\n",
            "    https://scikit-learn.org/stable/modules/linear_model.html#logistic-regression\n",
            "  extra_warning_msg=_LOGISTIC_SOLVER_CONVERGENCE_MSG)\n"
          ],
          "name": "stderr"
        },
        {
          "output_type": "stream",
          "text": [
            "finished training  LR\n",
            "\n",
            "the training time is: 271.65 s\n",
            "\n",
            "begin training RF\n"
          ],
          "name": "stdout"
        },
        {
          "output_type": "stream",
          "text": [
            "/usr/local/lib/python3.6/dist-packages/sklearn/metrics/_classification.py:1272: UndefinedMetricWarning: Precision and F-score are ill-defined and being set to 0.0 in labels with no predicted samples. Use `zero_division` parameter to control this behavior.\n",
            "  _warn_prf(average, modifier, msg_start, len(result))\n"
          ],
          "name": "stderr"
        },
        {
          "output_type": "stream",
          "text": [
            "finished training  RF\n",
            "\n",
            "the training time is: 644.16 s\n",
            "\n"
          ],
          "name": "stdout"
        }
      ]
    },
    {
      "cell_type": "code",
      "metadata": {
        "id": "likwaXrDaaGj",
        "colab_type": "code",
        "colab": {
          "base_uri": "https://localhost:8080/",
          "height": 1000
        },
        "outputId": "cc24461d-092b-430c-84f3-a0369c2326ca"
      },
      "source": [
        "for i in range(len(results)):\n",
        "  print('model name: ', results[i][0])\n",
        "  print('')\n",
        "  print(results[i][1])\n",
        "  print('')"
      ],
      "execution_count": 10,
      "outputs": [
        {
          "output_type": "stream",
          "text": [
            "model name:  SVC\n",
            "\n",
            "              precision    recall  f1-score   support\n",
            "\n",
            "         Art       0.54      0.47      0.50      7145\n",
            "      Comics       0.70      0.53      0.60      2637\n",
            "      Crafts       0.52      0.36      0.43      2129\n",
            "       Dance       0.68      0.47      0.55      1035\n",
            "      Design       0.55      0.51      0.53      7214\n",
            "     Fashion       0.68      0.67      0.68      5481\n",
            "Film & Video       0.53      0.66      0.59     17406\n",
            "        Food       0.74      0.82      0.78      6425\n",
            "       Games       0.68      0.65      0.67      8352\n",
            "  Journalism       0.29      0.10      0.15      1242\n",
            "       Music       0.76      0.79      0.77     14032\n",
            " Photography       0.54      0.44      0.49      2902\n",
            "  Publishing       0.53      0.53      0.53     10125\n",
            "  Technology       0.60      0.57      0.59      7769\n",
            "     Theater       0.62      0.50      0.55      3043\n",
            "\n",
            "    accuracy                           0.61     96937\n",
            "   macro avg       0.60      0.54      0.56     96937\n",
            "weighted avg       0.61      0.61      0.61     96937\n",
            "\n",
            "\n",
            "model name:  NB\n",
            "\n",
            "              precision    recall  f1-score   support\n",
            "\n",
            "         Art       0.68      0.28      0.40      7145\n",
            "      Comics       0.95      0.11      0.20      2637\n",
            "      Crafts       0.86      0.04      0.08      2129\n",
            "       Dance       1.00      0.00      0.00      1035\n",
            "      Design       0.60      0.42      0.49      7214\n",
            "     Fashion       0.83      0.41      0.55      5481\n",
            "Film & Video       0.33      0.88      0.48     17406\n",
            "        Food       0.85      0.59      0.70      6425\n",
            "       Games       0.81      0.51      0.62      8352\n",
            "  Journalism       0.00      0.00      0.00      1242\n",
            "       Music       0.62      0.80      0.70     14032\n",
            " Photography       0.89      0.07      0.13      2902\n",
            "  Publishing       0.58      0.39      0.46     10125\n",
            "  Technology       0.71      0.46      0.56      7769\n",
            "     Theater       0.90      0.06      0.12      3043\n",
            "\n",
            "    accuracy                           0.52     96937\n",
            "   macro avg       0.71      0.34      0.37     96937\n",
            "weighted avg       0.64      0.52      0.49     96937\n",
            "\n",
            "\n",
            "model name:  LR\n",
            "\n",
            "              precision    recall  f1-score   support\n",
            "\n",
            "         Art       0.57      0.45      0.50      7145\n",
            "      Comics       0.78      0.44      0.56      2637\n",
            "      Crafts       0.56      0.31      0.40      2129\n",
            "       Dance       0.80      0.31      0.45      1035\n",
            "      Design       0.55      0.48      0.51      7214\n",
            "     Fashion       0.71      0.63      0.67      5481\n",
            "Film & Video       0.47      0.73      0.57     17406\n",
            "        Food       0.75      0.77      0.76      6425\n",
            "       Games       0.71      0.61      0.66      8352\n",
            "  Journalism       0.42      0.07      0.12      1242\n",
            "       Music       0.74      0.77      0.76     14032\n",
            " Photography       0.55      0.39      0.46      2902\n",
            "  Publishing       0.52      0.51      0.52     10125\n",
            "  Technology       0.59      0.56      0.58      7769\n",
            "     Theater       0.67      0.43      0.52      3043\n",
            "\n",
            "    accuracy                           0.60     96937\n",
            "   macro avg       0.63      0.50      0.54     96937\n",
            "weighted avg       0.61      0.60      0.59     96937\n",
            "\n",
            "\n",
            "model name:  RF\n",
            "\n",
            "              precision    recall  f1-score   support\n",
            "\n",
            "         Art       0.81      0.13      0.22      7145\n",
            "      Comics       0.90      0.22      0.35      2637\n",
            "      Crafts       0.76      0.02      0.03      2129\n",
            "       Dance       0.97      0.05      0.10      1035\n",
            "      Design       0.76      0.12      0.21      7214\n",
            "     Fashion       0.91      0.19      0.32      5481\n",
            "Film & Video       0.24      0.96      0.39     17406\n",
            "        Food       0.89      0.31      0.47      6425\n",
            "       Games       0.85      0.37      0.51      8352\n",
            "  Journalism       0.00      0.00      0.00      1242\n",
            "       Music       0.77      0.70      0.73     14032\n",
            " Photography       0.85      0.09      0.16      2902\n",
            "  Publishing       0.79      0.23      0.35     10125\n",
            "  Technology       0.78      0.17      0.28      7769\n",
            "     Theater       0.90      0.10      0.17      3043\n",
            "\n",
            "    accuracy                           0.41     96937\n",
            "   macro avg       0.75      0.24      0.29     96937\n",
            "weighted avg       0.71      0.41      0.38     96937\n",
            "\n",
            "\n"
          ],
          "name": "stdout"
        }
      ]
    },
    {
      "cell_type": "markdown",
      "metadata": {
        "id": "tQZMSypBICmv",
        "colab_type": "text"
      },
      "source": [
        "**Observation:**\n",
        "\n",
        "Among these 4 benchmarking models, LinearSVC and Logistic Regression had similar performance, where both of them had  balanced results of precision and recall, and therefore highest overall accuracy. Since LinearSVC had a much faster processing time than Logistic Regression under this condition, I would suggest LinearSVC is a better model than Logistic Regression\n",
        "\n",
        "For Naive Bayes model, it had the fastest processing time and the second highest overall precesion, but it was unable to recall several categories (those with relatively fewer samples). \n",
        "\n",
        "For the Random Forest, it had the longest running time (only because it reached the maximum depth, otherwise it would keep running). It had the highest precision but lowest recall rate, leading to the poorest performance among all models. Nonetheless, with some hyerparameter tuning, its performance would be expected to improve.\n",
        "\n",
        "Overall, all models suffer the effect of class imbalance. They could not recognize the patterns of the categories with relatively fewer samples. To resolve this issue, a undersampling could be applied to the dataset.  "
      ]
    },
    {
      "cell_type": "markdown",
      "metadata": {
        "id": "ODTcDSuggW1c",
        "colab_type": "text"
      },
      "source": [
        "#### Benchmarking with Word2Vec"
      ]
    },
    {
      "cell_type": "code",
      "metadata": {
        "id": "sexIw2uYgacF",
        "colab_type": "code",
        "colab": {
          "base_uri": "https://localhost:8080/",
          "height": 50
        },
        "outputId": "1bcd1b2f-2e63-4fe0-eddf-8599718745a7"
      },
      "source": [
        "# tokanize the project title names\n",
        "project_names = df['processed_name'].apply(lambda x: word_tokenize(x))\n",
        "\n",
        "labels = df['main_category']\n",
        "\n",
        "# fit the Word2Vec model with the tokanized project title names\n",
        "w2v_model = Word2Vec(project_names,sg=1)\n",
        "\n",
        "# create the Word2Vec dictionary\n",
        "w2v_dict = {w: vec for w, vec in zip(w2v_model.wv.index2word, \n",
        "                                     w2v_model.wv.syn0)}"
      ],
      "execution_count": 26,
      "outputs": [
        {
          "output_type": "stream",
          "text": [
            "/usr/local/lib/python3.6/dist-packages/ipykernel_launcher.py:11: DeprecationWarning: Call to deprecated `syn0` (Attribute will be removed in 4.0.0, use self.wv.vectors instead).\n",
            "  # This is added back by InteractiveShellApp.init_path()\n"
          ],
          "name": "stderr"
        }
      ]
    },
    {
      "cell_type": "code",
      "metadata": {
        "id": "zW7HHbQ6hAcN",
        "colab_type": "code",
        "colab": {}
      },
      "source": [
        "# define a Word2Vec vectorizer class\n",
        "class w2v_Vectorizer(object):\n",
        "    def __init__(self, word2vec):\n",
        "        self.word2vec = word2vec\n",
        "        if len(word2vec)>0:\n",
        "            self.dim=len(word2vec[next(iter(w2v_dict))])\n",
        "        else:\n",
        "            self.dim=0\n",
        "            \n",
        "    def fit(self, X, y):\n",
        "        return self \n",
        "\n",
        "    def transform(self, X):\n",
        "        return np.array([\n",
        "                         np.mean([self.word2vec[word] for word in words if word in self.word2vec]\n",
        "                                 or [np.zeros(self.dim)], axis=0)\n",
        "                         for words in X\n",
        "                         ])"
      ],
      "execution_count": 27,
      "outputs": []
    },
    {
      "cell_type": "code",
      "metadata": {
        "id": "u4mi4_dMonda",
        "colab_type": "code",
        "colab": {}
      },
      "source": [
        "# Define a pipeline to chain Word2Vec vectorizer and classifier\n",
        "LR_w2v = Pipeline([(\"word2vec\", W2V_Vectorizer(w2v_dict)),(\"lr\", LogisticRegression(multi_class='multinomial'))])\n",
        "RF_w2v = Pipeline([(\"word2vec\", W2V_Vectorizer(w2v_dict)),(\"rf\", RandomForestClassifier(max_depth=100))])\n",
        "\n",
        "clf_models = {\n",
        "    \"LR\": LR_w2v,\n",
        "    \"RF\": RF_w2v \n",
        "}"
      ],
      "execution_count": 28,
      "outputs": []
    },
    {
      "cell_type": "code",
      "metadata": {
        "id": "Z7zp_cqsmq7y",
        "colab_type": "code",
        "colab": {
          "base_uri": "https://localhost:8080/",
          "height": 319
        },
        "outputId": "b3ca4ade-d419-4cfa-ebc9-ceeb1efc2d43"
      },
      "source": [
        "X_train, X_test, y_train, y_test = train_test_split(project_names, \n",
        "                                                    labels, \n",
        "                                                    test_size=0.3, \n",
        "                                                    random_state = 123)\n",
        "results =[]\n",
        "\n",
        "for mdl_name in clf_models.keys():\n",
        "    print('begin training {}'.format(mdl_name))\n",
        "    time_start = time.time()\n",
        "\n",
        "    classifier = clf_models[mdl_name]\n",
        "  \n",
        "    classifier.fit(X_train, y_train)\n",
        "\n",
        "    y_pred = classifier.predict(X_test)\n",
        "    time_end = time.time()\n",
        "\n",
        "    report = classification_report(y_test, y_pred)\n",
        "    results.append((mdl_name,report))\n",
        "\n",
        "    print('finished training ',mdl_name)\n",
        "    print('')\n",
        "    print('the training time is: {} s'.format(np.round(time_end-time_start,2)))\n",
        "    print('')"
      ],
      "execution_count": 29,
      "outputs": [
        {
          "output_type": "stream",
          "text": [
            "begin training LR\n"
          ],
          "name": "stdout"
        },
        {
          "output_type": "stream",
          "text": [
            "/usr/local/lib/python3.6/dist-packages/sklearn/linear_model/_logistic.py:940: ConvergenceWarning: lbfgs failed to converge (status=1):\n",
            "STOP: TOTAL NO. of ITERATIONS REACHED LIMIT.\n",
            "\n",
            "Increase the number of iterations (max_iter) or scale the data as shown in:\n",
            "    https://scikit-learn.org/stable/modules/preprocessing.html\n",
            "Please also refer to the documentation for alternative solver options:\n",
            "    https://scikit-learn.org/stable/modules/linear_model.html#logistic-regression\n",
            "  extra_warning_msg=_LOGISTIC_SOLVER_CONVERGENCE_MSG)\n"
          ],
          "name": "stderr"
        },
        {
          "output_type": "stream",
          "text": [
            "finished training  LR\n",
            "\n",
            "the training time is: 47.84 s\n",
            "\n",
            "begin training RF\n",
            "finished training  RF\n",
            "\n",
            "the training time is: 450.66 s\n",
            "\n"
          ],
          "name": "stdout"
        }
      ]
    },
    {
      "cell_type": "code",
      "metadata": {
        "id": "zPkv9Xwq1M7A",
        "colab_type": "code",
        "colab": {
          "base_uri": "https://localhost:8080/",
          "height": 857
        },
        "outputId": "01bb6d82-9e99-4836-ef9d-4e63c30ee1b3"
      },
      "source": [
        "for i in range(len(results)):\n",
        "  print('model name: ', results[i][0])\n",
        "  print('')\n",
        "  print(results[i][1])\n",
        "  print('')"
      ],
      "execution_count": 30,
      "outputs": [
        {
          "output_type": "stream",
          "text": [
            "model name:  LR\n",
            "\n",
            "              precision    recall  f1-score   support\n",
            "\n",
            "         Art       0.49      0.41      0.44      7145\n",
            "      Comics       0.60      0.36      0.45      2637\n",
            "      Crafts       0.50      0.20      0.29      2129\n",
            "       Dance       0.76      0.28      0.41      1035\n",
            "      Design       0.49      0.43      0.46      7214\n",
            "     Fashion       0.63      0.56      0.60      5481\n",
            "Film & Video       0.44      0.69      0.54     17406\n",
            "        Food       0.69      0.74      0.71      6425\n",
            "       Games       0.65      0.58      0.61      8352\n",
            "  Journalism       0.46      0.02      0.04      1242\n",
            "       Music       0.71      0.76      0.74     14032\n",
            " Photography       0.56      0.29      0.38      2902\n",
            "  Publishing       0.49      0.45      0.47     10125\n",
            "  Technology       0.54      0.52      0.53      7769\n",
            "     Theater       0.59      0.34      0.44      3043\n",
            "\n",
            "    accuracy                           0.55     96937\n",
            "   macro avg       0.57      0.44      0.47     96937\n",
            "weighted avg       0.56      0.55      0.54     96937\n",
            "\n",
            "\n",
            "model name:  RF\n",
            "\n",
            "              precision    recall  f1-score   support\n",
            "\n",
            "         Art       0.48      0.41      0.44      7145\n",
            "      Comics       0.69      0.35      0.47      2637\n",
            "      Crafts       0.51      0.19      0.28      2129\n",
            "       Dance       0.72      0.26      0.38      1035\n",
            "      Design       0.49      0.46      0.47      7214\n",
            "     Fashion       0.65      0.56      0.60      5481\n",
            "Film & Video       0.45      0.71      0.55     17406\n",
            "        Food       0.69      0.75      0.72      6425\n",
            "       Games       0.66      0.59      0.62      8352\n",
            "  Journalism       0.17      0.01      0.03      1242\n",
            "       Music       0.72      0.76      0.74     14032\n",
            " Photography       0.60      0.27      0.37      2902\n",
            "  Publishing       0.47      0.47      0.47     10125\n",
            "  Technology       0.55      0.51      0.53      7769\n",
            "     Theater       0.67      0.33      0.44      3043\n",
            "\n",
            "    accuracy                           0.56     96937\n",
            "   macro avg       0.57      0.44      0.47     96937\n",
            "weighted avg       0.57      0.56      0.55     96937\n",
            "\n",
            "\n"
          ],
          "name": "stdout"
        }
      ]
    },
    {
      "cell_type": "markdown",
      "metadata": {
        "id": "v5q8wN58V4Oc",
        "colab_type": "text"
      },
      "source": [
        "**Observation**:\n",
        "\n",
        "For word2vec vectorizer, only Logistic Regression and Random Forest were selected because the execution time for LinearSVC was too long and Naive Bayer could not handle negative vector values. \n",
        "\n",
        "Both models had very similar performance. Comparing TFIDF and Word2Vec, Logistic Regression would be better suited with TFIDF, whereas Random Forest would be better suited with Word2Vec "
      ]
    },
    {
      "cell_type": "markdown",
      "metadata": {
        "id": "aklNptsdKReQ",
        "colab_type": "text"
      },
      "source": [
        "#### Using name & sub category as predictors\n",
        "\n",
        "To incorporate sub categories into the predictors, two methods were considered. \n",
        "\n",
        "1. combining the project title names and sub category together as a list of tokenized words\n",
        "\n",
        "2. transforming each sub category into a dummy categorical feature\n",
        "\n",
        "After trying both methods, method 1 was a selected because method 2 required too much memory, as the predictors would consist of too many columns. \n",
        "\n",
        "If method 2 were to be implemented, it would require dimensioanlity reduction using PCA/SVD. However, the running time would still be long"
      ]
    },
    {
      "cell_type": "code",
      "metadata": {
        "id": "JEr4bVbd_wkc",
        "colab_type": "code",
        "colab": {
          "base_uri": "https://localhost:8080/",
          "height": 34
        },
        "outputId": "29e112c1-bbfb-4b96-c8db-e0e75ae425d5"
      },
      "source": [
        "df['processed_sub_category'] = df['processed_sub_category'].apply(lambda x: title_cleaning(x))\n",
        "\n",
        "text = df['processed_name'] + \" \" + df['processed_sub_category']\n",
        "\n",
        "X_train, X_test, y_train, y_test = train_test_split(text, labels, \n",
        "                                                    test_size=0.3, \n",
        "                                                    random_state = 123)\n",
        "\n",
        "vectorizer = Pipeline([('vect', CountVectorizer(ngram_range=(1,2))),\n",
        "                       ('tfidf', TfidfTransformer())\n",
        "                       ])\n",
        "time_vectorized_start = time.time()\n",
        "X_train_vectorized = vectorizer.fit_transform(X_train)\n",
        "X_test_vectorized = vectorizer.transform(X_test)\n",
        "time_vectorized_end = time.time()\n",
        "\n",
        "print('finished vectorization, the running time is: {}s'.format(np.round(time_vectorized_end-time_vectorized_start,2)))"
      ],
      "execution_count": 16,
      "outputs": [
        {
          "output_type": "stream",
          "text": [
            "finished vectorization, the running time is: 9.8s\n"
          ],
          "name": "stdout"
        }
      ]
    },
    {
      "cell_type": "code",
      "metadata": {
        "id": "uQ7P9p77KdQQ",
        "colab_type": "code",
        "colab": {
          "base_uri": "https://localhost:8080/",
          "height": 541
        },
        "outputId": "3f3a6ffd-7231-4e62-b097-e0e17d10faac"
      },
      "source": [
        "results = []\n",
        "\n",
        "clf_models = {\n",
        "    \"SVC\": LinearSVC(),\n",
        "    \"NB\": MultinomialNB(),\n",
        "    \"LR\": LogisticRegression(multi_class='multinomial'),\n",
        "    \"RF\": RandomForestClassifier(max_depth=100)\n",
        "}\n",
        "\n",
        "for mdl_name in clf_models.keys():\n",
        "    print('begin training {}'.format(mdl_name))\n",
        "    time_start = time.time()\n",
        "\n",
        "    classifier = clf_models[mdl_name]\n",
        "  \n",
        "    classifier.fit(X_train_vectorized, y_train)\n",
        "\n",
        "    y_pred = classifier.predict(X_test_vectorized)\n",
        "    time_end = time.time()\n",
        "\n",
        "    report = classification_report(y_test, y_pred)\n",
        "    results.append((mdl_name,report))\n",
        "\n",
        "    print('finished training ',mdl_name)\n",
        "    print('')\n",
        "    print('the training time is: {} s'.format(np.round(time_end-time_start,2)))\n",
        "    print('')"
      ],
      "execution_count": 17,
      "outputs": [
        {
          "output_type": "stream",
          "text": [
            "begin training SVC\n",
            "finished training  SVC\n",
            "\n",
            "the training time is: 29.32 s\n",
            "\n",
            "begin training NB\n",
            "finished training  NB\n",
            "\n",
            "the training time is: 1.68 s\n",
            "\n",
            "begin training LR\n"
          ],
          "name": "stdout"
        },
        {
          "output_type": "stream",
          "text": [
            "/usr/local/lib/python3.6/dist-packages/sklearn/linear_model/_logistic.py:940: ConvergenceWarning: lbfgs failed to converge (status=1):\n",
            "STOP: TOTAL NO. of ITERATIONS REACHED LIMIT.\n",
            "\n",
            "Increase the number of iterations (max_iter) or scale the data as shown in:\n",
            "    https://scikit-learn.org/stable/modules/preprocessing.html\n",
            "Please also refer to the documentation for alternative solver options:\n",
            "    https://scikit-learn.org/stable/modules/linear_model.html#logistic-regression\n",
            "  extra_warning_msg=_LOGISTIC_SOLVER_CONVERGENCE_MSG)\n"
          ],
          "name": "stderr"
        },
        {
          "output_type": "stream",
          "text": [
            "finished training  LR\n",
            "\n",
            "the training time is: 300.66 s\n",
            "\n",
            "begin training RF\n"
          ],
          "name": "stdout"
        },
        {
          "output_type": "stream",
          "text": [
            "/usr/local/lib/python3.6/dist-packages/sklearn/metrics/_classification.py:1272: UndefinedMetricWarning: Precision and F-score are ill-defined and being set to 0.0 in labels with no predicted samples. Use `zero_division` parameter to control this behavior.\n",
            "  _warn_prf(average, modifier, msg_start, len(result))\n"
          ],
          "name": "stderr"
        },
        {
          "output_type": "stream",
          "text": [
            "finished training  RF\n",
            "\n",
            "the training time is: 348.24 s\n",
            "\n"
          ],
          "name": "stdout"
        }
      ]
    },
    {
      "cell_type": "code",
      "metadata": {
        "id": "8CIiVBNKOTLX",
        "colab_type": "code",
        "colab": {
          "base_uri": "https://localhost:8080/",
          "height": 1000
        },
        "outputId": "b9c76057-a4e8-46d1-d845-35561b273051"
      },
      "source": [
        "for i in range(len(results)):\n",
        "  print('model name: ', results[i][0])\n",
        "  print('')\n",
        "  print(results[i][1])\n",
        "  print('')"
      ],
      "execution_count": 18,
      "outputs": [
        {
          "output_type": "stream",
          "text": [
            "model name:  SVC\n",
            "\n",
            "              precision    recall  f1-score   support\n",
            "\n",
            "         Art       0.83      0.81      0.82      7145\n",
            "      Comics       0.93      0.71      0.81      2637\n",
            "      Crafts       0.76      0.57      0.65      2129\n",
            "       Dance       0.88      0.62      0.73      1035\n",
            "      Design       0.96      0.90      0.93      7214\n",
            "     Fashion       0.85      0.79      0.82      5481\n",
            "Film & Video       0.73      0.88      0.80     17406\n",
            "        Food       0.85      0.89      0.87      6425\n",
            "       Games       0.98      0.95      0.97      8352\n",
            "  Journalism       0.75      0.33      0.46      1242\n",
            "       Music       0.90      0.92      0.91     14032\n",
            " Photography       0.83      0.65      0.73      2902\n",
            "  Publishing       0.78      0.80      0.79     10125\n",
            "  Technology       0.76      0.76      0.76      7769\n",
            "     Theater       0.81      0.68      0.74      3043\n",
            "\n",
            "    accuracy                           0.83     96937\n",
            "   macro avg       0.84      0.75      0.79     96937\n",
            "weighted avg       0.84      0.83      0.83     96937\n",
            "\n",
            "\n",
            "model name:  NB\n",
            "\n",
            "              precision    recall  f1-score   support\n",
            "\n",
            "         Art       0.89      0.54      0.67      7145\n",
            "      Comics       0.99      0.34      0.51      2637\n",
            "      Crafts       0.96      0.07      0.12      2129\n",
            "       Dance       1.00      0.01      0.02      1035\n",
            "      Design       0.85      0.83      0.84      7214\n",
            "     Fashion       0.94      0.52      0.66      5481\n",
            "Film & Video       0.46      0.95      0.62     17406\n",
            "        Food       0.91      0.69      0.79      6425\n",
            "       Games       0.94      0.90      0.92      8352\n",
            "  Journalism       1.00      0.01      0.01      1242\n",
            "       Music       0.71      0.92      0.80     14032\n",
            " Photography       0.99      0.15      0.26      2902\n",
            "  Publishing       0.79      0.65      0.71     10125\n",
            "  Technology       0.86      0.56      0.68      7769\n",
            "     Theater       0.97      0.13      0.24      3043\n",
            "\n",
            "    accuracy                           0.69     96937\n",
            "   macro avg       0.88      0.48      0.52     96937\n",
            "weighted avg       0.79      0.69      0.67     96937\n",
            "\n",
            "\n",
            "model name:  LR\n",
            "\n",
            "              precision    recall  f1-score   support\n",
            "\n",
            "         Art       0.82      0.73      0.77      7145\n",
            "      Comics       0.86      0.61      0.71      2637\n",
            "      Crafts       0.70      0.37      0.48      2129\n",
            "       Dance       0.89      0.42      0.57      1035\n",
            "      Design       0.97      0.85      0.91      7214\n",
            "     Fashion       0.82      0.69      0.75      5481\n",
            "Film & Video       0.59      0.88      0.71     17406\n",
            "        Food       0.83      0.81      0.82      6425\n",
            "       Games       0.98      0.93      0.95      8352\n",
            "  Journalism       0.88      0.14      0.24      1242\n",
            "       Music       0.86      0.88      0.87     14032\n",
            " Photography       0.80      0.47      0.59      2902\n",
            "  Publishing       0.73      0.71      0.72     10125\n",
            "  Technology       0.68      0.70      0.69      7769\n",
            "     Theater       0.78      0.53      0.63      3043\n",
            "\n",
            "    accuracy                           0.77     96937\n",
            "   macro avg       0.81      0.65      0.69     96937\n",
            "weighted avg       0.79      0.77      0.76     96937\n",
            "\n",
            "\n",
            "model name:  RF\n",
            "\n",
            "              precision    recall  f1-score   support\n",
            "\n",
            "         Art       0.95      0.22      0.36      7145\n",
            "      Comics       0.99      0.24      0.39      2637\n",
            "      Crafts       1.00      0.00      0.01      2129\n",
            "       Dance       0.97      0.03      0.05      1035\n",
            "      Design       0.98      0.45      0.62      7214\n",
            "     Fashion       0.98      0.19      0.32      5481\n",
            "Film & Video       0.28      0.99      0.44     17406\n",
            "        Food       0.97      0.30      0.46      6425\n",
            "       Games       0.99      0.86      0.92      8352\n",
            "  Journalism       0.00      0.00      0.00      1242\n",
            "       Music       0.87      0.81      0.84     14032\n",
            " Photography       0.99      0.05      0.10      2902\n",
            "  Publishing       0.85      0.45      0.59     10125\n",
            "  Technology       0.91      0.13      0.23      7769\n",
            "     Theater       0.96      0.05      0.09      3043\n",
            "\n",
            "    accuracy                           0.52     96937\n",
            "   macro avg       0.85      0.32      0.36     96937\n",
            "weighted avg       0.80      0.52      0.50     96937\n",
            "\n",
            "\n"
          ],
          "name": "stdout"
        }
      ]
    },
    {
      "cell_type": "markdown",
      "metadata": {
        "id": "R5SVJ-7Kc_ki",
        "colab_type": "text"
      },
      "source": [
        "**Observation**:\n",
        "\n",
        "Combining sub category with the project names drastically improved the precision score for all models. This was mainly because many sub categories were very specific to their main categories. The models also had higher recall score, but the increase was not as high as the precision. However, adding sub category still could not completely solve the class imbalance problem.   "
      ]
    },
    {
      "cell_type": "markdown",
      "metadata": {
        "id": "0nszwMW4PMAp",
        "colab_type": "text"
      },
      "source": [
        "#### Undersampling\n",
        "\n",
        "To address the class imabalance problem, the random undersampling method was used. The mechanism of random undersampling was to select a sample size equivalent to the size of fthe fewest category "
      ]
    },
    {
      "cell_type": "code",
      "metadata": {
        "id": "oQmx_Q6ZOTzb",
        "colab_type": "code",
        "colab": {
          "base_uri": "https://localhost:8080/",
          "height": 87
        },
        "outputId": "75717b0e-96a8-464b-b54e-892ec0cd4a4e"
      },
      "source": [
        "# initiate the random under sampler \n",
        "rus = RandomUnderSampler()\n",
        "\n",
        "project_names = df['processed_name']\n",
        "labels = df['main_category']\n",
        "\n",
        "# vectorize the project names\n",
        "vectorizer = Pipeline([('vect', CountVectorizer(ngram_range=(1,2))),\n",
        "                       ('tfidf', TfidfTransformer())\n",
        "                       ])\n",
        "time_vectorized_start = time.time()\n",
        "vectorized_matrix = vectorizer.fit_transform(project_names)\n",
        "time_vectorized_end = time.time()\n",
        "\n",
        "# resample the data\n",
        "X_resampled, y_resampled = rus.fit_resample(vectorized_matrix,labels)\n",
        "\n",
        "X_train,X_test,y_train,y_test = train_test_split(X_resampled,y_resampled,\n",
        "                                                 test_size=0.3,\n",
        "                                                 random_state=123)\n",
        "\n",
        "\n",
        "print('finished vectorization, the running time is: {}s'.format(np.round(time_vectorized_end-time_vectorized_start,2)))"
      ],
      "execution_count": 23,
      "outputs": [
        {
          "output_type": "stream",
          "text": [
            "finished vectorization, the running time is: 9.38s\n"
          ],
          "name": "stdout"
        },
        {
          "output_type": "stream",
          "text": [
            "/usr/local/lib/python3.6/dist-packages/sklearn/utils/deprecation.py:87: FutureWarning: Function safe_indexing is deprecated; safe_indexing is deprecated in version 0.22 and will be removed in version 0.24.\n",
            "  warnings.warn(msg, category=FutureWarning)\n"
          ],
          "name": "stderr"
        }
      ]
    },
    {
      "cell_type": "code",
      "metadata": {
        "id": "PWnSqOFcQIrs",
        "colab_type": "code",
        "colab": {
          "base_uri": "https://localhost:8080/",
          "height": 487
        },
        "outputId": "d3755ec3-e928-4f41-a77b-00acf33b43a7"
      },
      "source": [
        "results = []\n",
        "\n",
        "clf_models = {\n",
        "    \"SVC\": LinearSVC(),\n",
        "    \"NB\": MultinomialNB(),\n",
        "    \"LR\": LogisticRegression(multi_class='multinomial'),\n",
        "    \"RF\": RandomForestClassifier(max_depth=100)\n",
        "}\n",
        "\n",
        "for mdl_name in clf_models.keys():\n",
        "    print('begin training {}'.format(mdl_name))\n",
        "    time_start = time.time()\n",
        "\n",
        "    classifier = clf_models[mdl_name]\n",
        "  \n",
        "    classifier.fit(X_train, y_train)\n",
        "\n",
        "    y_pred = classifier.predict(X_test)\n",
        "    time_end = time.time()\n",
        "\n",
        "    report = classification_report(y_test, y_pred)\n",
        "    results.append((mdl_name,report))\n",
        "\n",
        "    print('finished training ',mdl_name)\n",
        "    print('')\n",
        "    print('the training time is: {} s'.format(np.round(time_end-time_start,2)))\n",
        "    print('')"
      ],
      "execution_count": 27,
      "outputs": [
        {
          "output_type": "stream",
          "text": [
            "begin training SVC\n",
            "finished training  SVC\n",
            "\n",
            "the training time is: 4.07 s\n",
            "\n",
            "begin training NB\n",
            "finished training  NB\n",
            "\n",
            "the training time is: 0.54 s\n",
            "\n",
            "begin training LR\n"
          ],
          "name": "stdout"
        },
        {
          "output_type": "stream",
          "text": [
            "/usr/local/lib/python3.6/dist-packages/sklearn/linear_model/_logistic.py:940: ConvergenceWarning: lbfgs failed to converge (status=1):\n",
            "STOP: TOTAL NO. of ITERATIONS REACHED LIMIT.\n",
            "\n",
            "Increase the number of iterations (max_iter) or scale the data as shown in:\n",
            "    https://scikit-learn.org/stable/modules/preprocessing.html\n",
            "Please also refer to the documentation for alternative solver options:\n",
            "    https://scikit-learn.org/stable/modules/linear_model.html#logistic-regression\n",
            "  extra_warning_msg=_LOGISTIC_SOLVER_CONVERGENCE_MSG)\n"
          ],
          "name": "stderr"
        },
        {
          "output_type": "stream",
          "text": [
            "finished training  LR\n",
            "\n",
            "the training time is: 229.53 s\n",
            "\n",
            "begin training RF\n",
            "finished training  RF\n",
            "\n",
            "the training time is: 518.34 s\n",
            "\n"
          ],
          "name": "stdout"
        }
      ]
    },
    {
      "cell_type": "code",
      "metadata": {
        "id": "CItPwDTRUWyN",
        "colab_type": "code",
        "colab": {
          "base_uri": "https://localhost:8080/",
          "height": 1000
        },
        "outputId": "ba17523a-c5fe-4451-b7e4-99d4a7811782"
      },
      "source": [
        "for i in range(len(results)):\n",
        "  print('model name: ', results[i][0])\n",
        "  print('')\n",
        "  print(results[i][1])\n",
        "  print('')"
      ],
      "execution_count": 28,
      "outputs": [
        {
          "output_type": "stream",
          "text": [
            "model name:  SVC\n",
            "\n",
            "              precision    recall  f1-score   support\n",
            "\n",
            "         Art       0.43      0.39      0.41       970\n",
            "      Comics       0.64      0.59      0.61      1003\n",
            "      Crafts       0.51      0.50      0.51       980\n",
            "       Dance       0.67      0.61      0.63      1001\n",
            "      Design       0.45      0.39      0.42      1007\n",
            "     Fashion       0.65      0.63      0.64      1004\n",
            "Film & Video       0.46      0.41      0.43      1063\n",
            "        Food       0.67      0.75      0.71       997\n",
            "       Games       0.59      0.55      0.57      1044\n",
            "  Journalism       0.41      0.38      0.39      1019\n",
            "       Music       0.70      0.68      0.69      1010\n",
            " Photography       0.52      0.52      0.52      1054\n",
            "  Publishing       0.36      0.34      0.35      1001\n",
            "  Technology       0.35      0.56      0.43      1001\n",
            "     Theater       0.53      0.54      0.54      1020\n",
            "\n",
            "    accuracy                           0.52     15174\n",
            "   macro avg       0.53      0.52      0.52     15174\n",
            "weighted avg       0.53      0.52      0.52     15174\n",
            "\n",
            "\n",
            "model name:  NB\n",
            "\n",
            "              precision    recall  f1-score   support\n",
            "\n",
            "         Art       0.27      0.43      0.33       970\n",
            "      Comics       0.58      0.63      0.60      1003\n",
            "      Crafts       0.52      0.53      0.53       980\n",
            "       Dance       0.58      0.65      0.61      1001\n",
            "      Design       0.49      0.41      0.44      1007\n",
            "     Fashion       0.65      0.61      0.63      1004\n",
            "Film & Video       0.58      0.36      0.45      1063\n",
            "        Food       0.65      0.75      0.69       997\n",
            "       Games       0.63      0.53      0.58      1044\n",
            "  Journalism       0.42      0.38      0.40      1019\n",
            "       Music       0.63      0.69      0.66      1010\n",
            " Photography       0.50      0.54      0.52      1054\n",
            "  Publishing       0.37      0.32      0.35      1001\n",
            "  Technology       0.53      0.46      0.49      1001\n",
            "     Theater       0.53      0.54      0.53      1020\n",
            "\n",
            "    accuracy                           0.52     15174\n",
            "   macro avg       0.53      0.52      0.52     15174\n",
            "weighted avg       0.53      0.52      0.52     15174\n",
            "\n",
            "\n",
            "model name:  LR\n",
            "\n",
            "              precision    recall  f1-score   support\n",
            "\n",
            "         Art       0.40      0.40      0.40       970\n",
            "      Comics       0.72      0.55      0.63      1003\n",
            "      Crafts       0.45      0.53      0.49       980\n",
            "       Dance       0.79      0.56      0.66      1001\n",
            "      Design       0.41      0.42      0.41      1007\n",
            "     Fashion       0.68      0.58      0.63      1004\n",
            "Film & Video       0.52      0.40      0.45      1063\n",
            "        Food       0.66      0.73      0.69       997\n",
            "       Games       0.61      0.53      0.56      1044\n",
            "  Journalism       0.37      0.40      0.38      1019\n",
            "       Music       0.74      0.65      0.69      1010\n",
            " Photography       0.55      0.49      0.52      1054\n",
            "  Publishing       0.35      0.37      0.36      1001\n",
            "  Technology       0.31      0.58      0.40      1001\n",
            "     Theater       0.56      0.54      0.55      1020\n",
            "\n",
            "    accuracy                           0.52     15174\n",
            "   macro avg       0.54      0.52      0.52     15174\n",
            "weighted avg       0.54      0.52      0.52     15174\n",
            "\n",
            "\n",
            "model name:  RF\n",
            "\n",
            "              precision    recall  f1-score   support\n",
            "\n",
            "         Art       0.14      0.51      0.22       970\n",
            "      Comics       0.68      0.51      0.59      1003\n",
            "      Crafts       0.49      0.42      0.45       980\n",
            "       Dance       0.69      0.56      0.61      1001\n",
            "      Design       0.42      0.26      0.32      1007\n",
            "     Fashion       0.64      0.56      0.60      1004\n",
            "Film & Video       0.55      0.35      0.43      1063\n",
            "        Food       0.66      0.65      0.66       997\n",
            "       Games       0.58      0.46      0.51      1044\n",
            "  Journalism       0.37      0.32      0.35      1019\n",
            "       Music       0.67      0.65      0.66      1010\n",
            " Photography       0.54      0.44      0.49      1054\n",
            "  Publishing       0.35      0.30      0.32      1001\n",
            "  Technology       0.48      0.38      0.42      1001\n",
            "     Theater       0.56      0.47      0.51      1020\n",
            "\n",
            "    accuracy                           0.46     15174\n",
            "   macro avg       0.52      0.46      0.48     15174\n",
            "weighted avg       0.52      0.46      0.48     15174\n",
            "\n",
            "\n"
          ],
          "name": "stdout"
        }
      ]
    },
    {
      "cell_type": "markdown",
      "metadata": {
        "id": "AZGsIQP7opb1",
        "colab_type": "text"
      },
      "source": [
        "**Observation**:\n",
        "\n",
        "Although the overall performance decreased for all model after resampling, the individual results improved for those categories with fewer samples previously. All four models showed good agreement in their performances.  "
      ]
    },
    {
      "cell_type": "markdown",
      "metadata": {
        "id": "wgT6hT_oqvyK",
        "colab_type": "text"
      },
      "source": [
        "### Name & sub category + Undersampling"
      ]
    },
    {
      "cell_type": "markdown",
      "metadata": {
        "id": "RHJL8X3pyKDV",
        "colab_type": "text"
      },
      "source": [
        "#### method 1"
      ]
    },
    {
      "cell_type": "code",
      "metadata": {
        "id": "KgN_vneeqw2Z",
        "colab_type": "code",
        "colab": {
          "base_uri": "https://localhost:8080/",
          "height": 558
        },
        "outputId": "a60afcc7-dd81-43a6-a091-d129b682f5a2"
      },
      "source": [
        "df['processed_sub_category'] = df['processed_sub_category'].apply(lambda x: title_cleaning(x))\n",
        "\n",
        "combined_text = df['processed_name'] + \" \" + df['processed_sub_category']\n",
        "labels = df['main_category']\n",
        "\n",
        "rus = RandomUnderSampler()\n",
        "\n",
        "vectorizer = Pipeline([('vect', CountVectorizer(ngram_range=(1,2))),\n",
        "                       ('tfidf', TfidfTransformer())\n",
        "                       ])\n",
        "time_vectorized_start = time.time()\n",
        "vectorized_matrix = vectorizer.fit_transform(combined_text)\n",
        "time_vectorized_end = time.time()\n",
        "\n",
        "# resample the data\n",
        "X_resampled, y_resampled = rus.fit_resample(vectorized_matrix,labels)\n",
        "\n",
        "X_train,X_test,y_train,y_test = train_test_split(X_resampled,y_resampled,\n",
        "                                                 test_size=0.3,\n",
        "                                                 random_state=123)\n",
        "\n",
        "\n",
        "print('finished vectorization, the running time is: {}s'.format(np.round(time_vectorized_end-time_vectorized_start,2)))\n",
        "\n",
        "results = []\n",
        "\n",
        "clf_models = {\n",
        "    \"SVC\": LinearSVC(),\n",
        "    \"NB\": MultinomialNB(),\n",
        "    \"LR\": LogisticRegression(multi_class='multinomial'),\n",
        "    \"RF\": RandomForestClassifier(max_depth=100)\n",
        "}\n",
        "\n",
        "for mdl_name in clf_models.keys():\n",
        "    print('begin training {}'.format(mdl_name))\n",
        "    time_start = time.time()\n",
        "\n",
        "    classifier = clf_models[mdl_name]\n",
        "  \n",
        "    classifier.fit(X_train, y_train)\n",
        "\n",
        "    y_pred = classifier.predict(X_test)\n",
        "    time_end = time.time()\n",
        "\n",
        "    report = classification_report(y_test, y_pred)\n",
        "    results.append((mdl_name,report))\n",
        "\n",
        "    print('finished training ',mdl_name)\n",
        "    print('')\n",
        "    print('the training time is: {} s'.format(np.round(time_end-time_start,2)))\n",
        "    print('')\n"
      ],
      "execution_count": 36,
      "outputs": [
        {
          "output_type": "stream",
          "text": [
            "/usr/local/lib/python3.6/dist-packages/sklearn/utils/deprecation.py:87: FutureWarning: Function safe_indexing is deprecated; safe_indexing is deprecated in version 0.22 and will be removed in version 0.24.\n",
            "  warnings.warn(msg, category=FutureWarning)\n"
          ],
          "name": "stderr"
        },
        {
          "output_type": "stream",
          "text": [
            "finished vectorization, the running time is: 9.16s\n",
            "begin training SVC\n",
            "finished training  SVC\n",
            "\n",
            "the training time is: 1.7 s\n",
            "\n",
            "begin training NB\n",
            "finished training  NB\n",
            "\n",
            "the training time is: 0.67 s\n",
            "\n",
            "begin training LR\n"
          ],
          "name": "stdout"
        },
        {
          "output_type": "stream",
          "text": [
            "/usr/local/lib/python3.6/dist-packages/sklearn/linear_model/_logistic.py:940: ConvergenceWarning: lbfgs failed to converge (status=1):\n",
            "STOP: TOTAL NO. of ITERATIONS REACHED LIMIT.\n",
            "\n",
            "Increase the number of iterations (max_iter) or scale the data as shown in:\n",
            "    https://scikit-learn.org/stable/modules/preprocessing.html\n",
            "Please also refer to the documentation for alternative solver options:\n",
            "    https://scikit-learn.org/stable/modules/linear_model.html#logistic-regression\n",
            "  extra_warning_msg=_LOGISTIC_SOLVER_CONVERGENCE_MSG)\n"
          ],
          "name": "stderr"
        },
        {
          "output_type": "stream",
          "text": [
            "finished training  LR\n",
            "\n",
            "the training time is: 279.85 s\n",
            "\n",
            "begin training RF\n",
            "finished training  RF\n",
            "\n",
            "the training time is: 233.25 s\n",
            "\n"
          ],
          "name": "stdout"
        }
      ]
    },
    {
      "cell_type": "code",
      "metadata": {
        "id": "hKExdg9Nt8GM",
        "colab_type": "code",
        "colab": {
          "base_uri": "https://localhost:8080/",
          "height": 1000
        },
        "outputId": "ffef5052-a0dd-4103-83db-7a41a6755493"
      },
      "source": [
        "for i in range(len(results)):\n",
        "  print('model name: ', results[i][0])\n",
        "  print('')\n",
        "  print(results[i][1])\n",
        "  print('')"
      ],
      "execution_count": 37,
      "outputs": [
        {
          "output_type": "stream",
          "text": [
            "model name:  SVC\n",
            "\n",
            "              precision    recall  f1-score   support\n",
            "\n",
            "         Art       0.99      0.99      0.99       970\n",
            "      Comics       0.99      0.99      0.99      1003\n",
            "      Crafts       0.99      0.99      0.99       980\n",
            "       Dance       0.97      1.00      0.98      1001\n",
            "      Design       1.00      1.00      1.00      1007\n",
            "     Fashion       0.99      1.00      0.99      1004\n",
            "Film & Video       0.99      0.98      0.99      1063\n",
            "        Food       0.98      0.99      0.99       997\n",
            "       Games       1.00      1.00      1.00      1044\n",
            "  Journalism       0.92      0.97      0.95      1019\n",
            "       Music       0.99      0.99      0.99      1010\n",
            " Photography       0.99      0.99      0.99      1054\n",
            "  Publishing       0.99      0.98      0.99      1001\n",
            "  Technology       0.98      0.92      0.95      1001\n",
            "     Theater       0.98      0.98      0.98      1020\n",
            "\n",
            "    accuracy                           0.98     15174\n",
            "   macro avg       0.98      0.98      0.98     15174\n",
            "weighted avg       0.98      0.98      0.98     15174\n",
            "\n",
            "\n",
            "model name:  NB\n",
            "\n",
            "              precision    recall  f1-score   support\n",
            "\n",
            "         Art       0.97      0.94      0.95       970\n",
            "      Comics       0.96      0.99      0.97      1003\n",
            "      Crafts       0.97      0.97      0.97       980\n",
            "       Dance       0.96      0.99      0.98      1001\n",
            "      Design       0.96      0.97      0.97      1007\n",
            "     Fashion       0.98      0.97      0.98      1004\n",
            "Film & Video       0.97      0.95      0.96      1063\n",
            "        Food       0.97      0.99      0.98       997\n",
            "       Games       0.96      1.00      0.98      1044\n",
            "  Journalism       0.93      0.87      0.90      1019\n",
            "       Music       0.96      0.97      0.96      1010\n",
            " Photography       0.94      0.98      0.96      1054\n",
            "  Publishing       0.97      0.95      0.96      1001\n",
            "  Technology       0.95      0.92      0.93      1001\n",
            "     Theater       0.97      0.98      0.97      1020\n",
            "\n",
            "    accuracy                           0.96     15174\n",
            "   macro avg       0.96      0.96      0.96     15174\n",
            "weighted avg       0.96      0.96      0.96     15174\n",
            "\n",
            "\n",
            "model name:  LR\n",
            "\n",
            "              precision    recall  f1-score   support\n",
            "\n",
            "         Art       0.97      0.98      0.97       970\n",
            "      Comics       0.99      0.99      0.99      1003\n",
            "      Crafts       0.99      0.99      0.99       980\n",
            "       Dance       0.98      0.99      0.99      1001\n",
            "      Design       0.99      0.99      0.99      1007\n",
            "     Fashion       0.99      1.00      0.99      1004\n",
            "Film & Video       0.99      0.96      0.97      1063\n",
            "        Food       0.98      1.00      0.99       997\n",
            "       Games       1.00      0.99      0.99      1044\n",
            "  Journalism       0.91      0.97      0.94      1019\n",
            "       Music       0.98      0.98      0.98      1010\n",
            " Photography       0.99      0.99      0.99      1054\n",
            "  Publishing       0.99      0.98      0.98      1001\n",
            "  Technology       0.96      0.91      0.93      1001\n",
            "     Theater       0.99      0.98      0.98      1020\n",
            "\n",
            "    accuracy                           0.98     15174\n",
            "   macro avg       0.98      0.98      0.98     15174\n",
            "weighted avg       0.98      0.98      0.98     15174\n",
            "\n",
            "\n",
            "model name:  RF\n",
            "\n",
            "              precision    recall  f1-score   support\n",
            "\n",
            "         Art       0.94      0.98      0.96       970\n",
            "      Comics       0.98      0.98      0.98      1003\n",
            "      Crafts       0.98      0.97      0.98       980\n",
            "       Dance       0.97      0.98      0.98      1001\n",
            "      Design       0.98      0.99      0.98      1007\n",
            "     Fashion       0.98      0.98      0.98      1004\n",
            "Film & Video       0.97      0.97      0.97      1063\n",
            "        Food       0.97      0.99      0.98       997\n",
            "       Games       0.92      1.00      0.96      1044\n",
            "  Journalism       0.88      0.84      0.86      1019\n",
            "       Music       0.97      0.97      0.97      1010\n",
            " Photography       0.95      0.95      0.95      1054\n",
            "  Publishing       0.97      0.97      0.97      1001\n",
            "  Technology       0.98      0.87      0.92      1001\n",
            "     Theater       0.97      0.97      0.97      1020\n",
            "\n",
            "    accuracy                           0.96     15174\n",
            "   macro avg       0.96      0.96      0.96     15174\n",
            "weighted avg       0.96      0.96      0.96     15174\n",
            "\n",
            "\n"
          ],
          "name": "stdout"
        }
      ]
    },
    {
      "cell_type": "markdown",
      "metadata": {
        "id": "Qfye-kN1jOne",
        "colab_type": "text"
      },
      "source": [
        "**Observation**:\n",
        "\n",
        "With undersampling, the class imbalance issue was resolved, so all categories had equal amount of samples to be characterized by all models. In addition to the specificity effect provided by the sub category, all models delievered almost perfect performance "
      ]
    },
    {
      "cell_type": "markdown",
      "metadata": {
        "id": "dZRRhe2f1ikq",
        "colab_type": "text"
      },
      "source": [
        "### Numeric features"
      ]
    },
    {
      "cell_type": "code",
      "metadata": {
        "id": "w66auoTVUXIs",
        "colab_type": "code",
        "colab": {}
      },
      "source": [
        "\n",
        "df['name_is_question'] = df['name_is_question'].map({True:1,False:0})\n",
        "df['name_is_question'].fillna(0,inplace=True)\n",
        "\n",
        "numeric_features = df[['log_goal','duration','num_word','num_1st_letter_uppercase','num_capword']]\n",
        "is_question_col = pd.DataFrame.sparse.from_spmatrix(OneHotEncoder().fit_transform(df['name_is_question'].values.reshape(-1,1))).iloc[:,1]"
      ],
      "execution_count": 110,
      "outputs": []
    },
    {
      "cell_type": "code",
      "metadata": {
        "id": "wLapK5wH4_wJ",
        "colab_type": "code",
        "colab": {
          "base_uri": "https://localhost:8080/",
          "height": 608
        },
        "outputId": "e8ab7b70-47ec-4ebc-d268-85f8d4206736"
      },
      "source": [
        "scaler = MinMaxScaler()\n",
        "numeric_features_sc = pd.DataFrame(scaler.fit_transform(numeric_features),columns=numeric_features.columns)\n",
        "\n",
        "features = pd.concat([numeric_features_sc,is_question_col],axis=1)\n",
        "labels = df['main_category']\n",
        "\n",
        "X_train, X_test, y_train, y_test = train_test_split(features, \n",
        "                                                    labels, \n",
        "                                                    test_size=0.3, \n",
        "                                                    random_state = 123)\n",
        "\n",
        "results = []\n",
        "\n",
        "clf_models = {\n",
        "    \"SVC\": LinearSVC(),\n",
        "    \"NB\": MultinomialNB(),\n",
        "    \"LR\": LogisticRegression(multi_class='multinomial'),\n",
        "    \"RF\": RandomForestClassifier(max_depth=100)\n",
        "}\n",
        "\n",
        "for mdl_name in clf_models.keys():\n",
        "    print('begin training {}'.format(mdl_name))\n",
        "    time_start = time.time()\n",
        "\n",
        "    classifier = clf_models[mdl_name]\n",
        "  \n",
        "    classifier.fit(X_train, y_train)\n",
        "\n",
        "    y_pred = classifier.predict(X_test)\n",
        "    time_end = time.time()\n",
        "\n",
        "    report = classification_report(y_test, y_pred)\n",
        "    results.append((mdl_name,report))\n",
        "\n",
        "    print('finished training ',mdl_name)\n",
        "    print('')\n",
        "    print('the training time is: {} s'.format(np.round(time_end-time_start,2)))\n",
        "    print('')"
      ],
      "execution_count": 114,
      "outputs": [
        {
          "output_type": "stream",
          "text": [
            "begin training SVC\n"
          ],
          "name": "stdout"
        },
        {
          "output_type": "stream",
          "text": [
            "/usr/local/lib/python3.6/dist-packages/sklearn/metrics/_classification.py:1272: UndefinedMetricWarning: Precision and F-score are ill-defined and being set to 0.0 in labels with no predicted samples. Use `zero_division` parameter to control this behavior.\n",
            "  _warn_prf(average, modifier, msg_start, len(result))\n"
          ],
          "name": "stderr"
        },
        {
          "output_type": "stream",
          "text": [
            "finished training  SVC\n",
            "\n",
            "the training time is: 74.3 s\n",
            "\n",
            "begin training NB\n"
          ],
          "name": "stdout"
        },
        {
          "output_type": "stream",
          "text": [
            "/usr/local/lib/python3.6/dist-packages/sklearn/metrics/_classification.py:1272: UndefinedMetricWarning: Precision and F-score are ill-defined and being set to 0.0 in labels with no predicted samples. Use `zero_division` parameter to control this behavior.\n",
            "  _warn_prf(average, modifier, msg_start, len(result))\n"
          ],
          "name": "stderr"
        },
        {
          "output_type": "stream",
          "text": [
            "finished training  NB\n",
            "\n",
            "the training time is: 1.35 s\n",
            "\n",
            "begin training LR\n"
          ],
          "name": "stdout"
        },
        {
          "output_type": "stream",
          "text": [
            "/usr/local/lib/python3.6/dist-packages/sklearn/linear_model/_logistic.py:940: ConvergenceWarning: lbfgs failed to converge (status=1):\n",
            "STOP: TOTAL NO. of ITERATIONS REACHED LIMIT.\n",
            "\n",
            "Increase the number of iterations (max_iter) or scale the data as shown in:\n",
            "    https://scikit-learn.org/stable/modules/preprocessing.html\n",
            "Please also refer to the documentation for alternative solver options:\n",
            "    https://scikit-learn.org/stable/modules/linear_model.html#logistic-regression\n",
            "  extra_warning_msg=_LOGISTIC_SOLVER_CONVERGENCE_MSG)\n",
            "/usr/local/lib/python3.6/dist-packages/sklearn/metrics/_classification.py:1272: UndefinedMetricWarning: Precision and F-score are ill-defined and being set to 0.0 in labels with no predicted samples. Use `zero_division` parameter to control this behavior.\n",
            "  _warn_prf(average, modifier, msg_start, len(result))\n"
          ],
          "name": "stderr"
        },
        {
          "output_type": "stream",
          "text": [
            "finished training  LR\n",
            "\n",
            "the training time is: 32.29 s\n",
            "\n",
            "begin training RF\n",
            "finished training  RF\n",
            "\n",
            "the training time is: 46.52 s\n",
            "\n"
          ],
          "name": "stdout"
        }
      ]
    },
    {
      "cell_type": "code",
      "metadata": {
        "id": "zxXwtBn_7BX5",
        "colab_type": "code",
        "colab": {
          "base_uri": "https://localhost:8080/",
          "height": 1000
        },
        "outputId": "d3b918cf-aa24-402f-9026-3a6be1210faf"
      },
      "source": [
        "for i in range(len(results)):\n",
        "  print('model name: ', results[i][0])\n",
        "  print('')\n",
        "  print(results[i][1])\n",
        "  print('')"
      ],
      "execution_count": 115,
      "outputs": [
        {
          "output_type": "stream",
          "text": [
            "model name:  SVC\n",
            "\n",
            "              precision    recall  f1-score   support\n",
            "\n",
            "         Art       0.00      0.00      0.00      7145\n",
            "      Comics       0.00      0.00      0.00      2637\n",
            "      Crafts       0.00      0.00      0.00      2129\n",
            "       Dance       0.00      0.00      0.00      1035\n",
            "      Design       0.00      0.00      0.00      7214\n",
            "     Fashion       0.00      0.00      0.00      5481\n",
            "Film & Video       0.21      0.71      0.32     17406\n",
            "        Food       0.00      0.00      0.00      6425\n",
            "       Games       0.00      0.00      0.00      8352\n",
            "  Journalism       0.00      0.00      0.00      1242\n",
            "       Music       0.20      0.48      0.28     14032\n",
            " Photography       0.00      0.00      0.00      2902\n",
            "  Publishing       0.09      0.00      0.00     10125\n",
            "  Technology       0.26      0.10      0.14      7769\n",
            "     Theater       0.00      0.00      0.00      3043\n",
            "\n",
            "    accuracy                           0.21     96937\n",
            "   macro avg       0.05      0.09      0.05     96937\n",
            "weighted avg       0.10      0.21      0.11     96937\n",
            "\n",
            "\n",
            "model name:  NB\n",
            "\n",
            "              precision    recall  f1-score   support\n",
            "\n",
            "         Art       0.00      0.00      0.00      7145\n",
            "      Comics       0.00      0.00      0.00      2637\n",
            "      Crafts       0.00      0.00      0.00      2129\n",
            "       Dance       0.00      0.00      0.00      1035\n",
            "      Design       0.00      0.00      0.00      7214\n",
            "     Fashion       0.00      0.00      0.00      5481\n",
            "Film & Video       0.18      1.00      0.30     17406\n",
            "        Food       0.00      0.00      0.00      6425\n",
            "       Games       0.00      0.00      0.00      8352\n",
            "  Journalism       0.00      0.00      0.00      1242\n",
            "       Music       0.00      0.00      0.00     14032\n",
            " Photography       0.00      0.00      0.00      2902\n",
            "  Publishing       0.00      0.00      0.00     10125\n",
            "  Technology       0.00      0.00      0.00      7769\n",
            "     Theater       0.00      0.00      0.00      3043\n",
            "\n",
            "    accuracy                           0.18     96937\n",
            "   macro avg       0.01      0.07      0.02     96937\n",
            "weighted avg       0.03      0.18      0.05     96937\n",
            "\n",
            "\n",
            "model name:  LR\n",
            "\n",
            "              precision    recall  f1-score   support\n",
            "\n",
            "         Art       0.17      0.02      0.04      7145\n",
            "      Comics       0.00      0.00      0.00      2637\n",
            "      Crafts       0.00      0.00      0.00      2129\n",
            "       Dance       0.00      0.00      0.00      1035\n",
            "      Design       0.14      0.00      0.00      7214\n",
            "     Fashion       0.00      0.00      0.00      5481\n",
            "Film & Video       0.20      0.69      0.31     17406\n",
            "        Food       0.00      0.00      0.00      6425\n",
            "       Games       0.00      0.00      0.00      8352\n",
            "  Journalism       0.00      0.00      0.00      1242\n",
            "       Music       0.21      0.47      0.29     14032\n",
            " Photography       0.00      0.00      0.00      2902\n",
            "  Publishing       0.19      0.00      0.01     10125\n",
            "  Technology       0.25      0.17      0.20      7769\n",
            "     Theater       0.00      0.00      0.00      3043\n",
            "\n",
            "    accuracy                           0.21     96937\n",
            "   macro avg       0.08      0.09      0.06     96937\n",
            "weighted avg       0.13      0.21      0.12     96937\n",
            "\n",
            "\n",
            "model name:  RF\n",
            "\n",
            "              precision    recall  f1-score   support\n",
            "\n",
            "         Art       0.11      0.09      0.10      7145\n",
            "      Comics       0.05      0.03      0.03      2637\n",
            "      Crafts       0.05      0.02      0.03      2129\n",
            "       Dance       0.02      0.01      0.01      1035\n",
            "      Design       0.13      0.10      0.11      7214\n",
            "     Fashion       0.07      0.05      0.06      5481\n",
            "Film & Video       0.22      0.33      0.26     17406\n",
            "        Food       0.13      0.11      0.12      6425\n",
            "       Games       0.12      0.10      0.11      8352\n",
            "  Journalism       0.01      0.01      0.01      1242\n",
            "       Music       0.21      0.29      0.24     14032\n",
            " Photography       0.06      0.03      0.04      2902\n",
            "  Publishing       0.13      0.13      0.13     10125\n",
            "  Technology       0.19      0.20      0.19      7769\n",
            "     Theater       0.05      0.03      0.04      3043\n",
            "\n",
            "    accuracy                           0.17     96937\n",
            "   macro avg       0.10      0.10      0.10     96937\n",
            "weighted avg       0.15      0.17      0.15     96937\n",
            "\n",
            "\n"
          ],
          "name": "stdout"
        }
      ]
    },
    {
      "cell_type": "markdown",
      "metadata": {
        "id": "ZCZX7EJApsV-",
        "colab_type": "text"
      },
      "source": [
        "**Observation**:\n",
        "\n",
        "Only using the numeric features proved to be ineffective because almost all categories processed simialr numeric patterns. Only the characteristic of Film & Video was able to be identified by the models, though the results were still very poor. In short, numeric features did not seem to be helpful "
      ]
    },
    {
      "cell_type": "markdown",
      "metadata": {
        "id": "dFtNQ7JXCGpS",
        "colab_type": "text"
      },
      "source": [
        "### GridSearch\n",
        "\n",
        "The grid search was taking a much long time than expected, so I was not able to complete the process due to time limitation. But the following codes were able to run succesfully, so it would eventually yield the best parameters for Logistic Regression. "
      ]
    },
    {
      "cell_type": "markdown",
      "metadata": {
        "id": "wcTLS4lTE_Cd",
        "colab_type": "text"
      },
      "source": [
        "Tuning of Logistic Regression"
      ]
    },
    {
      "cell_type": "code",
      "metadata": {
        "id": "nW25jVnjH8NB",
        "colab_type": "code",
        "colab": {}
      },
      "source": [
        "rus = RandomUnderSampler()\n",
        "\n",
        "project_names = df['processed_name']\n",
        "labels = df['main_category']\n",
        "\n",
        "# vectorize the project names\n",
        "vectorizer = Pipeline([('vect', CountVectorizer(ngram_range=(1,2))),\n",
        "                       ('tfidf', TfidfTransformer())\n",
        "                       ])"
      ],
      "execution_count": 19,
      "outputs": []
    },
    {
      "cell_type": "code",
      "metadata": {
        "id": "ED45ktWUIDtm",
        "colab_type": "code",
        "colab": {
          "base_uri": "https://localhost:8080/",
          "height": 87
        },
        "outputId": "0041d7f4-fb21-4550-ff90-45b64253846a"
      },
      "source": [
        "time_vectorized_start = time.time()\n",
        "vectorized_matrix = vectorizer.fit_transform(project_names)\n",
        "time_vectorized_end = time.time()\n",
        "\n",
        "# resample the data\n",
        "X_resampled, y_resampled = rus.fit_resample(vectorized_matrix,labels)\n",
        "\n",
        "X_train,X_test,y_train,y_test = train_test_split(X_resampled,y_resampled,\n",
        "                                                 test_size=0.3,\n",
        "                                                 random_state=123)\n",
        "\n",
        "\n",
        "print('finished vectorization, the running time is: {}s'.format(np.round(time_vectorized_end-time_vectorized_start,2)))"
      ],
      "execution_count": 45,
      "outputs": [
        {
          "output_type": "stream",
          "text": [
            "finished vectorization, the running time is: 11.1s\n"
          ],
          "name": "stdout"
        },
        {
          "output_type": "stream",
          "text": [
            "/usr/local/lib/python3.6/dist-packages/sklearn/utils/deprecation.py:87: FutureWarning: Function safe_indexing is deprecated; safe_indexing is deprecated in version 0.22 and will be removed in version 0.24.\n",
            "  warnings.warn(msg, category=FutureWarning)\n"
          ],
          "name": "stderr"
        }
      ]
    },
    {
      "cell_type": "code",
      "metadata": {
        "id": "hhNKKG0IB1Bw",
        "colab_type": "code",
        "colab": {}
      },
      "source": [
        "parameters = {\n",
        "    'max_iter': (100,150,180),\n",
        "    'C': (0.01,1, 10)\n",
        "}\n",
        "\n",
        "classifier = LogisticRegression()\n",
        "\n",
        "\n",
        "random_search =RandomizedSearchCV(classifier, parameters, cv=3, n_jobs=-1)\n",
        "\n",
        "time_start = time.time()\n",
        "print('Begin grid searching')\n",
        "print('')\n",
        "random_search.fit(X_train, y_train)\n",
        "\n",
        "time_end = time.time()\n",
        "\n",
        "print('finished grid searching, the running time is: {}s'.format(np.round(time_end-time_start,2)))\n",
        "print('')\n",
        "print(\"Best parameters set:\")\n",
        "best_parameters = random_search.best_estimator_.get_params()\n",
        "\n",
        "for param_name in sorted(parameters.keys()):\n",
        "  print(\"\\t%s: %r\" % (param_name, best_parameters[param_name]))"
      ],
      "execution_count": null,
      "outputs": []
    },
    {
      "cell_type": "code",
      "metadata": {
        "id": "WwdiRFw6d6KH",
        "colab_type": "code",
        "colab": {}
      },
      "source": [
        "random_search.cv_results_"
      ],
      "execution_count": null,
      "outputs": []
    },
    {
      "cell_type": "code",
      "metadata": {
        "id": "an9wuZ4mHMxn",
        "colab_type": "code",
        "colab": {}
      },
      "source": [
        "y_pred = random_search.predict(X_test)\n",
        "print(classification_report(y_test, y_pred))"
      ],
      "execution_count": null,
      "outputs": []
    },
    {
      "cell_type": "markdown",
      "metadata": {
        "id": "li9HMaaIndmP",
        "colab_type": "text"
      },
      "source": [
        "## Conclusion \n",
        "\n",
        "1. it was found that the name of projects and their corresponding subcategories were sufficient enough to classify the main category of projects. \n",
        "\n",
        "2. the numeric features of project names, goal of projects, and project duration did not have high influence in determining the main category of projects.  \n",
        "\n",
        "3. it could be argued that using subcategories as one of the predictors somewhat defeated the purpose of classifying the main cateogries, because subcategories typically come after main category being selected. \n",
        "\n",
        "4. Between TFIDF and Word2Vec, they both had similar performance. TFIDF worked seamlessly with all models whereas Word2Vec only worked well with Logistic Regression and Random Forest (Word2Vec could also work with SVC but the execution time would be very long). \n",
        "\n",
        "5. For the models who could work well with both embedding techniques, Logistic Regression was better suited with TFIDF and Random Forest was better with Word2Vec\n",
        "\n",
        "6. Among all models, LinearSVC and Logistic Regression had similar performance but LinearSVC had a mush shorter computation time. Although Naive Bayes had the fastest speed, it did not perform as well as the aforementioned two models. Random Forest required the longest time to train due to the high number of textual features in the dataset. \n",
        "\n",
        "7. Undersampling was shown to be effective to resolve the class imbalance issue\n",
        "\n",
        "Future work:\n",
        "\n",
        "1. Trying dimensionality reduction technique such as SVD. In fact, I attempted to incorporate a truncatedSVD but the session ran out of memory several times. \n",
        "\n",
        "2. Adjusting the parameters of TFIDF and Word2Vec to reduce the memory usage while maintain the performance. I did not set a maximum features for both TFIDF and Word2Vec, resulting a large predicting matirx/dictionary.  \n",
        "\n",
        "3. Trying other embedding techniques. Project names are typically unique such that there are many rare words. The meaning of the name would intuitively be more important than the frequency of words, so using embedding technqiues that capture the position of words would be helpful. "
      ]
    },
    {
      "cell_type": "code",
      "metadata": {
        "id": "X_sIOwKovRNq",
        "colab_type": "code",
        "colab": {}
      },
      "source": [
        ""
      ],
      "execution_count": null,
      "outputs": []
    }
  ]
}