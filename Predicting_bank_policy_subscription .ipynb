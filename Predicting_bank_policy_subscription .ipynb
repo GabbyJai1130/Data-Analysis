{
 "cells": [
  {
   "cell_type": "markdown",
   "metadata": {
    "ExecuteTime": {
     "end_time": "2019-11-14T20:13:35.121464Z",
     "start_time": "2019-11-14T20:13:35.105508Z"
    }
   },
   "source": [
    "<h2>Description:</h2> \n",
    "\n",
    "The dataset contains the clients information collected through campaign by portueguese bank institution, so that we would know which clients the bank should target so that the clients will subscribe to the long term deposit scheme of the bank.\n",
    "\n",
    "<br>\n",
    "The dataset consist of 20 attributes and one class label which is the binary valued attribute indicating whether the client has subscribe the scheme or not.\n",
    "\n",
    "\n",
    "<h2>Features: Clients Data</h2>\n",
    "\n",
    "1 - age (numeric)<br>\n",
    "\n",
    "2 - job : type of job (categorical: \"admin.\",\"blue-collar\",\"entrepreneur\",\"housemaid\",\"management\",\"retired\",\"self-employed\",\"services\",\"student\",\"technician\",\"unemployed\",\"unknown\")<br>\n",
    "\n",
    "3 - marital : marital status (categorical: \"divorced\",\"married\",\"single\",\"unknown\"; note: \"divorced\" means divorced or widowed)<br>\n",
    "\n",
    "4 - education (categorical: \"basic.4y\",\"basic.6y\",\"basic.9y\",\"high.school\",\"illiterate\",\"professional.course\",\"university.degree\",\"unknown\")<br>\n",
    "\n",
    "5 - default: has credit in default? (categorical: \"no\",\"yes\",\"unknown\")<br>\n",
    "\n",
    "6 - housing: has housing loan? (categorical: \"no\",\"yes\",\"unknown\")<br>\n",
    "\n",
    "7 - loan: has personal loan? (categorical: \"no\",\"yes\",\"unknown\")\n",
    "\n",
    "<h2>Features related to the last contact of the current campaign</h2>\n",
    "\n",
    "8 - contact: contact communication type (categorical: \"cellular\",\"telephone\")<br> \n",
    "\n",
    "9 - month: last contact month of year (categorical: \"jan\", \"feb\", \"mar\", ..., \"nov\", \"dec\")<br>\n",
    "\n",
    "10 - day_of_week: last contact day of the week (categorical: \"mon\",\"tue\",\"wed\",\"thu\",\"fri\")<br>\n",
    "\n",
    "11 - duration: last contact duration, in seconds (numeric).\n",
    "\n",
    "<h2>Other Features</h2>\n",
    "\n",
    "12 - campaign: number of contacts performed during this campaign and for this client (numeric, includes last contact)<br>\n",
    "\n",
    "13 - pdays: number of days that passed by after the client was last contacted from a previous campaign (numeric; 999 means client was not previously contacted)<br>\n",
    "\n",
    "14 - previous: number of contacts performed before this campaign and for this client (numeric)<br>\n",
    "\n",
    "15 - poutcome: outcome of the previous marketing campaign (categorical: \"failure\",\"nonexistent\",\"success\")\n",
    "\n",
    "<h2>Social and economic context attributes</h2>\n",
    "\n",
    "16 - emp.var.rate: employment variation rate - quarterly indicator (numeric)<br>\n",
    "\n",
    "17 - cons.price.idx: consumer price index - monthly indicator (numeric)     <br>\n",
    "\n",
    "18 - cons.conf.idx: consumer confidence index - monthly indicator (numeric)     <br>\n",
    "\n",
    "19 - euribor3m: euribor 3 month rate - daily indicator (numeric)<br>\n",
    "\n",
    "20 - nr.employed: number of employees - quarterly indicator (numeric)\n",
    "\n",
    "<h2>Output variable (desired target):</h2>\n",
    "\n",
    "21 - y - has the client subscribed a term deposit? (binary: \"yes\",\"no\")<br>"
   ]
  },
  {
   "cell_type": "code",
   "execution_count": 148,
   "metadata": {
    "ExecuteTime": {
     "end_time": "2019-11-14T22:56:29.507378Z",
     "start_time": "2019-11-14T22:56:29.500397Z"
    }
   },
   "outputs": [],
   "source": [
    "import pandas as pd\n",
    "import numpy as np\n",
    "import matplotlib.pyplot as plt\n",
    "\n",
    "from imblearn.under_sampling import RandomUnderSampler\n",
    "from sklearn.preprocessing import StandardScaler, LabelEncoder, OneHotEncoder\n",
    "from sklearn.model_selection import train_test_split\n",
    "from sklearn.ensemble import RandomForestClassifier\n",
    "from sklearn.linear_model import LogisticRegression\n",
    "\n",
    "from sklearn.metrics import classification_report"
   ]
  },
  {
   "cell_type": "code",
   "execution_count": 22,
   "metadata": {
    "ExecuteTime": {
     "end_time": "2019-11-14T20:24:40.743702Z",
     "start_time": "2019-11-14T20:24:40.522291Z"
    }
   },
   "outputs": [],
   "source": [
    "df = pd.read_csv(\"bank-additional-full.csv\",\";\")"
   ]
  },
  {
   "cell_type": "code",
   "execution_count": 23,
   "metadata": {
    "ExecuteTime": {
     "end_time": "2019-11-14T20:24:43.101973Z",
     "start_time": "2019-11-14T20:24:43.008220Z"
    }
   },
   "outputs": [
    {
     "name": "stdout",
     "output_type": "stream",
     "text": [
      "<class 'pandas.core.frame.DataFrame'>\n",
      "RangeIndex: 41188 entries, 0 to 41187\n",
      "Data columns (total 21 columns):\n",
      "age               41188 non-null int64\n",
      "job               41188 non-null object\n",
      "marital           41188 non-null object\n",
      "education         41188 non-null object\n",
      "default           41188 non-null object\n",
      "housing           41188 non-null object\n",
      "loan              41188 non-null object\n",
      "contact           41188 non-null object\n",
      "month             41188 non-null object\n",
      "day_of_week       41188 non-null object\n",
      "duration          41188 non-null int64\n",
      "campaign          41188 non-null int64\n",
      "pdays             41188 non-null int64\n",
      "previous          41188 non-null int64\n",
      "poutcome          41188 non-null object\n",
      "emp.var.rate      41188 non-null float64\n",
      "cons.price.idx    41188 non-null float64\n",
      "cons.conf.idx     41188 non-null float64\n",
      "euribor3m         41188 non-null float64\n",
      "nr.employed       41188 non-null float64\n",
      "y                 41188 non-null object\n",
      "dtypes: float64(5), int64(5), object(11)\n",
      "memory usage: 6.6+ MB\n"
     ]
    }
   ],
   "source": [
    "df.info()"
   ]
  },
  {
   "cell_type": "code",
   "execution_count": 24,
   "metadata": {
    "ExecuteTime": {
     "end_time": "2019-11-14T20:24:45.467269Z",
     "start_time": "2019-11-14T20:24:45.406431Z"
    }
   },
   "outputs": [
    {
     "data": {
      "text/plain": [
       "age               0\n",
       "job               0\n",
       "marital           0\n",
       "education         0\n",
       "default           0\n",
       "housing           0\n",
       "loan              0\n",
       "contact           0\n",
       "month             0\n",
       "day_of_week       0\n",
       "duration          0\n",
       "campaign          0\n",
       "pdays             0\n",
       "previous          0\n",
       "poutcome          0\n",
       "emp.var.rate      0\n",
       "cons.price.idx    0\n",
       "cons.conf.idx     0\n",
       "euribor3m         0\n",
       "nr.employed       0\n",
       "y                 0\n",
       "dtype: int64"
      ]
     },
     "execution_count": 24,
     "metadata": {},
     "output_type": "execute_result"
    }
   ],
   "source": [
    "df.isnull().sum()"
   ]
  },
  {
   "cell_type": "code",
   "execution_count": 35,
   "metadata": {
    "ExecuteTime": {
     "end_time": "2019-11-14T20:44:43.504492Z",
     "start_time": "2019-11-14T20:44:43.469584Z"
    }
   },
   "outputs": [],
   "source": [
    "df['y'].replace('no',0,inplace = True)\n",
    "df['y'].replace('yes',1,inplace = True)"
   ]
  },
  {
   "cell_type": "code",
   "execution_count": 36,
   "metadata": {
    "ExecuteTime": {
     "end_time": "2019-11-14T20:44:45.293708Z",
     "start_time": "2019-11-14T20:44:45.242844Z"
    }
   },
   "outputs": [
    {
     "data": {
      "text/html": [
       "<div>\n",
       "<style scoped>\n",
       "    .dataframe tbody tr th:only-of-type {\n",
       "        vertical-align: middle;\n",
       "    }\n",
       "\n",
       "    .dataframe tbody tr th {\n",
       "        vertical-align: top;\n",
       "    }\n",
       "\n",
       "    .dataframe thead th {\n",
       "        text-align: right;\n",
       "    }\n",
       "</style>\n",
       "<table border=\"1\" class=\"dataframe\">\n",
       "  <thead>\n",
       "    <tr style=\"text-align: right;\">\n",
       "      <th></th>\n",
       "      <th>age</th>\n",
       "      <th>job</th>\n",
       "      <th>marital</th>\n",
       "      <th>education</th>\n",
       "      <th>default</th>\n",
       "      <th>housing</th>\n",
       "      <th>loan</th>\n",
       "      <th>contact</th>\n",
       "      <th>month</th>\n",
       "      <th>day_of_week</th>\n",
       "      <th>...</th>\n",
       "      <th>campaign</th>\n",
       "      <th>pdays</th>\n",
       "      <th>previous</th>\n",
       "      <th>poutcome</th>\n",
       "      <th>emp.var.rate</th>\n",
       "      <th>cons.price.idx</th>\n",
       "      <th>cons.conf.idx</th>\n",
       "      <th>euribor3m</th>\n",
       "      <th>nr.employed</th>\n",
       "      <th>y</th>\n",
       "    </tr>\n",
       "  </thead>\n",
       "  <tbody>\n",
       "    <tr>\n",
       "      <th>0</th>\n",
       "      <td>56</td>\n",
       "      <td>housemaid</td>\n",
       "      <td>married</td>\n",
       "      <td>basic.4y</td>\n",
       "      <td>no</td>\n",
       "      <td>no</td>\n",
       "      <td>no</td>\n",
       "      <td>telephone</td>\n",
       "      <td>may</td>\n",
       "      <td>mon</td>\n",
       "      <td>...</td>\n",
       "      <td>1</td>\n",
       "      <td>999</td>\n",
       "      <td>0</td>\n",
       "      <td>nonexistent</td>\n",
       "      <td>1.1</td>\n",
       "      <td>93.994</td>\n",
       "      <td>-36.4</td>\n",
       "      <td>4.857</td>\n",
       "      <td>5191.0</td>\n",
       "      <td>0</td>\n",
       "    </tr>\n",
       "    <tr>\n",
       "      <th>1</th>\n",
       "      <td>57</td>\n",
       "      <td>services</td>\n",
       "      <td>married</td>\n",
       "      <td>high.school</td>\n",
       "      <td>unknown</td>\n",
       "      <td>no</td>\n",
       "      <td>no</td>\n",
       "      <td>telephone</td>\n",
       "      <td>may</td>\n",
       "      <td>mon</td>\n",
       "      <td>...</td>\n",
       "      <td>1</td>\n",
       "      <td>999</td>\n",
       "      <td>0</td>\n",
       "      <td>nonexistent</td>\n",
       "      <td>1.1</td>\n",
       "      <td>93.994</td>\n",
       "      <td>-36.4</td>\n",
       "      <td>4.857</td>\n",
       "      <td>5191.0</td>\n",
       "      <td>0</td>\n",
       "    </tr>\n",
       "    <tr>\n",
       "      <th>2</th>\n",
       "      <td>37</td>\n",
       "      <td>services</td>\n",
       "      <td>married</td>\n",
       "      <td>high.school</td>\n",
       "      <td>no</td>\n",
       "      <td>yes</td>\n",
       "      <td>no</td>\n",
       "      <td>telephone</td>\n",
       "      <td>may</td>\n",
       "      <td>mon</td>\n",
       "      <td>...</td>\n",
       "      <td>1</td>\n",
       "      <td>999</td>\n",
       "      <td>0</td>\n",
       "      <td>nonexistent</td>\n",
       "      <td>1.1</td>\n",
       "      <td>93.994</td>\n",
       "      <td>-36.4</td>\n",
       "      <td>4.857</td>\n",
       "      <td>5191.0</td>\n",
       "      <td>0</td>\n",
       "    </tr>\n",
       "    <tr>\n",
       "      <th>3</th>\n",
       "      <td>40</td>\n",
       "      <td>admin.</td>\n",
       "      <td>married</td>\n",
       "      <td>basic.6y</td>\n",
       "      <td>no</td>\n",
       "      <td>no</td>\n",
       "      <td>no</td>\n",
       "      <td>telephone</td>\n",
       "      <td>may</td>\n",
       "      <td>mon</td>\n",
       "      <td>...</td>\n",
       "      <td>1</td>\n",
       "      <td>999</td>\n",
       "      <td>0</td>\n",
       "      <td>nonexistent</td>\n",
       "      <td>1.1</td>\n",
       "      <td>93.994</td>\n",
       "      <td>-36.4</td>\n",
       "      <td>4.857</td>\n",
       "      <td>5191.0</td>\n",
       "      <td>0</td>\n",
       "    </tr>\n",
       "    <tr>\n",
       "      <th>4</th>\n",
       "      <td>56</td>\n",
       "      <td>services</td>\n",
       "      <td>married</td>\n",
       "      <td>high.school</td>\n",
       "      <td>no</td>\n",
       "      <td>no</td>\n",
       "      <td>yes</td>\n",
       "      <td>telephone</td>\n",
       "      <td>may</td>\n",
       "      <td>mon</td>\n",
       "      <td>...</td>\n",
       "      <td>1</td>\n",
       "      <td>999</td>\n",
       "      <td>0</td>\n",
       "      <td>nonexistent</td>\n",
       "      <td>1.1</td>\n",
       "      <td>93.994</td>\n",
       "      <td>-36.4</td>\n",
       "      <td>4.857</td>\n",
       "      <td>5191.0</td>\n",
       "      <td>0</td>\n",
       "    </tr>\n",
       "  </tbody>\n",
       "</table>\n",
       "<p>5 rows × 21 columns</p>\n",
       "</div>"
      ],
      "text/plain": [
       "   age        job  marital    education  default housing loan    contact  \\\n",
       "0   56  housemaid  married     basic.4y       no      no   no  telephone   \n",
       "1   57   services  married  high.school  unknown      no   no  telephone   \n",
       "2   37   services  married  high.school       no     yes   no  telephone   \n",
       "3   40     admin.  married     basic.6y       no      no   no  telephone   \n",
       "4   56   services  married  high.school       no      no  yes  telephone   \n",
       "\n",
       "  month day_of_week ...  campaign  pdays  previous     poutcome emp.var.rate  \\\n",
       "0   may         mon ...         1    999         0  nonexistent          1.1   \n",
       "1   may         mon ...         1    999         0  nonexistent          1.1   \n",
       "2   may         mon ...         1    999         0  nonexistent          1.1   \n",
       "3   may         mon ...         1    999         0  nonexistent          1.1   \n",
       "4   may         mon ...         1    999         0  nonexistent          1.1   \n",
       "\n",
       "   cons.price.idx  cons.conf.idx  euribor3m  nr.employed  y  \n",
       "0          93.994          -36.4      4.857       5191.0  0  \n",
       "1          93.994          -36.4      4.857       5191.0  0  \n",
       "2          93.994          -36.4      4.857       5191.0  0  \n",
       "3          93.994          -36.4      4.857       5191.0  0  \n",
       "4          93.994          -36.4      4.857       5191.0  0  \n",
       "\n",
       "[5 rows x 21 columns]"
      ]
     },
     "execution_count": 36,
     "metadata": {},
     "output_type": "execute_result"
    }
   ],
   "source": [
    "df.head()"
   ]
  },
  {
   "cell_type": "code",
   "execution_count": 37,
   "metadata": {
    "ExecuteTime": {
     "end_time": "2019-11-14T20:44:54.891464Z",
     "start_time": "2019-11-14T20:44:54.781752Z"
    }
   },
   "outputs": [],
   "source": [
    "df_modified = df.copy()\n",
    "for i in range(2,8):\n",
    "    df_modified = df_modified[df_modified.iloc[:,i] != 'unknown']"
   ]
  },
  {
   "cell_type": "code",
   "execution_count": 38,
   "metadata": {
    "ExecuteTime": {
     "end_time": "2019-11-14T20:44:55.545562Z",
     "start_time": "2019-11-14T20:44:55.536589Z"
    }
   },
   "outputs": [
    {
     "name": "stdout",
     "output_type": "stream",
     "text": [
      "Before removing unknown valuess:  41188\n",
      "After removing unknown valuess:  30604\n",
      "% of unknown:  25.696804894629505 %\n"
     ]
    }
   ],
   "source": [
    "print('Before removing unknown valuess: ',df.shape[0])\n",
    "print('After removing unknown valuess: ',df_modified.shape[0])\n",
    "print('% of unknown: ', (df.shape[0]-df_modified.shape[0])/df.shape[0]*100,'%')"
   ]
  },
  {
   "cell_type": "code",
   "execution_count": 117,
   "metadata": {
    "ExecuteTime": {
     "end_time": "2019-11-14T21:49:23.187449Z",
     "start_time": "2019-11-14T21:49:23.122624Z"
    }
   },
   "outputs": [],
   "source": [
    "UnderSampler = RandomUnderSampler('majority')\n",
    "\n",
    "X = df_modified.iloc[:,:-1]\n",
    "y = df_modified.iloc[:,-1]\n",
    "\n",
    "X_re,y_re = UnderSampler.fit_resample(X,y)"
   ]
  },
  {
   "cell_type": "code",
   "execution_count": 118,
   "metadata": {
    "ExecuteTime": {
     "end_time": "2019-11-14T21:49:27.025387Z",
     "start_time": "2019-11-14T21:49:27.006437Z"
    }
   },
   "outputs": [],
   "source": [
    "X_re = pd.DataFrame(X_re)\n",
    "y_re = pd.DataFrame(y_re)\n",
    "\n",
    "df_re = pd.concat([X_re,y_re],axis=1)\n",
    "\n",
    "df_re.columns = df.columns"
   ]
  },
  {
   "cell_type": "code",
   "execution_count": 119,
   "metadata": {
    "ExecuteTime": {
     "end_time": "2019-11-14T21:49:32.071105Z",
     "start_time": "2019-11-14T21:49:32.028252Z"
    }
   },
   "outputs": [],
   "source": [
    "transform_list=['job','marital','education','default','housing','loan','contact','month','day_of_week','poutcome']\n",
    "df_re = pd.get_dummies(df_re,columns=transform_list,prefix=transform_list)"
   ]
  },
  {
   "cell_type": "code",
   "execution_count": 123,
   "metadata": {
    "ExecuteTime": {
     "end_time": "2019-11-14T21:50:30.596801Z",
     "start_time": "2019-11-14T21:50:30.584832Z"
    }
   },
   "outputs": [],
   "source": [
    "# Ordering Features\n",
    "cols_list = list(df_re.columns.values) \n",
    "cols_list.pop(cols_list.index('y')) \n",
    "df_re = df_re[cols_list+['y']]"
   ]
  },
  {
   "cell_type": "code",
   "execution_count": 124,
   "metadata": {
    "ExecuteTime": {
     "end_time": "2019-11-14T21:50:31.863473Z",
     "start_time": "2019-11-14T21:50:31.766733Z"
    }
   },
   "outputs": [
    {
     "name": "stderr",
     "output_type": "stream",
     "text": [
      "C:\\Anaconda\\lib\\site-packages\\sklearn\\utils\\validation.py:475: DataConversionWarning: Data with input dtype object was converted to float64 by StandardScaler.\n",
      "  warnings.warn(msg, DataConversionWarning)\n"
     ]
    }
   ],
   "source": [
    "X = df_re.iloc[:,:-1].values\n",
    "y = df_re.iloc[:,-1]\n",
    "\n",
    "sc_X = StandardScaler()\n",
    "X = sc_X.fit_transform(X)\n",
    "\n",
    "labelencoder_y = LabelEncoder()\n",
    "y = labelencoder_y.fit_transform(y)"
   ]
  },
  {
   "cell_type": "code",
   "execution_count": 125,
   "metadata": {
    "ExecuteTime": {
     "end_time": "2019-11-14T21:50:33.954245Z",
     "start_time": "2019-11-14T21:50:33.770738Z"
    }
   },
   "outputs": [],
   "source": [
    "RF = RandomForestClassifier()\n",
    "\n",
    "RF = RF.fit(X,y)\n",
    "\n",
    "features_list_RF = list(zip(cols_list,RF.feature_importances_))\n",
    "features_list_RF.sort(key=lambda x: x[1],reverse = True)"
   ]
  },
  {
   "cell_type": "code",
   "execution_count": 126,
   "metadata": {
    "ExecuteTime": {
     "end_time": "2019-11-14T21:50:45.263854Z",
     "start_time": "2019-11-14T21:50:45.048417Z"
    },
    "code_folding": []
   },
   "outputs": [],
   "source": [
    "LF = LogisticRegression(penalty='l2')\n",
    "LF.fit(X,y)\n",
    "\n",
    "top_features = 10\n",
    "coefficients = LF.coef_[0]\n",
    "top_index = abs(coefficients).argsort()[-10:][::-1]\n",
    "\n",
    "features_list_LF =[]\n",
    "for index in top_index:\n",
    "    features_list_LF.append((cols_list[index],coefficients[index]))\n",
    "\n",
    "features_list_LF.sort(key=lambda x: x[1],reverse = True)"
   ]
  },
  {
   "cell_type": "code",
   "execution_count": 127,
   "metadata": {
    "ExecuteTime": {
     "end_time": "2019-11-14T21:50:49.203396Z",
     "start_time": "2019-11-14T21:50:49.192393Z"
    }
   },
   "outputs": [
    {
     "data": {
      "text/plain": [
       "[('duration', 0.341683669312856),\n",
       " ('euribor3m', 0.06914979981648332),\n",
       " ('age', 0.06074099084376998),\n",
       " ('nr.employed', 0.04774235708244612),\n",
       " ('cons.price.idx', 0.044672221489700785),\n",
       " ('emp.var.rate', 0.03881097974105002),\n",
       " ('campaign', 0.034242785501005964),\n",
       " ('poutcome_success', 0.03196246664593537),\n",
       " ('cons.conf.idx', 0.02525025604262874),\n",
       " ('contact_telephone', 0.018883710540072284)]"
      ]
     },
     "execution_count": 127,
     "metadata": {},
     "output_type": "execute_result"
    }
   ],
   "source": [
    "features_list_RF[:10]"
   ]
  },
  {
   "cell_type": "code",
   "execution_count": 128,
   "metadata": {
    "ExecuteTime": {
     "end_time": "2019-11-14T21:50:49.981216Z",
     "start_time": "2019-11-14T21:50:49.972241Z"
    }
   },
   "outputs": [
    {
     "data": {
      "text/plain": [
       "[('duration', 2.34980644147102),\n",
       " ('cons.price.idx', 1.2374134014069995),\n",
       " ('euribor3m', 0.9562165451971127),\n",
       " ('month_mar', 0.3964402962999242),\n",
       " ('month_aug', 0.32418706126724106),\n",
       " ('nr.employed', 0.24715699436863775),\n",
       " ('month_nov', -0.18334793352179637),\n",
       " ('month_may', -0.30337859690529223),\n",
       " ('pdays', -0.4649538298191298),\n",
       " ('emp.var.rate', -3.295024521050912)]"
      ]
     },
     "execution_count": 128,
     "metadata": {},
     "output_type": "execute_result"
    }
   ],
   "source": [
    "features_list_LF"
   ]
  },
  {
   "cell_type": "code",
   "execution_count": 141,
   "metadata": {
    "ExecuteTime": {
     "end_time": "2019-11-14T22:50:04.310302Z",
     "start_time": "2019-11-14T22:50:04.302327Z"
    }
   },
   "outputs": [],
   "source": [
    "top_features_cols = []\n",
    "for index in top_index:\n",
    "    top_features_cols.append(cols_list[index])"
   ]
  },
  {
   "cell_type": "code",
   "execution_count": 145,
   "metadata": {
    "ExecuteTime": {
     "end_time": "2019-11-14T22:53:04.873751Z",
     "start_time": "2019-11-14T22:53:04.845825Z"
    }
   },
   "outputs": [
    {
     "name": "stderr",
     "output_type": "stream",
     "text": [
      "C:\\Anaconda\\lib\\site-packages\\sklearn\\utils\\validation.py:475: DataConversionWarning: Data with input dtype object was converted to float64 by StandardScaler.\n",
      "  warnings.warn(msg, DataConversionWarning)\n"
     ]
    }
   ],
   "source": [
    "df_re_top_features = df_re[top_features_cols]\n",
    "X = df_re_top_features.iloc[:,:-1].values\n",
    "\n",
    "sc_X = StandardScaler()\n",
    "X = sc_X.fit_transform(X)"
   ]
  },
  {
   "cell_type": "code",
   "execution_count": 146,
   "metadata": {
    "ExecuteTime": {
     "end_time": "2019-11-14T22:53:46.946748Z",
     "start_time": "2019-11-14T22:53:46.937770Z"
    }
   },
   "outputs": [],
   "source": [
    "X_train,X_test,y_train,y_test = train_test_split(X,y,test_size = 0.33, random_state = 0)"
   ]
  },
  {
   "cell_type": "code",
   "execution_count": 149,
   "metadata": {
    "ExecuteTime": {
     "end_time": "2019-11-14T22:56:50.791575Z",
     "start_time": "2019-11-14T22:56:50.679874Z"
    }
   },
   "outputs": [],
   "source": [
    "RF.fit(X_train,y_train)\n",
    "y_pred_RF = RF.predict(X_test)"
   ]
  },
  {
   "cell_type": "code",
   "execution_count": 150,
   "metadata": {
    "ExecuteTime": {
     "end_time": "2019-11-14T22:57:08.988199Z",
     "start_time": "2019-11-14T22:57:08.956248Z"
    }
   },
   "outputs": [],
   "source": [
    "LF.fit(X_train,y_train)\n",
    "y_pred_LF = LF.predict(X_test)"
   ]
  },
  {
   "cell_type": "code",
   "execution_count": 152,
   "metadata": {
    "ExecuteTime": {
     "end_time": "2019-11-14T22:57:50.494792Z",
     "start_time": "2019-11-14T22:57:50.482823Z"
    }
   },
   "outputs": [
    {
     "name": "stdout",
     "output_type": "stream",
     "text": [
      "             precision    recall  f1-score   support\n",
      "\n",
      "          0       0.86      0.85      0.85      1286\n",
      "          1       0.85      0.86      0.85      1273\n",
      "\n",
      "avg / total       0.85      0.85      0.85      2559\n",
      "\n"
     ]
    }
   ],
   "source": [
    "print(classification_report(y_test,y_pred_RF))"
   ]
  },
  {
   "cell_type": "code",
   "execution_count": 153,
   "metadata": {
    "ExecuteTime": {
     "end_time": "2019-11-14T22:57:57.563367Z",
     "start_time": "2019-11-14T22:57:57.552396Z"
    }
   },
   "outputs": [
    {
     "name": "stdout",
     "output_type": "stream",
     "text": [
      "             precision    recall  f1-score   support\n",
      "\n",
      "          0       0.88      0.85      0.86      1286\n",
      "          1       0.85      0.88      0.87      1273\n",
      "\n",
      "avg / total       0.87      0.87      0.87      2559\n",
      "\n"
     ]
    }
   ],
   "source": [
    "print(classification_report(y_test,y_pred_LF))"
   ]
  }
 ],
 "metadata": {
  "kernelspec": {
   "display_name": "Python 3",
   "language": "python",
   "name": "python3"
  },
  "language_info": {
   "codemirror_mode": {
    "name": "ipython",
    "version": 3
   },
   "file_extension": ".py",
   "mimetype": "text/x-python",
   "name": "python",
   "nbconvert_exporter": "python",
   "pygments_lexer": "ipython3",
   "version": "3.6.5"
  },
  "varInspector": {
   "cols": {
    "lenName": 16,
    "lenType": 16,
    "lenVar": 40
   },
   "kernels_config": {
    "python": {
     "delete_cmd_postfix": "",
     "delete_cmd_prefix": "del ",
     "library": "var_list.py",
     "varRefreshCmd": "print(var_dic_list())"
    },
    "r": {
     "delete_cmd_postfix": ") ",
     "delete_cmd_prefix": "rm(",
     "library": "var_list.r",
     "varRefreshCmd": "cat(var_dic_list()) "
    }
   },
   "types_to_exclude": [
    "module",
    "function",
    "builtin_function_or_method",
    "instance",
    "_Feature"
   ],
   "window_display": false
  }
 },
 "nbformat": 4,
 "nbformat_minor": 2
}
